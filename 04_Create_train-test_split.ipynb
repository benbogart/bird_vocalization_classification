{
 "cells": [
  {
   "cell_type": "markdown",
   "id": "tropical-blind",
   "metadata": {},
   "source": [
    "# Create train and test sets\n",
    "To create a test set we will pull proportion from each of the labels we have."
   ]
  },
  {
   "cell_type": "code",
   "execution_count": 1,
   "id": "inner-township",
   "metadata": {},
   "outputs": [],
   "source": [
    "import os\n",
    "import shutil\n",
    "from glob import glob\n",
    "from tqdm import tqdm\n",
    "import pandas as pd\n",
    "import numpy as np\n",
    "import json\n",
    "from sklearn.preprocessing import LabelEncoder"
   ]
  },
  {
   "cell_type": "code",
   "execution_count": 2,
   "id": "environmental-private",
   "metadata": {},
   "outputs": [],
   "source": [
    "DATA_PATH = 'data/audio_10sec/'"
   ]
  },
  {
   "cell_type": "markdown",
   "id": "assisted-fight",
   "metadata": {},
   "source": [
    "# Combine datasets"
   ]
  },
  {
   "cell_type": "code",
   "execution_count": 3,
   "id": "accepted-twins",
   "metadata": {},
   "outputs": [
    {
     "data": {
      "text/html": [
       "<div>\n",
       "<style scoped>\n",
       "    .dataframe tbody tr th:only-of-type {\n",
       "        vertical-align: middle;\n",
       "    }\n",
       "\n",
       "    .dataframe tbody tr th {\n",
       "        vertical-align: top;\n",
       "    }\n",
       "\n",
       "    .dataframe thead th {\n",
       "        text-align: right;\n",
       "    }\n",
       "</style>\n",
       "<table border=\"1\" class=\"dataframe\">\n",
       "  <thead>\n",
       "    <tr style=\"text-align: right;\">\n",
       "      <th></th>\n",
       "      <th>fileid</th>\n",
       "      <th>species</th>\n",
       "      <th>source</th>\n",
       "    </tr>\n",
       "  </thead>\n",
       "  <tbody>\n",
       "    <tr>\n",
       "      <th>0</th>\n",
       "      <td>XC134874</td>\n",
       "      <td>Alder Flycatcher</td>\n",
       "      <td>kaggle</td>\n",
       "    </tr>\n",
       "    <tr>\n",
       "      <th>1</th>\n",
       "      <td>XC135454</td>\n",
       "      <td>Alder Flycatcher</td>\n",
       "      <td>kaggle</td>\n",
       "    </tr>\n",
       "    <tr>\n",
       "      <th>2</th>\n",
       "      <td>XC135455</td>\n",
       "      <td>Alder Flycatcher</td>\n",
       "      <td>kaggle</td>\n",
       "    </tr>\n",
       "  </tbody>\n",
       "</table>\n",
       "</div>"
      ],
      "text/plain": [
       "     fileid           species  source\n",
       "0  XC134874  Alder Flycatcher  kaggle\n",
       "1  XC135454  Alder Flycatcher  kaggle\n",
       "2  XC135455  Alder Flycatcher  kaggle"
      ]
     },
     "execution_count": 3,
     "metadata": {},
     "output_type": "execute_result"
    }
   ],
   "source": [
    "df_kag = pd.read_csv('data/train.csv')\n",
    "df_kag['fileid'] = df_kag['filename'].str.replace('.mp3', '', regex=False)\n",
    "df_kag = df_kag[['fileid', 'species']]\n",
    "df_kag['source'] = 'kaggle'\n",
    "df_kag.head(3)"
   ]
  },
  {
   "cell_type": "code",
   "execution_count": 4,
   "id": "residential-asthma",
   "metadata": {},
   "outputs": [
    {
     "data": {
      "text/html": [
       "<div>\n",
       "<style scoped>\n",
       "    .dataframe tbody tr th:only-of-type {\n",
       "        vertical-align: middle;\n",
       "    }\n",
       "\n",
       "    .dataframe tbody tr th {\n",
       "        vertical-align: top;\n",
       "    }\n",
       "\n",
       "    .dataframe thead th {\n",
       "        text-align: right;\n",
       "    }\n",
       "</style>\n",
       "<table border=\"1\" class=\"dataframe\">\n",
       "  <thead>\n",
       "    <tr style=\"text-align: right;\">\n",
       "      <th></th>\n",
       "      <th>fileid</th>\n",
       "      <th>species</th>\n",
       "      <th>source</th>\n",
       "    </tr>\n",
       "  </thead>\n",
       "  <tbody>\n",
       "    <tr>\n",
       "      <th>0</th>\n",
       "      <td>XC554809</td>\n",
       "      <td>Alder Flycatcher</td>\n",
       "      <td>xc</td>\n",
       "    </tr>\n",
       "    <tr>\n",
       "      <th>1</th>\n",
       "      <td>XC552408</td>\n",
       "      <td>Alder Flycatcher</td>\n",
       "      <td>xc</td>\n",
       "    </tr>\n",
       "    <tr>\n",
       "      <th>2</th>\n",
       "      <td>XC544552</td>\n",
       "      <td>Alder Flycatcher</td>\n",
       "      <td>xc</td>\n",
       "    </tr>\n",
       "  </tbody>\n",
       "</table>\n",
       "</div>"
      ],
      "text/plain": [
       "     fileid           species source\n",
       "0  XC554809  Alder Flycatcher     xc\n",
       "1  XC552408  Alder Flycatcher     xc\n",
       "2  XC544552  Alder Flycatcher     xc"
      ]
     },
     "execution_count": 4,
     "metadata": {},
     "output_type": "execute_result"
    }
   ],
   "source": [
    "with open('data/xc.json', 'r') as f:\n",
    "    xc = json.load(f)\n",
    "df_xc = pd.DataFrame(xc['results'])\n",
    "df_xc['fileid'] = 'XC' + df_xc['id']\n",
    "\n",
    "df_xc = df_xc[['fileid', 'en']]\n",
    "df_xc.columns = ['fileid', 'species']\n",
    "df_xc['source'] = 'xc'\n",
    "\n",
    "df_xc.head(3)"
   ]
  },
  {
   "cell_type": "code",
   "execution_count": 5,
   "id": "reasonable-amendment",
   "metadata": {},
   "outputs": [],
   "source": [
    "def remove_missing_files(df):\n",
    "    # get all wav files\n",
    "    files = glob(os.path.join(DATA_PATH, '*.wav'))\n",
    "    \n",
    "    # get file id\n",
    "    files = [os.path.splitext(os.path.basename(x))[0] for x in files]\n",
    "    \n",
    "    return df[df['fileid'].isin(files)]"
   ]
  },
  {
   "cell_type": "code",
   "execution_count": 6,
   "id": "numerous-resource",
   "metadata": {},
   "outputs": [
    {
     "data": {
      "text/plain": [
       "264"
      ]
     },
     "execution_count": 6,
     "metadata": {},
     "output_type": "execute_result"
    }
   ],
   "source": [
    "df = pd.concat([df_kag, df_xc])\n",
    "df = remove_missing_files(df)\n",
    "\n",
    "df['species'].nunique()"
   ]
  },
  {
   "cell_type": "code",
   "execution_count": 7,
   "id": "revised-receipt",
   "metadata": {},
   "outputs": [
    {
     "data": {
      "text/html": [
       "<div>\n",
       "<style scoped>\n",
       "    .dataframe tbody tr th:only-of-type {\n",
       "        vertical-align: middle;\n",
       "    }\n",
       "\n",
       "    .dataframe tbody tr th {\n",
       "        vertical-align: top;\n",
       "    }\n",
       "\n",
       "    .dataframe thead th {\n",
       "        text-align: right;\n",
       "    }\n",
       "</style>\n",
       "<table border=\"1\" class=\"dataframe\">\n",
       "  <thead>\n",
       "    <tr style=\"text-align: right;\">\n",
       "      <th></th>\n",
       "      <th>fileid</th>\n",
       "      <th>species</th>\n",
       "      <th>source</th>\n",
       "    </tr>\n",
       "  </thead>\n",
       "  <tbody>\n",
       "    <tr>\n",
       "      <th>0</th>\n",
       "      <td>XC134874</td>\n",
       "      <td>Alder Flycatcher</td>\n",
       "      <td>kaggle</td>\n",
       "    </tr>\n",
       "    <tr>\n",
       "      <th>1</th>\n",
       "      <td>XC135454</td>\n",
       "      <td>Alder Flycatcher</td>\n",
       "      <td>kaggle</td>\n",
       "    </tr>\n",
       "    <tr>\n",
       "      <th>2</th>\n",
       "      <td>XC135455</td>\n",
       "      <td>Alder Flycatcher</td>\n",
       "      <td>kaggle</td>\n",
       "    </tr>\n",
       "    <tr>\n",
       "      <th>3</th>\n",
       "      <td>XC135456</td>\n",
       "      <td>Alder Flycatcher</td>\n",
       "      <td>kaggle</td>\n",
       "    </tr>\n",
       "    <tr>\n",
       "      <th>4</th>\n",
       "      <td>XC135457</td>\n",
       "      <td>Alder Flycatcher</td>\n",
       "      <td>kaggle</td>\n",
       "    </tr>\n",
       "    <tr>\n",
       "      <th>...</th>\n",
       "      <td>...</td>\n",
       "      <td>...</td>\n",
       "      <td>...</td>\n",
       "    </tr>\n",
       "    <tr>\n",
       "      <th>62676</th>\n",
       "      <td>XC375955</td>\n",
       "      <td>Yellow-throated Vireo</td>\n",
       "      <td>xc</td>\n",
       "    </tr>\n",
       "    <tr>\n",
       "      <th>62677</th>\n",
       "      <td>XC292664</td>\n",
       "      <td>Yellow-throated Vireo</td>\n",
       "      <td>xc</td>\n",
       "    </tr>\n",
       "    <tr>\n",
       "      <th>62678</th>\n",
       "      <td>XC134182</td>\n",
       "      <td>Yellow-throated Vireo</td>\n",
       "      <td>xc</td>\n",
       "    </tr>\n",
       "    <tr>\n",
       "      <th>62679</th>\n",
       "      <td>XC93683</td>\n",
       "      <td>Yellow-throated Vireo</td>\n",
       "      <td>xc</td>\n",
       "    </tr>\n",
       "    <tr>\n",
       "      <th>62680</th>\n",
       "      <td>XC591680</td>\n",
       "      <td>Yellow-throated Vireo</td>\n",
       "      <td>xc</td>\n",
       "    </tr>\n",
       "  </tbody>\n",
       "</table>\n",
       "<p>82620 rows × 3 columns</p>\n",
       "</div>"
      ],
      "text/plain": [
       "         fileid                species  source\n",
       "0      XC134874       Alder Flycatcher  kaggle\n",
       "1      XC135454       Alder Flycatcher  kaggle\n",
       "2      XC135455       Alder Flycatcher  kaggle\n",
       "3      XC135456       Alder Flycatcher  kaggle\n",
       "4      XC135457       Alder Flycatcher  kaggle\n",
       "...         ...                    ...     ...\n",
       "62676  XC375955  Yellow-throated Vireo      xc\n",
       "62677  XC292664  Yellow-throated Vireo      xc\n",
       "62678  XC134182  Yellow-throated Vireo      xc\n",
       "62679   XC93683  Yellow-throated Vireo      xc\n",
       "62680  XC591680  Yellow-throated Vireo      xc\n",
       "\n",
       "[82620 rows x 3 columns]"
      ]
     },
     "execution_count": 7,
     "metadata": {},
     "output_type": "execute_result"
    }
   ],
   "source": [
    "df"
   ]
  },
  {
   "cell_type": "code",
   "execution_count": 8,
   "id": "coupled-insulation",
   "metadata": {},
   "outputs": [
    {
     "data": {
      "text/plain": [
       "array(['xc'], dtype=object)"
      ]
     },
     "execution_count": 8,
     "metadata": {},
     "output_type": "execute_result"
    }
   ],
   "source": [
    "# check for exact duplicates and make sure they are all from xc\n",
    "df[df.duplicated(subset=['fileid', 'species'])]['source'].unique()"
   ]
  },
  {
   "cell_type": "code",
   "execution_count": 9,
   "id": "detailed-instruction",
   "metadata": {},
   "outputs": [],
   "source": [
    "#drop them\n",
    "df = df.drop_duplicates(subset=['fileid', 'species'])"
   ]
  },
  {
   "cell_type": "code",
   "execution_count": 10,
   "id": "pharmaceutical-carolina",
   "metadata": {
    "scrolled": true
   },
   "outputs": [
    {
     "data": {
      "text/html": [
       "<div>\n",
       "<style scoped>\n",
       "    .dataframe tbody tr th:only-of-type {\n",
       "        vertical-align: middle;\n",
       "    }\n",
       "\n",
       "    .dataframe tbody tr th {\n",
       "        vertical-align: top;\n",
       "    }\n",
       "\n",
       "    .dataframe thead th {\n",
       "        text-align: right;\n",
       "    }\n",
       "</style>\n",
       "<table border=\"1\" class=\"dataframe\">\n",
       "  <thead>\n",
       "    <tr style=\"text-align: right;\">\n",
       "      <th></th>\n",
       "      <th>fileid</th>\n",
       "      <th>species</th>\n",
       "      <th>source</th>\n",
       "    </tr>\n",
       "  </thead>\n",
       "  <tbody>\n",
       "    <tr>\n",
       "      <th>12825</th>\n",
       "      <td>XC321750</td>\n",
       "      <td>Canyon Wren</td>\n",
       "      <td>xc</td>\n",
       "    </tr>\n",
       "    <tr>\n",
       "      <th>16657</th>\n",
       "      <td>XC321750</td>\n",
       "      <td>Rock Wren</td>\n",
       "      <td>kaggle</td>\n",
       "    </tr>\n",
       "    <tr>\n",
       "      <th>42417</th>\n",
       "      <td>XC367360</td>\n",
       "      <td>Peregrine Falcon</td>\n",
       "      <td>xc</td>\n",
       "    </tr>\n",
       "    <tr>\n",
       "      <th>18387</th>\n",
       "      <td>XC367360</td>\n",
       "      <td>Swainson's Hawk</td>\n",
       "      <td>kaggle</td>\n",
       "    </tr>\n",
       "    <tr>\n",
       "      <th>23513</th>\n",
       "      <td>XC376774</td>\n",
       "      <td>Field Sparrow</td>\n",
       "      <td>xc</td>\n",
       "    </tr>\n",
       "    <tr>\n",
       "      <th>15333</th>\n",
       "      <td>XC376774</td>\n",
       "      <td>Prairie Warbler</td>\n",
       "      <td>kaggle</td>\n",
       "    </tr>\n",
       "    <tr>\n",
       "      <th>715</th>\n",
       "      <td>XC381535</td>\n",
       "      <td>American Robin</td>\n",
       "      <td>kaggle</td>\n",
       "    </tr>\n",
       "    <tr>\n",
       "      <th>6949</th>\n",
       "      <td>XC381535</td>\n",
       "      <td>Black-headed Grosbeak</td>\n",
       "      <td>xc</td>\n",
       "    </tr>\n",
       "    <tr>\n",
       "      <th>716</th>\n",
       "      <td>XC381579</td>\n",
       "      <td>American Robin</td>\n",
       "      <td>kaggle</td>\n",
       "    </tr>\n",
       "    <tr>\n",
       "      <th>6948</th>\n",
       "      <td>XC381579</td>\n",
       "      <td>Black-headed Grosbeak</td>\n",
       "      <td>xc</td>\n",
       "    </tr>\n",
       "  </tbody>\n",
       "</table>\n",
       "</div>"
      ],
      "text/plain": [
       "         fileid                species  source\n",
       "12825  XC321750            Canyon Wren      xc\n",
       "16657  XC321750              Rock Wren  kaggle\n",
       "42417  XC367360       Peregrine Falcon      xc\n",
       "18387  XC367360        Swainson's Hawk  kaggle\n",
       "23513  XC376774          Field Sparrow      xc\n",
       "15333  XC376774        Prairie Warbler  kaggle\n",
       "715    XC381535         American Robin  kaggle\n",
       "6949   XC381535  Black-headed Grosbeak      xc\n",
       "716    XC381579         American Robin  kaggle\n",
       "6948   XC381579  Black-headed Grosbeak      xc"
      ]
     },
     "execution_count": 10,
     "metadata": {},
     "output_type": "execute_result"
    }
   ],
   "source": [
    "# inspect remaining duplicated files\n",
    "df[df.duplicated(subset=['fileid'], keep=False)].sort_values('fileid').head(10)"
   ]
  },
  {
   "cell_type": "markdown",
   "id": "previous-activation",
   "metadata": {},
   "source": [
    "The kaggle dataset has been revised and corrected so we will take any labels from that set where labels differ."
   ]
  },
  {
   "cell_type": "code",
   "execution_count": 11,
   "id": "ignored-commercial",
   "metadata": {},
   "outputs": [],
   "source": [
    "# get index of xc records to drop\n",
    "dup = df[df.duplicated(subset=['fileid'], keep=False)]\n",
    "dup_idx = dup[dup['source'] == 'xc'].index\n",
    "df = df.drop(dup_idx)"
   ]
  },
  {
   "cell_type": "code",
   "execution_count": 12,
   "id": "trying-annotation",
   "metadata": {},
   "outputs": [
    {
     "data": {
      "text/html": [
       "<div>\n",
       "<style scoped>\n",
       "    .dataframe tbody tr th:only-of-type {\n",
       "        vertical-align: middle;\n",
       "    }\n",
       "\n",
       "    .dataframe tbody tr th {\n",
       "        vertical-align: top;\n",
       "    }\n",
       "\n",
       "    .dataframe thead th {\n",
       "        text-align: right;\n",
       "    }\n",
       "</style>\n",
       "<table border=\"1\" class=\"dataframe\">\n",
       "  <thead>\n",
       "    <tr style=\"text-align: right;\">\n",
       "      <th></th>\n",
       "      <th>fileid</th>\n",
       "      <th>species</th>\n",
       "      <th>source</th>\n",
       "    </tr>\n",
       "  </thead>\n",
       "  <tbody>\n",
       "  </tbody>\n",
       "</table>\n",
       "</div>"
      ],
      "text/plain": [
       "Empty DataFrame\n",
       "Columns: [fileid, species, source]\n",
       "Index: []"
      ]
     },
     "execution_count": 12,
     "metadata": {},
     "output_type": "execute_result"
    }
   ],
   "source": [
    "# recheck to make sure there are no duplicates\n",
    "df[df.duplicated(subset=['fileid'], keep=False)].sort_values('fileid')"
   ]
  },
  {
   "cell_type": "code",
   "execution_count": 13,
   "id": "excess-allocation",
   "metadata": {},
   "outputs": [
    {
     "data": {
      "text/plain": [
       "['Alder Flycatcher',\n",
       " 'American Avocet',\n",
       " 'American Bittern',\n",
       " 'American Bushtit',\n",
       " 'American Cliff Swallow']"
      ]
     },
     "execution_count": 13,
     "metadata": {},
     "output_type": "execute_result"
    }
   ],
   "source": [
    "# get all classes in alphabetical order\n",
    "classes = sorted(df['species'].unique())\n",
    "classes[:5]"
   ]
  },
  {
   "cell_type": "code",
   "execution_count": 14,
   "id": "fixed-august",
   "metadata": {},
   "outputs": [
    {
     "data": {
      "text/plain": [
       "264"
      ]
     },
     "execution_count": 14,
     "metadata": {},
     "output_type": "execute_result"
    }
   ],
   "source": [
    "# number of classes\n",
    "len(classes)"
   ]
  },
  {
   "cell_type": "markdown",
   "id": "accredited-guitar",
   "metadata": {},
   "source": [
    "## Generate Train, Validation, Test Split"
   ]
  },
  {
   "cell_type": "code",
   "execution_count": 15,
   "id": "impaired-discrimination",
   "metadata": {},
   "outputs": [],
   "source": [
    "def split_from_df(df, class_col, test_prop, val_prop):\n",
    "\n",
    "    train = {'files': [], 'labels':[]}\n",
    "    val = {'files': [], 'labels':[]}\n",
    "    test = {'files': [], 'labels':[]}\n",
    "    \n",
    "    grouped = df.groupby(class_col)\n",
    "    for name, group in grouped:\n",
    "        \n",
    "        # randomly select test rows\n",
    "        test_rows = group.sample(frac=test_prop, replace=False)\n",
    "        test['files'] += test_rows['fileid'].tolist()\n",
    "        test['labels'] += [name] * len(test_rows)\n",
    "        \n",
    "        # remove the test rows\n",
    "        group = group.drop(test_rows.index)\n",
    "        \n",
    "        #randomly select validation rows\n",
    "        val_rows = group.sample(frac=val_prop, replace=False)\n",
    "        val['files'] += val_rows['fileid'].tolist()\n",
    "        val['labels'] += [name] * len(val_rows)\n",
    "        \n",
    "        # remove the validation rows\n",
    "        group = group.drop(val_rows.index)\n",
    "        \n",
    "        # train is everything left over\n",
    "        train_rows = group\n",
    "        train['files'] += train_rows['fileid'].tolist()\n",
    "        train['labels'] += [name] * len(train_rows)\n",
    "        \n",
    "    return train, val, test\n"
   ]
  },
  {
   "cell_type": "code",
   "execution_count": 16,
   "id": "informative-limitation",
   "metadata": {},
   "outputs": [],
   "source": [
    "train, val, test = split_from_df(df, 'species', 0.15, 0.15)\n",
    "train_kag, val_kag, test_kag = split_from_df(df_kag, 'species', 0.15, 0.15)"
   ]
  },
  {
   "cell_type": "code",
   "execution_count": 17,
   "id": "million-cotton",
   "metadata": {},
   "outputs": [],
   "source": [
    "def verfiy_split(train, val, test):\n",
    "    print('num files == num labels:', len(train['files']) == len(train['labels']))\n",
    "\n",
    "    # make sure num labels == num files\n",
    "    print('Train files and labels equal length: ', len(train['files']) == len(train['labels']))\n",
    "    print('Validation files and labels equal length: ', len(val['files']) == len(val['labels']))\n",
    "    print('Test files and labels equal length: ', len(test['files']) == len(test['labels']))\n",
    "\n",
    "    # make sure there is no overlap between the sets\n",
    "    nunique = len(set(train['files'] + val['files'] + test['files']))\n",
    "    total = len(train['files'] + val['files'] + test['files'])\n",
    "    print('All filenames are unique:', nunique == total)\n",
    "    print(f'Unique: {nunique}, Total: {total}')"
   ]
  },
  {
   "cell_type": "code",
   "execution_count": 18,
   "id": "neural-burlington",
   "metadata": {},
   "outputs": [
    {
     "name": "stdout",
     "output_type": "stream",
     "text": [
      "num files == num labels: True\n",
      "Train files and labels equal length:  True\n",
      "Validation files and labels equal length:  True\n",
      "Test files and labels equal length:  True\n",
      "All filenames are unique: True\n",
      "Unique: 61249, Total: 61249\n"
     ]
    }
   ],
   "source": [
    "verfiy_split(train, val, test)"
   ]
  },
  {
   "cell_type": "code",
   "execution_count": 19,
   "id": "figured-conflict",
   "metadata": {},
   "outputs": [
    {
     "name": "stdout",
     "output_type": "stream",
     "text": [
      "num files == num labels: True\n",
      "Train files and labels equal length:  True\n",
      "Validation files and labels equal length:  True\n",
      "Test files and labels equal length:  True\n",
      "All filenames are unique: True\n",
      "Unique: 21375, Total: 21375\n"
     ]
    }
   ],
   "source": [
    "verfiy_split(train_kag, val_kag, test_kag)"
   ]
  },
  {
   "cell_type": "markdown",
   "id": "royal-comfort",
   "metadata": {},
   "source": [
    "## Encode labels\n",
    "\n",
    "Sparse encode the lables because we are only using one identifier per class"
   ]
  },
  {
   "cell_type": "code",
   "execution_count": 20,
   "id": "removable-cooperation",
   "metadata": {},
   "outputs": [],
   "source": [
    "# use label encoder\n",
    "le =LabelEncoder()\n",
    "le.fit(classes)\n",
    "\n",
    "# transform labels\n",
    "train['encoded_labels'] = le.transform(train['labels']).tolist()\n",
    "val['encoded_labels'] = le.transform(val['labels']).tolist()\n",
    "test['encoded_labels'] = le.transform(test['labels']).tolist()\n",
    "\n",
    "train_kag['encoded_labels'] = le.transform(train_kag['labels']).tolist()\n",
    "val_kag['encoded_labels'] = le.transform(val_kag['labels']).tolist()\n",
    "test_kag['encoded_labels'] = le.transform(test_kag['labels']).tolist()"
   ]
  },
  {
   "cell_type": "code",
   "execution_count": 21,
   "id": "engaged-matter",
   "metadata": {},
   "outputs": [
    {
     "data": {
      "text/plain": [
       "True"
      ]
     },
     "execution_count": 21,
     "metadata": {},
     "output_type": "execute_result"
    }
   ],
   "source": [
    "# check to make sure encoding worked\n",
    "reconstructed_labels = [classes[x] for x in test['encoded_labels']]\n",
    "\n",
    "# check to make sure they match\n",
    "reconstructed_labels == test['labels']"
   ]
  },
  {
   "cell_type": "markdown",
   "id": "organized-surrey",
   "metadata": {},
   "source": [
    "The labels match when reconstructed"
   ]
  },
  {
   "cell_type": "markdown",
   "id": "annoying-latino",
   "metadata": {},
   "source": [
    "## save as json"
   ]
  },
  {
   "cell_type": "code",
   "execution_count": 22,
   "id": "opening-reservation",
   "metadata": {},
   "outputs": [],
   "source": [
    "data = {'mapping': classes,\n",
    "        'train': train,\n",
    "        'val': val,\n",
    "        'test': test}\n",
    "\n",
    "data_kag = {'mapping': classes,\n",
    "            'train': train_kag,\n",
    "            'val': val_kag,\n",
    "            'test': test_kag}"
   ]
  },
  {
   "cell_type": "code",
   "execution_count": 23,
   "id": "circular-material",
   "metadata": {},
   "outputs": [],
   "source": [
    "def save_json(data, fname):\n",
    "    \n",
    "    os.makedirs(os.path.split(fname)[0], exist_ok=True)\n",
    "    \n",
    "    with open(fname, 'w') as fb:\n",
    "        json.dump(data, fb, indent=2)"
   ]
  },
  {
   "cell_type": "code",
   "execution_count": 29,
   "id": "lightweight-transition",
   "metadata": {},
   "outputs": [],
   "source": [
    "save_json(data, os.path.join('data', 'resources', 'data_split_single_label.json'))\n",
    "save_json(data_kag, os.path.join('data', 'resources', 'data_kag_split_single_label.json'))"
   ]
  }
 ],
 "metadata": {
  "kernelspec": {
   "display_name": "Python [conda env:audio-ml]",
   "language": "python",
   "name": "conda-env-audio-ml-py"
  },
  "language_info": {
   "codemirror_mode": {
    "name": "ipython",
    "version": 3
   },
   "file_extension": ".py",
   "mimetype": "text/x-python",
   "name": "python",
   "nbconvert_exporter": "python",
   "pygments_lexer": "ipython3",
   "version": "3.8.8"
  },
  "toc": {
   "base_numbering": 1,
   "nav_menu": {},
   "number_sections": true,
   "sideBar": true,
   "skip_h1_title": false,
   "title_cell": "Table of Contents",
   "title_sidebar": "Contents",
   "toc_cell": false,
   "toc_position": {},
   "toc_section_display": true,
   "toc_window_display": false
  }
 },
 "nbformat": 4,
 "nbformat_minor": 5
}
