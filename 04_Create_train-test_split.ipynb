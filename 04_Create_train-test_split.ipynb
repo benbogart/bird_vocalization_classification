{
 "cells": [
  {
   "cell_type": "markdown",
   "id": "tropical-blind",
   "metadata": {},
   "source": [
    "# Create train and test sets\n",
    "To create a test set we will pull proportion from each of the labels we have."
   ]
  },
  {
   "cell_type": "code",
   "execution_count": 36,
   "id": "inner-township",
   "metadata": {},
   "outputs": [],
   "source": [
    "import os\n",
    "import shutil\n",
    "\n",
    "from glob import glob\n",
    "\n",
    "from tqdm import tqdm\n",
    "\n",
    "import numpy as np"
   ]
  },
  {
   "cell_type": "code",
   "execution_count": 8,
   "id": "visible-webmaster",
   "metadata": {},
   "outputs": [],
   "source": [
    "OUTPATH = 'data/audio_split'\n",
    "featurefolder = 'data/train_10sec_16khz/'\n",
    "ffiles = glob(os.path.join(featurefolder, '*/*.wav'))"
   ]
  },
  {
   "cell_type": "code",
   "execution_count": 9,
   "id": "unlikely-basis",
   "metadata": {},
   "outputs": [
    {
     "data": {
      "text/plain": [
       "['data/train_10sec_16khz/olsfly/XC216606.wav',\n",
       " 'data/train_10sec_16khz/olsfly/XC416924.wav',\n",
       " 'data/train_10sec_16khz/olsfly/XC216607.wav',\n",
       " 'data/train_10sec_16khz/olsfly/XC467716.wav',\n",
       " 'data/train_10sec_16khz/olsfly/XC184678.wav']"
      ]
     },
     "execution_count": 9,
     "metadata": {},
     "output_type": "execute_result"
    }
   ],
   "source": [
    "ffiles[:5]"
   ]
  },
  {
   "cell_type": "code",
   "execution_count": 10,
   "id": "liquid-worth",
   "metadata": {},
   "outputs": [
    {
     "data": {
      "text/plain": [
       "21375"
      ]
     },
     "execution_count": 10,
     "metadata": {},
     "output_type": "execute_result"
    }
   ],
   "source": [
    "len(ffiles)"
   ]
  },
  {
   "cell_type": "code",
   "execution_count": 16,
   "id": "norwegian-radiation",
   "metadata": {},
   "outputs": [
    {
     "data": {
      "text/plain": [
       "['olsfly',\n",
       " 'houspa',\n",
       " 'semplo',\n",
       " 'evegro',\n",
       " 'brnthr',\n",
       " 'truswa',\n",
       " 'brespa',\n",
       " 'gryfly',\n",
       " 'canwre',\n",
       " 'belkin1',\n",
       " 'bkhgro',\n",
       " 'sagthr',\n",
       " 'comrav',\n",
       " 'bnhcow',\n",
       " 'rufhum',\n",
       " 'blujay',\n",
       " 'ribgul',\n",
       " 'cliswa',\n",
       " 'carwre',\n",
       " 'comgol',\n",
       " 'daejun',\n",
       " 'pygnut',\n",
       " 'btywar',\n",
       " 'gadwal',\n",
       " 'calgul',\n",
       " 'bongul',\n",
       " 'rebwoo',\n",
       " 'caster1',\n",
       " 'mouchi',\n",
       " 'horgre',\n",
       " 'hoomer',\n",
       " 'pinsis',\n",
       " 'banswa',\n",
       " 'whtswi',\n",
       " 'annhum',\n",
       " 'rebnut',\n",
       " 'comgra',\n",
       " 'amerob',\n",
       " 'brebla',\n",
       " 'blugrb1',\n",
       " 'magwar',\n",
       " 'merlin',\n",
       " 'rocpig',\n",
       " 'reevir1',\n",
       " 'westan',\n",
       " 'amered',\n",
       " 'norcar',\n",
       " 'nrwswa',\n",
       " 'grycat',\n",
       " 'reshaw',\n",
       " 'semsan',\n",
       " 'gnwtea',\n",
       " 'rufgro',\n",
       " 'bewwre',\n",
       " 'greegr',\n",
       " 'whcspa',\n",
       " 'barswa',\n",
       " 'bkbwar',\n",
       " 'sora',\n",
       " 'macwar',\n",
       " 'chiswi',\n",
       " 'easblu',\n",
       " 'norpin',\n",
       " 'scoori',\n",
       " 'sonspa',\n",
       " 'greroa',\n",
       " 'y00475',\n",
       " 'amepip',\n",
       " 'bulori',\n",
       " 'gockin',\n",
       " 'buwwar',\n",
       " 'spotow',\n",
       " 'lotduc',\n",
       " 'gcrfin',\n",
       " 'boboli',\n",
       " 'rthhum',\n",
       " 'amekes',\n",
       " 'wooscj2',\n",
       " 'chukar',\n",
       " 'yehbla',\n",
       " 'chispa',\n",
       " 'bktspa',\n",
       " 'balori',\n",
       " 'juntit1',\n",
       " 'canwar',\n",
       " 'labwoo',\n",
       " 'bawwar',\n",
       " 'yelwar',\n",
       " 'rudduc',\n",
       " 'linspa',\n",
       " 'whtspa',\n",
       " 'casvir',\n",
       " 'comnig',\n",
       " 'eursta',\n",
       " 'prawar',\n",
       " 'warvir',\n",
       " 'lesyel',\n",
       " 'grtgra',\n",
       " 'herthr',\n",
       " 'gnttow',\n",
       " 'comloo',\n",
       " 'hamfly',\n",
       " 'bkchum',\n",
       " 'vesspa',\n",
       " 'comter',\n",
       " 'buwtea',\n",
       " 'wessan',\n",
       " 'wesblu',\n",
       " 'fiespa',\n",
       " 'coohaw',\n",
       " 'bkbmag1',\n",
       " 'foxspa',\n",
       " 'veery',\n",
       " 'leabit',\n",
       " 'indbun',\n",
       " 'lecthr',\n",
       " 'btnwar',\n",
       " 'bkpwar',\n",
       " 'buffle',\n",
       " 'swahaw',\n",
       " 'whbnut',\n",
       " 'comred',\n",
       " 'yetvir',\n",
       " 'amecro',\n",
       " 'houwre',\n",
       " 'pilwoo',\n",
       " 'leafly',\n",
       " 'wooduc',\n",
       " 'easpho',\n",
       " 'fiscro',\n",
       " 'greyel',\n",
       " 'vigswa',\n",
       " 'bushti',\n",
       " 'amewoo',\n",
       " 'phaino',\n",
       " 'eastow',\n",
       " 'eawpew',\n",
       " 'larspa',\n",
       " 'mallar3',\n",
       " 'purfin',\n",
       " 'yebsap',\n",
       " 'osprey',\n",
       " 'dowwoo',\n",
       " 'brwhaw',\n",
       " 'baisan',\n",
       " 'commer',\n",
       " 'norfli',\n",
       " 'wesgre',\n",
       " 'ameavo',\n",
       " 'dusfly',\n",
       " 'treswa',\n",
       " 'hergul',\n",
       " 'pecsan',\n",
       " 'moudov',\n",
       " 'whfibi',\n",
       " 'cangoo',\n",
       " 'norsho',\n",
       " 'cowscj1',\n",
       " 'yebfly',\n",
       " 'buhvir',\n",
       " 'clanut',\n",
       " 'moublu',\n",
       " 'norwat',\n",
       " 'baleag',\n",
       " 'wiltur',\n",
       " 'yerwar',\n",
       " 'amebit',\n",
       " 'amtspa',\n",
       " 'doccor',\n",
       " 'weskin',\n",
       " 'calqua',\n",
       " 'cedwax',\n",
       " 'bkcchi',\n",
       " 'comyel',\n",
       " 'louwat',\n",
       " 'tuftit',\n",
       " 'bkbcuc',\n",
       " 'houfin',\n",
       " 'lesnig',\n",
       " 'renpha',\n",
       " 'redhea',\n",
       " 'pinjay',\n",
       " 'rebmer',\n",
       " 'camwar',\n",
       " 'brncre',\n",
       " 'ruckin',\n",
       " 'pingro',\n",
       " 'killde',\n",
       " 'pasfly',\n",
       " 'wlswar',\n",
       " 'aldfly',\n",
       " 'eucdov',\n",
       " 'haiwoo',\n",
       " 'pibgre',\n",
       " 'swaspa',\n",
       " 'gocspa',\n",
       " 'horlar',\n",
       " 'cacwre',\n",
       " 'sheowl',\n",
       " 'ovenbi1',\n",
       " 'chswar',\n",
       " 'wesmea',\n",
       " 'swathr',\n",
       " 'rocwre',\n",
       " 'saypho',\n",
       " 'pinwar',\n",
       " 'wilsni1',\n",
       " 'grhowl',\n",
       " 'rethaw',\n",
       " 'scatan',\n",
       " 'coshum',\n",
       " 'rinduc',\n",
       " 'orcwar',\n",
       " 'tunswa',\n",
       " 'marwre',\n",
       " 'lobcur',\n",
       " 'rewbla',\n",
       " 'lobdow',\n",
       " 'normoc',\n",
       " 'amegfi',\n",
       " 'norhar2',\n",
       " 'redcro',\n",
       " 'solsan',\n",
       " 'goleag',\n",
       " 'nutwoo',\n",
       " 'grcfly',\n",
       " 'lewwoo',\n",
       " 'norpar',\n",
       " 'brthum',\n",
       " 'perfal',\n",
       " 'robgro',\n",
       " 'palwar',\n",
       " 'savspa',\n",
       " 'wewpew',\n",
       " 'lazbun',\n",
       " 'brdowl',\n",
       " 'eargre',\n",
       " 'astfly',\n",
       " 'easmea',\n",
       " 'grbher3',\n",
       " 'blkpho',\n",
       " 'lesgol',\n",
       " 'woothr',\n",
       " 'belspa2',\n",
       " 'wilfly',\n",
       " 'buggna',\n",
       " 'snogoo',\n",
       " 'hoowar',\n",
       " 'rusbla',\n",
       " 'snobun',\n",
       " 'shshaw',\n",
       " 'btbwar',\n",
       " 'plsvir',\n",
       " 'casfin',\n",
       " 'easkin',\n",
       " 'winwre3',\n",
       " 'sagspa1',\n",
       " 'stejay',\n",
       " 'rebsap',\n",
       " 'logshr',\n",
       " 'amewig',\n",
       " 'sposan',\n",
       " 'leasan',\n",
       " 'grnher']"
      ]
     },
     "execution_count": 16,
     "metadata": {},
     "output_type": "execute_result"
    }
   ],
   "source": [
    "classes = os.listdir(featurefolder)\n",
    "classes = [x for x in classes if os.path.isdir(os.path.join(featurefolder,x))]\n",
    "classes"
   ]
  },
  {
   "cell_type": "code",
   "execution_count": 30,
   "id": "collective-sunglasses",
   "metadata": {},
   "outputs": [
    {
     "name": "stderr",
     "output_type": "stream",
     "text": [
      "100%|██████████| 264/264 [00:00<00:00, 1762.70it/s]\n"
     ]
    }
   ],
   "source": [
    "test_proportion = 0.15\n",
    "val_proportion = 0.15\n",
    "train_files = []\n",
    "test_files = []\n",
    "val_files = []\n",
    "\n",
    "for c in tqdm(classes):\n",
    "    files = glob(os.path.join(featurefolder, c, '*.wav'))\n",
    "    np.random.shuffle(files)\n",
    "\n",
    "    test_bound = int(np.floor(len(files) * test_proportion))\n",
    "    val_bound = test_bound + int(np.floor(len(files) * test_proportion))\n",
    "    \n",
    "    test_files += files[:test_bound]\n",
    "    val_files += files[test_bound:val_bound]\n",
    "    train_files += files[val_bound:]"
   ]
  },
  {
   "cell_type": "code",
   "execution_count": 31,
   "id": "developmental-passenger",
   "metadata": {},
   "outputs": [
    {
     "name": "stdout",
     "output_type": "stream",
     "text": [
      "Test files: 3144\n",
      "Validation files: 3144\n",
      "Train files: 15087\n"
     ]
    }
   ],
   "source": [
    "print('Test files:',len(test_files))\n",
    "print('Validation files:',len(val_files))\n",
    "print('Train files:',len(train_files))"
   ]
  },
  {
   "cell_type": "markdown",
   "id": "japanese-horizon",
   "metadata": {},
   "source": [
    "# copy files to new directory"
   ]
  },
  {
   "cell_type": "code",
   "execution_count": 40,
   "id": "czech-turtle",
   "metadata": {},
   "outputs": [],
   "source": [
    "def copy_split(files, name):\n",
    "\n",
    "    for file in tqdm(files):\n",
    "        path_split = file.split('/')\n",
    "        outfile = '/'.join([OUTPATH] + [name] +path_split[2:])\n",
    "\n",
    "        # make the dire if it doesn't exist\n",
    "        outpath = os.path.split(outfile)[0]\n",
    "        os.makedirs(outpath, exist_ok=True)\n",
    "\n",
    "        shutil.copyfile(file, outfile)"
   ]
  },
  {
   "cell_type": "code",
   "execution_count": 42,
   "id": "discrete-annotation",
   "metadata": {},
   "outputs": [
    {
     "name": "stderr",
     "output_type": "stream",
     "text": [
      "100%|██████████| 3144/3144 [00:05<00:00, 581.24it/s]\n",
      "100%|██████████| 3144/3144 [00:06<00:00, 499.77it/s]\n",
      "100%|██████████| 15087/15087 [00:30<00:00, 495.89it/s]\n"
     ]
    }
   ],
   "source": [
    "copy_split(test_files, 'test')\n",
    "copy_split(val_files, 'validation')\n",
    "copy_split(train_files, 'train')\n"
   ]
  },
  {
   "cell_type": "markdown",
   "id": "integral-alexander",
   "metadata": {},
   "source": [
    "# Sanity check"
   ]
  },
  {
   "cell_type": "code",
   "execution_count": 44,
   "id": "coordinated-corruption",
   "metadata": {},
   "outputs": [
    {
     "name": "stdout",
     "output_type": "stream",
     "text": [
      "Test files: 3144\n",
      "Validation files: 3144\n",
      "Train files: 15087\n"
     ]
    }
   ],
   "source": [
    "files = glob(os.path.join(OUTPATH, 'test/*/*.wav'))\n",
    "print('Test files:',len(files))\n",
    "\n",
    "files = glob(os.path.join(OUTPATH, 'validation/*/*.wav'))\n",
    "print('Validation files:',len(files))\n",
    "\n",
    "files = glob(os.path.join(OUTPATH, 'train/*/*.wav'))\n",
    "print('Train files:',len(train_files))"
   ]
  },
  {
   "cell_type": "markdown",
   "id": "stock-consortium",
   "metadata": {},
   "source": []
  }
 ],
 "metadata": {
  "kernelspec": {
   "display_name": "Python [conda env:audio-ml]",
   "language": "python",
   "name": "conda-env-audio-ml-py"
  },
  "language_info": {
   "codemirror_mode": {
    "name": "ipython",
    "version": 3
   },
   "file_extension": ".py",
   "mimetype": "text/x-python",
   "name": "python",
   "nbconvert_exporter": "python",
   "pygments_lexer": "ipython3",
   "version": "3.8.8"
  },
  "toc": {
   "base_numbering": 1,
   "nav_menu": {},
   "number_sections": true,
   "sideBar": true,
   "skip_h1_title": false,
   "title_cell": "Table of Contents",
   "title_sidebar": "Contents",
   "toc_cell": false,
   "toc_position": {},
   "toc_section_display": true,
   "toc_window_display": false
  }
 },
 "nbformat": 4,
 "nbformat_minor": 5
}
