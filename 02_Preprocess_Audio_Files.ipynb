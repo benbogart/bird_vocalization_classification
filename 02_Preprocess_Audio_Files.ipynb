{
 "cells": [
  {
   "cell_type": "markdown",
   "id": "coastal-convert",
   "metadata": {},
   "source": [
    "# Preprocess Audio Files\n",
    "This notebook contains the code for preprocessing the audio files before training.\n",
    "\n",
    "10 second audio in wav format with a sample rate of 48k was chosen because it matches the audio used to train the l3 model from which I plan to use for feature embeddings.\n",
    "\n",
    "The sample dataset only includes the training data, so we will split that into training and testing data.  If the mode proves viable we will download more data from xeno-canto.org."
   ]
  },
  {
   "cell_type": "code",
   "execution_count": 19,
   "id": "narrative-worse",
   "metadata": {},
   "outputs": [],
   "source": [
    "import sox # must install sox locally if you want mp3 support\n",
    "import os\n",
    "from glob import glob\n",
    "import shutil\n",
    "import multiprocessing\n",
    "from joblib import Parallel, delayed\n",
    "from tqdm import tqdm\n",
    "import numpy as np\n",
    "import pandas as pd\n",
    "import soundfile as sf"
   ]
  },
  {
   "cell_type": "code",
   "execution_count": 7,
   "id": "earlier-chemical",
   "metadata": {},
   "outputs": [],
   "source": [
    "ORIGINAL_DATA_DIR = 'data/train_audio'\n",
    "EXTRA_DATA_DIR = 'data/xeno-canto/'\n",
    "OUTPUT_DIR = 'data/train_10sec'\n",
    "SAMPLE_RATE = 22050\n",
    "\n",
    "# create output dir if it does not exist\n",
    "os.makedirs(OUTPUT_DIR, exist_ok=True)"
   ]
  },
  {
   "cell_type": "code",
   "execution_count": 8,
   "id": "dressed-demonstration",
   "metadata": {},
   "outputs": [
    {
     "data": {
      "text/plain": [
       "(['data/train_audio/olsfly/XC386256.mp3',\n",
       "  'data/train_audio/olsfly/XC484154.mp3',\n",
       "  'data/train_audio/olsfly/XC239498.mp3',\n",
       "  'data/train_audio/olsfly/XC368006.mp3',\n",
       "  'data/train_audio/olsfly/XC156193.mp3'],\n",
       " ['data/xeno-canto/XC77538.mp3',\n",
       "  'data/xeno-canto/XC441588.mp3',\n",
       "  'data/xeno-canto/XC368433.mp3',\n",
       "  'data/xeno-canto/XC146762.mp3',\n",
       "  'data/xeno-canto/XC627879.mp3'])"
      ]
     },
     "execution_count": 8,
     "metadata": {},
     "output_type": "execute_result"
    }
   ],
   "source": [
    "# get a list of all mp3 files\n",
    "\n",
    "# from original dataset\n",
    "audio_files = glob(os.path.join(ORIGINAL_DATA_DIR, '*/*.mp3'))\n",
    "\n",
    "# from additional downloaded data from xeno-canto.com\n",
    "audio_files += glob(os.path.join(EXTRA_DATA_DIR, '*.mp3'))\n",
    "\n",
    "audio_files[:5], audio_files[-5:]"
   ]
  },
  {
   "cell_type": "code",
   "execution_count": 10,
   "id": "electoral-issue",
   "metadata": {},
   "outputs": [
    {
     "data": {
      "text/plain": [
       "['aldfly',\n",
       " 'ameavo',\n",
       " 'amebit',\n",
       " 'amecro',\n",
       " 'amegfi',\n",
       " 'amekes',\n",
       " 'amepip',\n",
       " 'amered',\n",
       " 'amerob',\n",
       " 'amewig',\n",
       " 'amewoo',\n",
       " 'amtspa',\n",
       " 'annhum',\n",
       " 'astfly',\n",
       " 'baisan',\n",
       " 'baleag',\n",
       " 'balori',\n",
       " 'banswa',\n",
       " 'barswa',\n",
       " 'bawwar',\n",
       " 'belkin1',\n",
       " 'belspa2',\n",
       " 'bewwre',\n",
       " 'bkbcuc',\n",
       " 'bkbmag1',\n",
       " 'bkbwar',\n",
       " 'bkcchi',\n",
       " 'bkchum',\n",
       " 'bkhgro',\n",
       " 'bkpwar',\n",
       " 'bktspa',\n",
       " 'blkpho',\n",
       " 'blugrb1',\n",
       " 'blujay',\n",
       " 'bnhcow',\n",
       " 'boboli',\n",
       " 'bongul',\n",
       " 'brdowl',\n",
       " 'brebla',\n",
       " 'brespa',\n",
       " 'brncre',\n",
       " 'brnthr',\n",
       " 'brthum',\n",
       " 'brwhaw',\n",
       " 'btbwar',\n",
       " 'btnwar',\n",
       " 'btywar',\n",
       " 'buffle',\n",
       " 'buggna',\n",
       " 'buhvir',\n",
       " 'bulori',\n",
       " 'bushti',\n",
       " 'buwtea',\n",
       " 'buwwar',\n",
       " 'cacwre',\n",
       " 'calgul',\n",
       " 'calqua',\n",
       " 'camwar',\n",
       " 'cangoo',\n",
       " 'canwar',\n",
       " 'canwre',\n",
       " 'carwre',\n",
       " 'casfin',\n",
       " 'caster1',\n",
       " 'casvir',\n",
       " 'cedwax',\n",
       " 'chispa',\n",
       " 'chiswi',\n",
       " 'chswar',\n",
       " 'chukar',\n",
       " 'clanut',\n",
       " 'cliswa',\n",
       " 'comgol',\n",
       " 'comgra',\n",
       " 'comloo',\n",
       " 'commer',\n",
       " 'comnig',\n",
       " 'comrav',\n",
       " 'comred',\n",
       " 'comter',\n",
       " 'comyel',\n",
       " 'coohaw',\n",
       " 'coshum',\n",
       " 'cowscj1',\n",
       " 'daejun',\n",
       " 'doccor',\n",
       " 'dowwoo',\n",
       " 'dusfly',\n",
       " 'eargre',\n",
       " 'easblu',\n",
       " 'easkin',\n",
       " 'easmea',\n",
       " 'easpho',\n",
       " 'eastow',\n",
       " 'eawpew',\n",
       " 'eucdov',\n",
       " 'eursta',\n",
       " 'evegro',\n",
       " 'fiespa',\n",
       " 'fiscro',\n",
       " 'foxspa',\n",
       " 'gadwal',\n",
       " 'gcrfin',\n",
       " 'gnttow',\n",
       " 'gnwtea',\n",
       " 'gockin',\n",
       " 'gocspa',\n",
       " 'goleag',\n",
       " 'grbher3',\n",
       " 'grcfly',\n",
       " 'greegr',\n",
       " 'greroa',\n",
       " 'greyel',\n",
       " 'grhowl',\n",
       " 'grnher',\n",
       " 'grtgra',\n",
       " 'grycat',\n",
       " 'gryfly',\n",
       " 'haiwoo',\n",
       " 'hamfly',\n",
       " 'hergul',\n",
       " 'herthr',\n",
       " 'hoomer',\n",
       " 'hoowar',\n",
       " 'horgre',\n",
       " 'horlar',\n",
       " 'houfin',\n",
       " 'houspa',\n",
       " 'houwre',\n",
       " 'indbun',\n",
       " 'juntit1',\n",
       " 'killde',\n",
       " 'labwoo',\n",
       " 'larspa',\n",
       " 'lazbun',\n",
       " 'leabit',\n",
       " 'leafly',\n",
       " 'leasan',\n",
       " 'lecthr',\n",
       " 'lesgol',\n",
       " 'lesnig',\n",
       " 'lesyel',\n",
       " 'lewwoo',\n",
       " 'linspa',\n",
       " 'lobcur',\n",
       " 'lobdow',\n",
       " 'logshr',\n",
       " 'lotduc',\n",
       " 'louwat',\n",
       " 'macwar',\n",
       " 'magwar',\n",
       " 'mallar3',\n",
       " 'marwre',\n",
       " 'merlin',\n",
       " 'moublu',\n",
       " 'mouchi',\n",
       " 'moudov',\n",
       " 'norcar',\n",
       " 'norfli',\n",
       " 'norhar2',\n",
       " 'normoc',\n",
       " 'norpar',\n",
       " 'norpin',\n",
       " 'norsho',\n",
       " 'norwat',\n",
       " 'nrwswa',\n",
       " 'nutwoo',\n",
       " 'olsfly',\n",
       " 'orcwar',\n",
       " 'osprey',\n",
       " 'ovenbi1',\n",
       " 'palwar',\n",
       " 'pasfly',\n",
       " 'pecsan',\n",
       " 'perfal',\n",
       " 'phaino',\n",
       " 'pibgre',\n",
       " 'pilwoo',\n",
       " 'pingro',\n",
       " 'pinjay',\n",
       " 'pinsis',\n",
       " 'pinwar',\n",
       " 'plsvir',\n",
       " 'prawar',\n",
       " 'purfin',\n",
       " 'pygnut',\n",
       " 'rebmer',\n",
       " 'rebnut',\n",
       " 'rebsap',\n",
       " 'rebwoo',\n",
       " 'redcro',\n",
       " 'redhea',\n",
       " 'reevir1',\n",
       " 'renpha',\n",
       " 'reshaw',\n",
       " 'rethaw',\n",
       " 'rewbla',\n",
       " 'ribgul',\n",
       " 'rinduc',\n",
       " 'robgro',\n",
       " 'rocpig',\n",
       " 'rocwre',\n",
       " 'rthhum',\n",
       " 'ruckin',\n",
       " 'rudduc',\n",
       " 'rufgro',\n",
       " 'rufhum',\n",
       " 'rusbla',\n",
       " 'sagspa1',\n",
       " 'sagthr',\n",
       " 'savspa',\n",
       " 'saypho',\n",
       " 'scatan',\n",
       " 'scoori',\n",
       " 'semplo',\n",
       " 'semsan',\n",
       " 'sheowl',\n",
       " 'shshaw',\n",
       " 'snobun',\n",
       " 'snogoo',\n",
       " 'solsan',\n",
       " 'sonspa',\n",
       " 'sora',\n",
       " 'sposan',\n",
       " 'spotow',\n",
       " 'stejay',\n",
       " 'swahaw',\n",
       " 'swaspa',\n",
       " 'swathr',\n",
       " 'treswa',\n",
       " 'truswa',\n",
       " 'tuftit',\n",
       " 'tunswa',\n",
       " 'veery',\n",
       " 'vesspa',\n",
       " 'vigswa',\n",
       " 'warvir',\n",
       " 'wesblu',\n",
       " 'wesgre',\n",
       " 'weskin',\n",
       " 'wesmea',\n",
       " 'wessan',\n",
       " 'westan',\n",
       " 'wewpew',\n",
       " 'whbnut',\n",
       " 'whcspa',\n",
       " 'whfibi',\n",
       " 'whtspa',\n",
       " 'whtswi',\n",
       " 'wilfly',\n",
       " 'wilsni1',\n",
       " 'wiltur',\n",
       " 'winwre3',\n",
       " 'wlswar',\n",
       " 'wooduc',\n",
       " 'wooscj2',\n",
       " 'woothr',\n",
       " 'y00475',\n",
       " 'yebfly',\n",
       " 'yebsap',\n",
       " 'yehbla',\n",
       " 'yelwar',\n",
       " 'yerwar',\n",
       " 'yetvir']"
      ]
     },
     "execution_count": 10,
     "metadata": {},
     "output_type": "execute_result"
    }
   ],
   "source": [
    "# get the unique class names of the birds in our training set\n",
    "df = pd.read_csv('data/train.csv')\n",
    "classes = sorted(df['ebird_code'].unique())\n",
    "classes"
   ]
  },
  {
   "cell_type": "code",
   "execution_count": 11,
   "id": "considerable-match",
   "metadata": {},
   "outputs": [
    {
     "data": {
      "text/plain": [
       "264"
      ]
     },
     "execution_count": 11,
     "metadata": {},
     "output_type": "execute_result"
    }
   ],
   "source": [
    "len(classes)"
   ]
  },
  {
   "cell_type": "markdown",
   "id": "atomic-translator",
   "metadata": {},
   "source": [
    "# Convert files to 10 second WAV files at 48khz"
   ]
  },
  {
   "cell_type": "markdown",
   "id": "existing-reggae",
   "metadata": {},
   "source": [
    "The audio files have to be processed in two steps because adding padding to an mp3 then saving as wav results in imprecise final times.  We need files to be exactly 10 seconds long wtih a sample rate of 48khz for a total of 48000 * 10 samples.\n",
    "\n",
    "The first pass resamples the audio to 48k, cuts the clips to 11 seconds, and saves as wav files.\n",
    "\n",
    "The second pass pads or crops the files to exactly 10 seconds long."
   ]
  },
  {
   "cell_type": "code",
   "execution_count": 12,
   "id": "micro-hazard",
   "metadata": {},
   "outputs": [
    {
     "name": "stdout",
     "output_type": "stream",
     "text": [
      "4\n"
     ]
    }
   ],
   "source": [
    "# get the number of cpu cores available\n",
    "num_cores = multiprocessing.cpu_count()\n",
    "print(num_cores)"
   ]
  },
  {
   "cell_type": "code",
   "execution_count": 15,
   "id": "governing-ghana",
   "metadata": {},
   "outputs": [],
   "source": [
    "def convert_to_wav(af):\n",
    "        \n",
    "    wav_name = os.path.splitext(os.path.basename(af))[0] + '.wav'\n",
    "    class_name = af.split('/')[-2]\n",
    "    outfile = os.path.join(output_dir, wav_name)\n",
    "    \n",
    "    if(not os.path.exists(outfile)):\n",
    "        tfm = sox.Transformer()\n",
    "        tfm.trim(start_time=0.0, end_time=11.0)\n",
    "        tfm.convert(samplerate=sample_rate, \n",
    "                    n_channels=1, \n",
    "                    bitdepth= 16)\n",
    "        tfm.build(input_filepath=af, output_filepath=outfile)    "
   ]
  },
  {
   "cell_type": "code",
   "execution_count": 16,
   "id": "prompt-washington",
   "metadata": {},
   "outputs": [
    {
     "name": "stderr",
     "output_type": "stream",
     "text": [
      "[Parallel(n_jobs=4)]: Using backend LokyBackend with 4 concurrent workers.\n",
      "[Parallel(n_jobs=4)]: Done  42 tasks      | elapsed:    2.8s\n",
      "[Parallel(n_jobs=4)]: Done 192 tasks      | elapsed:   10.7s\n"
     ]
    },
    {
     "ename": "KeyboardInterrupt",
     "evalue": "",
     "output_type": "error",
     "traceback": [
      "\u001b[0;31m---------------------------------------------------------------------------\u001b[0m",
      "\u001b[0;31mKeyboardInterrupt\u001b[0m                         Traceback (most recent call last)",
      "\u001b[0;32m<ipython-input-16-4940cfbc2e7a>\u001b[0m in \u001b[0;36m<module>\u001b[0;34m\u001b[0m\n\u001b[1;32m      1\u001b[0m \u001b[0;31m# Process the conversion using all cores in parallel to save time\u001b[0m\u001b[0;34m\u001b[0m\u001b[0;34m\u001b[0m\u001b[0;34m\u001b[0m\u001b[0m\n\u001b[0;32m----> 2\u001b[0;31m \u001b[0m_\u001b[0m \u001b[0;34m=\u001b[0m \u001b[0mParallel\u001b[0m\u001b[0;34m(\u001b[0m\u001b[0mn_jobs\u001b[0m\u001b[0;34m=\u001b[0m\u001b[0mnum_cores\u001b[0m\u001b[0;34m,\u001b[0m \u001b[0mverbose\u001b[0m\u001b[0;34m=\u001b[0m\u001b[0;36m1\u001b[0m\u001b[0;34m)\u001b[0m\u001b[0;34m(\u001b[0m\u001b[0mdelayed\u001b[0m\u001b[0;34m(\u001b[0m\u001b[0mconvert_to_wav\u001b[0m\u001b[0;34m)\u001b[0m\u001b[0;34m(\u001b[0m\u001b[0mi\u001b[0m\u001b[0;34m)\u001b[0m \u001b[0;32mfor\u001b[0m \u001b[0mi\u001b[0m \u001b[0;32min\u001b[0m \u001b[0maudio_files\u001b[0m\u001b[0;34m)\u001b[0m\u001b[0;34m\u001b[0m\u001b[0;34m\u001b[0m\u001b[0m\n\u001b[0m",
      "\u001b[0;32m~/opt/anaconda3/envs/audio-ml/lib/python3.8/site-packages/joblib/parallel.py\u001b[0m in \u001b[0;36m__call__\u001b[0;34m(self, iterable)\u001b[0m\n\u001b[1;32m   1052\u001b[0m \u001b[0;34m\u001b[0m\u001b[0m\n\u001b[1;32m   1053\u001b[0m             \u001b[0;32mwith\u001b[0m \u001b[0mself\u001b[0m\u001b[0;34m.\u001b[0m\u001b[0m_backend\u001b[0m\u001b[0;34m.\u001b[0m\u001b[0mretrieval_context\u001b[0m\u001b[0;34m(\u001b[0m\u001b[0;34m)\u001b[0m\u001b[0;34m:\u001b[0m\u001b[0;34m\u001b[0m\u001b[0;34m\u001b[0m\u001b[0m\n\u001b[0;32m-> 1054\u001b[0;31m                 \u001b[0mself\u001b[0m\u001b[0;34m.\u001b[0m\u001b[0mretrieve\u001b[0m\u001b[0;34m(\u001b[0m\u001b[0;34m)\u001b[0m\u001b[0;34m\u001b[0m\u001b[0;34m\u001b[0m\u001b[0m\n\u001b[0m\u001b[1;32m   1055\u001b[0m             \u001b[0;31m# Make sure that we get a last message telling us we are done\u001b[0m\u001b[0;34m\u001b[0m\u001b[0;34m\u001b[0m\u001b[0;34m\u001b[0m\u001b[0m\n\u001b[1;32m   1056\u001b[0m             \u001b[0melapsed_time\u001b[0m \u001b[0;34m=\u001b[0m \u001b[0mtime\u001b[0m\u001b[0;34m.\u001b[0m\u001b[0mtime\u001b[0m\u001b[0;34m(\u001b[0m\u001b[0;34m)\u001b[0m \u001b[0;34m-\u001b[0m \u001b[0mself\u001b[0m\u001b[0;34m.\u001b[0m\u001b[0m_start_time\u001b[0m\u001b[0;34m\u001b[0m\u001b[0;34m\u001b[0m\u001b[0m\n",
      "\u001b[0;32m~/opt/anaconda3/envs/audio-ml/lib/python3.8/site-packages/joblib/parallel.py\u001b[0m in \u001b[0;36mretrieve\u001b[0;34m(self)\u001b[0m\n\u001b[1;32m    931\u001b[0m             \u001b[0;32mtry\u001b[0m\u001b[0;34m:\u001b[0m\u001b[0;34m\u001b[0m\u001b[0;34m\u001b[0m\u001b[0m\n\u001b[1;32m    932\u001b[0m                 \u001b[0;32mif\u001b[0m \u001b[0mgetattr\u001b[0m\u001b[0;34m(\u001b[0m\u001b[0mself\u001b[0m\u001b[0;34m.\u001b[0m\u001b[0m_backend\u001b[0m\u001b[0;34m,\u001b[0m \u001b[0;34m'supports_timeout'\u001b[0m\u001b[0;34m,\u001b[0m \u001b[0;32mFalse\u001b[0m\u001b[0;34m)\u001b[0m\u001b[0;34m:\u001b[0m\u001b[0;34m\u001b[0m\u001b[0;34m\u001b[0m\u001b[0m\n\u001b[0;32m--> 933\u001b[0;31m                     \u001b[0mself\u001b[0m\u001b[0;34m.\u001b[0m\u001b[0m_output\u001b[0m\u001b[0;34m.\u001b[0m\u001b[0mextend\u001b[0m\u001b[0;34m(\u001b[0m\u001b[0mjob\u001b[0m\u001b[0;34m.\u001b[0m\u001b[0mget\u001b[0m\u001b[0;34m(\u001b[0m\u001b[0mtimeout\u001b[0m\u001b[0;34m=\u001b[0m\u001b[0mself\u001b[0m\u001b[0;34m.\u001b[0m\u001b[0mtimeout\u001b[0m\u001b[0;34m)\u001b[0m\u001b[0;34m)\u001b[0m\u001b[0;34m\u001b[0m\u001b[0;34m\u001b[0m\u001b[0m\n\u001b[0m\u001b[1;32m    934\u001b[0m                 \u001b[0;32melse\u001b[0m\u001b[0;34m:\u001b[0m\u001b[0;34m\u001b[0m\u001b[0;34m\u001b[0m\u001b[0m\n\u001b[1;32m    935\u001b[0m                     \u001b[0mself\u001b[0m\u001b[0;34m.\u001b[0m\u001b[0m_output\u001b[0m\u001b[0;34m.\u001b[0m\u001b[0mextend\u001b[0m\u001b[0;34m(\u001b[0m\u001b[0mjob\u001b[0m\u001b[0;34m.\u001b[0m\u001b[0mget\u001b[0m\u001b[0;34m(\u001b[0m\u001b[0;34m)\u001b[0m\u001b[0;34m)\u001b[0m\u001b[0;34m\u001b[0m\u001b[0;34m\u001b[0m\u001b[0m\n",
      "\u001b[0;32m~/opt/anaconda3/envs/audio-ml/lib/python3.8/site-packages/joblib/_parallel_backends.py\u001b[0m in \u001b[0;36mwrap_future_result\u001b[0;34m(future, timeout)\u001b[0m\n\u001b[1;32m    540\u001b[0m         AsyncResults.get from multiprocessing.\"\"\"\n\u001b[1;32m    541\u001b[0m         \u001b[0;32mtry\u001b[0m\u001b[0;34m:\u001b[0m\u001b[0;34m\u001b[0m\u001b[0;34m\u001b[0m\u001b[0m\n\u001b[0;32m--> 542\u001b[0;31m             \u001b[0;32mreturn\u001b[0m \u001b[0mfuture\u001b[0m\u001b[0;34m.\u001b[0m\u001b[0mresult\u001b[0m\u001b[0;34m(\u001b[0m\u001b[0mtimeout\u001b[0m\u001b[0;34m=\u001b[0m\u001b[0mtimeout\u001b[0m\u001b[0;34m)\u001b[0m\u001b[0;34m\u001b[0m\u001b[0;34m\u001b[0m\u001b[0m\n\u001b[0m\u001b[1;32m    543\u001b[0m         \u001b[0;32mexcept\u001b[0m \u001b[0mCfTimeoutError\u001b[0m \u001b[0;32mas\u001b[0m \u001b[0me\u001b[0m\u001b[0;34m:\u001b[0m\u001b[0;34m\u001b[0m\u001b[0;34m\u001b[0m\u001b[0m\n\u001b[1;32m    544\u001b[0m             \u001b[0;32mraise\u001b[0m \u001b[0mTimeoutError\u001b[0m \u001b[0;32mfrom\u001b[0m \u001b[0me\u001b[0m\u001b[0;34m\u001b[0m\u001b[0;34m\u001b[0m\u001b[0m\n",
      "\u001b[0;32m~/opt/anaconda3/envs/audio-ml/lib/python3.8/concurrent/futures/_base.py\u001b[0m in \u001b[0;36mresult\u001b[0;34m(self, timeout)\u001b[0m\n\u001b[1;32m    432\u001b[0m                 \u001b[0;32mreturn\u001b[0m \u001b[0mself\u001b[0m\u001b[0;34m.\u001b[0m\u001b[0m__get_result\u001b[0m\u001b[0;34m(\u001b[0m\u001b[0;34m)\u001b[0m\u001b[0;34m\u001b[0m\u001b[0;34m\u001b[0m\u001b[0m\n\u001b[1;32m    433\u001b[0m \u001b[0;34m\u001b[0m\u001b[0m\n\u001b[0;32m--> 434\u001b[0;31m             \u001b[0mself\u001b[0m\u001b[0;34m.\u001b[0m\u001b[0m_condition\u001b[0m\u001b[0;34m.\u001b[0m\u001b[0mwait\u001b[0m\u001b[0;34m(\u001b[0m\u001b[0mtimeout\u001b[0m\u001b[0;34m)\u001b[0m\u001b[0;34m\u001b[0m\u001b[0;34m\u001b[0m\u001b[0m\n\u001b[0m\u001b[1;32m    435\u001b[0m \u001b[0;34m\u001b[0m\u001b[0m\n\u001b[1;32m    436\u001b[0m             \u001b[0;32mif\u001b[0m \u001b[0mself\u001b[0m\u001b[0;34m.\u001b[0m\u001b[0m_state\u001b[0m \u001b[0;32min\u001b[0m \u001b[0;34m[\u001b[0m\u001b[0mCANCELLED\u001b[0m\u001b[0;34m,\u001b[0m \u001b[0mCANCELLED_AND_NOTIFIED\u001b[0m\u001b[0;34m]\u001b[0m\u001b[0;34m:\u001b[0m\u001b[0;34m\u001b[0m\u001b[0;34m\u001b[0m\u001b[0m\n",
      "\u001b[0;32m~/opt/anaconda3/envs/audio-ml/lib/python3.8/threading.py\u001b[0m in \u001b[0;36mwait\u001b[0;34m(self, timeout)\u001b[0m\n\u001b[1;32m    300\u001b[0m         \u001b[0;32mtry\u001b[0m\u001b[0;34m:\u001b[0m    \u001b[0;31m# restore state no matter what (e.g., KeyboardInterrupt)\u001b[0m\u001b[0;34m\u001b[0m\u001b[0;34m\u001b[0m\u001b[0m\n\u001b[1;32m    301\u001b[0m             \u001b[0;32mif\u001b[0m \u001b[0mtimeout\u001b[0m \u001b[0;32mis\u001b[0m \u001b[0;32mNone\u001b[0m\u001b[0;34m:\u001b[0m\u001b[0;34m\u001b[0m\u001b[0;34m\u001b[0m\u001b[0m\n\u001b[0;32m--> 302\u001b[0;31m                 \u001b[0mwaiter\u001b[0m\u001b[0;34m.\u001b[0m\u001b[0macquire\u001b[0m\u001b[0;34m(\u001b[0m\u001b[0;34m)\u001b[0m\u001b[0;34m\u001b[0m\u001b[0;34m\u001b[0m\u001b[0m\n\u001b[0m\u001b[1;32m    303\u001b[0m                 \u001b[0mgotit\u001b[0m \u001b[0;34m=\u001b[0m \u001b[0;32mTrue\u001b[0m\u001b[0;34m\u001b[0m\u001b[0;34m\u001b[0m\u001b[0m\n\u001b[1;32m    304\u001b[0m             \u001b[0;32melse\u001b[0m\u001b[0;34m:\u001b[0m\u001b[0;34m\u001b[0m\u001b[0;34m\u001b[0m\u001b[0m\n",
      "\u001b[0;31mKeyboardInterrupt\u001b[0m: "
     ]
    }
   ],
   "source": [
    "# Process the conversion using all cores in parallel to save time\n",
    "_ = Parallel(n_jobs=num_cores, verbose=1)(delayed(convert_to_wav)(i) for i in audio_files)"
   ]
  },
  {
   "cell_type": "code",
   "execution_count": 23,
   "id": "shared-finance",
   "metadata": {},
   "outputs": [],
   "source": [
    "def crop_pad_audio(af):\n",
    "\n",
    "    duration = sox.file_info.duration(af) # gets duration in seconds\n",
    "    basename = os.path.basename(af)\n",
    "    class_name = af.split('/')[-2]\n",
    "    outfile = os.path.join(output_dir, basename)    \n",
    "\n",
    "    if duration < 10.0:\n",
    "        # first move the working file to pwd\n",
    "        os.rename(af, basename)\n",
    "        \n",
    "        tfm = sox.Transformer()\n",
    "        tfm.pad(start_duration=0.0, end_duration=(10.0 - duration))\n",
    "        tfm.build(input_filepath=basename, output_filepath=outfile)\n",
    "        \n",
    "        # remove the old file\n",
    "        os.remove(basename)        \n",
    "    \n",
    "    elif duration > 10.0:\n",
    "        # first move the working file to pwd\n",
    "        os.rename(af, basename)\n",
    "    \n",
    "        tfm = sox.Transformer()\n",
    "        tfm.trim(start_time=0.0, end_time=10.0)\n",
    "        tfm.build(input_filepath=basename, output_filepath=outfile)\n",
    "    \n",
    "        # remove the old file\n",
    "        os.remove(basename)\n",
    "      "
   ]
  },
  {
   "cell_type": "code",
   "execution_count": 24,
   "id": "extensive-particular",
   "metadata": {},
   "outputs": [
    {
     "name": "stdout",
     "output_type": "stream",
     "text": [
      "Starting to process 271 files\n"
     ]
    },
    {
     "name": "stderr",
     "output_type": "stream",
     "text": [
      "[Parallel(n_jobs=4)]: Using backend LokyBackend with 4 concurrent workers.\n",
      "[Parallel(n_jobs=4)]: Done  42 tasks      | elapsed:    2.3s\n",
      "[Parallel(n_jobs=4)]: Done 192 tasks      | elapsed:    8.2s\n",
      "[Parallel(n_jobs=4)]: Done 271 out of 271 | elapsed:   11.5s finished\n"
     ]
    }
   ],
   "source": [
    "print(f'Starting to process {len(wav_audio_files)} files')\n",
    "_ = Parallel(n_jobs=num_cores, verbose=1)(delayed(crop_pad_audio)(i) for i in wav_audio_files)"
   ]
  },
  {
   "cell_type": "code",
   "execution_count": 26,
   "id": "sharing-officer",
   "metadata": {},
   "outputs": [
    {
     "name": "stdout",
     "output_type": "stream",
     "text": [
      "Starting to process 271 files\n"
     ]
    },
    {
     "name": "stderr",
     "output_type": "stream",
     "text": [
      "[Parallel(n_jobs=4)]: Using backend LokyBackend with 4 concurrent workers.\n",
      "[Parallel(n_jobs=4)]: Done  76 tasks      | elapsed:    2.0s\n",
      "[Parallel(n_jobs=4)]: Done 271 out of 271 | elapsed:    6.3s finished\n"
     ]
    }
   ],
   "source": [
    "# Sanity check\n",
    "# Make sure all the files are exatcly 10 seconds long\n",
    "\n",
    "def check_length(pf):\n",
    "    duration = sox.file_info.duration(pf)\n",
    "    sr = sox.file_info.sample_rate(pf)\n",
    "    if duration != 10.0  or sr != sample_rate:\n",
    "        return (duration, \n",
    "                sox.file_info.sample_rate(pf),\n",
    "                sox.file_info.bitrate(pf),\n",
    "                pf)\n",
    "    channels = sox.file_info.channels(pf)\n",
    "    if channels != 1:\n",
    "        return (channels, pf)\n",
    "    return False\n",
    "\n",
    "print(f'Starting to process {len(wav_audio_files)} files')\n",
    "errors = Parallel(n_jobs=num_cores, verbose=1)(delayed(check_length)(i) for i in wav_audio_files)"
   ]
  },
  {
   "cell_type": "code",
   "execution_count": 27,
   "id": "cooked-arctic",
   "metadata": {},
   "outputs": [
    {
     "name": "stdout",
     "output_type": "stream",
     "text": [
      "All files were 10.0 seconds long.  Ready to move on.\n"
     ]
    }
   ],
   "source": [
    "# count errors\n",
    "filtered_errors = [x for x in errors if x]\n",
    "\n",
    "if len(filtered_errors) > 0:\n",
    "    print('There were errors')\n",
    "    print(filtered_errors)\n",
    "else:\n",
    "    print('All files were 10.0 seconds long.  Ready to move on.')"
   ]
  },
  {
   "cell_type": "code",
   "execution_count": null,
   "id": "literary-advertiser",
   "metadata": {},
   "outputs": [],
   "source": []
  }
 ],
 "metadata": {
  "kernelspec": {
   "display_name": "Python [conda env:audio-ml]",
   "language": "python",
   "name": "conda-env-audio-ml-py"
  },
  "language_info": {
   "codemirror_mode": {
    "name": "ipython",
    "version": 3
   },
   "file_extension": ".py",
   "mimetype": "text/x-python",
   "name": "python",
   "nbconvert_exporter": "python",
   "pygments_lexer": "ipython3",
   "version": "3.8.8"
  },
  "toc": {
   "base_numbering": 1,
   "nav_menu": {},
   "number_sections": true,
   "sideBar": true,
   "skip_h1_title": false,
   "title_cell": "Table of Contents",
   "title_sidebar": "Contents",
   "toc_cell": false,
   "toc_position": {},
   "toc_section_display": true,
   "toc_window_display": false
  }
 },
 "nbformat": 4,
 "nbformat_minor": 5
}
