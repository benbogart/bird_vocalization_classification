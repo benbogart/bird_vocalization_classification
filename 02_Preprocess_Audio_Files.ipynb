{
 "cells": [
  {
   "cell_type": "markdown",
   "id": "coastal-convert",
   "metadata": {},
   "source": [
    "# Preprocess Audio Files\n",
    "This notebook contains the code for preprocessing the audio files before training.\n",
    "\n",
    "10 second audio in wav format with a sample rate of 48k was chosen because it matches the audio used to train the l3 model from which I plan to use for feature embeddings.\n",
    "\n",
    "The sample dataset only includes the training data, so we will split that into training and testing data.  If the mode proves viable we will download more data from xeno-canto.org."
   ]
  },
  {
   "cell_type": "code",
   "execution_count": 1,
   "id": "narrative-worse",
   "metadata": {},
   "outputs": [],
   "source": [
    "import sox # must install sox locally if you want mp3 support\n",
    "import os\n",
    "import glob\n",
    "import shutil\n",
    "import multiprocessing\n",
    "from joblib import Parallel, delayed\n",
    "from tqdm import tqdm\n",
    "import numpy as np\n",
    "import pandas as pd"
   ]
  },
  {
   "cell_type": "code",
   "execution_count": 2,
   "id": "earlier-chemical",
   "metadata": {},
   "outputs": [],
   "source": [
    "input_dir = \"data/train_audio\"\n",
    "output_dir = 'data/train_10sec'\n",
    "\n",
    "# create output dir if it does not exist\n",
    "if not os.path.isdir(output_dir):\n",
    "    os.mkdir(output_dir)"
   ]
  },
  {
   "cell_type": "code",
   "execution_count": 3,
   "id": "dressed-demonstration",
   "metadata": {},
   "outputs": [
    {
     "data": {
      "text/plain": [
       "['data/train_audio/olsfly/XC386256.mp3',\n",
       " 'data/train_audio/olsfly/XC484154.mp3',\n",
       " 'data/train_audio/olsfly/XC239498.mp3',\n",
       " 'data/train_audio/olsfly/XC368006.mp3',\n",
       " 'data/train_audio/olsfly/XC156193.mp3']"
      ]
     },
     "execution_count": 3,
     "metadata": {},
     "output_type": "execute_result"
    }
   ],
   "source": [
    "# get a list of all mp3 files\n",
    "audio_files = glob.glob(os.path.join(input_dir, '*/*.mp3'))\n",
    "audio_files[:5]"
   ]
  },
  {
   "cell_type": "markdown",
   "id": "atomic-translator",
   "metadata": {},
   "source": [
    "# Convert files to 10 second WAV files at 48khz"
   ]
  },
  {
   "cell_type": "markdown",
   "id": "existing-reggae",
   "metadata": {},
   "source": [
    "The audio files have to be processed in two steps because adding padding to an mp3 then saving as wav results in imprecise final times.  We need files to be exactly 10 seconds long wtih a sample rate of 48khz for a total of 48000 * 10 samples.\n",
    "\n",
    "The first pass resamples the audio to 48k, cuts the clips to 11 seconds, and saves as wav files.\n",
    "\n",
    "The second pass pads or crops the files to exactly 10 seconds long."
   ]
  },
  {
   "cell_type": "code",
   "execution_count": 4,
   "id": "micro-hazard",
   "metadata": {},
   "outputs": [
    {
     "name": "stdout",
     "output_type": "stream",
     "text": [
      "4\n"
     ]
    }
   ],
   "source": [
    "# get the number of cpu cores available\n",
    "num_cores = multiprocessing.cpu_count()\n",
    "print(num_cores)"
   ]
  },
  {
   "cell_type": "code",
   "execution_count": 5,
   "id": "governing-ghana",
   "metadata": {},
   "outputs": [],
   "source": [
    "def convert_to_wav(af):\n",
    "    wav_name = os.path.splitext(os.path.basename(af))[0] + '.wav'\n",
    "    outfile = os.path.join(output_dir, wav_name)\n",
    "    \n",
    "    if(not os.path.exists(outfile)):\n",
    "        tfm = sox.Transformer()\n",
    "        tfm.rate(48000, quality='v')\n",
    "\n",
    "        if duration > 10.0:\n",
    "            # crop to slightly longer than 10 seconds.\n",
    "            # cannot crop precicely from mp3 so we will have to have\n",
    "            # a second round of cropping\n",
    "            tfm.trim(start_time=0.0, end_time=11.0)\n",
    "        \n",
    "        tfm.build(input_filepath=af, output_filepath=outfile)    "
   ]
  },
  {
   "cell_type": "code",
   "execution_count": 6,
   "id": "prompt-washington",
   "metadata": {},
   "outputs": [
    {
     "name": "stderr",
     "output_type": "stream",
     "text": [
      "[Parallel(n_jobs=4)]: Using backend LokyBackend with 4 concurrent workers.\n",
      "[Parallel(n_jobs=4)]: Done 123 tasks      | elapsed:    0.7s\n",
      "[Parallel(n_jobs=4)]: Done 21375 out of 21375 | elapsed:    1.4s finished\n"
     ]
    }
   ],
   "source": [
    "# Process the conversion using all cores in parallel to save time\n",
    "_ = Parallel(n_jobs=num_cores, verbose=1)(delayed(convert_to_wav)(i) for i in audio_files)"
   ]
  },
  {
   "cell_type": "code",
   "execution_count": 7,
   "id": "cutting-aquarium",
   "metadata": {},
   "outputs": [
    {
     "data": {
      "text/plain": [
       "['data/train_10sec/XC172660.wav',\n",
       " 'data/train_10sec/XC357464.wav',\n",
       " 'data/train_10sec/XC494106.wav',\n",
       " 'data/train_10sec/XC406464.wav',\n",
       " 'data/train_10sec/XC317040.wav']"
      ]
     },
     "execution_count": 7,
     "metadata": {},
     "output_type": "execute_result"
    }
   ],
   "source": [
    "# get a list of all the .wav files\n",
    "wav_audio_files = glob.glob(os.path.join(output_dir, '*.wav'), recursive=False)\n",
    "wav_audio_files[:5]"
   ]
  },
  {
   "cell_type": "code",
   "execution_count": 8,
   "id": "shared-finance",
   "metadata": {},
   "outputs": [],
   "source": [
    "def crop_pad_audio(af):\n",
    "\n",
    "    duration = sox.file_info.duration(af) # gets duration in seconds\n",
    "    basename = os.path.basename(af)\n",
    "    outfile = os.path.join(output_dir, basename)\n",
    "    \n",
    "    \n",
    "    if duration < 10.0:\n",
    "        # first move the working file to pwd\n",
    "        os.rename(af, basename)\n",
    "        \n",
    "        tfm = sox.Transformer()\n",
    "        tfm.pad(start_duration=0.0, end_duration=(10.0 - duration))\n",
    "        tfm.build(input_filepath=basename, output_filepath=outfile)\n",
    "        \n",
    "        # remove the old file\n",
    "        os.remove(basename)        \n",
    "    \n",
    "    elif duration > 10.0:\n",
    "        # first move the working file to pwd\n",
    "        os.rename(af, basename)\n",
    "    \n",
    "        tfm = sox.Transformer()\n",
    "        tfm.trim(start_time=0.0, end_time=10.0)\n",
    "        tfm.build(input_filepath=basename, output_filepath=outfile)\n",
    "    \n",
    "        # remove the old file\n",
    "        os.remove(basename)\n",
    "      "
   ]
  },
  {
   "cell_type": "code",
   "execution_count": 9,
   "id": "extensive-particular",
   "metadata": {},
   "outputs": [
    {
     "name": "stdout",
     "output_type": "stream",
     "text": [
      "Starting to process 21375 files\n"
     ]
    },
    {
     "name": "stderr",
     "output_type": "stream",
     "text": [
      "[Parallel(n_jobs=4)]: Using backend LokyBackend with 4 concurrent workers.\n",
      "[Parallel(n_jobs=4)]: Done 128 tasks      | elapsed:    1.3s\n",
      "[Parallel(n_jobs=4)]: Done 728 tasks      | elapsed:    6.3s\n",
      "[Parallel(n_jobs=4)]: Done 1728 tasks      | elapsed:   14.7s\n",
      "[Parallel(n_jobs=4)]: Done 3128 tasks      | elapsed:   26.0s\n",
      "[Parallel(n_jobs=4)]: Done 4928 tasks      | elapsed:   42.1s\n",
      "[Parallel(n_jobs=4)]: Done 7128 tasks      | elapsed:   60.0s\n",
      "[Parallel(n_jobs=4)]: Done 9728 tasks      | elapsed:  1.4min\n",
      "[Parallel(n_jobs=4)]: Done 12728 tasks      | elapsed:  1.8min\n",
      "[Parallel(n_jobs=4)]: Done 16128 tasks      | elapsed:  2.4min\n",
      "[Parallel(n_jobs=4)]: Done 19928 tasks      | elapsed:  3.2min\n",
      "[Parallel(n_jobs=4)]: Done 21368 out of 21375 | elapsed:  3.5min remaining:    0.1s\n",
      "[Parallel(n_jobs=4)]: Done 21375 out of 21375 | elapsed:  3.5min finished\n"
     ]
    }
   ],
   "source": [
    "  \n",
    "print(f'Starting to process {len(wav_audio_files)} files')\n",
    "_ = Parallel(n_jobs=num_cores, verbose=1)(delayed(crop_pad_audio)(i) for i in wav_audio_files)"
   ]
  },
  {
   "cell_type": "code",
   "execution_count": 13,
   "id": "sharing-officer",
   "metadata": {},
   "outputs": [
    {
     "name": "stdout",
     "output_type": "stream",
     "text": [
      "Starting to process 21375 files\n"
     ]
    },
    {
     "name": "stderr",
     "output_type": "stream",
     "text": [
      "[Parallel(n_jobs=4)]: Using backend LokyBackend with 4 concurrent workers.\n",
      "[Parallel(n_jobs=4)]: Done  76 tasks      | elapsed:    1.6s\n",
      "[Parallel(n_jobs=4)]: Done 376 tasks      | elapsed:    8.2s\n",
      "[Parallel(n_jobs=4)]: Done 876 tasks      | elapsed:   17.6s\n",
      "[Parallel(n_jobs=4)]: Done 1576 tasks      | elapsed:   29.0s\n",
      "[Parallel(n_jobs=4)]: Done 2476 tasks      | elapsed:   44.8s\n",
      "[Parallel(n_jobs=4)]: Done 3576 tasks      | elapsed:  1.1min\n",
      "[Parallel(n_jobs=4)]: Done 4876 tasks      | elapsed:  1.5min\n",
      "[Parallel(n_jobs=4)]: Done 6376 tasks      | elapsed:  1.9min\n",
      "[Parallel(n_jobs=4)]: Done 8076 tasks      | elapsed:  2.5min\n",
      "[Parallel(n_jobs=4)]: Done 9976 tasks      | elapsed:  3.0min\n",
      "[Parallel(n_jobs=4)]: Done 12076 tasks      | elapsed:  3.7min\n",
      "[Parallel(n_jobs=4)]: Done 14376 tasks      | elapsed:  4.3min\n",
      "[Parallel(n_jobs=4)]: Done 16876 tasks      | elapsed:  5.1min\n",
      "[Parallel(n_jobs=4)]: Done 19576 tasks      | elapsed:  5.9min\n",
      "[Parallel(n_jobs=4)]: Done 21375 out of 21375 | elapsed:  6.5min finished\n"
     ]
    }
   ],
   "source": [
    "# Sanity check\n",
    "# Make sure all the files are exatcly 10 seconds long\n",
    "\n",
    "def check_length(pf):\n",
    "    duration = sox.file_info.duration(pf)\n",
    "    sample_rate = sox.file_info.sample_rate(pf)\n",
    "    if duration != 10.0  or sample_rate != 48000:\n",
    "        return (duration, \n",
    "                sox.file_info.sample_rate(pf),\n",
    "                sox.file_info.bitrate(pf),\n",
    "                pf)\n",
    "    return False\n",
    "\n",
    "print(f'Starting to process {len(wav_audio_files)} files')\n",
    "errors = Parallel(n_jobs=num_cores, verbose=1)(delayed(check_length)(i) for i in wav_audio_files)"
   ]
  },
  {
   "cell_type": "code",
   "execution_count": 14,
   "id": "cooked-arctic",
   "metadata": {},
   "outputs": [
    {
     "name": "stdout",
     "output_type": "stream",
     "text": [
      "All files were 10.0 seconds long.  Ready to move on.\n"
     ]
    }
   ],
   "source": [
    "# count errors\n",
    "filtered_errors = [x for x in errors if x]\n",
    "\n",
    "if len(filtered_errors) > 0:\n",
    "    print('There were errors')\n",
    "    print(filtered_errors)\n",
    "else:\n",
    "    print('All files were 10.0 seconds long.  Ready to move on.')"
   ]
  }
 ],
 "metadata": {
  "kernelspec": {
   "display_name": "Python [conda env:audio-ml]",
   "language": "python",
   "name": "conda-env-audio-ml-py"
  },
  "language_info": {
   "codemirror_mode": {
    "name": "ipython",
    "version": 3
   },
   "file_extension": ".py",
   "mimetype": "text/x-python",
   "name": "python",
   "nbconvert_exporter": "python",
   "pygments_lexer": "ipython3",
   "version": "3.8.8"
  },
  "toc": {
   "base_numbering": 1,
   "nav_menu": {},
   "number_sections": true,
   "sideBar": true,
   "skip_h1_title": false,
   "title_cell": "Table of Contents",
   "title_sidebar": "Contents",
   "toc_cell": false,
   "toc_position": {},
   "toc_section_display": true,
   "toc_window_display": false
  }
 },
 "nbformat": 4,
 "nbformat_minor": 5
}
