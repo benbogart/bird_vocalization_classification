{
 "cells": [
  {
   "cell_type": "markdown",
   "id": "arctic-entrepreneur",
   "metadata": {},
   "source": [
    "# Model Metrics"
   ]
  },
  {
   "cell_type": "code",
   "execution_count": 186,
   "id": "appropriate-dollar",
   "metadata": {},
   "outputs": [],
   "source": [
    "import pandas as pd\n",
    "import os\n",
    "from glob import glob\n",
    "from azureml.core import Workspace, Run\n",
    "import pickle\n",
    "from tqdm import tqdm\n",
    "import matplotlib.pyplot as plt\n",
    "%matplotlib inline\n",
    "import plotly.express as px\n",
    "import plotly.graph_objects as go"
   ]
  },
  {
   "cell_type": "code",
   "execution_count": 2,
   "id": "recreational-makeup",
   "metadata": {},
   "outputs": [],
   "source": [
    "ws = Workspace.from_config()"
   ]
  },
  {
   "cell_type": "markdown",
   "id": "established-amazon",
   "metadata": {},
   "source": [
    "## Load model run log"
   ]
  },
  {
   "cell_type": "code",
   "execution_count": 50,
   "id": "imported-wedding",
   "metadata": {},
   "outputs": [],
   "source": [
    "RUN_LOG = 'training_scripts/runids.csv'"
   ]
  },
  {
   "cell_type": "code",
   "execution_count": 51,
   "id": "public-charles",
   "metadata": {},
   "outputs": [
    {
     "data": {
      "text/plain": [
       "Index(['runid', 'model_name', 'data_subset', 'start_time'], dtype='object')"
      ]
     },
     "execution_count": 51,
     "metadata": {},
     "output_type": "execute_result"
    }
   ],
   "source": [
    "df = pd.read_csv(RUN_LOG)\n",
    "df.columns"
   ]
  },
  {
   "cell_type": "code",
   "execution_count": 52,
   "id": "lovely-eligibility",
   "metadata": {},
   "outputs": [
    {
     "data": {
      "text/html": [
       "<div>\n",
       "<style scoped>\n",
       "    .dataframe tbody tr th:only-of-type {\n",
       "        vertical-align: middle;\n",
       "    }\n",
       "\n",
       "    .dataframe tbody tr th {\n",
       "        vertical-align: top;\n",
       "    }\n",
       "\n",
       "    .dataframe thead th {\n",
       "        text-align: right;\n",
       "    }\n",
       "</style>\n",
       "<table border=\"1\" class=\"dataframe\">\n",
       "  <thead>\n",
       "    <tr style=\"text-align: right;\">\n",
       "      <th></th>\n",
       "      <th>runid</th>\n",
       "      <th>model_name</th>\n",
       "      <th>data_subset</th>\n",
       "      <th>start_time</th>\n",
       "    </tr>\n",
       "  </thead>\n",
       "  <tbody>\n",
       "    <tr>\n",
       "      <th>0</th>\n",
       "      <td>birdsongs_2_1618101588_9cdc9314</td>\n",
       "      <td>cnn1_audin_nmel_1</td>\n",
       "      <td>kaggle_10sec_wav</td>\n",
       "      <td>04/10/2021, 20:39:52</td>\n",
       "    </tr>\n",
       "    <tr>\n",
       "      <th>1</th>\n",
       "      <td>birdsongs_2_1618101601_6c54df25</td>\n",
       "      <td>cnn1_audin_nmel_2</td>\n",
       "      <td>kaggle_10sec_wav</td>\n",
       "      <td>04/10/2021, 20:40:03</td>\n",
       "    </tr>\n",
       "    <tr>\n",
       "      <th>2</th>\n",
       "      <td>birdsongs_2_1618101679_621085b4</td>\n",
       "      <td>cnn1_audin_nmel_dcbl_1</td>\n",
       "      <td>kaggle_10sec_wav</td>\n",
       "      <td>04/10/2021, 20:41:23</td>\n",
       "    </tr>\n",
       "    <tr>\n",
       "      <th>3</th>\n",
       "      <td>birdsongs_2_1618101691_08bb6e9d</td>\n",
       "      <td>cnn1_audin_nmel_dcbl_2</td>\n",
       "      <td>kaggle_10sec_wav</td>\n",
       "      <td>04/10/2021, 20:41:34</td>\n",
       "    </tr>\n",
       "    <tr>\n",
       "      <th>4</th>\n",
       "      <td>birdsongs_2_1618105893_94d00361</td>\n",
       "      <td>cnn1_audin_nffthl_1</td>\n",
       "      <td>kaggle_10sec_wav</td>\n",
       "      <td>04/10/2021, 21:51:37</td>\n",
       "    </tr>\n",
       "  </tbody>\n",
       "</table>\n",
       "</div>"
      ],
      "text/plain": [
       "                             runid              model_name       data_subset  \\\n",
       "0  birdsongs_2_1618101588_9cdc9314       cnn1_audin_nmel_1  kaggle_10sec_wav   \n",
       "1  birdsongs_2_1618101601_6c54df25       cnn1_audin_nmel_2  kaggle_10sec_wav   \n",
       "2  birdsongs_2_1618101679_621085b4  cnn1_audin_nmel_dcbl_1  kaggle_10sec_wav   \n",
       "3  birdsongs_2_1618101691_08bb6e9d  cnn1_audin_nmel_dcbl_2  kaggle_10sec_wav   \n",
       "4  birdsongs_2_1618105893_94d00361     cnn1_audin_nffthl_1  kaggle_10sec_wav   \n",
       "\n",
       "             start_time  \n",
       "0  04/10/2021, 20:39:52  \n",
       "1  04/10/2021, 20:40:03  \n",
       "2  04/10/2021, 20:41:23  \n",
       "3  04/10/2021, 20:41:34  \n",
       "4  04/10/2021, 21:51:37  "
      ]
     },
     "execution_count": 52,
     "metadata": {},
     "output_type": "execute_result"
    }
   ],
   "source": [
    "df.head()"
   ]
  },
  {
   "cell_type": "code",
   "execution_count": 53,
   "id": "western-helping",
   "metadata": {},
   "outputs": [
    {
     "data": {
      "text/html": [
       "<div>\n",
       "<style scoped>\n",
       "    .dataframe tbody tr th:only-of-type {\n",
       "        vertical-align: middle;\n",
       "    }\n",
       "\n",
       "    .dataframe tbody tr th {\n",
       "        vertical-align: top;\n",
       "    }\n",
       "\n",
       "    .dataframe thead th {\n",
       "        text-align: right;\n",
       "    }\n",
       "</style>\n",
       "<table border=\"1\" class=\"dataframe\">\n",
       "  <thead>\n",
       "    <tr style=\"text-align: right;\">\n",
       "      <th></th>\n",
       "      <th>runid</th>\n",
       "      <th>model_name</th>\n",
       "      <th>data_subset</th>\n",
       "      <th>start_time</th>\n",
       "    </tr>\n",
       "  </thead>\n",
       "  <tbody>\n",
       "    <tr>\n",
       "      <th>0</th>\n",
       "      <td>birdsongs_2_1618101588_9cdc9314</td>\n",
       "      <td>cnn1_audin_nmel_1</td>\n",
       "      <td>kaggle_10sec_wav</td>\n",
       "      <td>04/10/2021, 20:39:52</td>\n",
       "    </tr>\n",
       "    <tr>\n",
       "      <th>1</th>\n",
       "      <td>birdsongs_2_1618101601_6c54df25</td>\n",
       "      <td>cnn1_audin_nmel_2</td>\n",
       "      <td>kaggle_10sec_wav</td>\n",
       "      <td>04/10/2021, 20:40:03</td>\n",
       "    </tr>\n",
       "    <tr>\n",
       "      <th>2</th>\n",
       "      <td>birdsongs_2_1618101679_621085b4</td>\n",
       "      <td>cnn1_audin_nmel_dcbl_1</td>\n",
       "      <td>kaggle_10sec_wav</td>\n",
       "      <td>04/10/2021, 20:41:23</td>\n",
       "    </tr>\n",
       "    <tr>\n",
       "      <th>3</th>\n",
       "      <td>birdsongs_2_1618101691_08bb6e9d</td>\n",
       "      <td>cnn1_audin_nmel_dcbl_2</td>\n",
       "      <td>kaggle_10sec_wav</td>\n",
       "      <td>04/10/2021, 20:41:34</td>\n",
       "    </tr>\n",
       "    <tr>\n",
       "      <th>4</th>\n",
       "      <td>birdsongs_2_1618105893_94d00361</td>\n",
       "      <td>cnn1_audin_nffthl_1</td>\n",
       "      <td>kaggle_10sec_wav</td>\n",
       "      <td>04/10/2021, 21:51:37</td>\n",
       "    </tr>\n",
       "  </tbody>\n",
       "</table>\n",
       "</div>"
      ],
      "text/plain": [
       "                             runid              model_name       data_subset  \\\n",
       "0  birdsongs_2_1618101588_9cdc9314       cnn1_audin_nmel_1  kaggle_10sec_wav   \n",
       "1  birdsongs_2_1618101601_6c54df25       cnn1_audin_nmel_2  kaggle_10sec_wav   \n",
       "2  birdsongs_2_1618101679_621085b4  cnn1_audin_nmel_dcbl_1  kaggle_10sec_wav   \n",
       "3  birdsongs_2_1618101691_08bb6e9d  cnn1_audin_nmel_dcbl_2  kaggle_10sec_wav   \n",
       "4  birdsongs_2_1618105893_94d00361     cnn1_audin_nffthl_1  kaggle_10sec_wav   \n",
       "\n",
       "             start_time  \n",
       "0  04/10/2021, 20:39:52  \n",
       "1  04/10/2021, 20:40:03  \n",
       "2  04/10/2021, 20:41:23  \n",
       "3  04/10/2021, 20:41:34  \n",
       "4  04/10/2021, 21:51:37  "
      ]
     },
     "execution_count": 53,
     "metadata": {},
     "output_type": "execute_result"
    }
   ],
   "source": [
    "# drop test runs\n",
    "df = df[df['runid'].str.split('_').str[0] != 'test']\n",
    "df.head()"
   ]
  },
  {
   "cell_type": "code",
   "execution_count": 54,
   "id": "indonesian-soccer",
   "metadata": {
    "scrolled": true
   },
   "outputs": [
    {
     "data": {
      "text/html": [
       "<div>\n",
       "<style scoped>\n",
       "    .dataframe tbody tr th:only-of-type {\n",
       "        vertical-align: middle;\n",
       "    }\n",
       "\n",
       "    .dataframe tbody tr th {\n",
       "        vertical-align: top;\n",
       "    }\n",
       "\n",
       "    .dataframe thead th {\n",
       "        text-align: right;\n",
       "    }\n",
       "</style>\n",
       "<table border=\"1\" class=\"dataframe\">\n",
       "  <thead>\n",
       "    <tr style=\"text-align: right;\">\n",
       "      <th></th>\n",
       "      <th>runid</th>\n",
       "      <th>model_name</th>\n",
       "      <th>data_subset</th>\n",
       "      <th>start_time</th>\n",
       "    </tr>\n",
       "  </thead>\n",
       "  <tbody>\n",
       "    <tr>\n",
       "      <th>0</th>\n",
       "      <td>birdsongs_2_1618101588_9cdc9314</td>\n",
       "      <td>cnn1_audin_nmel_1</td>\n",
       "      <td>kaggle_10sec_wav</td>\n",
       "      <td>04/10/2021, 20:39:52</td>\n",
       "    </tr>\n",
       "    <tr>\n",
       "      <th>1</th>\n",
       "      <td>birdsongs_2_1618101601_6c54df25</td>\n",
       "      <td>cnn1_audin_nmel_2</td>\n",
       "      <td>kaggle_10sec_wav</td>\n",
       "      <td>04/10/2021, 20:40:03</td>\n",
       "    </tr>\n",
       "    <tr>\n",
       "      <th>2</th>\n",
       "      <td>birdsongs_2_1618101679_621085b4</td>\n",
       "      <td>cnn1_audin_nmel_dcbl_1</td>\n",
       "      <td>kaggle_10sec_wav</td>\n",
       "      <td>04/10/2021, 20:41:23</td>\n",
       "    </tr>\n",
       "    <tr>\n",
       "      <th>3</th>\n",
       "      <td>birdsongs_2_1618101691_08bb6e9d</td>\n",
       "      <td>cnn1_audin_nmel_dcbl_2</td>\n",
       "      <td>kaggle_10sec_wav</td>\n",
       "      <td>04/10/2021, 20:41:34</td>\n",
       "    </tr>\n",
       "    <tr>\n",
       "      <th>4</th>\n",
       "      <td>birdsongs_2_1618105893_94d00361</td>\n",
       "      <td>cnn1_audin_nffthl_1</td>\n",
       "      <td>kaggle_10sec_wav</td>\n",
       "      <td>04/10/2021, 21:51:37</td>\n",
       "    </tr>\n",
       "  </tbody>\n",
       "</table>\n",
       "</div>"
      ],
      "text/plain": [
       "                             runid              model_name       data_subset  \\\n",
       "0  birdsongs_2_1618101588_9cdc9314       cnn1_audin_nmel_1  kaggle_10sec_wav   \n",
       "1  birdsongs_2_1618101601_6c54df25       cnn1_audin_nmel_2  kaggle_10sec_wav   \n",
       "2  birdsongs_2_1618101679_621085b4  cnn1_audin_nmel_dcbl_1  kaggle_10sec_wav   \n",
       "3  birdsongs_2_1618101691_08bb6e9d  cnn1_audin_nmel_dcbl_2  kaggle_10sec_wav   \n",
       "4  birdsongs_2_1618105893_94d00361     cnn1_audin_nffthl_1  kaggle_10sec_wav   \n",
       "\n",
       "             start_time  \n",
       "0  04/10/2021, 20:39:52  \n",
       "1  04/10/2021, 20:40:03  \n",
       "2  04/10/2021, 20:41:23  \n",
       "3  04/10/2021, 20:41:34  \n",
       "4  04/10/2021, 21:51:37  "
      ]
     },
     "execution_count": 54,
     "metadata": {},
     "output_type": "execute_result"
    }
   ],
   "source": [
    "# get keep the last run of each model/data_subset pair\n",
    "df_lastruns = df.drop_duplicates(subset=['model_name', 'data_subset'], \n",
    "                                 keep='last').copy()\n",
    "df_lastruns.head()"
   ]
  },
  {
   "cell_type": "markdown",
   "id": "composite-apple",
   "metadata": {},
   "source": [
    "## Get from Azure"
   ]
  },
  {
   "cell_type": "code",
   "execution_count": 55,
   "id": "operating-rating",
   "metadata": {},
   "outputs": [],
   "source": [
    "ws = Workspace.from_config()"
   ]
  },
  {
   "cell_type": "markdown",
   "id": "hungarian-sense",
   "metadata": {},
   "source": [
    "### Get run context"
   ]
  },
  {
   "cell_type": "code",
   "execution_count": 56,
   "id": "meaning-reality",
   "metadata": {},
   "outputs": [
    {
     "name": "stderr",
     "output_type": "stream",
     "text": [
      "100%|██████████| 33/33 [00:13<00:00,  2.43it/s]\n"
     ]
    }
   ],
   "source": [
    "# get run context from Azure for each runid\n",
    "runs = {}\n",
    "for runid in tqdm(df_lastruns['runid']):\n",
    "    run = Run.get(ws, runid)\n",
    "    runs[runid] = run"
   ]
  },
  {
   "cell_type": "code",
   "execution_count": 57,
   "id": "extensive-sample",
   "metadata": {},
   "outputs": [
    {
     "data": {
      "text/html": [
       "<div>\n",
       "<style scoped>\n",
       "    .dataframe tbody tr th:only-of-type {\n",
       "        vertical-align: middle;\n",
       "    }\n",
       "\n",
       "    .dataframe tbody tr th {\n",
       "        vertical-align: top;\n",
       "    }\n",
       "\n",
       "    .dataframe thead th {\n",
       "        text-align: right;\n",
       "    }\n",
       "</style>\n",
       "<table border=\"1\" class=\"dataframe\">\n",
       "  <thead>\n",
       "    <tr style=\"text-align: right;\">\n",
       "      <th></th>\n",
       "      <th>runid</th>\n",
       "      <th>model_name</th>\n",
       "      <th>data_subset</th>\n",
       "      <th>start_time</th>\n",
       "      <th>status</th>\n",
       "    </tr>\n",
       "  </thead>\n",
       "  <tbody>\n",
       "    <tr>\n",
       "      <th>0</th>\n",
       "      <td>birdsongs_2_1618101588_9cdc9314</td>\n",
       "      <td>cnn1_audin_nmel_1</td>\n",
       "      <td>kaggle_10sec_wav</td>\n",
       "      <td>04/10/2021, 20:39:52</td>\n",
       "      <td>Completed</td>\n",
       "    </tr>\n",
       "    <tr>\n",
       "      <th>1</th>\n",
       "      <td>birdsongs_2_1618101601_6c54df25</td>\n",
       "      <td>cnn1_audin_nmel_2</td>\n",
       "      <td>kaggle_10sec_wav</td>\n",
       "      <td>04/10/2021, 20:40:03</td>\n",
       "      <td>Completed</td>\n",
       "    </tr>\n",
       "    <tr>\n",
       "      <th>2</th>\n",
       "      <td>birdsongs_2_1618101679_621085b4</td>\n",
       "      <td>cnn1_audin_nmel_dcbl_1</td>\n",
       "      <td>kaggle_10sec_wav</td>\n",
       "      <td>04/10/2021, 20:41:23</td>\n",
       "      <td>Completed</td>\n",
       "    </tr>\n",
       "    <tr>\n",
       "      <th>3</th>\n",
       "      <td>birdsongs_2_1618101691_08bb6e9d</td>\n",
       "      <td>cnn1_audin_nmel_dcbl_2</td>\n",
       "      <td>kaggle_10sec_wav</td>\n",
       "      <td>04/10/2021, 20:41:34</td>\n",
       "      <td>Completed</td>\n",
       "    </tr>\n",
       "    <tr>\n",
       "      <th>4</th>\n",
       "      <td>birdsongs_2_1618105893_94d00361</td>\n",
       "      <td>cnn1_audin_nffthl_1</td>\n",
       "      <td>kaggle_10sec_wav</td>\n",
       "      <td>04/10/2021, 21:51:37</td>\n",
       "      <td>Completed</td>\n",
       "    </tr>\n",
       "  </tbody>\n",
       "</table>\n",
       "</div>"
      ],
      "text/plain": [
       "                             runid              model_name       data_subset  \\\n",
       "0  birdsongs_2_1618101588_9cdc9314       cnn1_audin_nmel_1  kaggle_10sec_wav   \n",
       "1  birdsongs_2_1618101601_6c54df25       cnn1_audin_nmel_2  kaggle_10sec_wav   \n",
       "2  birdsongs_2_1618101679_621085b4  cnn1_audin_nmel_dcbl_1  kaggle_10sec_wav   \n",
       "3  birdsongs_2_1618101691_08bb6e9d  cnn1_audin_nmel_dcbl_2  kaggle_10sec_wav   \n",
       "4  birdsongs_2_1618105893_94d00361     cnn1_audin_nffthl_1  kaggle_10sec_wav   \n",
       "\n",
       "             start_time     status  \n",
       "0  04/10/2021, 20:39:52  Completed  \n",
       "1  04/10/2021, 20:40:03  Completed  \n",
       "2  04/10/2021, 20:41:23  Completed  \n",
       "3  04/10/2021, 20:41:34  Completed  \n",
       "4  04/10/2021, 21:51:37  Completed  "
      ]
     },
     "execution_count": 57,
     "metadata": {},
     "output_type": "execute_result"
    }
   ],
   "source": [
    "# eliminate failed runs\n",
    "status = []\n",
    "for runid, run in runs.items():\n",
    "    status.append(run.status)\n",
    "    \n",
    "df_lastruns['status'] = status\n",
    "df_lastruns.head()"
   ]
  },
  {
   "cell_type": "code",
   "execution_count": 58,
   "id": "fifteen-advertiser",
   "metadata": {},
   "outputs": [
    {
     "data": {
      "text/html": [
       "<div>\n",
       "<style scoped>\n",
       "    .dataframe tbody tr th:only-of-type {\n",
       "        vertical-align: middle;\n",
       "    }\n",
       "\n",
       "    .dataframe tbody tr th {\n",
       "        vertical-align: top;\n",
       "    }\n",
       "\n",
       "    .dataframe thead th {\n",
       "        text-align: right;\n",
       "    }\n",
       "</style>\n",
       "<table border=\"1\" class=\"dataframe\">\n",
       "  <thead>\n",
       "    <tr style=\"text-align: right;\">\n",
       "      <th></th>\n",
       "      <th>model_name</th>\n",
       "      <th>data_subset</th>\n",
       "      <th>start_time</th>\n",
       "      <th>status</th>\n",
       "    </tr>\n",
       "    <tr>\n",
       "      <th>runid</th>\n",
       "      <th></th>\n",
       "      <th></th>\n",
       "      <th></th>\n",
       "      <th></th>\n",
       "    </tr>\n",
       "  </thead>\n",
       "  <tbody>\n",
       "    <tr>\n",
       "      <th>birdsongs_2_1618101588_9cdc9314</th>\n",
       "      <td>cnn1_audin_nmel_1</td>\n",
       "      <td>kaggle_10sec_wav</td>\n",
       "      <td>04/10/2021, 20:39:52</td>\n",
       "      <td>Completed</td>\n",
       "    </tr>\n",
       "    <tr>\n",
       "      <th>birdsongs_2_1618101601_6c54df25</th>\n",
       "      <td>cnn1_audin_nmel_2</td>\n",
       "      <td>kaggle_10sec_wav</td>\n",
       "      <td>04/10/2021, 20:40:03</td>\n",
       "      <td>Completed</td>\n",
       "    </tr>\n",
       "    <tr>\n",
       "      <th>birdsongs_2_1618101679_621085b4</th>\n",
       "      <td>cnn1_audin_nmel_dcbl_1</td>\n",
       "      <td>kaggle_10sec_wav</td>\n",
       "      <td>04/10/2021, 20:41:23</td>\n",
       "      <td>Completed</td>\n",
       "    </tr>\n",
       "    <tr>\n",
       "      <th>birdsongs_2_1618101691_08bb6e9d</th>\n",
       "      <td>cnn1_audin_nmel_dcbl_2</td>\n",
       "      <td>kaggle_10sec_wav</td>\n",
       "      <td>04/10/2021, 20:41:34</td>\n",
       "      <td>Completed</td>\n",
       "    </tr>\n",
       "    <tr>\n",
       "      <th>birdsongs_2_1618105893_94d00361</th>\n",
       "      <td>cnn1_audin_nffthl_1</td>\n",
       "      <td>kaggle_10sec_wav</td>\n",
       "      <td>04/10/2021, 21:51:37</td>\n",
       "      <td>Completed</td>\n",
       "    </tr>\n",
       "  </tbody>\n",
       "</table>\n",
       "</div>"
      ],
      "text/plain": [
       "                                             model_name       data_subset  \\\n",
       "runid                                                                       \n",
       "birdsongs_2_1618101588_9cdc9314       cnn1_audin_nmel_1  kaggle_10sec_wav   \n",
       "birdsongs_2_1618101601_6c54df25       cnn1_audin_nmel_2  kaggle_10sec_wav   \n",
       "birdsongs_2_1618101679_621085b4  cnn1_audin_nmel_dcbl_1  kaggle_10sec_wav   \n",
       "birdsongs_2_1618101691_08bb6e9d  cnn1_audin_nmel_dcbl_2  kaggle_10sec_wav   \n",
       "birdsongs_2_1618105893_94d00361     cnn1_audin_nffthl_1  kaggle_10sec_wav   \n",
       "\n",
       "                                           start_time     status  \n",
       "runid                                                             \n",
       "birdsongs_2_1618101588_9cdc9314  04/10/2021, 20:39:52  Completed  \n",
       "birdsongs_2_1618101601_6c54df25  04/10/2021, 20:40:03  Completed  \n",
       "birdsongs_2_1618101679_621085b4  04/10/2021, 20:41:23  Completed  \n",
       "birdsongs_2_1618101691_08bb6e9d  04/10/2021, 20:41:34  Completed  \n",
       "birdsongs_2_1618105893_94d00361  04/10/2021, 21:51:37  Completed  "
      ]
     },
     "execution_count": 58,
     "metadata": {},
     "output_type": "execute_result"
    }
   ],
   "source": [
    "# get only completed runs\n",
    "df_complete = df_lastruns[df_lastruns['status'] == 'Completed']\n",
    "df_complete = df_complete.set_index('runid')\n",
    "df_complete.head()"
   ]
  },
  {
   "cell_type": "markdown",
   "id": "removed-works",
   "metadata": {},
   "source": [
    "### Download run files"
   ]
  },
  {
   "cell_type": "code",
   "execution_count": 59,
   "id": "worst-soldier",
   "metadata": {},
   "outputs": [
    {
     "name": "stdout",
     "output_type": "stream",
     "text": [
      "files for birdsongs_2_1618101588_9cdc9314 are already downloaded.\n",
      "files for birdsongs_2_1618101601_6c54df25 are already downloaded.\n",
      "files for birdsongs_2_1618101679_621085b4 are already downloaded.\n",
      "files for birdsongs_2_1618101691_08bb6e9d are already downloaded.\n",
      "files for birdsongs_2_1618105893_94d00361 are already downloaded.\n",
      "files for birdsongs_2_1618105905_9510b3e7 are already downloaded.\n",
      "files for birdsongs_2_1618109592_7b50fea5 are already downloaded.\n",
      "files for birdsongs_2_1618109605_d3804748 are already downloaded.\n",
      "files for birdsongs_2_1618147392_4d00cd64 are already downloaded.\n",
      "files for birdsongs_2_1618147406_e8ed4602 are already downloaded.\n",
      "files for birdsongs_2_1618150013_c2f1f4bf are already downloaded.\n",
      "files for birdsongs_2_1618153363_7017415d are already downloaded.\n",
      "files for birdsongs_2_1618153718_0f7f4e95 are already downloaded.\n",
      "files for birdsongs_2_1618153737_76aab195 are already downloaded.\n",
      "files for birdsongs_2_1618157490_39253a0e are already downloaded.\n",
      "files for birdsongs_2_1618161275_30758a30 are already downloaded.\n",
      "files for birdsongs_2_1618162140_4faf7f10 are already downloaded.\n",
      "files for birdsongs_2_1618163538_1f2b2474 are already downloaded.\n",
      "files for birdsongs_2_1618167859_43a6f6cf are already downloaded.\n",
      "files for birdsongs_2_1618172334_b8e06342 are already downloaded.\n",
      "files for birdsongs_2_1618176383_b2020e4c are already downloaded.\n",
      "files for birdsongs_2_1618181216_2d1be899 are already downloaded.\n",
      "files for birdsongs_2_1618189957_7149187c are already downloaded.\n",
      "files for birdsongs_2_1618191151_2bcbff6e are already downloaded.\n",
      "files for birdsongs_2_1618191162_585bd608 are already downloaded.\n",
      "files for birdsongs_2_1618195342_4bb4b44e are already downloaded.\n",
      "downloading birdsongs_2_1618456336_f09593bc files\n",
      "downloading birdsongs_2_1618597659_27bfc8cd files\n",
      "downloading birdsongs_2_1618597673_660ac2d5 files\n",
      "downloading birdsongs_2_1618597685_86c04cfa files\n",
      "downloading birdsongs_2_1618597695_cf59e378 files\n"
     ]
    }
   ],
   "source": [
    "# download files for each run\n",
    "\n",
    "OUT_DIR = 'model_data'\n",
    "os.makedirs(OUT_DIR, exist_ok=True)\n",
    "for idx, row in df_complete.iterrows():\n",
    "    \n",
    "    # check if the files already exist\n",
    "    file_path = os.path.join(OUT_DIR, f'{row.model_name}-{idx}*.h5')\n",
    "    files = glob(file_path)\n",
    "    if len(files):\n",
    "        print(f'files for {idx} are already downloaded.')\n",
    "    else:\n",
    "        print(f'downloading {idx} files')\n",
    "        runs[idx].download_files(prefix='outputs', \n",
    "                                       output_directory=OUT_DIR, \n",
    "                                       append_prefix=False)"
   ]
  },
  {
   "cell_type": "markdown",
   "id": "derived-dancing",
   "metadata": {},
   "source": [
    "## Model History"
   ]
  },
  {
   "cell_type": "raw",
   "id": "collect-cleaners",
   "metadata": {},
   "source": [
    "# create a DataFrame with history for each model\n",
    "df_metrics = []\n",
    "for idx, row in df_complete.iterrows():\n",
    "    metrics = {k:v for k,v in runs[idx].get_metrics().items()}\n",
    "    metrics.update(tags)\n",
    "    df_metrics.append(metrics)"
   ]
  },
  {
   "cell_type": "raw",
   "id": "dominant-greece",
   "metadata": {},
   "source": [
    "pd.DataFrame(df_metrics)"
   ]
  },
  {
   "cell_type": "markdown",
   "id": "premium-solution",
   "metadata": {},
   "source": [
    "### Training History"
   ]
  },
  {
   "cell_type": "code",
   "execution_count": 82,
   "id": "intimate-touch",
   "metadata": {},
   "outputs": [
    {
     "data": {
      "text/html": [
       "<div>\n",
       "<style scoped>\n",
       "    .dataframe tbody tr th:only-of-type {\n",
       "        vertical-align: middle;\n",
       "    }\n",
       "\n",
       "    .dataframe tbody tr th {\n",
       "        vertical-align: top;\n",
       "    }\n",
       "\n",
       "    .dataframe thead th {\n",
       "        text-align: right;\n",
       "    }\n",
       "</style>\n",
       "<table border=\"1\" class=\"dataframe\">\n",
       "  <thead>\n",
       "    <tr style=\"text-align: right;\">\n",
       "      <th></th>\n",
       "      <th>loss</th>\n",
       "      <th>categorical_accuracy</th>\n",
       "      <th>top_3_accuracy</th>\n",
       "      <th>top_5_accuracy</th>\n",
       "      <th>val_loss</th>\n",
       "      <th>val_categorical_accuracy</th>\n",
       "      <th>val_top_3_accuracy</th>\n",
       "      <th>val_top_5_accuracy</th>\n",
       "      <th>lr</th>\n",
       "      <th>runid</th>\n",
       "      <th>data_subset</th>\n",
       "    </tr>\n",
       "  </thead>\n",
       "  <tbody>\n",
       "    <tr>\n",
       "      <th>0</th>\n",
       "      <td>[5.553964614868164, 5.017866134643555, 4.44454...</td>\n",
       "      <td>[0.008900728076696396, 0.03586278483271599, 0....</td>\n",
       "      <td>[0.027676714584231377, 0.08666840195655823, 0....</td>\n",
       "      <td>[0.04320426285266876, 0.12649428844451904, 0.2...</td>\n",
       "      <td>[5.344659805297852, 4.781640529632568, 4.24124...</td>\n",
       "      <td>[0.018168604001402855, 0.05741279199719429, 0....</td>\n",
       "      <td>[0.039244186133146286, 0.13372093439102173, 0....</td>\n",
       "      <td>[0.0625, 0.19040697813034058, 0.31213662028312...</td>\n",
       "      <td>[0.001, 0.001, 0.001, 0.001, 0.001, 0.001, 0.0...</td>\n",
       "      <td>birdsongs_2_1618101588_9cdc9314</td>\n",
       "      <td>kaggle_10sec_wav</td>\n",
       "    </tr>\n",
       "    <tr>\n",
       "      <th>1</th>\n",
       "      <td>[5.668341159820557, 5.208738803863525, 4.79221...</td>\n",
       "      <td>[0.007276507094502449, 0.02507796324789524, 0....</td>\n",
       "      <td>[0.02176455222070217, 0.06477390974760056, 0.1...</td>\n",
       "      <td>[0.03436850383877754, 0.0953742191195488, 0.17...</td>\n",
       "      <td>[5.413963317871094, 5.012693405151367, 4.79702...</td>\n",
       "      <td>[0.014171511866152287, 0.032340116798877716, 0...</td>\n",
       "      <td>[0.03815406933426857, 0.08430232852697372, 0.1...</td>\n",
       "      <td>[0.053415697067976, 0.13299418985843658, 0.181...</td>\n",
       "      <td>[0.001, 0.001, 0.001, 0.001, 0.001, 0.001, 0.0...</td>\n",
       "      <td>birdsongs_2_1618101601_6c54df25</td>\n",
       "      <td>kaggle_10sec_wav</td>\n",
       "    </tr>\n",
       "  </tbody>\n",
       "</table>\n",
       "</div>"
      ],
      "text/plain": [
       "                                                loss  \\\n",
       "0  [5.553964614868164, 5.017866134643555, 4.44454...   \n",
       "1  [5.668341159820557, 5.208738803863525, 4.79221...   \n",
       "\n",
       "                                categorical_accuracy  \\\n",
       "0  [0.008900728076696396, 0.03586278483271599, 0....   \n",
       "1  [0.007276507094502449, 0.02507796324789524, 0....   \n",
       "\n",
       "                                      top_3_accuracy  \\\n",
       "0  [0.027676714584231377, 0.08666840195655823, 0....   \n",
       "1  [0.02176455222070217, 0.06477390974760056, 0.1...   \n",
       "\n",
       "                                      top_5_accuracy  \\\n",
       "0  [0.04320426285266876, 0.12649428844451904, 0.2...   \n",
       "1  [0.03436850383877754, 0.0953742191195488, 0.17...   \n",
       "\n",
       "                                            val_loss  \\\n",
       "0  [5.344659805297852, 4.781640529632568, 4.24124...   \n",
       "1  [5.413963317871094, 5.012693405151367, 4.79702...   \n",
       "\n",
       "                            val_categorical_accuracy  \\\n",
       "0  [0.018168604001402855, 0.05741279199719429, 0....   \n",
       "1  [0.014171511866152287, 0.032340116798877716, 0...   \n",
       "\n",
       "                                  val_top_3_accuracy  \\\n",
       "0  [0.039244186133146286, 0.13372093439102173, 0....   \n",
       "1  [0.03815406933426857, 0.08430232852697372, 0.1...   \n",
       "\n",
       "                                  val_top_5_accuracy  \\\n",
       "0  [0.0625, 0.19040697813034058, 0.31213662028312...   \n",
       "1  [0.053415697067976, 0.13299418985843658, 0.181...   \n",
       "\n",
       "                                                  lr  \\\n",
       "0  [0.001, 0.001, 0.001, 0.001, 0.001, 0.001, 0.0...   \n",
       "1  [0.001, 0.001, 0.001, 0.001, 0.001, 0.001, 0.0...   \n",
       "\n",
       "                             runid       data_subset  \n",
       "0  birdsongs_2_1618101588_9cdc9314  kaggle_10sec_wav  \n",
       "1  birdsongs_2_1618101601_6c54df25  kaggle_10sec_wav  "
      ]
     },
     "execution_count": 82,
     "metadata": {},
     "output_type": "execute_result"
    }
   ],
   "source": [
    "# get run metrics from save file\n",
    "run_metrics = []\n",
    "for idx, row in df_complete.iterrows():    \n",
    "    file = os.path.join(OUT_DIR, f'{row.model_name}-{idx}' + '.history')\n",
    "    with open(file, 'rb') as f:\n",
    "        metric = pickle.load(f)\n",
    "        metric['runid'] = idx\n",
    "        metric['data_subset'] = row['data_subset']\n",
    "    run_metrics.append(metric)\n",
    "run_metrics = pd.DataFrame(run_metrics)\n",
    "run_metrics.head(2)"
   ]
  },
  {
   "cell_type": "markdown",
   "id": "personalized-stations",
   "metadata": {},
   "source": [
    "### Test metrics"
   ]
  },
  {
   "cell_type": "code",
   "execution_count": 83,
   "id": "congressional-mambo",
   "metadata": {},
   "outputs": [
    {
     "data": {
      "text/html": [
       "<div>\n",
       "<style scoped>\n",
       "    .dataframe tbody tr th:only-of-type {\n",
       "        vertical-align: middle;\n",
       "    }\n",
       "\n",
       "    .dataframe tbody tr th {\n",
       "        vertical-align: top;\n",
       "    }\n",
       "\n",
       "    .dataframe thead th {\n",
       "        text-align: right;\n",
       "    }\n",
       "</style>\n",
       "<table border=\"1\" class=\"dataframe\">\n",
       "  <thead>\n",
       "    <tr style=\"text-align: right;\">\n",
       "      <th></th>\n",
       "      <th>test_categorical_accuracy</th>\n",
       "      <th>test_top_3_accuracy</th>\n",
       "      <th>test_top_5_accuracy</th>\n",
       "      <th>runid</th>\n",
       "      <th>model_name</th>\n",
       "    </tr>\n",
       "  </thead>\n",
       "  <tbody>\n",
       "    <tr>\n",
       "      <th>0</th>\n",
       "      <td>0.324375</td>\n",
       "      <td>0.493437</td>\n",
       "      <td>0.572500</td>\n",
       "      <td>birdsongs_2_1618101588_9cdc9314</td>\n",
       "      <td>cnn1_audin_nmel_1</td>\n",
       "    </tr>\n",
       "    <tr>\n",
       "      <th>1</th>\n",
       "      <td>0.283125</td>\n",
       "      <td>0.454062</td>\n",
       "      <td>0.540625</td>\n",
       "      <td>birdsongs_2_1618101601_6c54df25</td>\n",
       "      <td>cnn1_audin_nmel_2</td>\n",
       "    </tr>\n",
       "    <tr>\n",
       "      <th>2</th>\n",
       "      <td>0.304688</td>\n",
       "      <td>0.480000</td>\n",
       "      <td>0.573750</td>\n",
       "      <td>birdsongs_2_1618101679_621085b4</td>\n",
       "      <td>cnn1_audin_nmel_dcbl_1</td>\n",
       "    </tr>\n",
       "  </tbody>\n",
       "</table>\n",
       "</div>"
      ],
      "text/plain": [
       "   test_categorical_accuracy  test_top_3_accuracy  test_top_5_accuracy  \\\n",
       "0                   0.324375             0.493437             0.572500   \n",
       "1                   0.283125             0.454062             0.540625   \n",
       "2                   0.304688             0.480000             0.573750   \n",
       "\n",
       "                             runid              model_name  \n",
       "0  birdsongs_2_1618101588_9cdc9314       cnn1_audin_nmel_1  \n",
       "1  birdsongs_2_1618101601_6c54df25       cnn1_audin_nmel_2  \n",
       "2  birdsongs_2_1618101679_621085b4  cnn1_audin_nmel_dcbl_1  "
      ]
     },
     "execution_count": 83,
     "metadata": {},
     "output_type": "execute_result"
    }
   ],
   "source": [
    "# get test metrics from saved test metrics\n",
    "test_metrics = []\n",
    "for idx, row in df_complete.iterrows():    \n",
    "    file = os.path.join(OUT_DIR, f'{row.model_name}-{idx}-test_metrics.plk')\n",
    "    with open(file, 'rb') as f:\n",
    "        metric = pickle.load(f)\n",
    "    metric['runid'] = idx\n",
    "    metric['model_name'] = row.model_name\n",
    "    test_metrics.append(metric)\n",
    "test_metrics = pd.DataFrame(test_metrics)\n",
    "test_metrics.head(3)"
   ]
  },
  {
   "cell_type": "markdown",
   "id": "divided-dominant",
   "metadata": {},
   "source": [
    "### Join into a single DataFrame\n",
    "This DataFrame will be used here for visualizations and in the project dashboard."
   ]
  },
  {
   "cell_type": "code",
   "execution_count": 84,
   "id": "further-forest",
   "metadata": {},
   "outputs": [
    {
     "data": {
      "text/html": [
       "<div>\n",
       "<style scoped>\n",
       "    .dataframe tbody tr th:only-of-type {\n",
       "        vertical-align: middle;\n",
       "    }\n",
       "\n",
       "    .dataframe tbody tr th {\n",
       "        vertical-align: top;\n",
       "    }\n",
       "\n",
       "    .dataframe thead th {\n",
       "        text-align: right;\n",
       "    }\n",
       "</style>\n",
       "<table border=\"1\" class=\"dataframe\">\n",
       "  <thead>\n",
       "    <tr style=\"text-align: right;\">\n",
       "      <th></th>\n",
       "      <th>loss</th>\n",
       "      <th>categorical_accuracy</th>\n",
       "      <th>top_3_accuracy</th>\n",
       "      <th>top_5_accuracy</th>\n",
       "      <th>val_loss</th>\n",
       "      <th>val_categorical_accuracy</th>\n",
       "      <th>val_top_3_accuracy</th>\n",
       "      <th>val_top_5_accuracy</th>\n",
       "      <th>lr</th>\n",
       "      <th>data_subset</th>\n",
       "      <th>test_categorical_accuracy</th>\n",
       "      <th>test_top_3_accuracy</th>\n",
       "      <th>test_top_5_accuracy</th>\n",
       "      <th>model_name</th>\n",
       "    </tr>\n",
       "    <tr>\n",
       "      <th>runid</th>\n",
       "      <th></th>\n",
       "      <th></th>\n",
       "      <th></th>\n",
       "      <th></th>\n",
       "      <th></th>\n",
       "      <th></th>\n",
       "      <th></th>\n",
       "      <th></th>\n",
       "      <th></th>\n",
       "      <th></th>\n",
       "      <th></th>\n",
       "      <th></th>\n",
       "      <th></th>\n",
       "      <th></th>\n",
       "    </tr>\n",
       "  </thead>\n",
       "  <tbody>\n",
       "    <tr>\n",
       "      <th>birdsongs_2_1618101588_9cdc9314</th>\n",
       "      <td>[5.553964614868164, 5.017866134643555, 4.44454...</td>\n",
       "      <td>[0.008900728076696396, 0.03586278483271599, 0....</td>\n",
       "      <td>[0.027676714584231377, 0.08666840195655823, 0....</td>\n",
       "      <td>[0.04320426285266876, 0.12649428844451904, 0.2...</td>\n",
       "      <td>[5.344659805297852, 4.781640529632568, 4.24124...</td>\n",
       "      <td>[0.018168604001402855, 0.05741279199719429, 0....</td>\n",
       "      <td>[0.039244186133146286, 0.13372093439102173, 0....</td>\n",
       "      <td>[0.0625, 0.19040697813034058, 0.31213662028312...</td>\n",
       "      <td>[0.001, 0.001, 0.001, 0.001, 0.001, 0.001, 0.0...</td>\n",
       "      <td>kaggle_10sec_wav</td>\n",
       "      <td>0.324375</td>\n",
       "      <td>0.493437</td>\n",
       "      <td>0.572500</td>\n",
       "      <td>cnn1_audin_nmel_1</td>\n",
       "    </tr>\n",
       "    <tr>\n",
       "      <th>birdsongs_2_1618101601_6c54df25</th>\n",
       "      <td>[5.668341159820557, 5.208738803863525, 4.79221...</td>\n",
       "      <td>[0.007276507094502449, 0.02507796324789524, 0....</td>\n",
       "      <td>[0.02176455222070217, 0.06477390974760056, 0.1...</td>\n",
       "      <td>[0.03436850383877754, 0.0953742191195488, 0.17...</td>\n",
       "      <td>[5.413963317871094, 5.012693405151367, 4.79702...</td>\n",
       "      <td>[0.014171511866152287, 0.032340116798877716, 0...</td>\n",
       "      <td>[0.03815406933426857, 0.08430232852697372, 0.1...</td>\n",
       "      <td>[0.053415697067976, 0.13299418985843658, 0.181...</td>\n",
       "      <td>[0.001, 0.001, 0.001, 0.001, 0.001, 0.001, 0.0...</td>\n",
       "      <td>kaggle_10sec_wav</td>\n",
       "      <td>0.283125</td>\n",
       "      <td>0.454062</td>\n",
       "      <td>0.540625</td>\n",
       "      <td>cnn1_audin_nmel_2</td>\n",
       "    </tr>\n",
       "  </tbody>\n",
       "</table>\n",
       "</div>"
      ],
      "text/plain": [
       "                                                                              loss  \\\n",
       "runid                                                                                \n",
       "birdsongs_2_1618101588_9cdc9314  [5.553964614868164, 5.017866134643555, 4.44454...   \n",
       "birdsongs_2_1618101601_6c54df25  [5.668341159820557, 5.208738803863525, 4.79221...   \n",
       "\n",
       "                                                              categorical_accuracy  \\\n",
       "runid                                                                                \n",
       "birdsongs_2_1618101588_9cdc9314  [0.008900728076696396, 0.03586278483271599, 0....   \n",
       "birdsongs_2_1618101601_6c54df25  [0.007276507094502449, 0.02507796324789524, 0....   \n",
       "\n",
       "                                                                    top_3_accuracy  \\\n",
       "runid                                                                                \n",
       "birdsongs_2_1618101588_9cdc9314  [0.027676714584231377, 0.08666840195655823, 0....   \n",
       "birdsongs_2_1618101601_6c54df25  [0.02176455222070217, 0.06477390974760056, 0.1...   \n",
       "\n",
       "                                                                    top_5_accuracy  \\\n",
       "runid                                                                                \n",
       "birdsongs_2_1618101588_9cdc9314  [0.04320426285266876, 0.12649428844451904, 0.2...   \n",
       "birdsongs_2_1618101601_6c54df25  [0.03436850383877754, 0.0953742191195488, 0.17...   \n",
       "\n",
       "                                                                          val_loss  \\\n",
       "runid                                                                                \n",
       "birdsongs_2_1618101588_9cdc9314  [5.344659805297852, 4.781640529632568, 4.24124...   \n",
       "birdsongs_2_1618101601_6c54df25  [5.413963317871094, 5.012693405151367, 4.79702...   \n",
       "\n",
       "                                                          val_categorical_accuracy  \\\n",
       "runid                                                                                \n",
       "birdsongs_2_1618101588_9cdc9314  [0.018168604001402855, 0.05741279199719429, 0....   \n",
       "birdsongs_2_1618101601_6c54df25  [0.014171511866152287, 0.032340116798877716, 0...   \n",
       "\n",
       "                                                                val_top_3_accuracy  \\\n",
       "runid                                                                                \n",
       "birdsongs_2_1618101588_9cdc9314  [0.039244186133146286, 0.13372093439102173, 0....   \n",
       "birdsongs_2_1618101601_6c54df25  [0.03815406933426857, 0.08430232852697372, 0.1...   \n",
       "\n",
       "                                                                val_top_5_accuracy  \\\n",
       "runid                                                                                \n",
       "birdsongs_2_1618101588_9cdc9314  [0.0625, 0.19040697813034058, 0.31213662028312...   \n",
       "birdsongs_2_1618101601_6c54df25  [0.053415697067976, 0.13299418985843658, 0.181...   \n",
       "\n",
       "                                                                                lr  \\\n",
       "runid                                                                                \n",
       "birdsongs_2_1618101588_9cdc9314  [0.001, 0.001, 0.001, 0.001, 0.001, 0.001, 0.0...   \n",
       "birdsongs_2_1618101601_6c54df25  [0.001, 0.001, 0.001, 0.001, 0.001, 0.001, 0.0...   \n",
       "\n",
       "                                      data_subset  test_categorical_accuracy  \\\n",
       "runid                                                                          \n",
       "birdsongs_2_1618101588_9cdc9314  kaggle_10sec_wav                   0.324375   \n",
       "birdsongs_2_1618101601_6c54df25  kaggle_10sec_wav                   0.283125   \n",
       "\n",
       "                                 test_top_3_accuracy  test_top_5_accuracy  \\\n",
       "runid                                                                       \n",
       "birdsongs_2_1618101588_9cdc9314             0.493437             0.572500   \n",
       "birdsongs_2_1618101601_6c54df25             0.454062             0.540625   \n",
       "\n",
       "                                        model_name  \n",
       "runid                                               \n",
       "birdsongs_2_1618101588_9cdc9314  cnn1_audin_nmel_1  \n",
       "birdsongs_2_1618101601_6c54df25  cnn1_audin_nmel_2  "
      ]
     },
     "execution_count": 84,
     "metadata": {},
     "output_type": "execute_result"
    }
   ],
   "source": [
    "df_metrics = run_metrics.set_index('runid').join(test_metrics.set_index('runid'))\n",
    "df_metrics.head(2)"
   ]
  },
  {
   "cell_type": "code",
   "execution_count": 85,
   "id": "satisfactory-faculty",
   "metadata": {},
   "outputs": [],
   "source": [
    "# save this file for use in the dashboard\n",
    "df_metrics.to_pickle('df_metrics.pkl')"
   ]
  },
  {
   "cell_type": "markdown",
   "id": "preliminary-endorsement",
   "metadata": {},
   "source": [
    "## Plot model test performance"
   ]
  },
  {
   "cell_type": "code",
   "execution_count": 134,
   "id": "expanded-anaheim",
   "metadata": {},
   "outputs": [
    {
     "data": {
      "text/html": [
       "<div>\n",
       "<style scoped>\n",
       "    .dataframe tbody tr th:only-of-type {\n",
       "        vertical-align: middle;\n",
       "    }\n",
       "\n",
       "    .dataframe tbody tr th {\n",
       "        vertical-align: top;\n",
       "    }\n",
       "\n",
       "    .dataframe thead th {\n",
       "        text-align: right;\n",
       "    }\n",
       "</style>\n",
       "<table border=\"1\" class=\"dataframe\">\n",
       "  <thead>\n",
       "    <tr style=\"text-align: right;\">\n",
       "      <th></th>\n",
       "      <th>loss</th>\n",
       "      <th>categorical_accuracy</th>\n",
       "      <th>top_3_accuracy</th>\n",
       "      <th>top_5_accuracy</th>\n",
       "      <th>val_loss</th>\n",
       "      <th>val_categorical_accuracy</th>\n",
       "      <th>val_top_3_accuracy</th>\n",
       "      <th>val_top_5_accuracy</th>\n",
       "      <th>lr</th>\n",
       "      <th>data_subset</th>\n",
       "      <th>test_categorical_accuracy</th>\n",
       "      <th>test_top_3_accuracy</th>\n",
       "      <th>test_top_5_accuracy</th>\n",
       "      <th>model_name</th>\n",
       "      <th>model</th>\n",
       "      <th>model_num</th>\n",
       "      <th>model_num_text</th>\n",
       "    </tr>\n",
       "    <tr>\n",
       "      <th>runid</th>\n",
       "      <th></th>\n",
       "      <th></th>\n",
       "      <th></th>\n",
       "      <th></th>\n",
       "      <th></th>\n",
       "      <th></th>\n",
       "      <th></th>\n",
       "      <th></th>\n",
       "      <th></th>\n",
       "      <th></th>\n",
       "      <th></th>\n",
       "      <th></th>\n",
       "      <th></th>\n",
       "      <th></th>\n",
       "      <th></th>\n",
       "      <th></th>\n",
       "      <th></th>\n",
       "    </tr>\n",
       "  </thead>\n",
       "  <tbody>\n",
       "    <tr>\n",
       "      <th>birdsongs_2_1618101588_9cdc9314</th>\n",
       "      <td>[5.553964614868164, 5.017866134643555, 4.44454...</td>\n",
       "      <td>[0.008900728076696396, 0.03586278483271599, 0....</td>\n",
       "      <td>[0.027676714584231377, 0.08666840195655823, 0....</td>\n",
       "      <td>[0.04320426285266876, 0.12649428844451904, 0.2...</td>\n",
       "      <td>[5.344659805297852, 4.781640529632568, 4.24124...</td>\n",
       "      <td>[0.018168604001402855, 0.05741279199719429, 0....</td>\n",
       "      <td>[0.039244186133146286, 0.13372093439102173, 0....</td>\n",
       "      <td>[0.0625, 0.19040697813034058, 0.31213662028312...</td>\n",
       "      <td>[0.001, 0.001, 0.001, 0.001, 0.001, 0.001, 0.0...</td>\n",
       "      <td>kaggle_10sec_wav</td>\n",
       "      <td>0.324375</td>\n",
       "      <td>0.493437</td>\n",
       "      <td>0.572500</td>\n",
       "      <td>cnn1_audin_nmel_1</td>\n",
       "      <td>cnn1_audin_nmel_1&lt;br&gt;kaggle_10sec_wav</td>\n",
       "      <td>1</td>\n",
       "      <td>Model #1</td>\n",
       "    </tr>\n",
       "    <tr>\n",
       "      <th>birdsongs_2_1618101601_6c54df25</th>\n",
       "      <td>[5.668341159820557, 5.208738803863525, 4.79221...</td>\n",
       "      <td>[0.007276507094502449, 0.02507796324789524, 0....</td>\n",
       "      <td>[0.02176455222070217, 0.06477390974760056, 0.1...</td>\n",
       "      <td>[0.03436850383877754, 0.0953742191195488, 0.17...</td>\n",
       "      <td>[5.413963317871094, 5.012693405151367, 4.79702...</td>\n",
       "      <td>[0.014171511866152287, 0.032340116798877716, 0...</td>\n",
       "      <td>[0.03815406933426857, 0.08430232852697372, 0.1...</td>\n",
       "      <td>[0.053415697067976, 0.13299418985843658, 0.181...</td>\n",
       "      <td>[0.001, 0.001, 0.001, 0.001, 0.001, 0.001, 0.0...</td>\n",
       "      <td>kaggle_10sec_wav</td>\n",
       "      <td>0.283125</td>\n",
       "      <td>0.454062</td>\n",
       "      <td>0.540625</td>\n",
       "      <td>cnn1_audin_nmel_2</td>\n",
       "      <td>cnn1_audin_nmel_2&lt;br&gt;kaggle_10sec_wav</td>\n",
       "      <td>2</td>\n",
       "      <td>Model #2</td>\n",
       "    </tr>\n",
       "    <tr>\n",
       "      <th>birdsongs_2_1618101679_621085b4</th>\n",
       "      <td>[5.546006202697754, 5.219290256500244, 4.70500...</td>\n",
       "      <td>[0.00513253640383482, 0.01396829541772604, 0.0...</td>\n",
       "      <td>[0.015007796697318554, 0.038916319608688354, 0...</td>\n",
       "      <td>[0.0257276501506567, 0.0641242191195488, 0.169...</td>\n",
       "      <td>[5.376589775085449, 4.9785356521606445, 4.3890...</td>\n",
       "      <td>[0.014171511866152287, 0.024709302932024002, 0...</td>\n",
       "      <td>[0.030159883201122284, 0.06758721172809601, 0....</td>\n",
       "      <td>[0.04832848906517029, 0.10901162773370743, 0.2...</td>\n",
       "      <td>[0.001, 0.001, 0.001, 0.001, 0.001, 0.001, 0.0...</td>\n",
       "      <td>kaggle_10sec_wav</td>\n",
       "      <td>0.304688</td>\n",
       "      <td>0.480000</td>\n",
       "      <td>0.573750</td>\n",
       "      <td>cnn1_audin_nmel_dcbl_1</td>\n",
       "      <td>cnn1_audin_nmel_dcbl_1&lt;br&gt;kaggle_10sec_wav</td>\n",
       "      <td>3</td>\n",
       "      <td>Model #3</td>\n",
       "    </tr>\n",
       "  </tbody>\n",
       "</table>\n",
       "</div>"
      ],
      "text/plain": [
       "                                                                              loss  \\\n",
       "runid                                                                                \n",
       "birdsongs_2_1618101588_9cdc9314  [5.553964614868164, 5.017866134643555, 4.44454...   \n",
       "birdsongs_2_1618101601_6c54df25  [5.668341159820557, 5.208738803863525, 4.79221...   \n",
       "birdsongs_2_1618101679_621085b4  [5.546006202697754, 5.219290256500244, 4.70500...   \n",
       "\n",
       "                                                              categorical_accuracy  \\\n",
       "runid                                                                                \n",
       "birdsongs_2_1618101588_9cdc9314  [0.008900728076696396, 0.03586278483271599, 0....   \n",
       "birdsongs_2_1618101601_6c54df25  [0.007276507094502449, 0.02507796324789524, 0....   \n",
       "birdsongs_2_1618101679_621085b4  [0.00513253640383482, 0.01396829541772604, 0.0...   \n",
       "\n",
       "                                                                    top_3_accuracy  \\\n",
       "runid                                                                                \n",
       "birdsongs_2_1618101588_9cdc9314  [0.027676714584231377, 0.08666840195655823, 0....   \n",
       "birdsongs_2_1618101601_6c54df25  [0.02176455222070217, 0.06477390974760056, 0.1...   \n",
       "birdsongs_2_1618101679_621085b4  [0.015007796697318554, 0.038916319608688354, 0...   \n",
       "\n",
       "                                                                    top_5_accuracy  \\\n",
       "runid                                                                                \n",
       "birdsongs_2_1618101588_9cdc9314  [0.04320426285266876, 0.12649428844451904, 0.2...   \n",
       "birdsongs_2_1618101601_6c54df25  [0.03436850383877754, 0.0953742191195488, 0.17...   \n",
       "birdsongs_2_1618101679_621085b4  [0.0257276501506567, 0.0641242191195488, 0.169...   \n",
       "\n",
       "                                                                          val_loss  \\\n",
       "runid                                                                                \n",
       "birdsongs_2_1618101588_9cdc9314  [5.344659805297852, 4.781640529632568, 4.24124...   \n",
       "birdsongs_2_1618101601_6c54df25  [5.413963317871094, 5.012693405151367, 4.79702...   \n",
       "birdsongs_2_1618101679_621085b4  [5.376589775085449, 4.9785356521606445, 4.3890...   \n",
       "\n",
       "                                                          val_categorical_accuracy  \\\n",
       "runid                                                                                \n",
       "birdsongs_2_1618101588_9cdc9314  [0.018168604001402855, 0.05741279199719429, 0....   \n",
       "birdsongs_2_1618101601_6c54df25  [0.014171511866152287, 0.032340116798877716, 0...   \n",
       "birdsongs_2_1618101679_621085b4  [0.014171511866152287, 0.024709302932024002, 0...   \n",
       "\n",
       "                                                                val_top_3_accuracy  \\\n",
       "runid                                                                                \n",
       "birdsongs_2_1618101588_9cdc9314  [0.039244186133146286, 0.13372093439102173, 0....   \n",
       "birdsongs_2_1618101601_6c54df25  [0.03815406933426857, 0.08430232852697372, 0.1...   \n",
       "birdsongs_2_1618101679_621085b4  [0.030159883201122284, 0.06758721172809601, 0....   \n",
       "\n",
       "                                                                val_top_5_accuracy  \\\n",
       "runid                                                                                \n",
       "birdsongs_2_1618101588_9cdc9314  [0.0625, 0.19040697813034058, 0.31213662028312...   \n",
       "birdsongs_2_1618101601_6c54df25  [0.053415697067976, 0.13299418985843658, 0.181...   \n",
       "birdsongs_2_1618101679_621085b4  [0.04832848906517029, 0.10901162773370743, 0.2...   \n",
       "\n",
       "                                                                                lr  \\\n",
       "runid                                                                                \n",
       "birdsongs_2_1618101588_9cdc9314  [0.001, 0.001, 0.001, 0.001, 0.001, 0.001, 0.0...   \n",
       "birdsongs_2_1618101601_6c54df25  [0.001, 0.001, 0.001, 0.001, 0.001, 0.001, 0.0...   \n",
       "birdsongs_2_1618101679_621085b4  [0.001, 0.001, 0.001, 0.001, 0.001, 0.001, 0.0...   \n",
       "\n",
       "                                      data_subset  test_categorical_accuracy  \\\n",
       "runid                                                                          \n",
       "birdsongs_2_1618101588_9cdc9314  kaggle_10sec_wav                   0.324375   \n",
       "birdsongs_2_1618101601_6c54df25  kaggle_10sec_wav                   0.283125   \n",
       "birdsongs_2_1618101679_621085b4  kaggle_10sec_wav                   0.304688   \n",
       "\n",
       "                                 test_top_3_accuracy  test_top_5_accuracy  \\\n",
       "runid                                                                       \n",
       "birdsongs_2_1618101588_9cdc9314             0.493437             0.572500   \n",
       "birdsongs_2_1618101601_6c54df25             0.454062             0.540625   \n",
       "birdsongs_2_1618101679_621085b4             0.480000             0.573750   \n",
       "\n",
       "                                             model_name  \\\n",
       "runid                                                     \n",
       "birdsongs_2_1618101588_9cdc9314       cnn1_audin_nmel_1   \n",
       "birdsongs_2_1618101601_6c54df25       cnn1_audin_nmel_2   \n",
       "birdsongs_2_1618101679_621085b4  cnn1_audin_nmel_dcbl_1   \n",
       "\n",
       "                                                                      model  \\\n",
       "runid                                                                         \n",
       "birdsongs_2_1618101588_9cdc9314       cnn1_audin_nmel_1<br>kaggle_10sec_wav   \n",
       "birdsongs_2_1618101601_6c54df25       cnn1_audin_nmel_2<br>kaggle_10sec_wav   \n",
       "birdsongs_2_1618101679_621085b4  cnn1_audin_nmel_dcbl_1<br>kaggle_10sec_wav   \n",
       "\n",
       "                                 model_num model_num_text  \n",
       "runid                                                      \n",
       "birdsongs_2_1618101588_9cdc9314          1       Model #1  \n",
       "birdsongs_2_1618101601_6c54df25          2       Model #2  \n",
       "birdsongs_2_1618101679_621085b4          3       Model #3  "
      ]
     },
     "execution_count": 134,
     "metadata": {},
     "output_type": "execute_result"
    }
   ],
   "source": [
    "# combine model name and Data Subset\n",
    "df_plot = df_metrics.copy()\n",
    "df_plot['model'] = df_plot['model_name'] + '<br>' + df_plot['data_subset']\n",
    "df_plot['model_num'] = range(1, len(df_plot) + 1)\n",
    "df_plot['model_num_text'] = 'Model #' + df_plot['model_num'].astype('str')\n",
    "df_plot.head(3)"
   ]
  },
  {
   "cell_type": "code",
   "execution_count": 135,
   "id": "buried-township",
   "metadata": {},
   "outputs": [
    {
     "data": {
      "text/html": [
       "<div>\n",
       "<style scoped>\n",
       "    .dataframe tbody tr th:only-of-type {\n",
       "        vertical-align: middle;\n",
       "    }\n",
       "\n",
       "    .dataframe tbody tr th {\n",
       "        vertical-align: top;\n",
       "    }\n",
       "\n",
       "    .dataframe thead th {\n",
       "        text-align: right;\n",
       "    }\n",
       "</style>\n",
       "<table border=\"1\" class=\"dataframe\">\n",
       "  <thead>\n",
       "    <tr style=\"text-align: right;\">\n",
       "      <th></th>\n",
       "      <th>model_name</th>\n",
       "      <th>data_subset</th>\n",
       "      <th>model_num_text</th>\n",
       "      <th>test_categorical_accuracy</th>\n",
       "      <th>test_top_3_accuracy</th>\n",
       "      <th>test_top_5_accuracy</th>\n",
       "    </tr>\n",
       "    <tr>\n",
       "      <th>runid</th>\n",
       "      <th></th>\n",
       "      <th></th>\n",
       "      <th></th>\n",
       "      <th></th>\n",
       "      <th></th>\n",
       "      <th></th>\n",
       "    </tr>\n",
       "  </thead>\n",
       "  <tbody>\n",
       "    <tr>\n",
       "      <th>birdsongs_2_1618101588_9cdc9314</th>\n",
       "      <td>cnn1_audin_nmel_1</td>\n",
       "      <td>kaggle_10sec_wav</td>\n",
       "      <td>Model #1</td>\n",
       "      <td>0.324375</td>\n",
       "      <td>0.493437</td>\n",
       "      <td>0.572500</td>\n",
       "    </tr>\n",
       "    <tr>\n",
       "      <th>birdsongs_2_1618101601_6c54df25</th>\n",
       "      <td>cnn1_audin_nmel_2</td>\n",
       "      <td>kaggle_10sec_wav</td>\n",
       "      <td>Model #2</td>\n",
       "      <td>0.283125</td>\n",
       "      <td>0.454062</td>\n",
       "      <td>0.540625</td>\n",
       "    </tr>\n",
       "    <tr>\n",
       "      <th>birdsongs_2_1618101679_621085b4</th>\n",
       "      <td>cnn1_audin_nmel_dcbl_1</td>\n",
       "      <td>kaggle_10sec_wav</td>\n",
       "      <td>Model #3</td>\n",
       "      <td>0.304688</td>\n",
       "      <td>0.480000</td>\n",
       "      <td>0.573750</td>\n",
       "    </tr>\n",
       "  </tbody>\n",
       "</table>\n",
       "</div>"
      ],
      "text/plain": [
       "                                             model_name       data_subset  \\\n",
       "runid                                                                       \n",
       "birdsongs_2_1618101588_9cdc9314       cnn1_audin_nmel_1  kaggle_10sec_wav   \n",
       "birdsongs_2_1618101601_6c54df25       cnn1_audin_nmel_2  kaggle_10sec_wav   \n",
       "birdsongs_2_1618101679_621085b4  cnn1_audin_nmel_dcbl_1  kaggle_10sec_wav   \n",
       "\n",
       "                                model_num_text  test_categorical_accuracy  \\\n",
       "runid                                                                       \n",
       "birdsongs_2_1618101588_9cdc9314       Model #1                   0.324375   \n",
       "birdsongs_2_1618101601_6c54df25       Model #2                   0.283125   \n",
       "birdsongs_2_1618101679_621085b4       Model #3                   0.304688   \n",
       "\n",
       "                                 test_top_3_accuracy  test_top_5_accuracy  \n",
       "runid                                                                      \n",
       "birdsongs_2_1618101588_9cdc9314             0.493437             0.572500  \n",
       "birdsongs_2_1618101601_6c54df25             0.454062             0.540625  \n",
       "birdsongs_2_1618101679_621085b4             0.480000             0.573750  "
      ]
     },
     "execution_count": 135,
     "metadata": {},
     "output_type": "execute_result"
    }
   ],
   "source": [
    "# create DataFrame with only columns we need for plot\n",
    "df_plot = df_plot[['model_name',\n",
    "                   'data_subset',\n",
    "                   'model_num_text',\n",
    "                   'test_categorical_accuracy', \n",
    "                   'test_top_3_accuracy', \n",
    "                   'test_top_5_accuracy']]\n",
    "df_plot.head(3)"
   ]
  },
  {
   "cell_type": "code",
   "execution_count": 137,
   "id": "ideal-firmware",
   "metadata": {},
   "outputs": [
    {
     "data": {
      "text/html": [
       "<div>\n",
       "<style scoped>\n",
       "    .dataframe tbody tr th:only-of-type {\n",
       "        vertical-align: middle;\n",
       "    }\n",
       "\n",
       "    .dataframe tbody tr th {\n",
       "        vertical-align: top;\n",
       "    }\n",
       "\n",
       "    .dataframe thead th {\n",
       "        text-align: right;\n",
       "    }\n",
       "</style>\n",
       "<table border=\"1\" class=\"dataframe\">\n",
       "  <thead>\n",
       "    <tr style=\"text-align: right;\">\n",
       "      <th></th>\n",
       "      <th>Model Name</th>\n",
       "      <th>Data</th>\n",
       "      <th>Model No.</th>\n",
       "      <th>Accuracy Metric</th>\n",
       "      <th>Accuracy</th>\n",
       "    </tr>\n",
       "  </thead>\n",
       "  <tbody>\n",
       "    <tr>\n",
       "      <th>0</th>\n",
       "      <td>cnn1_audin_nmel_1</td>\n",
       "      <td>kaggle_10sec_wav</td>\n",
       "      <td>Model #1</td>\n",
       "      <td>Categorical Accuracy</td>\n",
       "      <td>0.324375</td>\n",
       "    </tr>\n",
       "    <tr>\n",
       "      <th>1</th>\n",
       "      <td>cnn1_audin_nmel_2</td>\n",
       "      <td>kaggle_10sec_wav</td>\n",
       "      <td>Model #2</td>\n",
       "      <td>Categorical Accuracy</td>\n",
       "      <td>0.283125</td>\n",
       "    </tr>\n",
       "    <tr>\n",
       "      <th>2</th>\n",
       "      <td>cnn1_audin_nmel_dcbl_1</td>\n",
       "      <td>kaggle_10sec_wav</td>\n",
       "      <td>Model #3</td>\n",
       "      <td>Categorical Accuracy</td>\n",
       "      <td>0.304688</td>\n",
       "    </tr>\n",
       "    <tr>\n",
       "      <th>3</th>\n",
       "      <td>cnn1_audin_nmel_dcbl_2</td>\n",
       "      <td>kaggle_10sec_wav</td>\n",
       "      <td>Model #4</td>\n",
       "      <td>Categorical Accuracy</td>\n",
       "      <td>0.268750</td>\n",
       "    </tr>\n",
       "    <tr>\n",
       "      <th>4</th>\n",
       "      <td>cnn1_audin_nffthl_1</td>\n",
       "      <td>kaggle_10sec_wav</td>\n",
       "      <td>Model #5</td>\n",
       "      <td>Categorical Accuracy</td>\n",
       "      <td>0.302500</td>\n",
       "    </tr>\n",
       "  </tbody>\n",
       "</table>\n",
       "</div>"
      ],
      "text/plain": [
       "               Model Name              Data Model No.       Accuracy Metric  \\\n",
       "0       cnn1_audin_nmel_1  kaggle_10sec_wav  Model #1  Categorical Accuracy   \n",
       "1       cnn1_audin_nmel_2  kaggle_10sec_wav  Model #2  Categorical Accuracy   \n",
       "2  cnn1_audin_nmel_dcbl_1  kaggle_10sec_wav  Model #3  Categorical Accuracy   \n",
       "3  cnn1_audin_nmel_dcbl_2  kaggle_10sec_wav  Model #4  Categorical Accuracy   \n",
       "4     cnn1_audin_nffthl_1  kaggle_10sec_wav  Model #5  Categorical Accuracy   \n",
       "\n",
       "   Accuracy  \n",
       "0  0.324375  \n",
       "1  0.283125  \n",
       "2  0.304688  \n",
       "3  0.268750  \n",
       "4  0.302500  "
      ]
     },
     "execution_count": 137,
     "metadata": {},
     "output_type": "execute_result"
    }
   ],
   "source": [
    "# rename columns for plot\n",
    "df_plot.columns = ['Model Name',\n",
    "                   'Data',\n",
    "                   'Model No.',\n",
    "                   'Categorical Accuracy',\n",
    "                   'Top 3 Categorical Accuracy',\n",
    "                   'Top 5 Categorical Accuracy']\n",
    "\n",
    "# flatten dataframe for plot\n",
    "df_plot = df_plot.melt(id_vars=['Model Name', 'Data', 'Model No.'],\n",
    "                       var_name='Accuracy Metric',\n",
    "                       value_vars=['Categorical Accuracy', \n",
    "                                      'Top 3 Categorical Accuracy', \n",
    "                                      'Top 5 Categorical Accuracy'],\n",
    "                       value_name='Accuracy')\n",
    "df_plot.head()"
   ]
  },
  {
   "cell_type": "code",
   "execution_count": 152,
   "id": "brown-feeding",
   "metadata": {},
   "outputs": [
    {
     "data": {
      "application/vnd.plotly.v1+json": {
       "config": {
        "plotlyServerURL": "https://plot.ly"
       },
       "data": [
        {
         "alignmentgroup": "True",
         "customdata": [
          [
           "cnn1_audin_l2reg_4",
           "kaggle_10sec_wav"
          ],
          [
           "cnn1_audin_nmel_dcbl_2",
           "kaggle_10sec_wav"
          ],
          [
           "cnn1_audin_nmel_2",
           "kaggle_10sec_wav"
          ],
          [
           "cnn1_audin_freq_1",
           "kaggle_10sec_wav"
          ],
          [
           "cnn1_audin_freq_2",
           "kaggle_10sec_wav"
          ],
          [
           "cnn1_audin_nffthl_2",
           "kaggle_10sec_wav"
          ],
          [
           "cnn1_audin_nffthl_1",
           "kaggle_10sec_wav"
          ],
          [
           "cnn1_audin_nmel_dcbl_1",
           "kaggle_10sec_wav"
          ],
          [
           "cnn1_audin_l2reg_3",
           "kaggle_10sec_wav"
          ],
          [
           "milsed_3block_dense",
           "kaggle_10sec_wav"
          ],
          [
           "cnn1_audin_l2reg_1",
           "kaggle_10sec_wav"
          ],
          [
           "cnn1_audin_drp_4",
           "kaggle_10sec_wav"
          ],
          [
           "cnn1_audin_nmel_1",
           "kaggle_10sec_wav"
          ],
          [
           "cnn1_audin_l2reg_2",
           "kaggle_10sec_wav"
          ],
          [
           "cnn1_audin_drp_3",
           "kaggle_10sec_wav"
          ],
          [
           "milsed_8block_dense",
           "kaggle_10sec_wav"
          ],
          [
           "cnn1_audin_drp_1",
           "kaggle_10sec_wav"
          ],
          [
           "milsed_7block_dense_drp_4",
           "kaggle_10sec_wav"
          ],
          [
           "milsed_4block_dense",
           "kaggle_10sec_wav"
          ],
          [
           "cnn1_audin_drp_2",
           "kaggle_10sec_wav"
          ],
          [
           "milsed_5block_dense",
           "kaggle_10sec_wav"
          ],
          [
           "milsed_6block_dense",
           "kaggle_10sec_wav"
          ],
          [
           "milsed_7block_dense_drp_3",
           "kaggle_10sec_wav"
          ],
          [
           "milsed_7block_dense_drp_2",
           "kaggle_10sec_wav"
          ],
          [
           "milsed_7block_dense",
           "kaggle_full_length_npy_aug_pitch"
          ],
          [
           "milsed_7block_dense_drp_1",
           "kaggle_10sec_wav"
          ],
          [
           "milsed_7block_dense",
           "kaggle_full_length_npy_aug_pitch_stretch"
          ],
          [
           "milsed_7block_dense",
           "kaggle_10sec_wav"
          ],
          [
           "milsed_7block_dense",
           "all_10sec_wav"
          ],
          [
           "milsed_7block_dense",
           "kaggle_full_length_npy_aug_stretch"
          ],
          [
           "milsed_7block_dense",
           "kaggle_full_length_npy_aug"
          ]
         ],
         "hovertemplate": "<b>%{hovertext}</b><br><br>Accuracy Metric=Categorical Accuracy<br>Model No.=%{x}<br>Accuracy=%{y}<br>Model Name=%{customdata[0]}<br>Data=%{customdata[1]}<extra></extra>",
         "hovertext": [
          "Model #12",
          "Model #4",
          "Model #2",
          "Model #7",
          "Model #8",
          "Model #6",
          "Model #5",
          "Model #3",
          "Model #11",
          "Model #17",
          "Model #9",
          "Model #16",
          "Model #1",
          "Model #10",
          "Model #15",
          "Model #22",
          "Model #13",
          "Model #26",
          "Model #18",
          "Model #14",
          "Model #20",
          "Model #19",
          "Model #25",
          "Model #24",
          "Model #29",
          "Model #23",
          "Model #31",
          "Model #21",
          "Model #27",
          "Model #30",
          "Model #28"
         ],
         "legendgroup": "Categorical Accuracy",
         "marker": {
          "color": "#636efa"
         },
         "name": "Categorical Accuracy",
         "offsetgroup": "Categorical Accuracy",
         "orientation": "v",
         "showlegend": true,
         "textposition": "auto",
         "type": "bar",
         "x": [
          "Model #12",
          "Model #4",
          "Model #2",
          "Model #7",
          "Model #8",
          "Model #6",
          "Model #5",
          "Model #3",
          "Model #11",
          "Model #17",
          "Model #9",
          "Model #16",
          "Model #1",
          "Model #10",
          "Model #15",
          "Model #22",
          "Model #13",
          "Model #26",
          "Model #18",
          "Model #14",
          "Model #20",
          "Model #19",
          "Model #25",
          "Model #24",
          "Model #29",
          "Model #23",
          "Model #31",
          "Model #21",
          "Model #27",
          "Model #30",
          "Model #28"
         ],
         "xaxis": "x",
         "y": [
          0.13124999403953552,
          0.26875001192092896,
          0.28312501311302185,
          0.28562501072883606,
          0.3006249964237213,
          0.3009375035762787,
          0.30250000953674316,
          0.3046875,
          0.3059374988079071,
          0.31156250834465027,
          0.32218751311302185,
          0.3228124976158142,
          0.3243750035762787,
          0.3318749964237213,
          0.3478125035762787,
          0.3568750023841858,
          0.37312498688697815,
          0.3734374940395355,
          0.37687501311302185,
          0.38874998688697815,
          0.4037500023841858,
          0.42531248927116394,
          0.44187501072883606,
          0.4975000023841858,
          0.5056250095367432,
          0.5278124809265137,
          0.5365625023841858,
          0.5425000190734863,
          0.557692289352417,
          0.5634375214576721,
          0.6006249785423279
         ],
         "yaxis": "y"
        },
        {
         "alignmentgroup": "True",
         "customdata": [
          [
           "cnn1_audin_l2reg_4",
           "kaggle_10sec_wav"
          ],
          [
           "cnn1_audin_nmel_dcbl_2",
           "kaggle_10sec_wav"
          ],
          [
           "cnn1_audin_freq_1",
           "kaggle_10sec_wav"
          ],
          [
           "cnn1_audin_nmel_2",
           "kaggle_10sec_wav"
          ],
          [
           "cnn1_audin_nffthl_2",
           "kaggle_10sec_wav"
          ],
          [
           "cnn1_audin_freq_2",
           "kaggle_10sec_wav"
          ],
          [
           "cnn1_audin_nffthl_1",
           "kaggle_10sec_wav"
          ],
          [
           "cnn1_audin_l2reg_3",
           "kaggle_10sec_wav"
          ],
          [
           "cnn1_audin_nmel_dcbl_1",
           "kaggle_10sec_wav"
          ],
          [
           "cnn1_audin_nmel_1",
           "kaggle_10sec_wav"
          ],
          [
           "milsed_3block_dense",
           "kaggle_10sec_wav"
          ],
          [
           "cnn1_audin_l2reg_1",
           "kaggle_10sec_wav"
          ],
          [
           "cnn1_audin_drp_4",
           "kaggle_10sec_wav"
          ],
          [
           "cnn1_audin_l2reg_2",
           "kaggle_10sec_wav"
          ],
          [
           "cnn1_audin_drp_3",
           "kaggle_10sec_wav"
          ],
          [
           "cnn1_audin_drp_1",
           "kaggle_10sec_wav"
          ],
          [
           "milsed_7block_dense_drp_4",
           "kaggle_10sec_wav"
          ],
          [
           "cnn1_audin_drp_2",
           "kaggle_10sec_wav"
          ],
          [
           "milsed_8block_dense",
           "kaggle_10sec_wav"
          ],
          [
           "milsed_4block_dense",
           "kaggle_10sec_wav"
          ],
          [
           "milsed_5block_dense",
           "kaggle_10sec_wav"
          ],
          [
           "milsed_6block_dense",
           "kaggle_10sec_wav"
          ],
          [
           "milsed_7block_dense_drp_3",
           "kaggle_10sec_wav"
          ],
          [
           "milsed_7block_dense_drp_2",
           "kaggle_10sec_wav"
          ],
          [
           "milsed_7block_dense",
           "kaggle_full_length_npy_aug_pitch"
          ],
          [
           "milsed_7block_dense",
           "kaggle_full_length_npy_aug_pitch_stretch"
          ],
          [
           "milsed_7block_dense_drp_1",
           "kaggle_10sec_wav"
          ],
          [
           "milsed_7block_dense",
           "kaggle_full_length_npy_aug_stretch"
          ],
          [
           "milsed_7block_dense",
           "kaggle_10sec_wav"
          ],
          [
           "milsed_7block_dense",
           "all_10sec_wav"
          ],
          [
           "milsed_7block_dense",
           "kaggle_full_length_npy_aug"
          ]
         ],
         "hovertemplate": "<b>%{hovertext}</b><br><br>Accuracy Metric=Top 3 Categorical Accuracy<br>Model No.=%{x}<br>Accuracy=%{y}<br>Model Name=%{customdata[0]}<br>Data=%{customdata[1]}<extra></extra>",
         "hovertext": [
          "Model #12",
          "Model #4",
          "Model #7",
          "Model #2",
          "Model #6",
          "Model #8",
          "Model #5",
          "Model #11",
          "Model #3",
          "Model #1",
          "Model #17",
          "Model #9",
          "Model #16",
          "Model #10",
          "Model #15",
          "Model #13",
          "Model #26",
          "Model #14",
          "Model #22",
          "Model #18",
          "Model #20",
          "Model #19",
          "Model #25",
          "Model #24",
          "Model #29",
          "Model #31",
          "Model #23",
          "Model #30",
          "Model #21",
          "Model #27",
          "Model #28"
         ],
         "legendgroup": "Top 3 Categorical Accuracy",
         "marker": {
          "color": "#EF553B"
         },
         "name": "Top 3 Categorical Accuracy",
         "offsetgroup": "Top 3 Categorical Accuracy",
         "orientation": "v",
         "showlegend": true,
         "textposition": "auto",
         "type": "bar",
         "x": [
          "Model #12",
          "Model #4",
          "Model #7",
          "Model #2",
          "Model #6",
          "Model #8",
          "Model #5",
          "Model #11",
          "Model #3",
          "Model #1",
          "Model #17",
          "Model #9",
          "Model #16",
          "Model #10",
          "Model #15",
          "Model #13",
          "Model #26",
          "Model #14",
          "Model #22",
          "Model #18",
          "Model #20",
          "Model #19",
          "Model #25",
          "Model #24",
          "Model #29",
          "Model #31",
          "Model #23",
          "Model #30",
          "Model #21",
          "Model #27",
          "Model #28"
         ],
         "xaxis": "x",
         "y": [
          0.2759374976158142,
          0.44624999165534973,
          0.453125,
          0.45406249165534973,
          0.4690625071525574,
          0.46937501430511475,
          0.4768750071525574,
          0.47999998927116394,
          0.47999998927116394,
          0.4934374988079071,
          0.49531251192092896,
          0.4959374964237213,
          0.5003125071525574,
          0.5006250143051147,
          0.5168750286102295,
          0.5371875166893005,
          0.5434374809265137,
          0.5493749976158142,
          0.5537499785423279,
          0.5550000071525574,
          0.5956249833106995,
          0.6100000143051147,
          0.6146875023841858,
          0.6668750047683716,
          0.6681249737739563,
          0.6912500262260437,
          0.6956250071525574,
          0.7018749713897705,
          0.7021874785423279,
          0.7171109914779663,
          0.7406250238418579
         ],
         "yaxis": "y"
        },
        {
         "alignmentgroup": "True",
         "customdata": [
          [
           "cnn1_audin_l2reg_4",
           "kaggle_10sec_wav"
          ],
          [
           "cnn1_audin_freq_1",
           "kaggle_10sec_wav"
          ],
          [
           "cnn1_audin_nmel_2",
           "kaggle_10sec_wav"
          ],
          [
           "cnn1_audin_nmel_dcbl_2",
           "kaggle_10sec_wav"
          ],
          [
           "cnn1_audin_nffthl_2",
           "kaggle_10sec_wav"
          ],
          [
           "cnn1_audin_freq_2",
           "kaggle_10sec_wav"
          ],
          [
           "cnn1_audin_l2reg_3",
           "kaggle_10sec_wav"
          ],
          [
           "cnn1_audin_nffthl_1",
           "kaggle_10sec_wav"
          ],
          [
           "cnn1_audin_nmel_1",
           "kaggle_10sec_wav"
          ],
          [
           "cnn1_audin_nmel_dcbl_1",
           "kaggle_10sec_wav"
          ],
          [
           "cnn1_audin_drp_4",
           "kaggle_10sec_wav"
          ],
          [
           "cnn1_audin_l2reg_1",
           "kaggle_10sec_wav"
          ],
          [
           "milsed_3block_dense",
           "kaggle_10sec_wav"
          ],
          [
           "cnn1_audin_l2reg_2",
           "kaggle_10sec_wav"
          ],
          [
           "cnn1_audin_drp_3",
           "kaggle_10sec_wav"
          ],
          [
           "cnn1_audin_drp_1",
           "kaggle_10sec_wav"
          ],
          [
           "cnn1_audin_drp_2",
           "kaggle_10sec_wav"
          ],
          [
           "milsed_7block_dense_drp_4",
           "kaggle_10sec_wav"
          ],
          [
           "milsed_8block_dense",
           "kaggle_10sec_wav"
          ],
          [
           "milsed_4block_dense",
           "kaggle_10sec_wav"
          ],
          [
           "milsed_5block_dense",
           "kaggle_10sec_wav"
          ],
          [
           "milsed_6block_dense",
           "kaggle_10sec_wav"
          ],
          [
           "milsed_7block_dense_drp_3",
           "kaggle_10sec_wav"
          ],
          [
           "milsed_7block_dense_drp_2",
           "kaggle_10sec_wav"
          ],
          [
           "milsed_7block_dense",
           "kaggle_full_length_npy_aug_pitch"
          ],
          [
           "milsed_7block_dense_drp_1",
           "kaggle_10sec_wav"
          ],
          [
           "milsed_7block_dense",
           "kaggle_full_length_npy_aug_pitch_stretch"
          ],
          [
           "milsed_7block_dense",
           "kaggle_full_length_npy_aug_stretch"
          ],
          [
           "milsed_7block_dense",
           "kaggle_10sec_wav"
          ],
          [
           "milsed_7block_dense",
           "all_10sec_wav"
          ],
          [
           "milsed_7block_dense",
           "kaggle_full_length_npy_aug"
          ]
         ],
         "hovertemplate": "<b>%{hovertext}</b><br><br>Accuracy Metric=Top 5 Categorical Accuracy<br>Model No.=%{x}<br>Accuracy=%{y}<br>Model Name=%{customdata[0]}<br>Data=%{customdata[1]}<extra></extra>",
         "hovertext": [
          "Model #12",
          "Model #7",
          "Model #2",
          "Model #4",
          "Model #6",
          "Model #8",
          "Model #11",
          "Model #5",
          "Model #1",
          "Model #3",
          "Model #16",
          "Model #9",
          "Model #17",
          "Model #10",
          "Model #15",
          "Model #13",
          "Model #14",
          "Model #26",
          "Model #22",
          "Model #18",
          "Model #20",
          "Model #19",
          "Model #25",
          "Model #24",
          "Model #29",
          "Model #23",
          "Model #31",
          "Model #30",
          "Model #21",
          "Model #27",
          "Model #28"
         ],
         "legendgroup": "Top 5 Categorical Accuracy",
         "marker": {
          "color": "#00cc96"
         },
         "name": "Top 5 Categorical Accuracy",
         "offsetgroup": "Top 5 Categorical Accuracy",
         "orientation": "v",
         "showlegend": true,
         "textposition": "auto",
         "type": "bar",
         "x": [
          "Model #12",
          "Model #7",
          "Model #2",
          "Model #4",
          "Model #6",
          "Model #8",
          "Model #11",
          "Model #5",
          "Model #1",
          "Model #3",
          "Model #16",
          "Model #9",
          "Model #17",
          "Model #10",
          "Model #15",
          "Model #13",
          "Model #14",
          "Model #26",
          "Model #22",
          "Model #18",
          "Model #20",
          "Model #19",
          "Model #25",
          "Model #24",
          "Model #29",
          "Model #23",
          "Model #31",
          "Model #30",
          "Model #21",
          "Model #27",
          "Model #28"
         ],
         "xaxis": "x",
         "y": [
          0.3643749952316284,
          0.5393750071525574,
          0.5406249761581421,
          0.5406249761581421,
          0.5481250286102295,
          0.5487499833106995,
          0.5609375238418579,
          0.5615624785423279,
          0.5724999904632568,
          0.5737500190734863,
          0.5753124952316284,
          0.578125,
          0.5784375071525574,
          0.5821874737739563,
          0.5874999761581421,
          0.6193749904632568,
          0.6200000047683716,
          0.6299999952316284,
          0.6324999928474426,
          0.6387500166893005,
          0.6696875095367432,
          0.6815624833106995,
          0.6837499737739563,
          0.729687511920929,
          0.7337499856948853,
          0.7515624761581421,
          0.7515624761581421,
          0.7565624713897705,
          0.7603124976158142,
          0.7755681872367859,
          0.7925000190734863
         ],
         "yaxis": "y"
        }
       ],
       "layout": {
        "annotations": [
         {
          "showarrow": false,
          "text": "Hover to see Model Name and Dataset",
          "x": 0,
          "xref": "paper",
          "y": 1.13,
          "yref": "paper"
         }
        ],
        "barmode": "group",
        "legend": {
         "title": {
          "text": "Accuracy Metric"
         },
         "tracegroupgap": 0,
         "x": 0.01,
         "xanchor": "left",
         "y": 0.99,
         "yanchor": "top"
        },
        "template": {
         "data": {
          "bar": [
           {
            "error_x": {
             "color": "#2a3f5f"
            },
            "error_y": {
             "color": "#2a3f5f"
            },
            "marker": {
             "line": {
              "color": "#E5ECF6",
              "width": 0.5
             }
            },
            "type": "bar"
           }
          ],
          "barpolar": [
           {
            "marker": {
             "line": {
              "color": "#E5ECF6",
              "width": 0.5
             }
            },
            "type": "barpolar"
           }
          ],
          "carpet": [
           {
            "aaxis": {
             "endlinecolor": "#2a3f5f",
             "gridcolor": "white",
             "linecolor": "white",
             "minorgridcolor": "white",
             "startlinecolor": "#2a3f5f"
            },
            "baxis": {
             "endlinecolor": "#2a3f5f",
             "gridcolor": "white",
             "linecolor": "white",
             "minorgridcolor": "white",
             "startlinecolor": "#2a3f5f"
            },
            "type": "carpet"
           }
          ],
          "choropleth": [
           {
            "colorbar": {
             "outlinewidth": 0,
             "ticks": ""
            },
            "type": "choropleth"
           }
          ],
          "contour": [
           {
            "colorbar": {
             "outlinewidth": 0,
             "ticks": ""
            },
            "colorscale": [
             [
              0,
              "#0d0887"
             ],
             [
              0.1111111111111111,
              "#46039f"
             ],
             [
              0.2222222222222222,
              "#7201a8"
             ],
             [
              0.3333333333333333,
              "#9c179e"
             ],
             [
              0.4444444444444444,
              "#bd3786"
             ],
             [
              0.5555555555555556,
              "#d8576b"
             ],
             [
              0.6666666666666666,
              "#ed7953"
             ],
             [
              0.7777777777777778,
              "#fb9f3a"
             ],
             [
              0.8888888888888888,
              "#fdca26"
             ],
             [
              1,
              "#f0f921"
             ]
            ],
            "type": "contour"
           }
          ],
          "contourcarpet": [
           {
            "colorbar": {
             "outlinewidth": 0,
             "ticks": ""
            },
            "type": "contourcarpet"
           }
          ],
          "heatmap": [
           {
            "colorbar": {
             "outlinewidth": 0,
             "ticks": ""
            },
            "colorscale": [
             [
              0,
              "#0d0887"
             ],
             [
              0.1111111111111111,
              "#46039f"
             ],
             [
              0.2222222222222222,
              "#7201a8"
             ],
             [
              0.3333333333333333,
              "#9c179e"
             ],
             [
              0.4444444444444444,
              "#bd3786"
             ],
             [
              0.5555555555555556,
              "#d8576b"
             ],
             [
              0.6666666666666666,
              "#ed7953"
             ],
             [
              0.7777777777777778,
              "#fb9f3a"
             ],
             [
              0.8888888888888888,
              "#fdca26"
             ],
             [
              1,
              "#f0f921"
             ]
            ],
            "type": "heatmap"
           }
          ],
          "heatmapgl": [
           {
            "colorbar": {
             "outlinewidth": 0,
             "ticks": ""
            },
            "colorscale": [
             [
              0,
              "#0d0887"
             ],
             [
              0.1111111111111111,
              "#46039f"
             ],
             [
              0.2222222222222222,
              "#7201a8"
             ],
             [
              0.3333333333333333,
              "#9c179e"
             ],
             [
              0.4444444444444444,
              "#bd3786"
             ],
             [
              0.5555555555555556,
              "#d8576b"
             ],
             [
              0.6666666666666666,
              "#ed7953"
             ],
             [
              0.7777777777777778,
              "#fb9f3a"
             ],
             [
              0.8888888888888888,
              "#fdca26"
             ],
             [
              1,
              "#f0f921"
             ]
            ],
            "type": "heatmapgl"
           }
          ],
          "histogram": [
           {
            "marker": {
             "colorbar": {
              "outlinewidth": 0,
              "ticks": ""
             }
            },
            "type": "histogram"
           }
          ],
          "histogram2d": [
           {
            "colorbar": {
             "outlinewidth": 0,
             "ticks": ""
            },
            "colorscale": [
             [
              0,
              "#0d0887"
             ],
             [
              0.1111111111111111,
              "#46039f"
             ],
             [
              0.2222222222222222,
              "#7201a8"
             ],
             [
              0.3333333333333333,
              "#9c179e"
             ],
             [
              0.4444444444444444,
              "#bd3786"
             ],
             [
              0.5555555555555556,
              "#d8576b"
             ],
             [
              0.6666666666666666,
              "#ed7953"
             ],
             [
              0.7777777777777778,
              "#fb9f3a"
             ],
             [
              0.8888888888888888,
              "#fdca26"
             ],
             [
              1,
              "#f0f921"
             ]
            ],
            "type": "histogram2d"
           }
          ],
          "histogram2dcontour": [
           {
            "colorbar": {
             "outlinewidth": 0,
             "ticks": ""
            },
            "colorscale": [
             [
              0,
              "#0d0887"
             ],
             [
              0.1111111111111111,
              "#46039f"
             ],
             [
              0.2222222222222222,
              "#7201a8"
             ],
             [
              0.3333333333333333,
              "#9c179e"
             ],
             [
              0.4444444444444444,
              "#bd3786"
             ],
             [
              0.5555555555555556,
              "#d8576b"
             ],
             [
              0.6666666666666666,
              "#ed7953"
             ],
             [
              0.7777777777777778,
              "#fb9f3a"
             ],
             [
              0.8888888888888888,
              "#fdca26"
             ],
             [
              1,
              "#f0f921"
             ]
            ],
            "type": "histogram2dcontour"
           }
          ],
          "mesh3d": [
           {
            "colorbar": {
             "outlinewidth": 0,
             "ticks": ""
            },
            "type": "mesh3d"
           }
          ],
          "parcoords": [
           {
            "line": {
             "colorbar": {
              "outlinewidth": 0,
              "ticks": ""
             }
            },
            "type": "parcoords"
           }
          ],
          "pie": [
           {
            "automargin": true,
            "type": "pie"
           }
          ],
          "scatter": [
           {
            "marker": {
             "colorbar": {
              "outlinewidth": 0,
              "ticks": ""
             }
            },
            "type": "scatter"
           }
          ],
          "scatter3d": [
           {
            "line": {
             "colorbar": {
              "outlinewidth": 0,
              "ticks": ""
             }
            },
            "marker": {
             "colorbar": {
              "outlinewidth": 0,
              "ticks": ""
             }
            },
            "type": "scatter3d"
           }
          ],
          "scattercarpet": [
           {
            "marker": {
             "colorbar": {
              "outlinewidth": 0,
              "ticks": ""
             }
            },
            "type": "scattercarpet"
           }
          ],
          "scattergeo": [
           {
            "marker": {
             "colorbar": {
              "outlinewidth": 0,
              "ticks": ""
             }
            },
            "type": "scattergeo"
           }
          ],
          "scattergl": [
           {
            "marker": {
             "colorbar": {
              "outlinewidth": 0,
              "ticks": ""
             }
            },
            "type": "scattergl"
           }
          ],
          "scattermapbox": [
           {
            "marker": {
             "colorbar": {
              "outlinewidth": 0,
              "ticks": ""
             }
            },
            "type": "scattermapbox"
           }
          ],
          "scatterpolar": [
           {
            "marker": {
             "colorbar": {
              "outlinewidth": 0,
              "ticks": ""
             }
            },
            "type": "scatterpolar"
           }
          ],
          "scatterpolargl": [
           {
            "marker": {
             "colorbar": {
              "outlinewidth": 0,
              "ticks": ""
             }
            },
            "type": "scatterpolargl"
           }
          ],
          "scatterternary": [
           {
            "marker": {
             "colorbar": {
              "outlinewidth": 0,
              "ticks": ""
             }
            },
            "type": "scatterternary"
           }
          ],
          "surface": [
           {
            "colorbar": {
             "outlinewidth": 0,
             "ticks": ""
            },
            "colorscale": [
             [
              0,
              "#0d0887"
             ],
             [
              0.1111111111111111,
              "#46039f"
             ],
             [
              0.2222222222222222,
              "#7201a8"
             ],
             [
              0.3333333333333333,
              "#9c179e"
             ],
             [
              0.4444444444444444,
              "#bd3786"
             ],
             [
              0.5555555555555556,
              "#d8576b"
             ],
             [
              0.6666666666666666,
              "#ed7953"
             ],
             [
              0.7777777777777778,
              "#fb9f3a"
             ],
             [
              0.8888888888888888,
              "#fdca26"
             ],
             [
              1,
              "#f0f921"
             ]
            ],
            "type": "surface"
           }
          ],
          "table": [
           {
            "cells": {
             "fill": {
              "color": "#EBF0F8"
             },
             "line": {
              "color": "white"
             }
            },
            "header": {
             "fill": {
              "color": "#C8D4E3"
             },
             "line": {
              "color": "white"
             }
            },
            "type": "table"
           }
          ]
         },
         "layout": {
          "annotationdefaults": {
           "arrowcolor": "#2a3f5f",
           "arrowhead": 0,
           "arrowwidth": 1
          },
          "autotypenumbers": "strict",
          "coloraxis": {
           "colorbar": {
            "outlinewidth": 0,
            "ticks": ""
           }
          },
          "colorscale": {
           "diverging": [
            [
             0,
             "#8e0152"
            ],
            [
             0.1,
             "#c51b7d"
            ],
            [
             0.2,
             "#de77ae"
            ],
            [
             0.3,
             "#f1b6da"
            ],
            [
             0.4,
             "#fde0ef"
            ],
            [
             0.5,
             "#f7f7f7"
            ],
            [
             0.6,
             "#e6f5d0"
            ],
            [
             0.7,
             "#b8e186"
            ],
            [
             0.8,
             "#7fbc41"
            ],
            [
             0.9,
             "#4d9221"
            ],
            [
             1,
             "#276419"
            ]
           ],
           "sequential": [
            [
             0,
             "#0d0887"
            ],
            [
             0.1111111111111111,
             "#46039f"
            ],
            [
             0.2222222222222222,
             "#7201a8"
            ],
            [
             0.3333333333333333,
             "#9c179e"
            ],
            [
             0.4444444444444444,
             "#bd3786"
            ],
            [
             0.5555555555555556,
             "#d8576b"
            ],
            [
             0.6666666666666666,
             "#ed7953"
            ],
            [
             0.7777777777777778,
             "#fb9f3a"
            ],
            [
             0.8888888888888888,
             "#fdca26"
            ],
            [
             1,
             "#f0f921"
            ]
           ],
           "sequentialminus": [
            [
             0,
             "#0d0887"
            ],
            [
             0.1111111111111111,
             "#46039f"
            ],
            [
             0.2222222222222222,
             "#7201a8"
            ],
            [
             0.3333333333333333,
             "#9c179e"
            ],
            [
             0.4444444444444444,
             "#bd3786"
            ],
            [
             0.5555555555555556,
             "#d8576b"
            ],
            [
             0.6666666666666666,
             "#ed7953"
            ],
            [
             0.7777777777777778,
             "#fb9f3a"
            ],
            [
             0.8888888888888888,
             "#fdca26"
            ],
            [
             1,
             "#f0f921"
            ]
           ]
          },
          "colorway": [
           "#636efa",
           "#EF553B",
           "#00cc96",
           "#ab63fa",
           "#FFA15A",
           "#19d3f3",
           "#FF6692",
           "#B6E880",
           "#FF97FF",
           "#FECB52"
          ],
          "font": {
           "color": "#2a3f5f"
          },
          "geo": {
           "bgcolor": "white",
           "lakecolor": "white",
           "landcolor": "#E5ECF6",
           "showlakes": true,
           "showland": true,
           "subunitcolor": "white"
          },
          "hoverlabel": {
           "align": "left"
          },
          "hovermode": "closest",
          "mapbox": {
           "style": "light"
          },
          "paper_bgcolor": "white",
          "plot_bgcolor": "#E5ECF6",
          "polar": {
           "angularaxis": {
            "gridcolor": "white",
            "linecolor": "white",
            "ticks": ""
           },
           "bgcolor": "#E5ECF6",
           "radialaxis": {
            "gridcolor": "white",
            "linecolor": "white",
            "ticks": ""
           }
          },
          "scene": {
           "xaxis": {
            "backgroundcolor": "#E5ECF6",
            "gridcolor": "white",
            "gridwidth": 2,
            "linecolor": "white",
            "showbackground": true,
            "ticks": "",
            "zerolinecolor": "white"
           },
           "yaxis": {
            "backgroundcolor": "#E5ECF6",
            "gridcolor": "white",
            "gridwidth": 2,
            "linecolor": "white",
            "showbackground": true,
            "ticks": "",
            "zerolinecolor": "white"
           },
           "zaxis": {
            "backgroundcolor": "#E5ECF6",
            "gridcolor": "white",
            "gridwidth": 2,
            "linecolor": "white",
            "showbackground": true,
            "ticks": "",
            "zerolinecolor": "white"
           }
          },
          "shapedefaults": {
           "line": {
            "color": "#2a3f5f"
           }
          },
          "ternary": {
           "aaxis": {
            "gridcolor": "white",
            "linecolor": "white",
            "ticks": ""
           },
           "baxis": {
            "gridcolor": "white",
            "linecolor": "white",
            "ticks": ""
           },
           "bgcolor": "#E5ECF6",
           "caxis": {
            "gridcolor": "white",
            "linecolor": "white",
            "ticks": ""
           }
          },
          "title": {
           "x": 0.05
          },
          "xaxis": {
           "automargin": true,
           "gridcolor": "white",
           "linecolor": "white",
           "ticks": "",
           "title": {
            "standoff": 15
           },
           "zerolinecolor": "white",
           "zerolinewidth": 2
          },
          "yaxis": {
           "automargin": true,
           "gridcolor": "white",
           "linecolor": "white",
           "ticks": "",
           "title": {
            "standoff": 15
           },
           "zerolinecolor": "white",
           "zerolinewidth": 2
          }
         }
        },
        "title": {
         "text": "Test Accuracy by model name"
        },
        "xaxis": {
         "anchor": "y",
         "domain": [
          0,
          1
         ],
         "title": {
          "text": "Model No."
         }
        },
        "yaxis": {
         "anchor": "x",
         "domain": [
          0,
          1
         ],
         "title": {
          "text": "Accuracy"
         }
        }
       }
      },
      "text/html": [
       "<div>                            <div id=\"081c0068-3fff-40b0-a052-51eedb7340c8\" class=\"plotly-graph-div\" style=\"height:525px; width:100%;\"></div>            <script type=\"text/javascript\">                require([\"plotly\"], function(Plotly) {                    window.PLOTLYENV=window.PLOTLYENV || {};                                    if (document.getElementById(\"081c0068-3fff-40b0-a052-51eedb7340c8\")) {                    Plotly.newPlot(                        \"081c0068-3fff-40b0-a052-51eedb7340c8\",                        [{\"alignmentgroup\": \"True\", \"customdata\": [[\"cnn1_audin_l2reg_4\", \"kaggle_10sec_wav\"], [\"cnn1_audin_nmel_dcbl_2\", \"kaggle_10sec_wav\"], [\"cnn1_audin_nmel_2\", \"kaggle_10sec_wav\"], [\"cnn1_audin_freq_1\", \"kaggle_10sec_wav\"], [\"cnn1_audin_freq_2\", \"kaggle_10sec_wav\"], [\"cnn1_audin_nffthl_2\", \"kaggle_10sec_wav\"], [\"cnn1_audin_nffthl_1\", \"kaggle_10sec_wav\"], [\"cnn1_audin_nmel_dcbl_1\", \"kaggle_10sec_wav\"], [\"cnn1_audin_l2reg_3\", \"kaggle_10sec_wav\"], [\"milsed_3block_dense\", \"kaggle_10sec_wav\"], [\"cnn1_audin_l2reg_1\", \"kaggle_10sec_wav\"], [\"cnn1_audin_drp_4\", \"kaggle_10sec_wav\"], [\"cnn1_audin_nmel_1\", \"kaggle_10sec_wav\"], [\"cnn1_audin_l2reg_2\", \"kaggle_10sec_wav\"], [\"cnn1_audin_drp_3\", \"kaggle_10sec_wav\"], [\"milsed_8block_dense\", \"kaggle_10sec_wav\"], [\"cnn1_audin_drp_1\", \"kaggle_10sec_wav\"], [\"milsed_7block_dense_drp_4\", \"kaggle_10sec_wav\"], [\"milsed_4block_dense\", \"kaggle_10sec_wav\"], [\"cnn1_audin_drp_2\", \"kaggle_10sec_wav\"], [\"milsed_5block_dense\", \"kaggle_10sec_wav\"], [\"milsed_6block_dense\", \"kaggle_10sec_wav\"], [\"milsed_7block_dense_drp_3\", \"kaggle_10sec_wav\"], [\"milsed_7block_dense_drp_2\", \"kaggle_10sec_wav\"], [\"milsed_7block_dense\", \"kaggle_full_length_npy_aug_pitch\"], [\"milsed_7block_dense_drp_1\", \"kaggle_10sec_wav\"], [\"milsed_7block_dense\", \"kaggle_full_length_npy_aug_pitch_stretch\"], [\"milsed_7block_dense\", \"kaggle_10sec_wav\"], [\"milsed_7block_dense\", \"all_10sec_wav\"], [\"milsed_7block_dense\", \"kaggle_full_length_npy_aug_stretch\"], [\"milsed_7block_dense\", \"kaggle_full_length_npy_aug\"]], \"hovertemplate\": \"<b>%{hovertext}</b><br><br>Accuracy Metric=Categorical Accuracy<br>Model No.=%{x}<br>Accuracy=%{y}<br>Model Name=%{customdata[0]}<br>Data=%{customdata[1]}<extra></extra>\", \"hovertext\": [\"Model #12\", \"Model #4\", \"Model #2\", \"Model #7\", \"Model #8\", \"Model #6\", \"Model #5\", \"Model #3\", \"Model #11\", \"Model #17\", \"Model #9\", \"Model #16\", \"Model #1\", \"Model #10\", \"Model #15\", \"Model #22\", \"Model #13\", \"Model #26\", \"Model #18\", \"Model #14\", \"Model #20\", \"Model #19\", \"Model #25\", \"Model #24\", \"Model #29\", \"Model #23\", \"Model #31\", \"Model #21\", \"Model #27\", \"Model #30\", \"Model #28\"], \"legendgroup\": \"Categorical Accuracy\", \"marker\": {\"color\": \"#636efa\"}, \"name\": \"Categorical Accuracy\", \"offsetgroup\": \"Categorical Accuracy\", \"orientation\": \"v\", \"showlegend\": true, \"textposition\": \"auto\", \"type\": \"bar\", \"x\": [\"Model #12\", \"Model #4\", \"Model #2\", \"Model #7\", \"Model #8\", \"Model #6\", \"Model #5\", \"Model #3\", \"Model #11\", \"Model #17\", \"Model #9\", \"Model #16\", \"Model #1\", \"Model #10\", \"Model #15\", \"Model #22\", \"Model #13\", \"Model #26\", \"Model #18\", \"Model #14\", \"Model #20\", \"Model #19\", \"Model #25\", \"Model #24\", \"Model #29\", \"Model #23\", \"Model #31\", \"Model #21\", \"Model #27\", \"Model #30\", \"Model #28\"], \"xaxis\": \"x\", \"y\": [0.13124999403953552, 0.26875001192092896, 0.28312501311302185, 0.28562501072883606, 0.3006249964237213, 0.3009375035762787, 0.30250000953674316, 0.3046875, 0.3059374988079071, 0.31156250834465027, 0.32218751311302185, 0.3228124976158142, 0.3243750035762787, 0.3318749964237213, 0.3478125035762787, 0.3568750023841858, 0.37312498688697815, 0.3734374940395355, 0.37687501311302185, 0.38874998688697815, 0.4037500023841858, 0.42531248927116394, 0.44187501072883606, 0.4975000023841858, 0.5056250095367432, 0.5278124809265137, 0.5365625023841858, 0.5425000190734863, 0.557692289352417, 0.5634375214576721, 0.6006249785423279], \"yaxis\": \"y\"}, {\"alignmentgroup\": \"True\", \"customdata\": [[\"cnn1_audin_l2reg_4\", \"kaggle_10sec_wav\"], [\"cnn1_audin_nmel_dcbl_2\", \"kaggle_10sec_wav\"], [\"cnn1_audin_freq_1\", \"kaggle_10sec_wav\"], [\"cnn1_audin_nmel_2\", \"kaggle_10sec_wav\"], [\"cnn1_audin_nffthl_2\", \"kaggle_10sec_wav\"], [\"cnn1_audin_freq_2\", \"kaggle_10sec_wav\"], [\"cnn1_audin_nffthl_1\", \"kaggle_10sec_wav\"], [\"cnn1_audin_l2reg_3\", \"kaggle_10sec_wav\"], [\"cnn1_audin_nmel_dcbl_1\", \"kaggle_10sec_wav\"], [\"cnn1_audin_nmel_1\", \"kaggle_10sec_wav\"], [\"milsed_3block_dense\", \"kaggle_10sec_wav\"], [\"cnn1_audin_l2reg_1\", \"kaggle_10sec_wav\"], [\"cnn1_audin_drp_4\", \"kaggle_10sec_wav\"], [\"cnn1_audin_l2reg_2\", \"kaggle_10sec_wav\"], [\"cnn1_audin_drp_3\", \"kaggle_10sec_wav\"], [\"cnn1_audin_drp_1\", \"kaggle_10sec_wav\"], [\"milsed_7block_dense_drp_4\", \"kaggle_10sec_wav\"], [\"cnn1_audin_drp_2\", \"kaggle_10sec_wav\"], [\"milsed_8block_dense\", \"kaggle_10sec_wav\"], [\"milsed_4block_dense\", \"kaggle_10sec_wav\"], [\"milsed_5block_dense\", \"kaggle_10sec_wav\"], [\"milsed_6block_dense\", \"kaggle_10sec_wav\"], [\"milsed_7block_dense_drp_3\", \"kaggle_10sec_wav\"], [\"milsed_7block_dense_drp_2\", \"kaggle_10sec_wav\"], [\"milsed_7block_dense\", \"kaggle_full_length_npy_aug_pitch\"], [\"milsed_7block_dense\", \"kaggle_full_length_npy_aug_pitch_stretch\"], [\"milsed_7block_dense_drp_1\", \"kaggle_10sec_wav\"], [\"milsed_7block_dense\", \"kaggle_full_length_npy_aug_stretch\"], [\"milsed_7block_dense\", \"kaggle_10sec_wav\"], [\"milsed_7block_dense\", \"all_10sec_wav\"], [\"milsed_7block_dense\", \"kaggle_full_length_npy_aug\"]], \"hovertemplate\": \"<b>%{hovertext}</b><br><br>Accuracy Metric=Top 3 Categorical Accuracy<br>Model No.=%{x}<br>Accuracy=%{y}<br>Model Name=%{customdata[0]}<br>Data=%{customdata[1]}<extra></extra>\", \"hovertext\": [\"Model #12\", \"Model #4\", \"Model #7\", \"Model #2\", \"Model #6\", \"Model #8\", \"Model #5\", \"Model #11\", \"Model #3\", \"Model #1\", \"Model #17\", \"Model #9\", \"Model #16\", \"Model #10\", \"Model #15\", \"Model #13\", \"Model #26\", \"Model #14\", \"Model #22\", \"Model #18\", \"Model #20\", \"Model #19\", \"Model #25\", \"Model #24\", \"Model #29\", \"Model #31\", \"Model #23\", \"Model #30\", \"Model #21\", \"Model #27\", \"Model #28\"], \"legendgroup\": \"Top 3 Categorical Accuracy\", \"marker\": {\"color\": \"#EF553B\"}, \"name\": \"Top 3 Categorical Accuracy\", \"offsetgroup\": \"Top 3 Categorical Accuracy\", \"orientation\": \"v\", \"showlegend\": true, \"textposition\": \"auto\", \"type\": \"bar\", \"x\": [\"Model #12\", \"Model #4\", \"Model #7\", \"Model #2\", \"Model #6\", \"Model #8\", \"Model #5\", \"Model #11\", \"Model #3\", \"Model #1\", \"Model #17\", \"Model #9\", \"Model #16\", \"Model #10\", \"Model #15\", \"Model #13\", \"Model #26\", \"Model #14\", \"Model #22\", \"Model #18\", \"Model #20\", \"Model #19\", \"Model #25\", \"Model #24\", \"Model #29\", \"Model #31\", \"Model #23\", \"Model #30\", \"Model #21\", \"Model #27\", \"Model #28\"], \"xaxis\": \"x\", \"y\": [0.2759374976158142, 0.44624999165534973, 0.453125, 0.45406249165534973, 0.4690625071525574, 0.46937501430511475, 0.4768750071525574, 0.47999998927116394, 0.47999998927116394, 0.4934374988079071, 0.49531251192092896, 0.4959374964237213, 0.5003125071525574, 0.5006250143051147, 0.5168750286102295, 0.5371875166893005, 0.5434374809265137, 0.5493749976158142, 0.5537499785423279, 0.5550000071525574, 0.5956249833106995, 0.6100000143051147, 0.6146875023841858, 0.6668750047683716, 0.6681249737739563, 0.6912500262260437, 0.6956250071525574, 0.7018749713897705, 0.7021874785423279, 0.7171109914779663, 0.7406250238418579], \"yaxis\": \"y\"}, {\"alignmentgroup\": \"True\", \"customdata\": [[\"cnn1_audin_l2reg_4\", \"kaggle_10sec_wav\"], [\"cnn1_audin_freq_1\", \"kaggle_10sec_wav\"], [\"cnn1_audin_nmel_2\", \"kaggle_10sec_wav\"], [\"cnn1_audin_nmel_dcbl_2\", \"kaggle_10sec_wav\"], [\"cnn1_audin_nffthl_2\", \"kaggle_10sec_wav\"], [\"cnn1_audin_freq_2\", \"kaggle_10sec_wav\"], [\"cnn1_audin_l2reg_3\", \"kaggle_10sec_wav\"], [\"cnn1_audin_nffthl_1\", \"kaggle_10sec_wav\"], [\"cnn1_audin_nmel_1\", \"kaggle_10sec_wav\"], [\"cnn1_audin_nmel_dcbl_1\", \"kaggle_10sec_wav\"], [\"cnn1_audin_drp_4\", \"kaggle_10sec_wav\"], [\"cnn1_audin_l2reg_1\", \"kaggle_10sec_wav\"], [\"milsed_3block_dense\", \"kaggle_10sec_wav\"], [\"cnn1_audin_l2reg_2\", \"kaggle_10sec_wav\"], [\"cnn1_audin_drp_3\", \"kaggle_10sec_wav\"], [\"cnn1_audin_drp_1\", \"kaggle_10sec_wav\"], [\"cnn1_audin_drp_2\", \"kaggle_10sec_wav\"], [\"milsed_7block_dense_drp_4\", \"kaggle_10sec_wav\"], [\"milsed_8block_dense\", \"kaggle_10sec_wav\"], [\"milsed_4block_dense\", \"kaggle_10sec_wav\"], [\"milsed_5block_dense\", \"kaggle_10sec_wav\"], [\"milsed_6block_dense\", \"kaggle_10sec_wav\"], [\"milsed_7block_dense_drp_3\", \"kaggle_10sec_wav\"], [\"milsed_7block_dense_drp_2\", \"kaggle_10sec_wav\"], [\"milsed_7block_dense\", \"kaggle_full_length_npy_aug_pitch\"], [\"milsed_7block_dense_drp_1\", \"kaggle_10sec_wav\"], [\"milsed_7block_dense\", \"kaggle_full_length_npy_aug_pitch_stretch\"], [\"milsed_7block_dense\", \"kaggle_full_length_npy_aug_stretch\"], [\"milsed_7block_dense\", \"kaggle_10sec_wav\"], [\"milsed_7block_dense\", \"all_10sec_wav\"], [\"milsed_7block_dense\", \"kaggle_full_length_npy_aug\"]], \"hovertemplate\": \"<b>%{hovertext}</b><br><br>Accuracy Metric=Top 5 Categorical Accuracy<br>Model No.=%{x}<br>Accuracy=%{y}<br>Model Name=%{customdata[0]}<br>Data=%{customdata[1]}<extra></extra>\", \"hovertext\": [\"Model #12\", \"Model #7\", \"Model #2\", \"Model #4\", \"Model #6\", \"Model #8\", \"Model #11\", \"Model #5\", \"Model #1\", \"Model #3\", \"Model #16\", \"Model #9\", \"Model #17\", \"Model #10\", \"Model #15\", \"Model #13\", \"Model #14\", \"Model #26\", \"Model #22\", \"Model #18\", \"Model #20\", \"Model #19\", \"Model #25\", \"Model #24\", \"Model #29\", \"Model #23\", \"Model #31\", \"Model #30\", \"Model #21\", \"Model #27\", \"Model #28\"], \"legendgroup\": \"Top 5 Categorical Accuracy\", \"marker\": {\"color\": \"#00cc96\"}, \"name\": \"Top 5 Categorical Accuracy\", \"offsetgroup\": \"Top 5 Categorical Accuracy\", \"orientation\": \"v\", \"showlegend\": true, \"textposition\": \"auto\", \"type\": \"bar\", \"x\": [\"Model #12\", \"Model #7\", \"Model #2\", \"Model #4\", \"Model #6\", \"Model #8\", \"Model #11\", \"Model #5\", \"Model #1\", \"Model #3\", \"Model #16\", \"Model #9\", \"Model #17\", \"Model #10\", \"Model #15\", \"Model #13\", \"Model #14\", \"Model #26\", \"Model #22\", \"Model #18\", \"Model #20\", \"Model #19\", \"Model #25\", \"Model #24\", \"Model #29\", \"Model #23\", \"Model #31\", \"Model #30\", \"Model #21\", \"Model #27\", \"Model #28\"], \"xaxis\": \"x\", \"y\": [0.3643749952316284, 0.5393750071525574, 0.5406249761581421, 0.5406249761581421, 0.5481250286102295, 0.5487499833106995, 0.5609375238418579, 0.5615624785423279, 0.5724999904632568, 0.5737500190734863, 0.5753124952316284, 0.578125, 0.5784375071525574, 0.5821874737739563, 0.5874999761581421, 0.6193749904632568, 0.6200000047683716, 0.6299999952316284, 0.6324999928474426, 0.6387500166893005, 0.6696875095367432, 0.6815624833106995, 0.6837499737739563, 0.729687511920929, 0.7337499856948853, 0.7515624761581421, 0.7515624761581421, 0.7565624713897705, 0.7603124976158142, 0.7755681872367859, 0.7925000190734863], \"yaxis\": \"y\"}],                        {\"annotations\": [{\"showarrow\": false, \"text\": \"Hover to see Model Name and Dataset\", \"x\": 0, \"xref\": \"paper\", \"y\": 1.13, \"yref\": \"paper\"}], \"barmode\": \"group\", \"legend\": {\"title\": {\"text\": \"Accuracy Metric\"}, \"tracegroupgap\": 0, \"x\": 0.01, \"xanchor\": \"left\", \"y\": 0.99, \"yanchor\": \"top\"}, \"template\": {\"data\": {\"bar\": [{\"error_x\": {\"color\": \"#2a3f5f\"}, \"error_y\": {\"color\": \"#2a3f5f\"}, \"marker\": {\"line\": {\"color\": \"#E5ECF6\", \"width\": 0.5}}, \"type\": \"bar\"}], \"barpolar\": [{\"marker\": {\"line\": {\"color\": \"#E5ECF6\", \"width\": 0.5}}, \"type\": \"barpolar\"}], \"carpet\": [{\"aaxis\": {\"endlinecolor\": \"#2a3f5f\", \"gridcolor\": \"white\", \"linecolor\": \"white\", \"minorgridcolor\": \"white\", \"startlinecolor\": \"#2a3f5f\"}, \"baxis\": {\"endlinecolor\": \"#2a3f5f\", \"gridcolor\": \"white\", \"linecolor\": \"white\", \"minorgridcolor\": \"white\", \"startlinecolor\": \"#2a3f5f\"}, \"type\": \"carpet\"}], \"choropleth\": [{\"colorbar\": {\"outlinewidth\": 0, \"ticks\": \"\"}, \"type\": \"choropleth\"}], \"contour\": [{\"colorbar\": {\"outlinewidth\": 0, \"ticks\": \"\"}, \"colorscale\": [[0.0, \"#0d0887\"], [0.1111111111111111, \"#46039f\"], [0.2222222222222222, \"#7201a8\"], [0.3333333333333333, \"#9c179e\"], [0.4444444444444444, \"#bd3786\"], [0.5555555555555556, \"#d8576b\"], [0.6666666666666666, \"#ed7953\"], [0.7777777777777778, \"#fb9f3a\"], [0.8888888888888888, \"#fdca26\"], [1.0, \"#f0f921\"]], \"type\": \"contour\"}], \"contourcarpet\": [{\"colorbar\": {\"outlinewidth\": 0, \"ticks\": \"\"}, \"type\": \"contourcarpet\"}], \"heatmap\": [{\"colorbar\": {\"outlinewidth\": 0, \"ticks\": \"\"}, \"colorscale\": [[0.0, \"#0d0887\"], [0.1111111111111111, \"#46039f\"], [0.2222222222222222, \"#7201a8\"], [0.3333333333333333, \"#9c179e\"], [0.4444444444444444, \"#bd3786\"], [0.5555555555555556, \"#d8576b\"], [0.6666666666666666, \"#ed7953\"], [0.7777777777777778, \"#fb9f3a\"], [0.8888888888888888, \"#fdca26\"], [1.0, \"#f0f921\"]], \"type\": \"heatmap\"}], \"heatmapgl\": [{\"colorbar\": {\"outlinewidth\": 0, \"ticks\": \"\"}, \"colorscale\": [[0.0, \"#0d0887\"], [0.1111111111111111, \"#46039f\"], [0.2222222222222222, \"#7201a8\"], [0.3333333333333333, \"#9c179e\"], [0.4444444444444444, \"#bd3786\"], [0.5555555555555556, \"#d8576b\"], [0.6666666666666666, \"#ed7953\"], [0.7777777777777778, \"#fb9f3a\"], [0.8888888888888888, \"#fdca26\"], [1.0, \"#f0f921\"]], \"type\": \"heatmapgl\"}], \"histogram\": [{\"marker\": {\"colorbar\": {\"outlinewidth\": 0, \"ticks\": \"\"}}, \"type\": \"histogram\"}], \"histogram2d\": [{\"colorbar\": {\"outlinewidth\": 0, \"ticks\": \"\"}, \"colorscale\": [[0.0, \"#0d0887\"], [0.1111111111111111, \"#46039f\"], [0.2222222222222222, \"#7201a8\"], [0.3333333333333333, \"#9c179e\"], [0.4444444444444444, \"#bd3786\"], [0.5555555555555556, \"#d8576b\"], [0.6666666666666666, \"#ed7953\"], [0.7777777777777778, \"#fb9f3a\"], [0.8888888888888888, \"#fdca26\"], [1.0, \"#f0f921\"]], \"type\": \"histogram2d\"}], \"histogram2dcontour\": [{\"colorbar\": {\"outlinewidth\": 0, \"ticks\": \"\"}, \"colorscale\": [[0.0, \"#0d0887\"], [0.1111111111111111, \"#46039f\"], [0.2222222222222222, \"#7201a8\"], [0.3333333333333333, \"#9c179e\"], [0.4444444444444444, \"#bd3786\"], [0.5555555555555556, \"#d8576b\"], [0.6666666666666666, \"#ed7953\"], [0.7777777777777778, \"#fb9f3a\"], [0.8888888888888888, \"#fdca26\"], [1.0, \"#f0f921\"]], \"type\": \"histogram2dcontour\"}], \"mesh3d\": [{\"colorbar\": {\"outlinewidth\": 0, \"ticks\": \"\"}, \"type\": \"mesh3d\"}], \"parcoords\": [{\"line\": {\"colorbar\": {\"outlinewidth\": 0, \"ticks\": \"\"}}, \"type\": \"parcoords\"}], \"pie\": [{\"automargin\": true, \"type\": \"pie\"}], \"scatter\": [{\"marker\": {\"colorbar\": {\"outlinewidth\": 0, \"ticks\": \"\"}}, \"type\": \"scatter\"}], \"scatter3d\": [{\"line\": {\"colorbar\": {\"outlinewidth\": 0, \"ticks\": \"\"}}, \"marker\": {\"colorbar\": {\"outlinewidth\": 0, \"ticks\": \"\"}}, \"type\": \"scatter3d\"}], \"scattercarpet\": [{\"marker\": {\"colorbar\": {\"outlinewidth\": 0, \"ticks\": \"\"}}, \"type\": \"scattercarpet\"}], \"scattergeo\": [{\"marker\": {\"colorbar\": {\"outlinewidth\": 0, \"ticks\": \"\"}}, \"type\": \"scattergeo\"}], \"scattergl\": [{\"marker\": {\"colorbar\": {\"outlinewidth\": 0, \"ticks\": \"\"}}, \"type\": \"scattergl\"}], \"scattermapbox\": [{\"marker\": {\"colorbar\": {\"outlinewidth\": 0, \"ticks\": \"\"}}, \"type\": \"scattermapbox\"}], \"scatterpolar\": [{\"marker\": {\"colorbar\": {\"outlinewidth\": 0, \"ticks\": \"\"}}, \"type\": \"scatterpolar\"}], \"scatterpolargl\": [{\"marker\": {\"colorbar\": {\"outlinewidth\": 0, \"ticks\": \"\"}}, \"type\": \"scatterpolargl\"}], \"scatterternary\": [{\"marker\": {\"colorbar\": {\"outlinewidth\": 0, \"ticks\": \"\"}}, \"type\": \"scatterternary\"}], \"surface\": [{\"colorbar\": {\"outlinewidth\": 0, \"ticks\": \"\"}, \"colorscale\": [[0.0, \"#0d0887\"], [0.1111111111111111, \"#46039f\"], [0.2222222222222222, \"#7201a8\"], [0.3333333333333333, \"#9c179e\"], [0.4444444444444444, \"#bd3786\"], [0.5555555555555556, \"#d8576b\"], [0.6666666666666666, \"#ed7953\"], [0.7777777777777778, \"#fb9f3a\"], [0.8888888888888888, \"#fdca26\"], [1.0, \"#f0f921\"]], \"type\": \"surface\"}], \"table\": [{\"cells\": {\"fill\": {\"color\": \"#EBF0F8\"}, \"line\": {\"color\": \"white\"}}, \"header\": {\"fill\": {\"color\": \"#C8D4E3\"}, \"line\": {\"color\": \"white\"}}, \"type\": \"table\"}]}, \"layout\": {\"annotationdefaults\": {\"arrowcolor\": \"#2a3f5f\", \"arrowhead\": 0, \"arrowwidth\": 1}, \"autotypenumbers\": \"strict\", \"coloraxis\": {\"colorbar\": {\"outlinewidth\": 0, \"ticks\": \"\"}}, \"colorscale\": {\"diverging\": [[0, \"#8e0152\"], [0.1, \"#c51b7d\"], [0.2, \"#de77ae\"], [0.3, \"#f1b6da\"], [0.4, \"#fde0ef\"], [0.5, \"#f7f7f7\"], [0.6, \"#e6f5d0\"], [0.7, \"#b8e186\"], [0.8, \"#7fbc41\"], [0.9, \"#4d9221\"], [1, \"#276419\"]], \"sequential\": [[0.0, \"#0d0887\"], [0.1111111111111111, \"#46039f\"], [0.2222222222222222, \"#7201a8\"], [0.3333333333333333, \"#9c179e\"], [0.4444444444444444, \"#bd3786\"], [0.5555555555555556, \"#d8576b\"], [0.6666666666666666, \"#ed7953\"], [0.7777777777777778, \"#fb9f3a\"], [0.8888888888888888, \"#fdca26\"], [1.0, \"#f0f921\"]], \"sequentialminus\": [[0.0, \"#0d0887\"], [0.1111111111111111, \"#46039f\"], [0.2222222222222222, \"#7201a8\"], [0.3333333333333333, \"#9c179e\"], [0.4444444444444444, \"#bd3786\"], [0.5555555555555556, \"#d8576b\"], [0.6666666666666666, \"#ed7953\"], [0.7777777777777778, \"#fb9f3a\"], [0.8888888888888888, \"#fdca26\"], [1.0, \"#f0f921\"]]}, \"colorway\": [\"#636efa\", \"#EF553B\", \"#00cc96\", \"#ab63fa\", \"#FFA15A\", \"#19d3f3\", \"#FF6692\", \"#B6E880\", \"#FF97FF\", \"#FECB52\"], \"font\": {\"color\": \"#2a3f5f\"}, \"geo\": {\"bgcolor\": \"white\", \"lakecolor\": \"white\", \"landcolor\": \"#E5ECF6\", \"showlakes\": true, \"showland\": true, \"subunitcolor\": \"white\"}, \"hoverlabel\": {\"align\": \"left\"}, \"hovermode\": \"closest\", \"mapbox\": {\"style\": \"light\"}, \"paper_bgcolor\": \"white\", \"plot_bgcolor\": \"#E5ECF6\", \"polar\": {\"angularaxis\": {\"gridcolor\": \"white\", \"linecolor\": \"white\", \"ticks\": \"\"}, \"bgcolor\": \"#E5ECF6\", \"radialaxis\": {\"gridcolor\": \"white\", \"linecolor\": \"white\", \"ticks\": \"\"}}, \"scene\": {\"xaxis\": {\"backgroundcolor\": \"#E5ECF6\", \"gridcolor\": \"white\", \"gridwidth\": 2, \"linecolor\": \"white\", \"showbackground\": true, \"ticks\": \"\", \"zerolinecolor\": \"white\"}, \"yaxis\": {\"backgroundcolor\": \"#E5ECF6\", \"gridcolor\": \"white\", \"gridwidth\": 2, \"linecolor\": \"white\", \"showbackground\": true, \"ticks\": \"\", \"zerolinecolor\": \"white\"}, \"zaxis\": {\"backgroundcolor\": \"#E5ECF6\", \"gridcolor\": \"white\", \"gridwidth\": 2, \"linecolor\": \"white\", \"showbackground\": true, \"ticks\": \"\", \"zerolinecolor\": \"white\"}}, \"shapedefaults\": {\"line\": {\"color\": \"#2a3f5f\"}}, \"ternary\": {\"aaxis\": {\"gridcolor\": \"white\", \"linecolor\": \"white\", \"ticks\": \"\"}, \"baxis\": {\"gridcolor\": \"white\", \"linecolor\": \"white\", \"ticks\": \"\"}, \"bgcolor\": \"#E5ECF6\", \"caxis\": {\"gridcolor\": \"white\", \"linecolor\": \"white\", \"ticks\": \"\"}}, \"title\": {\"x\": 0.05}, \"xaxis\": {\"automargin\": true, \"gridcolor\": \"white\", \"linecolor\": \"white\", \"ticks\": \"\", \"title\": {\"standoff\": 15}, \"zerolinecolor\": \"white\", \"zerolinewidth\": 2}, \"yaxis\": {\"automargin\": true, \"gridcolor\": \"white\", \"linecolor\": \"white\", \"ticks\": \"\", \"title\": {\"standoff\": 15}, \"zerolinecolor\": \"white\", \"zerolinewidth\": 2}}}, \"title\": {\"text\": \"Test Accuracy by model name\"}, \"xaxis\": {\"anchor\": \"y\", \"domain\": [0.0, 1.0], \"title\": {\"text\": \"Model No.\"}}, \"yaxis\": {\"anchor\": \"x\", \"domain\": [0.0, 1.0], \"title\": {\"text\": \"Accuracy\"}}},                        {\"responsive\": true}                    ).then(function(){\n",
       "                            \n",
       "var gd = document.getElementById('081c0068-3fff-40b0-a052-51eedb7340c8');\n",
       "var x = new MutationObserver(function (mutations, observer) {{\n",
       "        var display = window.getComputedStyle(gd).display;\n",
       "        if (!display || display === 'none') {{\n",
       "            console.log([gd, 'removed!']);\n",
       "            Plotly.purge(gd);\n",
       "            observer.disconnect();\n",
       "        }}\n",
       "}});\n",
       "\n",
       "// Listen for the removal of the full notebook cells\n",
       "var notebookContainer = gd.closest('#notebook-container');\n",
       "if (notebookContainer) {{\n",
       "    x.observe(notebookContainer, {childList: true});\n",
       "}}\n",
       "\n",
       "// Listen for the clearing of the current output cell\n",
       "var outputEl = gd.closest('.output');\n",
       "if (outputEl) {{\n",
       "    x.observe(outputEl, {childList: true});\n",
       "}}\n",
       "\n",
       "                        })                };                });            </script>        </div>"
      ]
     },
     "metadata": {},
     "output_type": "display_data"
    }
   ],
   "source": [
    "# accuracy plot with plotly for dashboard\n",
    "fig = px.bar(df_plot.sort_values('Accuracy'), x='Model No.', \n",
    "             y='Accuracy', color='Accuracy Metric', \n",
    "             barmode='group',\n",
    "             hover_name='Model No.',\n",
    "             hover_data=['Model Name', 'Data'],\n",
    "             title='Test Accuracy by model name')\n",
    "\n",
    "fig.update_layout(\n",
    "    legend=dict(\n",
    "        yanchor=\"top\",\n",
    "        y=0.99,\n",
    "        xanchor=\"left\",\n",
    "        x=0.01\n",
    "    ),\n",
    "    annotations = [\n",
    "        dict(xref='paper',\n",
    "             yref='paper',\n",
    "             x=0, y=1.13,\n",
    "             showarrow=False,\n",
    "             text ='Hover to see Model Name and Dataset'\n",
    "        )\n",
    "    ]\n",
    ")\n"
   ]
  },
  {
   "cell_type": "markdown",
   "id": "floppy-attention",
   "metadata": {},
   "source": [
    "## Rebuild best model"
   ]
  },
  {
   "cell_type": "code",
   "execution_count": 153,
   "id": "express-atmosphere",
   "metadata": {},
   "outputs": [],
   "source": [
    "# Import model generator function\n",
    "from training_scripts.remote.models import MODELS"
   ]
  },
  {
   "cell_type": "code",
   "execution_count": 154,
   "id": "accredited-answer",
   "metadata": {},
   "outputs": [
    {
     "data": {
      "text/plain": [
       "loss                         [5.497860908508301, 4.885035991668701, 4.38679...\n",
       "categorical_accuracy         [0.011783854104578495, 0.03430989757180214, 0....\n",
       "top_3_accuracy               [0.03079427033662796, 0.08678385615348816, 0.1...\n",
       "top_5_accuracy               [0.04804687574505806, 0.13105468451976776, 0.2...\n",
       "val_loss                     [5.5985918045043945, 4.945390701293945, 4.7319...\n",
       "val_categorical_accuracy     [0.01308139506727457, 0.046148255467414856, 0....\n",
       "val_top_3_accuracy           [0.037427324801683426, 0.10792151093482971, 0....\n",
       "val_top_5_accuracy           [0.055959302932024, 0.1587935984134674, 0.2601...\n",
       "lr                           [0.001, 0.001, 0.001, 0.001, 0.001, 0.001, 0.0...\n",
       "data_subset                                         kaggle_full_length_npy_aug\n",
       "test_categorical_accuracy                                             0.600625\n",
       "test_top_3_accuracy                                                   0.740625\n",
       "test_top_5_accuracy                                                     0.7925\n",
       "model_name                                                 milsed_7block_dense\n",
       "Name: birdsongs_2_1618597659_27bfc8cd, dtype: object"
      ]
     },
     "execution_count": 154,
     "metadata": {},
     "output_type": "execute_result"
    }
   ],
   "source": [
    "# Get best model\n",
    "best_model = df_metrics.sort_values('test_categorical_accuracy').iloc[-1]\n",
    "best_model"
   ]
  },
  {
   "cell_type": "code",
   "execution_count": 155,
   "id": "scenic-specialist",
   "metadata": {},
   "outputs": [],
   "source": [
    "fname = f'model_data/{best_model.model_name}-{best_model.name}.h5'"
   ]
  },
  {
   "cell_type": "code",
   "execution_count": 156,
   "id": "cosmetic-hotel",
   "metadata": {},
   "outputs": [],
   "source": [
    "model = MODELS[df_metrics.loc[idx].model_name]()"
   ]
  },
  {
   "cell_type": "code",
   "execution_count": 157,
   "id": "waiting-telescope",
   "metadata": {},
   "outputs": [],
   "source": [
    "model.load_weights(fname)"
   ]
  },
  {
   "cell_type": "raw",
   "id": "downtown-broadcast",
   "metadata": {},
   "source": [
    "for idx in df_metrics.index:\n",
    "    fname = f'model_data/{best_model.model_name}-{best_model.name}.h5'\n",
    "    model = MODELS[df_metrics.loc[idx].model_name]()\n",
    "    \n",
    "    try:\n",
    "        model.load_weights(fname)\n",
    "    except:\n",
    "        print('Could not load model from run ', idx)"
   ]
  },
  {
   "cell_type": "code",
   "execution_count": 158,
   "id": "civic-workshop",
   "metadata": {},
   "outputs": [
    {
     "name": "stdout",
     "output_type": "stream",
     "text": [
      "Model: \"sequential_1\"\n",
      "_________________________________________________________________\n",
      "Layer (type)                 Output Shape              Param #   \n",
      "=================================================================\n",
      "stft_1 (STFT)                (None, 427, 1025, 1)      0         \n",
      "_________________________________________________________________\n",
      "magnitude_1 (Magnitude)      (None, 427, 1025, 1)      0         \n",
      "_________________________________________________________________\n",
      "apply_filterbank_1 (ApplyFil (None, 427, 256, 1)       0         \n",
      "_________________________________________________________________\n",
      "magnitude_to_decibel_1 (Magn (None, 427, 256, 1)       0         \n",
      "_________________________________________________________________\n",
      "batch_normalization_15 (Batc (None, 427, 256, 1)       4         \n",
      "_________________________________________________________________\n",
      "conv2d_14 (Conv2D)           (None, 427, 256, 16)      160       \n",
      "_________________________________________________________________\n",
      "batch_normalization_16 (Batc (None, 427, 256, 16)      64        \n",
      "_________________________________________________________________\n",
      "conv2d_15 (Conv2D)           (None, 427, 256, 16)      2320      \n",
      "_________________________________________________________________\n",
      "batch_normalization_17 (Batc (None, 427, 256, 16)      64        \n",
      "_________________________________________________________________\n",
      "max_pooling2d_7 (MaxPooling2 (None, 213, 128, 16)      0         \n",
      "_________________________________________________________________\n",
      "conv2d_16 (Conv2D)           (None, 213, 128, 32)      4640      \n",
      "_________________________________________________________________\n",
      "batch_normalization_18 (Batc (None, 213, 128, 32)      128       \n",
      "_________________________________________________________________\n",
      "conv2d_17 (Conv2D)           (None, 213, 128, 32)      9248      \n",
      "_________________________________________________________________\n",
      "batch_normalization_19 (Batc (None, 213, 128, 32)      128       \n",
      "_________________________________________________________________\n",
      "max_pooling2d_8 (MaxPooling2 (None, 106, 64, 32)       0         \n",
      "_________________________________________________________________\n",
      "conv2d_18 (Conv2D)           (None, 106, 64, 64)       18496     \n",
      "_________________________________________________________________\n",
      "batch_normalization_20 (Batc (None, 106, 64, 64)       256       \n",
      "_________________________________________________________________\n",
      "conv2d_19 (Conv2D)           (None, 106, 64, 64)       36928     \n",
      "_________________________________________________________________\n",
      "batch_normalization_21 (Batc (None, 106, 64, 64)       256       \n",
      "_________________________________________________________________\n",
      "max_pooling2d_9 (MaxPooling2 (None, 53, 32, 64)        0         \n",
      "_________________________________________________________________\n",
      "conv2d_20 (Conv2D)           (None, 53, 32, 128)       73856     \n",
      "_________________________________________________________________\n",
      "batch_normalization_22 (Batc (None, 53, 32, 128)       512       \n",
      "_________________________________________________________________\n",
      "conv2d_21 (Conv2D)           (None, 53, 32, 128)       147584    \n",
      "_________________________________________________________________\n",
      "batch_normalization_23 (Batc (None, 53, 32, 128)       512       \n",
      "_________________________________________________________________\n",
      "max_pooling2d_10 (MaxPooling (None, 26, 16, 128)       0         \n",
      "_________________________________________________________________\n",
      "conv2d_22 (Conv2D)           (None, 26, 16, 256)       295168    \n",
      "_________________________________________________________________\n",
      "batch_normalization_24 (Batc (None, 26, 16, 256)       1024      \n",
      "_________________________________________________________________\n",
      "conv2d_23 (Conv2D)           (None, 26, 16, 256)       590080    \n",
      "_________________________________________________________________\n",
      "batch_normalization_25 (Batc (None, 26, 16, 256)       1024      \n",
      "_________________________________________________________________\n",
      "max_pooling2d_11 (MaxPooling (None, 13, 8, 256)        0         \n",
      "_________________________________________________________________\n",
      "conv2d_24 (Conv2D)           (None, 13, 8, 512)        1180160   \n",
      "_________________________________________________________________\n",
      "batch_normalization_26 (Batc (None, 13, 8, 512)        2048      \n",
      "_________________________________________________________________\n",
      "conv2d_25 (Conv2D)           (None, 13, 8, 512)        2359808   \n",
      "_________________________________________________________________\n",
      "batch_normalization_27 (Batc (None, 13, 8, 512)        2048      \n",
      "_________________________________________________________________\n",
      "max_pooling2d_12 (MaxPooling (None, 6, 4, 512)         0         \n",
      "_________________________________________________________________\n",
      "conv2d_26 (Conv2D)           (None, 6, 4, 1024)        4719616   \n",
      "_________________________________________________________________\n",
      "batch_normalization_28 (Batc (None, 6, 4, 1024)        4096      \n",
      "_________________________________________________________________\n",
      "conv2d_27 (Conv2D)           (None, 6, 4, 1024)        9438208   \n",
      "_________________________________________________________________\n",
      "batch_normalization_29 (Batc (None, 6, 4, 1024)        4096      \n",
      "_________________________________________________________________\n",
      "max_pooling2d_13 (MaxPooling (None, 3, 2, 1024)        0         \n",
      "_________________________________________________________________\n",
      "global_max_pooling2d_1 (Glob (None, 1024)              0         \n",
      "_________________________________________________________________\n",
      "dense_3 (Dense)              (None, 1028)              1053700   \n",
      "_________________________________________________________________\n",
      "dense_4 (Dense)              (None, 512)               526848    \n",
      "_________________________________________________________________\n",
      "dense_5 (Dense)              (None, 264)               135432    \n",
      "=================================================================\n",
      "Total params: 20,608,512\n",
      "Trainable params: 20,600,382\n",
      "Non-trainable params: 8,130\n",
      "_________________________________________________________________\n"
     ]
    }
   ],
   "source": [
    "model.summary()"
   ]
  },
  {
   "cell_type": "raw",
   "id": "rental-temperature",
   "metadata": {},
   "source": [
    "import seaborn as sns\n",
    "\n",
    "df_tmp = df_plot[df_plot['Model Name'] == 'cnn1_audin_nmel_dcbl_2']\n",
    "\n",
    "with plt.style.context('fivethirtyeight'), sns.plotting_context(\"talk\", font_scale=1):\n",
    "\n",
    "    fig = plt.figure(figsize=(7,4))\n",
    "    sns.barplot(data=df_tmp, \n",
    "                x='Accuracy Metric', \n",
    "                y='Accuracy',\n",
    "                color='#446652')\n",
    "    \n",
    "    plt.xticks([0,1,2], ['Categorical\\nAccuracy',\n",
    "                         'Top 3\\nCategorical\\nAccuracy',\n",
    "                         'Top 5\\nCategorical\\nAccuracy'])\n",
    "\n",
    "    \n",
    "    # get axis\n",
    "    ax = plt.gca()\n",
    "    \n",
    "    # remove ticks and frame\n",
    "    ax.tick_params(axis='both', bottom=False, left=False)\n",
    "    plt.box(False)\n",
    "    \n",
    "    # Make Transparent\n",
    "    fig.set_facecolor('None')\n",
    "    ax.set_facecolor('None')"
   ]
  },
  {
   "cell_type": "code",
   "execution_count": 325,
   "id": "governmental-vision",
   "metadata": {},
   "outputs": [
    {
     "data": {
      "application/vnd.plotly.v1+json": {
       "config": {
        "plotlyServerURL": "https://plot.ly"
       },
       "data": [
        {
         "alignmentgroup": "True",
         "hovertemplate": "Accuracy Metric=%{x}<br>Accuracy=%{y}<extra></extra>",
         "legendgroup": "",
         "marker": {
          "color": "#EFCC91"
         },
         "name": "",
         "offsetgroup": "",
         "orientation": "v",
         "showlegend": false,
         "textposition": "auto",
         "type": "bar",
         "x": [
          "Categorical Accuracy",
          "Top 3 Categorical Accuracy",
          "Top 5 Categorical Accuracy"
         ],
         "xaxis": "x",
         "y": [
          0.26875001192092896,
          0.44624999165534973,
          0.5406249761581421
         ],
         "yaxis": "y"
        }
       ],
       "layout": {
        "barmode": "group",
        "height": 400,
        "legend": {
         "tracegroupgap": 0,
         "x": -0.7,
         "xanchor": "left",
         "y": 1,
         "yanchor": "top"
        },
        "paper_bgcolor": "rgba(0,0,0,0)",
        "plot_bgcolor": "rgba(0,0,0,0)",
        "template": {
         "data": {
          "bar": [
           {
            "error_x": {
             "color": "#2a3f5f"
            },
            "error_y": {
             "color": "#2a3f5f"
            },
            "marker": {
             "line": {
              "color": "#E5ECF6",
              "width": 0.5
             }
            },
            "type": "bar"
           }
          ],
          "barpolar": [
           {
            "marker": {
             "line": {
              "color": "#E5ECF6",
              "width": 0.5
             }
            },
            "type": "barpolar"
           }
          ],
          "carpet": [
           {
            "aaxis": {
             "endlinecolor": "#2a3f5f",
             "gridcolor": "white",
             "linecolor": "white",
             "minorgridcolor": "white",
             "startlinecolor": "#2a3f5f"
            },
            "baxis": {
             "endlinecolor": "#2a3f5f",
             "gridcolor": "white",
             "linecolor": "white",
             "minorgridcolor": "white",
             "startlinecolor": "#2a3f5f"
            },
            "type": "carpet"
           }
          ],
          "choropleth": [
           {
            "colorbar": {
             "outlinewidth": 0,
             "ticks": ""
            },
            "type": "choropleth"
           }
          ],
          "contour": [
           {
            "colorbar": {
             "outlinewidth": 0,
             "ticks": ""
            },
            "colorscale": [
             [
              0,
              "#0d0887"
             ],
             [
              0.1111111111111111,
              "#46039f"
             ],
             [
              0.2222222222222222,
              "#7201a8"
             ],
             [
              0.3333333333333333,
              "#9c179e"
             ],
             [
              0.4444444444444444,
              "#bd3786"
             ],
             [
              0.5555555555555556,
              "#d8576b"
             ],
             [
              0.6666666666666666,
              "#ed7953"
             ],
             [
              0.7777777777777778,
              "#fb9f3a"
             ],
             [
              0.8888888888888888,
              "#fdca26"
             ],
             [
              1,
              "#f0f921"
             ]
            ],
            "type": "contour"
           }
          ],
          "contourcarpet": [
           {
            "colorbar": {
             "outlinewidth": 0,
             "ticks": ""
            },
            "type": "contourcarpet"
           }
          ],
          "heatmap": [
           {
            "colorbar": {
             "outlinewidth": 0,
             "ticks": ""
            },
            "colorscale": [
             [
              0,
              "#0d0887"
             ],
             [
              0.1111111111111111,
              "#46039f"
             ],
             [
              0.2222222222222222,
              "#7201a8"
             ],
             [
              0.3333333333333333,
              "#9c179e"
             ],
             [
              0.4444444444444444,
              "#bd3786"
             ],
             [
              0.5555555555555556,
              "#d8576b"
             ],
             [
              0.6666666666666666,
              "#ed7953"
             ],
             [
              0.7777777777777778,
              "#fb9f3a"
             ],
             [
              0.8888888888888888,
              "#fdca26"
             ],
             [
              1,
              "#f0f921"
             ]
            ],
            "type": "heatmap"
           }
          ],
          "heatmapgl": [
           {
            "colorbar": {
             "outlinewidth": 0,
             "ticks": ""
            },
            "colorscale": [
             [
              0,
              "#0d0887"
             ],
             [
              0.1111111111111111,
              "#46039f"
             ],
             [
              0.2222222222222222,
              "#7201a8"
             ],
             [
              0.3333333333333333,
              "#9c179e"
             ],
             [
              0.4444444444444444,
              "#bd3786"
             ],
             [
              0.5555555555555556,
              "#d8576b"
             ],
             [
              0.6666666666666666,
              "#ed7953"
             ],
             [
              0.7777777777777778,
              "#fb9f3a"
             ],
             [
              0.8888888888888888,
              "#fdca26"
             ],
             [
              1,
              "#f0f921"
             ]
            ],
            "type": "heatmapgl"
           }
          ],
          "histogram": [
           {
            "marker": {
             "colorbar": {
              "outlinewidth": 0,
              "ticks": ""
             }
            },
            "type": "histogram"
           }
          ],
          "histogram2d": [
           {
            "colorbar": {
             "outlinewidth": 0,
             "ticks": ""
            },
            "colorscale": [
             [
              0,
              "#0d0887"
             ],
             [
              0.1111111111111111,
              "#46039f"
             ],
             [
              0.2222222222222222,
              "#7201a8"
             ],
             [
              0.3333333333333333,
              "#9c179e"
             ],
             [
              0.4444444444444444,
              "#bd3786"
             ],
             [
              0.5555555555555556,
              "#d8576b"
             ],
             [
              0.6666666666666666,
              "#ed7953"
             ],
             [
              0.7777777777777778,
              "#fb9f3a"
             ],
             [
              0.8888888888888888,
              "#fdca26"
             ],
             [
              1,
              "#f0f921"
             ]
            ],
            "type": "histogram2d"
           }
          ],
          "histogram2dcontour": [
           {
            "colorbar": {
             "outlinewidth": 0,
             "ticks": ""
            },
            "colorscale": [
             [
              0,
              "#0d0887"
             ],
             [
              0.1111111111111111,
              "#46039f"
             ],
             [
              0.2222222222222222,
              "#7201a8"
             ],
             [
              0.3333333333333333,
              "#9c179e"
             ],
             [
              0.4444444444444444,
              "#bd3786"
             ],
             [
              0.5555555555555556,
              "#d8576b"
             ],
             [
              0.6666666666666666,
              "#ed7953"
             ],
             [
              0.7777777777777778,
              "#fb9f3a"
             ],
             [
              0.8888888888888888,
              "#fdca26"
             ],
             [
              1,
              "#f0f921"
             ]
            ],
            "type": "histogram2dcontour"
           }
          ],
          "mesh3d": [
           {
            "colorbar": {
             "outlinewidth": 0,
             "ticks": ""
            },
            "type": "mesh3d"
           }
          ],
          "parcoords": [
           {
            "line": {
             "colorbar": {
              "outlinewidth": 0,
              "ticks": ""
             }
            },
            "type": "parcoords"
           }
          ],
          "pie": [
           {
            "automargin": true,
            "type": "pie"
           }
          ],
          "scatter": [
           {
            "marker": {
             "colorbar": {
              "outlinewidth": 0,
              "ticks": ""
             }
            },
            "type": "scatter"
           }
          ],
          "scatter3d": [
           {
            "line": {
             "colorbar": {
              "outlinewidth": 0,
              "ticks": ""
             }
            },
            "marker": {
             "colorbar": {
              "outlinewidth": 0,
              "ticks": ""
             }
            },
            "type": "scatter3d"
           }
          ],
          "scattercarpet": [
           {
            "marker": {
             "colorbar": {
              "outlinewidth": 0,
              "ticks": ""
             }
            },
            "type": "scattercarpet"
           }
          ],
          "scattergeo": [
           {
            "marker": {
             "colorbar": {
              "outlinewidth": 0,
              "ticks": ""
             }
            },
            "type": "scattergeo"
           }
          ],
          "scattergl": [
           {
            "marker": {
             "colorbar": {
              "outlinewidth": 0,
              "ticks": ""
             }
            },
            "type": "scattergl"
           }
          ],
          "scattermapbox": [
           {
            "marker": {
             "colorbar": {
              "outlinewidth": 0,
              "ticks": ""
             }
            },
            "type": "scattermapbox"
           }
          ],
          "scatterpolar": [
           {
            "marker": {
             "colorbar": {
              "outlinewidth": 0,
              "ticks": ""
             }
            },
            "type": "scatterpolar"
           }
          ],
          "scatterpolargl": [
           {
            "marker": {
             "colorbar": {
              "outlinewidth": 0,
              "ticks": ""
             }
            },
            "type": "scatterpolargl"
           }
          ],
          "scatterternary": [
           {
            "marker": {
             "colorbar": {
              "outlinewidth": 0,
              "ticks": ""
             }
            },
            "type": "scatterternary"
           }
          ],
          "surface": [
           {
            "colorbar": {
             "outlinewidth": 0,
             "ticks": ""
            },
            "colorscale": [
             [
              0,
              "#0d0887"
             ],
             [
              0.1111111111111111,
              "#46039f"
             ],
             [
              0.2222222222222222,
              "#7201a8"
             ],
             [
              0.3333333333333333,
              "#9c179e"
             ],
             [
              0.4444444444444444,
              "#bd3786"
             ],
             [
              0.5555555555555556,
              "#d8576b"
             ],
             [
              0.6666666666666666,
              "#ed7953"
             ],
             [
              0.7777777777777778,
              "#fb9f3a"
             ],
             [
              0.8888888888888888,
              "#fdca26"
             ],
             [
              1,
              "#f0f921"
             ]
            ],
            "type": "surface"
           }
          ],
          "table": [
           {
            "cells": {
             "fill": {
              "color": "#EBF0F8"
             },
             "line": {
              "color": "white"
             }
            },
            "header": {
             "fill": {
              "color": "#C8D4E3"
             },
             "line": {
              "color": "white"
             }
            },
            "type": "table"
           }
          ]
         },
         "layout": {
          "annotationdefaults": {
           "arrowcolor": "#2a3f5f",
           "arrowhead": 0,
           "arrowwidth": 1
          },
          "autotypenumbers": "strict",
          "coloraxis": {
           "colorbar": {
            "outlinewidth": 0,
            "ticks": ""
           }
          },
          "colorscale": {
           "diverging": [
            [
             0,
             "#8e0152"
            ],
            [
             0.1,
             "#c51b7d"
            ],
            [
             0.2,
             "#de77ae"
            ],
            [
             0.3,
             "#f1b6da"
            ],
            [
             0.4,
             "#fde0ef"
            ],
            [
             0.5,
             "#f7f7f7"
            ],
            [
             0.6,
             "#e6f5d0"
            ],
            [
             0.7,
             "#b8e186"
            ],
            [
             0.8,
             "#7fbc41"
            ],
            [
             0.9,
             "#4d9221"
            ],
            [
             1,
             "#276419"
            ]
           ],
           "sequential": [
            [
             0,
             "#0d0887"
            ],
            [
             0.1111111111111111,
             "#46039f"
            ],
            [
             0.2222222222222222,
             "#7201a8"
            ],
            [
             0.3333333333333333,
             "#9c179e"
            ],
            [
             0.4444444444444444,
             "#bd3786"
            ],
            [
             0.5555555555555556,
             "#d8576b"
            ],
            [
             0.6666666666666666,
             "#ed7953"
            ],
            [
             0.7777777777777778,
             "#fb9f3a"
            ],
            [
             0.8888888888888888,
             "#fdca26"
            ],
            [
             1,
             "#f0f921"
            ]
           ],
           "sequentialminus": [
            [
             0,
             "#0d0887"
            ],
            [
             0.1111111111111111,
             "#46039f"
            ],
            [
             0.2222222222222222,
             "#7201a8"
            ],
            [
             0.3333333333333333,
             "#9c179e"
            ],
            [
             0.4444444444444444,
             "#bd3786"
            ],
            [
             0.5555555555555556,
             "#d8576b"
            ],
            [
             0.6666666666666666,
             "#ed7953"
            ],
            [
             0.7777777777777778,
             "#fb9f3a"
            ],
            [
             0.8888888888888888,
             "#fdca26"
            ],
            [
             1,
             "#f0f921"
            ]
           ]
          },
          "colorway": [
           "#636efa",
           "#EF553B",
           "#00cc96",
           "#ab63fa",
           "#FFA15A",
           "#19d3f3",
           "#FF6692",
           "#B6E880",
           "#FF97FF",
           "#FECB52"
          ],
          "font": {
           "color": "#2a3f5f"
          },
          "geo": {
           "bgcolor": "white",
           "lakecolor": "white",
           "landcolor": "#E5ECF6",
           "showlakes": true,
           "showland": true,
           "subunitcolor": "white"
          },
          "hoverlabel": {
           "align": "left"
          },
          "hovermode": "closest",
          "mapbox": {
           "style": "light"
          },
          "paper_bgcolor": "white",
          "plot_bgcolor": "#E5ECF6",
          "polar": {
           "angularaxis": {
            "gridcolor": "white",
            "linecolor": "white",
            "ticks": ""
           },
           "bgcolor": "#E5ECF6",
           "radialaxis": {
            "gridcolor": "white",
            "linecolor": "white",
            "ticks": ""
           }
          },
          "scene": {
           "xaxis": {
            "backgroundcolor": "#E5ECF6",
            "gridcolor": "white",
            "gridwidth": 2,
            "linecolor": "white",
            "showbackground": true,
            "ticks": "",
            "zerolinecolor": "white"
           },
           "yaxis": {
            "backgroundcolor": "#E5ECF6",
            "gridcolor": "white",
            "gridwidth": 2,
            "linecolor": "white",
            "showbackground": true,
            "ticks": "",
            "zerolinecolor": "white"
           },
           "zaxis": {
            "backgroundcolor": "#E5ECF6",
            "gridcolor": "white",
            "gridwidth": 2,
            "linecolor": "white",
            "showbackground": true,
            "ticks": "",
            "zerolinecolor": "white"
           }
          },
          "shapedefaults": {
           "line": {
            "color": "#2a3f5f"
           }
          },
          "ternary": {
           "aaxis": {
            "gridcolor": "white",
            "linecolor": "white",
            "ticks": ""
           },
           "baxis": {
            "gridcolor": "white",
            "linecolor": "white",
            "ticks": ""
           },
           "bgcolor": "#E5ECF6",
           "caxis": {
            "gridcolor": "white",
            "linecolor": "white",
            "ticks": ""
           }
          },
          "title": {
           "x": 0.05
          },
          "xaxis": {
           "automargin": true,
           "gridcolor": "white",
           "linecolor": "white",
           "ticks": "",
           "title": {
            "standoff": 15
           },
           "zerolinecolor": "white",
           "zerolinewidth": 2
          },
          "yaxis": {
           "automargin": true,
           "gridcolor": "white",
           "linecolor": "white",
           "ticks": "",
           "title": {
            "standoff": 15
           },
           "zerolinecolor": "white",
           "zerolinewidth": 2
          }
         }
        },
        "title": {
         "text": "Best Model Accuracy"
        },
        "width": 700,
        "xaxis": {
         "anchor": "y",
         "domain": [
          0,
          1
         ],
         "title": {
          "text": "Accuracy Metric"
         }
        },
        "yaxis": {
         "anchor": "x",
         "domain": [
          0,
          1
         ],
         "title": {
          "text": "Accuracy"
         }
        }
       }
      },
      "text/html": [
       "<div>                            <div id=\"bcbcd92e-df7f-4924-bb4f-c210a26bd05c\" class=\"plotly-graph-div\" style=\"height:400px; width:700px;\"></div>            <script type=\"text/javascript\">                require([\"plotly\"], function(Plotly) {                    window.PLOTLYENV=window.PLOTLYENV || {};                                    if (document.getElementById(\"bcbcd92e-df7f-4924-bb4f-c210a26bd05c\")) {                    Plotly.newPlot(                        \"bcbcd92e-df7f-4924-bb4f-c210a26bd05c\",                        [{\"alignmentgroup\": \"True\", \"hovertemplate\": \"Accuracy Metric=%{x}<br>Accuracy=%{y}<extra></extra>\", \"legendgroup\": \"\", \"marker\": {\"color\": \"#EFCC91\"}, \"name\": \"\", \"offsetgroup\": \"\", \"orientation\": \"v\", \"showlegend\": false, \"textposition\": \"auto\", \"type\": \"bar\", \"x\": [\"Categorical Accuracy\", \"Top 3 Categorical Accuracy\", \"Top 5 Categorical Accuracy\"], \"xaxis\": \"x\", \"y\": [0.26875001192092896, 0.44624999165534973, 0.5406249761581421], \"yaxis\": \"y\"}],                        {\"barmode\": \"group\", \"height\": 400, \"legend\": {\"tracegroupgap\": 0, \"x\": -0.7, \"xanchor\": \"left\", \"y\": 1, \"yanchor\": \"top\"}, \"paper_bgcolor\": \"rgba(0,0,0,0)\", \"plot_bgcolor\": \"rgba(0,0,0,0)\", \"template\": {\"data\": {\"bar\": [{\"error_x\": {\"color\": \"#2a3f5f\"}, \"error_y\": {\"color\": \"#2a3f5f\"}, \"marker\": {\"line\": {\"color\": \"#E5ECF6\", \"width\": 0.5}}, \"type\": \"bar\"}], \"barpolar\": [{\"marker\": {\"line\": {\"color\": \"#E5ECF6\", \"width\": 0.5}}, \"type\": \"barpolar\"}], \"carpet\": [{\"aaxis\": {\"endlinecolor\": \"#2a3f5f\", \"gridcolor\": \"white\", \"linecolor\": \"white\", \"minorgridcolor\": \"white\", \"startlinecolor\": \"#2a3f5f\"}, \"baxis\": {\"endlinecolor\": \"#2a3f5f\", \"gridcolor\": \"white\", \"linecolor\": \"white\", \"minorgridcolor\": \"white\", \"startlinecolor\": \"#2a3f5f\"}, \"type\": \"carpet\"}], \"choropleth\": [{\"colorbar\": {\"outlinewidth\": 0, \"ticks\": \"\"}, \"type\": \"choropleth\"}], \"contour\": [{\"colorbar\": {\"outlinewidth\": 0, \"ticks\": \"\"}, \"colorscale\": [[0.0, \"#0d0887\"], [0.1111111111111111, \"#46039f\"], [0.2222222222222222, \"#7201a8\"], [0.3333333333333333, \"#9c179e\"], [0.4444444444444444, \"#bd3786\"], [0.5555555555555556, \"#d8576b\"], [0.6666666666666666, \"#ed7953\"], [0.7777777777777778, \"#fb9f3a\"], [0.8888888888888888, \"#fdca26\"], [1.0, \"#f0f921\"]], \"type\": \"contour\"}], \"contourcarpet\": [{\"colorbar\": {\"outlinewidth\": 0, \"ticks\": \"\"}, \"type\": \"contourcarpet\"}], \"heatmap\": [{\"colorbar\": {\"outlinewidth\": 0, \"ticks\": \"\"}, \"colorscale\": [[0.0, \"#0d0887\"], [0.1111111111111111, \"#46039f\"], [0.2222222222222222, \"#7201a8\"], [0.3333333333333333, \"#9c179e\"], [0.4444444444444444, \"#bd3786\"], [0.5555555555555556, \"#d8576b\"], [0.6666666666666666, \"#ed7953\"], [0.7777777777777778, \"#fb9f3a\"], [0.8888888888888888, \"#fdca26\"], [1.0, \"#f0f921\"]], \"type\": \"heatmap\"}], \"heatmapgl\": [{\"colorbar\": {\"outlinewidth\": 0, \"ticks\": \"\"}, \"colorscale\": [[0.0, \"#0d0887\"], [0.1111111111111111, \"#46039f\"], [0.2222222222222222, \"#7201a8\"], [0.3333333333333333, \"#9c179e\"], [0.4444444444444444, \"#bd3786\"], [0.5555555555555556, \"#d8576b\"], [0.6666666666666666, \"#ed7953\"], [0.7777777777777778, \"#fb9f3a\"], [0.8888888888888888, \"#fdca26\"], [1.0, \"#f0f921\"]], \"type\": \"heatmapgl\"}], \"histogram\": [{\"marker\": {\"colorbar\": {\"outlinewidth\": 0, \"ticks\": \"\"}}, \"type\": \"histogram\"}], \"histogram2d\": [{\"colorbar\": {\"outlinewidth\": 0, \"ticks\": \"\"}, \"colorscale\": [[0.0, \"#0d0887\"], [0.1111111111111111, \"#46039f\"], [0.2222222222222222, \"#7201a8\"], [0.3333333333333333, \"#9c179e\"], [0.4444444444444444, \"#bd3786\"], [0.5555555555555556, \"#d8576b\"], [0.6666666666666666, \"#ed7953\"], [0.7777777777777778, \"#fb9f3a\"], [0.8888888888888888, \"#fdca26\"], [1.0, \"#f0f921\"]], \"type\": \"histogram2d\"}], \"histogram2dcontour\": [{\"colorbar\": {\"outlinewidth\": 0, \"ticks\": \"\"}, \"colorscale\": [[0.0, \"#0d0887\"], [0.1111111111111111, \"#46039f\"], [0.2222222222222222, \"#7201a8\"], [0.3333333333333333, \"#9c179e\"], [0.4444444444444444, \"#bd3786\"], [0.5555555555555556, \"#d8576b\"], [0.6666666666666666, \"#ed7953\"], [0.7777777777777778, \"#fb9f3a\"], [0.8888888888888888, \"#fdca26\"], [1.0, \"#f0f921\"]], \"type\": \"histogram2dcontour\"}], \"mesh3d\": [{\"colorbar\": {\"outlinewidth\": 0, \"ticks\": \"\"}, \"type\": \"mesh3d\"}], \"parcoords\": [{\"line\": {\"colorbar\": {\"outlinewidth\": 0, \"ticks\": \"\"}}, \"type\": \"parcoords\"}], \"pie\": [{\"automargin\": true, \"type\": \"pie\"}], \"scatter\": [{\"marker\": {\"colorbar\": {\"outlinewidth\": 0, \"ticks\": \"\"}}, \"type\": \"scatter\"}], \"scatter3d\": [{\"line\": {\"colorbar\": {\"outlinewidth\": 0, \"ticks\": \"\"}}, \"marker\": {\"colorbar\": {\"outlinewidth\": 0, \"ticks\": \"\"}}, \"type\": \"scatter3d\"}], \"scattercarpet\": [{\"marker\": {\"colorbar\": {\"outlinewidth\": 0, \"ticks\": \"\"}}, \"type\": \"scattercarpet\"}], \"scattergeo\": [{\"marker\": {\"colorbar\": {\"outlinewidth\": 0, \"ticks\": \"\"}}, \"type\": \"scattergeo\"}], \"scattergl\": [{\"marker\": {\"colorbar\": {\"outlinewidth\": 0, \"ticks\": \"\"}}, \"type\": \"scattergl\"}], \"scattermapbox\": [{\"marker\": {\"colorbar\": {\"outlinewidth\": 0, \"ticks\": \"\"}}, \"type\": \"scattermapbox\"}], \"scatterpolar\": [{\"marker\": {\"colorbar\": {\"outlinewidth\": 0, \"ticks\": \"\"}}, \"type\": \"scatterpolar\"}], \"scatterpolargl\": [{\"marker\": {\"colorbar\": {\"outlinewidth\": 0, \"ticks\": \"\"}}, \"type\": \"scatterpolargl\"}], \"scatterternary\": [{\"marker\": {\"colorbar\": {\"outlinewidth\": 0, \"ticks\": \"\"}}, \"type\": \"scatterternary\"}], \"surface\": [{\"colorbar\": {\"outlinewidth\": 0, \"ticks\": \"\"}, \"colorscale\": [[0.0, \"#0d0887\"], [0.1111111111111111, \"#46039f\"], [0.2222222222222222, \"#7201a8\"], [0.3333333333333333, \"#9c179e\"], [0.4444444444444444, \"#bd3786\"], [0.5555555555555556, \"#d8576b\"], [0.6666666666666666, \"#ed7953\"], [0.7777777777777778, \"#fb9f3a\"], [0.8888888888888888, \"#fdca26\"], [1.0, \"#f0f921\"]], \"type\": \"surface\"}], \"table\": [{\"cells\": {\"fill\": {\"color\": \"#EBF0F8\"}, \"line\": {\"color\": \"white\"}}, \"header\": {\"fill\": {\"color\": \"#C8D4E3\"}, \"line\": {\"color\": \"white\"}}, \"type\": \"table\"}]}, \"layout\": {\"annotationdefaults\": {\"arrowcolor\": \"#2a3f5f\", \"arrowhead\": 0, \"arrowwidth\": 1}, \"autotypenumbers\": \"strict\", \"coloraxis\": {\"colorbar\": {\"outlinewidth\": 0, \"ticks\": \"\"}}, \"colorscale\": {\"diverging\": [[0, \"#8e0152\"], [0.1, \"#c51b7d\"], [0.2, \"#de77ae\"], [0.3, \"#f1b6da\"], [0.4, \"#fde0ef\"], [0.5, \"#f7f7f7\"], [0.6, \"#e6f5d0\"], [0.7, \"#b8e186\"], [0.8, \"#7fbc41\"], [0.9, \"#4d9221\"], [1, \"#276419\"]], \"sequential\": [[0.0, \"#0d0887\"], [0.1111111111111111, \"#46039f\"], [0.2222222222222222, \"#7201a8\"], [0.3333333333333333, \"#9c179e\"], [0.4444444444444444, \"#bd3786\"], [0.5555555555555556, \"#d8576b\"], [0.6666666666666666, \"#ed7953\"], [0.7777777777777778, \"#fb9f3a\"], [0.8888888888888888, \"#fdca26\"], [1.0, \"#f0f921\"]], \"sequentialminus\": [[0.0, \"#0d0887\"], [0.1111111111111111, \"#46039f\"], [0.2222222222222222, \"#7201a8\"], [0.3333333333333333, \"#9c179e\"], [0.4444444444444444, \"#bd3786\"], [0.5555555555555556, \"#d8576b\"], [0.6666666666666666, \"#ed7953\"], [0.7777777777777778, \"#fb9f3a\"], [0.8888888888888888, \"#fdca26\"], [1.0, \"#f0f921\"]]}, \"colorway\": [\"#636efa\", \"#EF553B\", \"#00cc96\", \"#ab63fa\", \"#FFA15A\", \"#19d3f3\", \"#FF6692\", \"#B6E880\", \"#FF97FF\", \"#FECB52\"], \"font\": {\"color\": \"#2a3f5f\"}, \"geo\": {\"bgcolor\": \"white\", \"lakecolor\": \"white\", \"landcolor\": \"#E5ECF6\", \"showlakes\": true, \"showland\": true, \"subunitcolor\": \"white\"}, \"hoverlabel\": {\"align\": \"left\"}, \"hovermode\": \"closest\", \"mapbox\": {\"style\": \"light\"}, \"paper_bgcolor\": \"white\", \"plot_bgcolor\": \"#E5ECF6\", \"polar\": {\"angularaxis\": {\"gridcolor\": \"white\", \"linecolor\": \"white\", \"ticks\": \"\"}, \"bgcolor\": \"#E5ECF6\", \"radialaxis\": {\"gridcolor\": \"white\", \"linecolor\": \"white\", \"ticks\": \"\"}}, \"scene\": {\"xaxis\": {\"backgroundcolor\": \"#E5ECF6\", \"gridcolor\": \"white\", \"gridwidth\": 2, \"linecolor\": \"white\", \"showbackground\": true, \"ticks\": \"\", \"zerolinecolor\": \"white\"}, \"yaxis\": {\"backgroundcolor\": \"#E5ECF6\", \"gridcolor\": \"white\", \"gridwidth\": 2, \"linecolor\": \"white\", \"showbackground\": true, \"ticks\": \"\", \"zerolinecolor\": \"white\"}, \"zaxis\": {\"backgroundcolor\": \"#E5ECF6\", \"gridcolor\": \"white\", \"gridwidth\": 2, \"linecolor\": \"white\", \"showbackground\": true, \"ticks\": \"\", \"zerolinecolor\": \"white\"}}, \"shapedefaults\": {\"line\": {\"color\": \"#2a3f5f\"}}, \"ternary\": {\"aaxis\": {\"gridcolor\": \"white\", \"linecolor\": \"white\", \"ticks\": \"\"}, \"baxis\": {\"gridcolor\": \"white\", \"linecolor\": \"white\", \"ticks\": \"\"}, \"bgcolor\": \"#E5ECF6\", \"caxis\": {\"gridcolor\": \"white\", \"linecolor\": \"white\", \"ticks\": \"\"}}, \"title\": {\"x\": 0.05}, \"xaxis\": {\"automargin\": true, \"gridcolor\": \"white\", \"linecolor\": \"white\", \"ticks\": \"\", \"title\": {\"standoff\": 15}, \"zerolinecolor\": \"white\", \"zerolinewidth\": 2}, \"yaxis\": {\"automargin\": true, \"gridcolor\": \"white\", \"linecolor\": \"white\", \"ticks\": \"\", \"title\": {\"standoff\": 15}, \"zerolinecolor\": \"white\", \"zerolinewidth\": 2}}}, \"title\": {\"text\": \"Best Model Accuracy\"}, \"width\": 700, \"xaxis\": {\"anchor\": \"y\", \"domain\": [0.0, 1.0], \"title\": {\"text\": \"Accuracy Metric\"}}, \"yaxis\": {\"anchor\": \"x\", \"domain\": [0.0, 1.0], \"title\": {\"text\": \"Accuracy\"}}},                        {\"responsive\": true}                    ).then(function(){\n",
       "                            \n",
       "var gd = document.getElementById('bcbcd92e-df7f-4924-bb4f-c210a26bd05c');\n",
       "var x = new MutationObserver(function (mutations, observer) {{\n",
       "        var display = window.getComputedStyle(gd).display;\n",
       "        if (!display || display === 'none') {{\n",
       "            console.log([gd, 'removed!']);\n",
       "            Plotly.purge(gd);\n",
       "            observer.disconnect();\n",
       "        }}\n",
       "}});\n",
       "\n",
       "// Listen for the removal of the full notebook cells\n",
       "var notebookContainer = gd.closest('#notebook-container');\n",
       "if (notebookContainer) {{\n",
       "    x.observe(notebookContainer, {childList: true});\n",
       "}}\n",
       "\n",
       "// Listen for the clearing of the current output cell\n",
       "var outputEl = gd.closest('.output');\n",
       "if (outputEl) {{\n",
       "    x.observe(outputEl, {childList: true});\n",
       "}}\n",
       "\n",
       "                        })                };                });            </script>        </div>"
      ]
     },
     "metadata": {},
     "output_type": "display_data"
    }
   ],
   "source": [
    "colors = ['#B75B37','#8BC3C7','#503653']\n",
    "\n",
    "fig = px.bar(df_tmp, x='Accuracy Metric', \n",
    "             y='Accuracy', \n",
    "             barmode='group', color_discrete_sequence=['#EFCC91'],\n",
    "             width=700, height=400,\n",
    "             title='Best Model Accuracy')\n",
    "\n",
    "fig.update_layout(\n",
    "    legend=dict(\n",
    "        yanchor=\"top\",\n",
    "        y=1,\n",
    "        xanchor=\"left\",\n",
    "        x=-0.7),\n",
    "    paper_bgcolor='rgba(0,0,0,0)',\n",
    "    plot_bgcolor='rgba(0,0,0,0)'\n",
    ")"
   ]
  },
  {
   "cell_type": "markdown",
   "id": "greenhouse-meter",
   "metadata": {},
   "source": [
    "### Best Model Accuracy and Val Accuracy\n",
    "\n",
    "Fix, this works for best model, but in the dashboard it has to work when multiple models are selected.\n",
    "\n",
    "The answer probably still to explode two dataframes but keeping both the mode name and the dataset.\n",
    "The do not need to be concatenated because the traces are added to the model separatly.\n",
    "\n",
    "Wait, this is done in a loop so it can work on a single Series.\n"
   ]
  },
  {
   "cell_type": "code",
   "execution_count": 181,
   "id": "restricted-thursday",
   "metadata": {},
   "outputs": [
    {
     "data": {
      "text/html": [
       "<div>\n",
       "<style scoped>\n",
       "    .dataframe tbody tr th:only-of-type {\n",
       "        vertical-align: middle;\n",
       "    }\n",
       "\n",
       "    .dataframe tbody tr th {\n",
       "        vertical-align: top;\n",
       "    }\n",
       "\n",
       "    .dataframe thead th {\n",
       "        text-align: right;\n",
       "    }\n",
       "</style>\n",
       "<table border=\"1\" class=\"dataframe\">\n",
       "  <thead>\n",
       "    <tr style=\"text-align: right;\">\n",
       "      <th></th>\n",
       "      <th>categorical_accuracy</th>\n",
       "      <th>model</th>\n",
       "    </tr>\n",
       "    <tr>\n",
       "      <th>Epochs</th>\n",
       "      <th></th>\n",
       "      <th></th>\n",
       "    </tr>\n",
       "  </thead>\n",
       "  <tbody>\n",
       "    <tr>\n",
       "      <th>1</th>\n",
       "      <td>0.011784</td>\n",
       "      <td>milsed_7block_dense/kaggle_full_length_npy_aug</td>\n",
       "    </tr>\n",
       "    <tr>\n",
       "      <th>2</th>\n",
       "      <td>0.034310</td>\n",
       "      <td>milsed_7block_dense/kaggle_full_length_npy_aug</td>\n",
       "    </tr>\n",
       "    <tr>\n",
       "      <th>3</th>\n",
       "      <td>0.081315</td>\n",
       "      <td>milsed_7block_dense/kaggle_full_length_npy_aug</td>\n",
       "    </tr>\n",
       "  </tbody>\n",
       "</table>\n",
       "</div>"
      ],
      "text/plain": [
       "        categorical_accuracy                                           model\n",
       "Epochs                                                                      \n",
       "1                   0.011784  milsed_7block_dense/kaggle_full_length_npy_aug\n",
       "2                   0.034310  milsed_7block_dense/kaggle_full_length_npy_aug\n",
       "3                   0.081315  milsed_7block_dense/kaggle_full_length_npy_aug"
      ]
     },
     "execution_count": 181,
     "metadata": {},
     "output_type": "execute_result"
    }
   ],
   "source": [
    "# Create DataFrame for Plotting with plotly\n",
    "df_tmp = pd.DataFrame(best_model['categorical_accuracy'], \n",
    "                      columns=['categorical_accuracy'])\n",
    "df_tmp.index = pd.Series(range(1, len(df_tmp) + 1), name='Epochs')\n",
    "df_tmp['model'] = best_model['model_name'] + '/' + best_model['data_subset']\n",
    "df_tmp.head(3)"
   ]
  },
  {
   "cell_type": "code",
   "execution_count": 169,
   "id": "increased-envelope",
   "metadata": {},
   "outputs": [
    {
     "data": {
      "text/plain": [
       "loss                         [5.497860908508301, 4.885035991668701, 4.38679...\n",
       "categorical_accuracy         [0.011783854104578495, 0.03430989757180214, 0....\n",
       "top_3_accuracy               [0.03079427033662796, 0.08678385615348816, 0.1...\n",
       "top_5_accuracy               [0.04804687574505806, 0.13105468451976776, 0.2...\n",
       "val_loss                     [5.5985918045043945, 4.945390701293945, 4.7319...\n",
       "val_categorical_accuracy     [0.01308139506727457, 0.046148255467414856, 0....\n",
       "val_top_3_accuracy           [0.037427324801683426, 0.10792151093482971, 0....\n",
       "val_top_5_accuracy           [0.055959302932024, 0.1587935984134674, 0.2601...\n",
       "lr                           [0.001, 0.001, 0.001, 0.001, 0.001, 0.001, 0.0...\n",
       "data_subset                                         kaggle_full_length_npy_aug\n",
       "test_categorical_accuracy                                             0.600625\n",
       "test_top_3_accuracy                                                   0.740625\n",
       "test_top_5_accuracy                                                     0.7925\n",
       "model_name                                                 milsed_7block_dense\n",
       "Name: birdsongs_2_1618597659_27bfc8cd, dtype: object"
      ]
     },
     "execution_count": 169,
     "metadata": {},
     "output_type": "execute_result"
    }
   ],
   "source": [
    "best_model"
   ]
  },
  {
   "cell_type": "raw",
   "id": "welsh-medline",
   "metadata": {},
   "source": [
    "best_model[['model_name', \n",
    "             'categorical_accuracy']]"
   ]
  },
  {
   "cell_type": "raw",
   "id": "absent-package",
   "metadata": {},
   "source": [
    "df_tmp = df_models['categorical_accuracy'].explode('categorical_accuracy').reset_index()\n",
    "df_tmp.head()"
   ]
  },
  {
   "cell_type": "code",
   "execution_count": 180,
   "id": "dependent-chick",
   "metadata": {},
   "outputs": [
    {
     "data": {
      "text/html": [
       "<div>\n",
       "<style scoped>\n",
       "    .dataframe tbody tr th:only-of-type {\n",
       "        vertical-align: middle;\n",
       "    }\n",
       "\n",
       "    .dataframe tbody tr th {\n",
       "        vertical-align: top;\n",
       "    }\n",
       "\n",
       "    .dataframe thead th {\n",
       "        text-align: right;\n",
       "    }\n",
       "</style>\n",
       "<table border=\"1\" class=\"dataframe\">\n",
       "  <thead>\n",
       "    <tr style=\"text-align: right;\">\n",
       "      <th></th>\n",
       "      <th>val_categorical_accuracy</th>\n",
       "      <th>model</th>\n",
       "    </tr>\n",
       "    <tr>\n",
       "      <th>Epochs</th>\n",
       "      <th></th>\n",
       "      <th></th>\n",
       "    </tr>\n",
       "  </thead>\n",
       "  <tbody>\n",
       "    <tr>\n",
       "      <th>1</th>\n",
       "      <td>0.013081</td>\n",
       "      <td>milsed_7block_dense/kaggle_full_length_npy_aug</td>\n",
       "    </tr>\n",
       "    <tr>\n",
       "      <th>2</th>\n",
       "      <td>0.046148</td>\n",
       "      <td>milsed_7block_dense/kaggle_full_length_npy_aug</td>\n",
       "    </tr>\n",
       "    <tr>\n",
       "      <th>3</th>\n",
       "      <td>0.079215</td>\n",
       "      <td>milsed_7block_dense/kaggle_full_length_npy_aug</td>\n",
       "    </tr>\n",
       "  </tbody>\n",
       "</table>\n",
       "</div>"
      ],
      "text/plain": [
       "        val_categorical_accuracy  \\\n",
       "Epochs                             \n",
       "1                       0.013081   \n",
       "2                       0.046148   \n",
       "3                       0.079215   \n",
       "\n",
       "                                                 model  \n",
       "Epochs                                                  \n",
       "1       milsed_7block_dense/kaggle_full_length_npy_aug  \n",
       "2       milsed_7block_dense/kaggle_full_length_npy_aug  \n",
       "3       milsed_7block_dense/kaggle_full_length_npy_aug  "
      ]
     },
     "execution_count": 180,
     "metadata": {},
     "output_type": "execute_result"
    }
   ],
   "source": [
    "# Create DataFrame for Plotting with plotly\n",
    "df_tmp_val = pd.DataFrame(best_model['val_categorical_accuracy'], \n",
    "                      columns=['val_categorical_accuracy'])\n",
    "df_tmp_val.index = pd.Series(range(1, len(df_tmp_val) + 1), name='Epochs')\n",
    "\n",
    "df_tmp_val.head(3)"
   ]
  },
  {
   "cell_type": "raw",
   "id": "orange-buffer",
   "metadata": {},
   "source": [
    "df_tmp2 = model_stats[['model_name', \n",
    "             'val_categorical_accuracy']].explode('val_categorical_accuracy').reset_index()\n",
    "df_tmp2.head()"
   ]
  },
  {
   "cell_type": "code",
   "execution_count": 194,
   "id": "changed-regression",
   "metadata": {},
   "outputs": [
    {
     "data": {
      "text/html": [
       "<div>\n",
       "<style scoped>\n",
       "    .dataframe tbody tr th:only-of-type {\n",
       "        vertical-align: middle;\n",
       "    }\n",
       "\n",
       "    .dataframe tbody tr th {\n",
       "        vertical-align: top;\n",
       "    }\n",
       "\n",
       "    .dataframe thead th {\n",
       "        text-align: right;\n",
       "    }\n",
       "</style>\n",
       "<table border=\"1\" class=\"dataframe\">\n",
       "  <thead>\n",
       "    <tr style=\"text-align: right;\">\n",
       "      <th></th>\n",
       "      <th>categorical_accuracy</th>\n",
       "      <th>model</th>\n",
       "      <th>val_categorical_accuracy</th>\n",
       "      <th>Epochs</th>\n",
       "      <th>model_name</th>\n",
       "    </tr>\n",
       "    <tr>\n",
       "      <th>Epochs</th>\n",
       "      <th></th>\n",
       "      <th></th>\n",
       "      <th></th>\n",
       "      <th></th>\n",
       "      <th></th>\n",
       "    </tr>\n",
       "  </thead>\n",
       "  <tbody>\n",
       "    <tr>\n",
       "      <th>1</th>\n",
       "      <td>0.011784</td>\n",
       "      <td>milsed_7block_dense/kaggle_full_length_npy_aug</td>\n",
       "      <td>0.013081</td>\n",
       "      <td>1</td>\n",
       "      <td>milsed_7block_dense&lt;br&gt;kaggle_full_length_npy_aug</td>\n",
       "    </tr>\n",
       "    <tr>\n",
       "      <th>2</th>\n",
       "      <td>0.034310</td>\n",
       "      <td>milsed_7block_dense/kaggle_full_length_npy_aug</td>\n",
       "      <td>0.046148</td>\n",
       "      <td>2</td>\n",
       "      <td>milsed_7block_dense&lt;br&gt;kaggle_full_length_npy_aug</td>\n",
       "    </tr>\n",
       "    <tr>\n",
       "      <th>3</th>\n",
       "      <td>0.081315</td>\n",
       "      <td>milsed_7block_dense/kaggle_full_length_npy_aug</td>\n",
       "      <td>0.079215</td>\n",
       "      <td>3</td>\n",
       "      <td>milsed_7block_dense&lt;br&gt;kaggle_full_length_npy_aug</td>\n",
       "    </tr>\n",
       "    <tr>\n",
       "      <th>4</th>\n",
       "      <td>0.124870</td>\n",
       "      <td>milsed_7block_dense/kaggle_full_length_npy_aug</td>\n",
       "      <td>0.119186</td>\n",
       "      <td>4</td>\n",
       "      <td>milsed_7block_dense&lt;br&gt;kaggle_full_length_npy_aug</td>\n",
       "    </tr>\n",
       "    <tr>\n",
       "      <th>5</th>\n",
       "      <td>0.169271</td>\n",
       "      <td>milsed_7block_dense/kaggle_full_length_npy_aug</td>\n",
       "      <td>0.175145</td>\n",
       "      <td>5</td>\n",
       "      <td>milsed_7block_dense&lt;br&gt;kaggle_full_length_npy_aug</td>\n",
       "    </tr>\n",
       "  </tbody>\n",
       "</table>\n",
       "</div>"
      ],
      "text/plain": [
       "        categorical_accuracy                                           model  \\\n",
       "Epochs                                                                         \n",
       "1                   0.011784  milsed_7block_dense/kaggle_full_length_npy_aug   \n",
       "2                   0.034310  milsed_7block_dense/kaggle_full_length_npy_aug   \n",
       "3                   0.081315  milsed_7block_dense/kaggle_full_length_npy_aug   \n",
       "4                   0.124870  milsed_7block_dense/kaggle_full_length_npy_aug   \n",
       "5                   0.169271  milsed_7block_dense/kaggle_full_length_npy_aug   \n",
       "\n",
       "        val_categorical_accuracy  Epochs  \\\n",
       "Epochs                                     \n",
       "1                       0.013081       1   \n",
       "2                       0.046148       2   \n",
       "3                       0.079215       3   \n",
       "4                       0.119186       4   \n",
       "5                       0.175145       5   \n",
       "\n",
       "                                               model_name  \n",
       "Epochs                                                     \n",
       "1       milsed_7block_dense<br>kaggle_full_length_npy_aug  \n",
       "2       milsed_7block_dense<br>kaggle_full_length_npy_aug  \n",
       "3       milsed_7block_dense<br>kaggle_full_length_npy_aug  \n",
       "4       milsed_7block_dense<br>kaggle_full_length_npy_aug  \n",
       "5       milsed_7block_dense<br>kaggle_full_length_npy_aug  "
      ]
     },
     "execution_count": 194,
     "metadata": {},
     "output_type": "execute_result"
    }
   ],
   "source": [
    "df_plt = pd.concat([df_tmp, df_tmp_val['val_categorical_accuracy']], axis=1)\n",
    "df_plt['Epochs'] = range(1, len(df_plt)+1)\n",
    "df_plt['model_name'] = best_model['model_name'] + '<br>' + best_model['data_subset']\n",
    "\n",
    "df_plt.head()"
   ]
  },
  {
   "cell_type": "code",
   "execution_count": 199,
   "id": "ready-harvey",
   "metadata": {},
   "outputs": [
    {
     "data": {
      "application/vnd.plotly.v1+json": {
       "config": {
        "plotlyServerURL": "https://plot.ly"
       },
       "data": [
        {
         "line": {
          "color": "blue",
          "dash": "solid"
         },
         "name": "<b>Accuracy:</b><br>milsed_7block_dense<br>kaggle_full_length_npy_aug",
         "type": "scatter",
         "x": [
          1,
          2,
          3,
          4,
          5,
          6,
          7,
          8,
          9,
          10,
          11,
          12,
          13,
          14,
          15,
          16,
          17,
          18,
          19,
          20,
          21,
          22,
          23,
          24,
          25,
          26,
          27,
          28,
          29,
          30,
          31,
          32,
          33,
          34,
          35,
          36,
          37,
          38,
          39,
          40,
          41
         ],
         "y": [
          0.011783854104578495,
          0.03430989757180214,
          0.08131510764360428,
          0.12486979365348816,
          0.1692708283662796,
          0.2027994841337204,
          0.24127604067325592,
          0.2663411498069763,
          0.2956380248069763,
          0.3187499940395355,
          0.35546875,
          0.3792968690395355,
          0.39498698711395264,
          0.4231770932674408,
          0.4544921815395355,
          0.46829426288604736,
          0.4940755069255829,
          0.5067708492279053,
          0.5279296636581421,
          0.544140636920929,
          0.5702474117279053,
          0.5803385376930237,
          0.6032552123069763,
          0.6252604126930237,
          0.6348307132720947,
          0.6500651240348816,
          0.6547526121139526,
          0.6776041388511658,
          0.6902994513511658,
          0.6969401240348816,
          0.7777994871139526,
          0.806835949420929,
          0.8235676884651184,
          0.8268880248069763,
          0.8295572996139526,
          0.8384114503860474,
          0.8490234613418579,
          0.8526041507720947,
          0.8604817986488342,
          0.8627604246139526,
          0.8600911498069763
         ]
        },
        {
         "line": {
          "color": "blue",
          "dash": "dash"
         },
         "name": "<b>Val. Accccuracy:</b><br>milsed_7block_dense<br>kaggle_full_length_npy_aug",
         "type": "scatter",
         "x": [
          1,
          2,
          3,
          4,
          5,
          6,
          7,
          8,
          9,
          10,
          11,
          12,
          13,
          14,
          15,
          16,
          17,
          18,
          19,
          20,
          21,
          22,
          23,
          24,
          25,
          26,
          27,
          28,
          29,
          30,
          31,
          32,
          33,
          34,
          35,
          36,
          37,
          38,
          39,
          40,
          41
         ],
         "y": [
          0.01308139506727457,
          0.046148255467414856,
          0.07921511679887772,
          0.11918604373931885,
          0.17514534294605255,
          0.23401163518428802,
          0.18204942345619202,
          0.28815406560897827,
          0.31722384691238403,
          0.33648255467414856,
          0.32340115308761597,
          0.37063953280448914,
          0.30922964215278625,
          0.4011628031730652,
          0.3343023359775543,
          0.43313953280448914,
          0.42223837971687317,
          0.458575576543808,
          0.42914244532585144,
          0.4582121968269348,
          0.447674423456192,
          0.47565406560897827,
          0.4909156858921051,
          0.46293604373931885,
          0.5014534592628479,
          0.49127906560897827,
          0.4872819781303406,
          0.5337936282157898,
          0.523982584476471,
          0.508357584476471,
          0.5752180218696594,
          0.5810319781303406,
          0.5821220874786377,
          0.5912063717842102,
          0.5872092843055725,
          0.5875726938247681,
          0.5995639562606812,
          0.6002907156944275,
          0.5995639562606812,
          0.5999273061752319,
          0.602107584476471
         ]
        }
       ],
       "layout": {
        "template": {
         "data": {
          "bar": [
           {
            "error_x": {
             "color": "#2a3f5f"
            },
            "error_y": {
             "color": "#2a3f5f"
            },
            "marker": {
             "line": {
              "color": "#E5ECF6",
              "width": 0.5
             }
            },
            "type": "bar"
           }
          ],
          "barpolar": [
           {
            "marker": {
             "line": {
              "color": "#E5ECF6",
              "width": 0.5
             }
            },
            "type": "barpolar"
           }
          ],
          "carpet": [
           {
            "aaxis": {
             "endlinecolor": "#2a3f5f",
             "gridcolor": "white",
             "linecolor": "white",
             "minorgridcolor": "white",
             "startlinecolor": "#2a3f5f"
            },
            "baxis": {
             "endlinecolor": "#2a3f5f",
             "gridcolor": "white",
             "linecolor": "white",
             "minorgridcolor": "white",
             "startlinecolor": "#2a3f5f"
            },
            "type": "carpet"
           }
          ],
          "choropleth": [
           {
            "colorbar": {
             "outlinewidth": 0,
             "ticks": ""
            },
            "type": "choropleth"
           }
          ],
          "contour": [
           {
            "colorbar": {
             "outlinewidth": 0,
             "ticks": ""
            },
            "colorscale": [
             [
              0,
              "#0d0887"
             ],
             [
              0.1111111111111111,
              "#46039f"
             ],
             [
              0.2222222222222222,
              "#7201a8"
             ],
             [
              0.3333333333333333,
              "#9c179e"
             ],
             [
              0.4444444444444444,
              "#bd3786"
             ],
             [
              0.5555555555555556,
              "#d8576b"
             ],
             [
              0.6666666666666666,
              "#ed7953"
             ],
             [
              0.7777777777777778,
              "#fb9f3a"
             ],
             [
              0.8888888888888888,
              "#fdca26"
             ],
             [
              1,
              "#f0f921"
             ]
            ],
            "type": "contour"
           }
          ],
          "contourcarpet": [
           {
            "colorbar": {
             "outlinewidth": 0,
             "ticks": ""
            },
            "type": "contourcarpet"
           }
          ],
          "heatmap": [
           {
            "colorbar": {
             "outlinewidth": 0,
             "ticks": ""
            },
            "colorscale": [
             [
              0,
              "#0d0887"
             ],
             [
              0.1111111111111111,
              "#46039f"
             ],
             [
              0.2222222222222222,
              "#7201a8"
             ],
             [
              0.3333333333333333,
              "#9c179e"
             ],
             [
              0.4444444444444444,
              "#bd3786"
             ],
             [
              0.5555555555555556,
              "#d8576b"
             ],
             [
              0.6666666666666666,
              "#ed7953"
             ],
             [
              0.7777777777777778,
              "#fb9f3a"
             ],
             [
              0.8888888888888888,
              "#fdca26"
             ],
             [
              1,
              "#f0f921"
             ]
            ],
            "type": "heatmap"
           }
          ],
          "heatmapgl": [
           {
            "colorbar": {
             "outlinewidth": 0,
             "ticks": ""
            },
            "colorscale": [
             [
              0,
              "#0d0887"
             ],
             [
              0.1111111111111111,
              "#46039f"
             ],
             [
              0.2222222222222222,
              "#7201a8"
             ],
             [
              0.3333333333333333,
              "#9c179e"
             ],
             [
              0.4444444444444444,
              "#bd3786"
             ],
             [
              0.5555555555555556,
              "#d8576b"
             ],
             [
              0.6666666666666666,
              "#ed7953"
             ],
             [
              0.7777777777777778,
              "#fb9f3a"
             ],
             [
              0.8888888888888888,
              "#fdca26"
             ],
             [
              1,
              "#f0f921"
             ]
            ],
            "type": "heatmapgl"
           }
          ],
          "histogram": [
           {
            "marker": {
             "colorbar": {
              "outlinewidth": 0,
              "ticks": ""
             }
            },
            "type": "histogram"
           }
          ],
          "histogram2d": [
           {
            "colorbar": {
             "outlinewidth": 0,
             "ticks": ""
            },
            "colorscale": [
             [
              0,
              "#0d0887"
             ],
             [
              0.1111111111111111,
              "#46039f"
             ],
             [
              0.2222222222222222,
              "#7201a8"
             ],
             [
              0.3333333333333333,
              "#9c179e"
             ],
             [
              0.4444444444444444,
              "#bd3786"
             ],
             [
              0.5555555555555556,
              "#d8576b"
             ],
             [
              0.6666666666666666,
              "#ed7953"
             ],
             [
              0.7777777777777778,
              "#fb9f3a"
             ],
             [
              0.8888888888888888,
              "#fdca26"
             ],
             [
              1,
              "#f0f921"
             ]
            ],
            "type": "histogram2d"
           }
          ],
          "histogram2dcontour": [
           {
            "colorbar": {
             "outlinewidth": 0,
             "ticks": ""
            },
            "colorscale": [
             [
              0,
              "#0d0887"
             ],
             [
              0.1111111111111111,
              "#46039f"
             ],
             [
              0.2222222222222222,
              "#7201a8"
             ],
             [
              0.3333333333333333,
              "#9c179e"
             ],
             [
              0.4444444444444444,
              "#bd3786"
             ],
             [
              0.5555555555555556,
              "#d8576b"
             ],
             [
              0.6666666666666666,
              "#ed7953"
             ],
             [
              0.7777777777777778,
              "#fb9f3a"
             ],
             [
              0.8888888888888888,
              "#fdca26"
             ],
             [
              1,
              "#f0f921"
             ]
            ],
            "type": "histogram2dcontour"
           }
          ],
          "mesh3d": [
           {
            "colorbar": {
             "outlinewidth": 0,
             "ticks": ""
            },
            "type": "mesh3d"
           }
          ],
          "parcoords": [
           {
            "line": {
             "colorbar": {
              "outlinewidth": 0,
              "ticks": ""
             }
            },
            "type": "parcoords"
           }
          ],
          "pie": [
           {
            "automargin": true,
            "type": "pie"
           }
          ],
          "scatter": [
           {
            "marker": {
             "colorbar": {
              "outlinewidth": 0,
              "ticks": ""
             }
            },
            "type": "scatter"
           }
          ],
          "scatter3d": [
           {
            "line": {
             "colorbar": {
              "outlinewidth": 0,
              "ticks": ""
             }
            },
            "marker": {
             "colorbar": {
              "outlinewidth": 0,
              "ticks": ""
             }
            },
            "type": "scatter3d"
           }
          ],
          "scattercarpet": [
           {
            "marker": {
             "colorbar": {
              "outlinewidth": 0,
              "ticks": ""
             }
            },
            "type": "scattercarpet"
           }
          ],
          "scattergeo": [
           {
            "marker": {
             "colorbar": {
              "outlinewidth": 0,
              "ticks": ""
             }
            },
            "type": "scattergeo"
           }
          ],
          "scattergl": [
           {
            "marker": {
             "colorbar": {
              "outlinewidth": 0,
              "ticks": ""
             }
            },
            "type": "scattergl"
           }
          ],
          "scattermapbox": [
           {
            "marker": {
             "colorbar": {
              "outlinewidth": 0,
              "ticks": ""
             }
            },
            "type": "scattermapbox"
           }
          ],
          "scatterpolar": [
           {
            "marker": {
             "colorbar": {
              "outlinewidth": 0,
              "ticks": ""
             }
            },
            "type": "scatterpolar"
           }
          ],
          "scatterpolargl": [
           {
            "marker": {
             "colorbar": {
              "outlinewidth": 0,
              "ticks": ""
             }
            },
            "type": "scatterpolargl"
           }
          ],
          "scatterternary": [
           {
            "marker": {
             "colorbar": {
              "outlinewidth": 0,
              "ticks": ""
             }
            },
            "type": "scatterternary"
           }
          ],
          "surface": [
           {
            "colorbar": {
             "outlinewidth": 0,
             "ticks": ""
            },
            "colorscale": [
             [
              0,
              "#0d0887"
             ],
             [
              0.1111111111111111,
              "#46039f"
             ],
             [
              0.2222222222222222,
              "#7201a8"
             ],
             [
              0.3333333333333333,
              "#9c179e"
             ],
             [
              0.4444444444444444,
              "#bd3786"
             ],
             [
              0.5555555555555556,
              "#d8576b"
             ],
             [
              0.6666666666666666,
              "#ed7953"
             ],
             [
              0.7777777777777778,
              "#fb9f3a"
             ],
             [
              0.8888888888888888,
              "#fdca26"
             ],
             [
              1,
              "#f0f921"
             ]
            ],
            "type": "surface"
           }
          ],
          "table": [
           {
            "cells": {
             "fill": {
              "color": "#EBF0F8"
             },
             "line": {
              "color": "white"
             }
            },
            "header": {
             "fill": {
              "color": "#C8D4E3"
             },
             "line": {
              "color": "white"
             }
            },
            "type": "table"
           }
          ]
         },
         "layout": {
          "annotationdefaults": {
           "arrowcolor": "#2a3f5f",
           "arrowhead": 0,
           "arrowwidth": 1
          },
          "autotypenumbers": "strict",
          "coloraxis": {
           "colorbar": {
            "outlinewidth": 0,
            "ticks": ""
           }
          },
          "colorscale": {
           "diverging": [
            [
             0,
             "#8e0152"
            ],
            [
             0.1,
             "#c51b7d"
            ],
            [
             0.2,
             "#de77ae"
            ],
            [
             0.3,
             "#f1b6da"
            ],
            [
             0.4,
             "#fde0ef"
            ],
            [
             0.5,
             "#f7f7f7"
            ],
            [
             0.6,
             "#e6f5d0"
            ],
            [
             0.7,
             "#b8e186"
            ],
            [
             0.8,
             "#7fbc41"
            ],
            [
             0.9,
             "#4d9221"
            ],
            [
             1,
             "#276419"
            ]
           ],
           "sequential": [
            [
             0,
             "#0d0887"
            ],
            [
             0.1111111111111111,
             "#46039f"
            ],
            [
             0.2222222222222222,
             "#7201a8"
            ],
            [
             0.3333333333333333,
             "#9c179e"
            ],
            [
             0.4444444444444444,
             "#bd3786"
            ],
            [
             0.5555555555555556,
             "#d8576b"
            ],
            [
             0.6666666666666666,
             "#ed7953"
            ],
            [
             0.7777777777777778,
             "#fb9f3a"
            ],
            [
             0.8888888888888888,
             "#fdca26"
            ],
            [
             1,
             "#f0f921"
            ]
           ],
           "sequentialminus": [
            [
             0,
             "#0d0887"
            ],
            [
             0.1111111111111111,
             "#46039f"
            ],
            [
             0.2222222222222222,
             "#7201a8"
            ],
            [
             0.3333333333333333,
             "#9c179e"
            ],
            [
             0.4444444444444444,
             "#bd3786"
            ],
            [
             0.5555555555555556,
             "#d8576b"
            ],
            [
             0.6666666666666666,
             "#ed7953"
            ],
            [
             0.7777777777777778,
             "#fb9f3a"
            ],
            [
             0.8888888888888888,
             "#fdca26"
            ],
            [
             1,
             "#f0f921"
            ]
           ]
          },
          "colorway": [
           "#636efa",
           "#EF553B",
           "#00cc96",
           "#ab63fa",
           "#FFA15A",
           "#19d3f3",
           "#FF6692",
           "#B6E880",
           "#FF97FF",
           "#FECB52"
          ],
          "font": {
           "color": "#2a3f5f"
          },
          "geo": {
           "bgcolor": "white",
           "lakecolor": "white",
           "landcolor": "#E5ECF6",
           "showlakes": true,
           "showland": true,
           "subunitcolor": "white"
          },
          "hoverlabel": {
           "align": "left"
          },
          "hovermode": "closest",
          "mapbox": {
           "style": "light"
          },
          "paper_bgcolor": "white",
          "plot_bgcolor": "#E5ECF6",
          "polar": {
           "angularaxis": {
            "gridcolor": "white",
            "linecolor": "white",
            "ticks": ""
           },
           "bgcolor": "#E5ECF6",
           "radialaxis": {
            "gridcolor": "white",
            "linecolor": "white",
            "ticks": ""
           }
          },
          "scene": {
           "xaxis": {
            "backgroundcolor": "#E5ECF6",
            "gridcolor": "white",
            "gridwidth": 2,
            "linecolor": "white",
            "showbackground": true,
            "ticks": "",
            "zerolinecolor": "white"
           },
           "yaxis": {
            "backgroundcolor": "#E5ECF6",
            "gridcolor": "white",
            "gridwidth": 2,
            "linecolor": "white",
            "showbackground": true,
            "ticks": "",
            "zerolinecolor": "white"
           },
           "zaxis": {
            "backgroundcolor": "#E5ECF6",
            "gridcolor": "white",
            "gridwidth": 2,
            "linecolor": "white",
            "showbackground": true,
            "ticks": "",
            "zerolinecolor": "white"
           }
          },
          "shapedefaults": {
           "line": {
            "color": "#2a3f5f"
           }
          },
          "ternary": {
           "aaxis": {
            "gridcolor": "white",
            "linecolor": "white",
            "ticks": ""
           },
           "baxis": {
            "gridcolor": "white",
            "linecolor": "white",
            "ticks": ""
           },
           "bgcolor": "#E5ECF6",
           "caxis": {
            "gridcolor": "white",
            "linecolor": "white",
            "ticks": ""
           }
          },
          "title": {
           "x": 0.05
          },
          "xaxis": {
           "automargin": true,
           "gridcolor": "white",
           "linecolor": "white",
           "ticks": "",
           "title": {
            "standoff": 15
           },
           "zerolinecolor": "white",
           "zerolinewidth": 2
          },
          "yaxis": {
           "automargin": true,
           "gridcolor": "white",
           "linecolor": "white",
           "ticks": "",
           "title": {
            "standoff": 15
           },
           "zerolinecolor": "white",
           "zerolinewidth": 2
          }
         }
        },
        "title": {
         "text": "Accuracy vs Validation Accuracy"
        }
       }
      },
      "text/html": [
       "<div>                            <div id=\"5742dc29-f840-4ae0-83f9-e3b8019f1463\" class=\"plotly-graph-div\" style=\"height:525px; width:100%;\"></div>            <script type=\"text/javascript\">                require([\"plotly\"], function(Plotly) {                    window.PLOTLYENV=window.PLOTLYENV || {};                                    if (document.getElementById(\"5742dc29-f840-4ae0-83f9-e3b8019f1463\")) {                    Plotly.newPlot(                        \"5742dc29-f840-4ae0-83f9-e3b8019f1463\",                        [{\"line\": {\"color\": \"blue\", \"dash\": \"solid\"}, \"name\": \"<b>Accuracy:</b><br>milsed_7block_dense<br>kaggle_full_length_npy_aug\", \"type\": \"scatter\", \"x\": [1, 2, 3, 4, 5, 6, 7, 8, 9, 10, 11, 12, 13, 14, 15, 16, 17, 18, 19, 20, 21, 22, 23, 24, 25, 26, 27, 28, 29, 30, 31, 32, 33, 34, 35, 36, 37, 38, 39, 40, 41], \"y\": [0.011783854104578495, 0.03430989757180214, 0.08131510764360428, 0.12486979365348816, 0.1692708283662796, 0.2027994841337204, 0.24127604067325592, 0.2663411498069763, 0.2956380248069763, 0.3187499940395355, 0.35546875, 0.3792968690395355, 0.39498698711395264, 0.4231770932674408, 0.4544921815395355, 0.46829426288604736, 0.4940755069255829, 0.5067708492279053, 0.5279296636581421, 0.544140636920929, 0.5702474117279053, 0.5803385376930237, 0.6032552123069763, 0.6252604126930237, 0.6348307132720947, 0.6500651240348816, 0.6547526121139526, 0.6776041388511658, 0.6902994513511658, 0.6969401240348816, 0.7777994871139526, 0.806835949420929, 0.8235676884651184, 0.8268880248069763, 0.8295572996139526, 0.8384114503860474, 0.8490234613418579, 0.8526041507720947, 0.8604817986488342, 0.8627604246139526, 0.8600911498069763]}, {\"line\": {\"color\": \"blue\", \"dash\": \"dash\"}, \"name\": \"<b>Val. Accccuracy:</b><br>milsed_7block_dense<br>kaggle_full_length_npy_aug\", \"type\": \"scatter\", \"x\": [1, 2, 3, 4, 5, 6, 7, 8, 9, 10, 11, 12, 13, 14, 15, 16, 17, 18, 19, 20, 21, 22, 23, 24, 25, 26, 27, 28, 29, 30, 31, 32, 33, 34, 35, 36, 37, 38, 39, 40, 41], \"y\": [0.01308139506727457, 0.046148255467414856, 0.07921511679887772, 0.11918604373931885, 0.17514534294605255, 0.23401163518428802, 0.18204942345619202, 0.28815406560897827, 0.31722384691238403, 0.33648255467414856, 0.32340115308761597, 0.37063953280448914, 0.30922964215278625, 0.4011628031730652, 0.3343023359775543, 0.43313953280448914, 0.42223837971687317, 0.458575576543808, 0.42914244532585144, 0.4582121968269348, 0.447674423456192, 0.47565406560897827, 0.4909156858921051, 0.46293604373931885, 0.5014534592628479, 0.49127906560897827, 0.4872819781303406, 0.5337936282157898, 0.523982584476471, 0.508357584476471, 0.5752180218696594, 0.5810319781303406, 0.5821220874786377, 0.5912063717842102, 0.5872092843055725, 0.5875726938247681, 0.5995639562606812, 0.6002907156944275, 0.5995639562606812, 0.5999273061752319, 0.602107584476471]}],                        {\"template\": {\"data\": {\"bar\": [{\"error_x\": {\"color\": \"#2a3f5f\"}, \"error_y\": {\"color\": \"#2a3f5f\"}, \"marker\": {\"line\": {\"color\": \"#E5ECF6\", \"width\": 0.5}}, \"type\": \"bar\"}], \"barpolar\": [{\"marker\": {\"line\": {\"color\": \"#E5ECF6\", \"width\": 0.5}}, \"type\": \"barpolar\"}], \"carpet\": [{\"aaxis\": {\"endlinecolor\": \"#2a3f5f\", \"gridcolor\": \"white\", \"linecolor\": \"white\", \"minorgridcolor\": \"white\", \"startlinecolor\": \"#2a3f5f\"}, \"baxis\": {\"endlinecolor\": \"#2a3f5f\", \"gridcolor\": \"white\", \"linecolor\": \"white\", \"minorgridcolor\": \"white\", \"startlinecolor\": \"#2a3f5f\"}, \"type\": \"carpet\"}], \"choropleth\": [{\"colorbar\": {\"outlinewidth\": 0, \"ticks\": \"\"}, \"type\": \"choropleth\"}], \"contour\": [{\"colorbar\": {\"outlinewidth\": 0, \"ticks\": \"\"}, \"colorscale\": [[0.0, \"#0d0887\"], [0.1111111111111111, \"#46039f\"], [0.2222222222222222, \"#7201a8\"], [0.3333333333333333, \"#9c179e\"], [0.4444444444444444, \"#bd3786\"], [0.5555555555555556, \"#d8576b\"], [0.6666666666666666, \"#ed7953\"], [0.7777777777777778, \"#fb9f3a\"], [0.8888888888888888, \"#fdca26\"], [1.0, \"#f0f921\"]], \"type\": \"contour\"}], \"contourcarpet\": [{\"colorbar\": {\"outlinewidth\": 0, \"ticks\": \"\"}, \"type\": \"contourcarpet\"}], \"heatmap\": [{\"colorbar\": {\"outlinewidth\": 0, \"ticks\": \"\"}, \"colorscale\": [[0.0, \"#0d0887\"], [0.1111111111111111, \"#46039f\"], [0.2222222222222222, \"#7201a8\"], [0.3333333333333333, \"#9c179e\"], [0.4444444444444444, \"#bd3786\"], [0.5555555555555556, \"#d8576b\"], [0.6666666666666666, \"#ed7953\"], [0.7777777777777778, \"#fb9f3a\"], [0.8888888888888888, \"#fdca26\"], [1.0, \"#f0f921\"]], \"type\": \"heatmap\"}], \"heatmapgl\": [{\"colorbar\": {\"outlinewidth\": 0, \"ticks\": \"\"}, \"colorscale\": [[0.0, \"#0d0887\"], [0.1111111111111111, \"#46039f\"], [0.2222222222222222, \"#7201a8\"], [0.3333333333333333, \"#9c179e\"], [0.4444444444444444, \"#bd3786\"], [0.5555555555555556, \"#d8576b\"], [0.6666666666666666, \"#ed7953\"], [0.7777777777777778, \"#fb9f3a\"], [0.8888888888888888, \"#fdca26\"], [1.0, \"#f0f921\"]], \"type\": \"heatmapgl\"}], \"histogram\": [{\"marker\": {\"colorbar\": {\"outlinewidth\": 0, \"ticks\": \"\"}}, \"type\": \"histogram\"}], \"histogram2d\": [{\"colorbar\": {\"outlinewidth\": 0, \"ticks\": \"\"}, \"colorscale\": [[0.0, \"#0d0887\"], [0.1111111111111111, \"#46039f\"], [0.2222222222222222, \"#7201a8\"], [0.3333333333333333, \"#9c179e\"], [0.4444444444444444, \"#bd3786\"], [0.5555555555555556, \"#d8576b\"], [0.6666666666666666, \"#ed7953\"], [0.7777777777777778, \"#fb9f3a\"], [0.8888888888888888, \"#fdca26\"], [1.0, \"#f0f921\"]], \"type\": \"histogram2d\"}], \"histogram2dcontour\": [{\"colorbar\": {\"outlinewidth\": 0, \"ticks\": \"\"}, \"colorscale\": [[0.0, \"#0d0887\"], [0.1111111111111111, \"#46039f\"], [0.2222222222222222, \"#7201a8\"], [0.3333333333333333, \"#9c179e\"], [0.4444444444444444, \"#bd3786\"], [0.5555555555555556, \"#d8576b\"], [0.6666666666666666, \"#ed7953\"], [0.7777777777777778, \"#fb9f3a\"], [0.8888888888888888, \"#fdca26\"], [1.0, \"#f0f921\"]], \"type\": \"histogram2dcontour\"}], \"mesh3d\": [{\"colorbar\": {\"outlinewidth\": 0, \"ticks\": \"\"}, \"type\": \"mesh3d\"}], \"parcoords\": [{\"line\": {\"colorbar\": {\"outlinewidth\": 0, \"ticks\": \"\"}}, \"type\": \"parcoords\"}], \"pie\": [{\"automargin\": true, \"type\": \"pie\"}], \"scatter\": [{\"marker\": {\"colorbar\": {\"outlinewidth\": 0, \"ticks\": \"\"}}, \"type\": \"scatter\"}], \"scatter3d\": [{\"line\": {\"colorbar\": {\"outlinewidth\": 0, \"ticks\": \"\"}}, \"marker\": {\"colorbar\": {\"outlinewidth\": 0, \"ticks\": \"\"}}, \"type\": \"scatter3d\"}], \"scattercarpet\": [{\"marker\": {\"colorbar\": {\"outlinewidth\": 0, \"ticks\": \"\"}}, \"type\": \"scattercarpet\"}], \"scattergeo\": [{\"marker\": {\"colorbar\": {\"outlinewidth\": 0, \"ticks\": \"\"}}, \"type\": \"scattergeo\"}], \"scattergl\": [{\"marker\": {\"colorbar\": {\"outlinewidth\": 0, \"ticks\": \"\"}}, \"type\": \"scattergl\"}], \"scattermapbox\": [{\"marker\": {\"colorbar\": {\"outlinewidth\": 0, \"ticks\": \"\"}}, \"type\": \"scattermapbox\"}], \"scatterpolar\": [{\"marker\": {\"colorbar\": {\"outlinewidth\": 0, \"ticks\": \"\"}}, \"type\": \"scatterpolar\"}], \"scatterpolargl\": [{\"marker\": {\"colorbar\": {\"outlinewidth\": 0, \"ticks\": \"\"}}, \"type\": \"scatterpolargl\"}], \"scatterternary\": [{\"marker\": {\"colorbar\": {\"outlinewidth\": 0, \"ticks\": \"\"}}, \"type\": \"scatterternary\"}], \"surface\": [{\"colorbar\": {\"outlinewidth\": 0, \"ticks\": \"\"}, \"colorscale\": [[0.0, \"#0d0887\"], [0.1111111111111111, \"#46039f\"], [0.2222222222222222, \"#7201a8\"], [0.3333333333333333, \"#9c179e\"], [0.4444444444444444, \"#bd3786\"], [0.5555555555555556, \"#d8576b\"], [0.6666666666666666, \"#ed7953\"], [0.7777777777777778, \"#fb9f3a\"], [0.8888888888888888, \"#fdca26\"], [1.0, \"#f0f921\"]], \"type\": \"surface\"}], \"table\": [{\"cells\": {\"fill\": {\"color\": \"#EBF0F8\"}, \"line\": {\"color\": \"white\"}}, \"header\": {\"fill\": {\"color\": \"#C8D4E3\"}, \"line\": {\"color\": \"white\"}}, \"type\": \"table\"}]}, \"layout\": {\"annotationdefaults\": {\"arrowcolor\": \"#2a3f5f\", \"arrowhead\": 0, \"arrowwidth\": 1}, \"autotypenumbers\": \"strict\", \"coloraxis\": {\"colorbar\": {\"outlinewidth\": 0, \"ticks\": \"\"}}, \"colorscale\": {\"diverging\": [[0, \"#8e0152\"], [0.1, \"#c51b7d\"], [0.2, \"#de77ae\"], [0.3, \"#f1b6da\"], [0.4, \"#fde0ef\"], [0.5, \"#f7f7f7\"], [0.6, \"#e6f5d0\"], [0.7, \"#b8e186\"], [0.8, \"#7fbc41\"], [0.9, \"#4d9221\"], [1, \"#276419\"]], \"sequential\": [[0.0, \"#0d0887\"], [0.1111111111111111, \"#46039f\"], [0.2222222222222222, \"#7201a8\"], [0.3333333333333333, \"#9c179e\"], [0.4444444444444444, \"#bd3786\"], [0.5555555555555556, \"#d8576b\"], [0.6666666666666666, \"#ed7953\"], [0.7777777777777778, \"#fb9f3a\"], [0.8888888888888888, \"#fdca26\"], [1.0, \"#f0f921\"]], \"sequentialminus\": [[0.0, \"#0d0887\"], [0.1111111111111111, \"#46039f\"], [0.2222222222222222, \"#7201a8\"], [0.3333333333333333, \"#9c179e\"], [0.4444444444444444, \"#bd3786\"], [0.5555555555555556, \"#d8576b\"], [0.6666666666666666, \"#ed7953\"], [0.7777777777777778, \"#fb9f3a\"], [0.8888888888888888, \"#fdca26\"], [1.0, \"#f0f921\"]]}, \"colorway\": [\"#636efa\", \"#EF553B\", \"#00cc96\", \"#ab63fa\", \"#FFA15A\", \"#19d3f3\", \"#FF6692\", \"#B6E880\", \"#FF97FF\", \"#FECB52\"], \"font\": {\"color\": \"#2a3f5f\"}, \"geo\": {\"bgcolor\": \"white\", \"lakecolor\": \"white\", \"landcolor\": \"#E5ECF6\", \"showlakes\": true, \"showland\": true, \"subunitcolor\": \"white\"}, \"hoverlabel\": {\"align\": \"left\"}, \"hovermode\": \"closest\", \"mapbox\": {\"style\": \"light\"}, \"paper_bgcolor\": \"white\", \"plot_bgcolor\": \"#E5ECF6\", \"polar\": {\"angularaxis\": {\"gridcolor\": \"white\", \"linecolor\": \"white\", \"ticks\": \"\"}, \"bgcolor\": \"#E5ECF6\", \"radialaxis\": {\"gridcolor\": \"white\", \"linecolor\": \"white\", \"ticks\": \"\"}}, \"scene\": {\"xaxis\": {\"backgroundcolor\": \"#E5ECF6\", \"gridcolor\": \"white\", \"gridwidth\": 2, \"linecolor\": \"white\", \"showbackground\": true, \"ticks\": \"\", \"zerolinecolor\": \"white\"}, \"yaxis\": {\"backgroundcolor\": \"#E5ECF6\", \"gridcolor\": \"white\", \"gridwidth\": 2, \"linecolor\": \"white\", \"showbackground\": true, \"ticks\": \"\", \"zerolinecolor\": \"white\"}, \"zaxis\": {\"backgroundcolor\": \"#E5ECF6\", \"gridcolor\": \"white\", \"gridwidth\": 2, \"linecolor\": \"white\", \"showbackground\": true, \"ticks\": \"\", \"zerolinecolor\": \"white\"}}, \"shapedefaults\": {\"line\": {\"color\": \"#2a3f5f\"}}, \"ternary\": {\"aaxis\": {\"gridcolor\": \"white\", \"linecolor\": \"white\", \"ticks\": \"\"}, \"baxis\": {\"gridcolor\": \"white\", \"linecolor\": \"white\", \"ticks\": \"\"}, \"bgcolor\": \"#E5ECF6\", \"caxis\": {\"gridcolor\": \"white\", \"linecolor\": \"white\", \"ticks\": \"\"}}, \"title\": {\"x\": 0.05}, \"xaxis\": {\"automargin\": true, \"gridcolor\": \"white\", \"linecolor\": \"white\", \"ticks\": \"\", \"title\": {\"standoff\": 15}, \"zerolinecolor\": \"white\", \"zerolinewidth\": 2}, \"yaxis\": {\"automargin\": true, \"gridcolor\": \"white\", \"linecolor\": \"white\", \"ticks\": \"\", \"title\": {\"standoff\": 15}, \"zerolinecolor\": \"white\", \"zerolinewidth\": 2}}}, \"title\": {\"text\": \"Accuracy vs Validation Accuracy\"}},                        {\"responsive\": true}                    ).then(function(){\n",
       "                            \n",
       "var gd = document.getElementById('5742dc29-f840-4ae0-83f9-e3b8019f1463');\n",
       "var x = new MutationObserver(function (mutations, observer) {{\n",
       "        var display = window.getComputedStyle(gd).display;\n",
       "        if (!display || display === 'none') {{\n",
       "            console.log([gd, 'removed!']);\n",
       "            Plotly.purge(gd);\n",
       "            observer.disconnect();\n",
       "        }}\n",
       "}});\n",
       "\n",
       "// Listen for the removal of the full notebook cells\n",
       "var notebookContainer = gd.closest('#notebook-container');\n",
       "if (notebookContainer) {{\n",
       "    x.observe(notebookContainer, {childList: true});\n",
       "}}\n",
       "\n",
       "// Listen for the clearing of the current output cell\n",
       "var outputEl = gd.closest('.output');\n",
       "if (outputEl) {{\n",
       "    x.observe(outputEl, {childList: true});\n",
       "}}\n",
       "\n",
       "                        })                };                });            </script>        </div>"
      ]
     },
     "metadata": {},
     "output_type": "display_data"
    }
   ],
   "source": [
    "color = 'blue'\n",
    "fig = go.Figure()\n",
    "#fig.add_trace(go.Scatter(y=df_plt['categorical_accuracy'], x=df_plt['Epochs']))\n",
    "\n",
    "\n",
    "fig.add_trace(go.Scatter(y=df_plt['categorical_accuracy'], \n",
    "                         x=df_plt['Epochs'],\n",
    "                         name='<b>Accuracy:</b><br>' + df_plt['model_name'].iloc[0],\n",
    "                         line = dict(color=color, dash='solid')))\n",
    "fig.add_trace(go.Scatter(y=df_plt['val_categorical_accuracy'], \n",
    "                         x=df_plt['Epochs'],\n",
    "                         name='<b>Val. Accccuracy:</b><br>' + df_plt['model_name'].iloc[0],\n",
    "                         line = dict(color=color, dash='dash')))\n",
    "\n",
    "fig.update_layout(go.Layout(title=\"Accuracy vs Validation Accuracy\"))\n"
   ]
  }
 ],
 "metadata": {
  "kernelspec": {
   "display_name": "Python [conda env:audio-ml]",
   "language": "python",
   "name": "conda-env-audio-ml-py"
  },
  "language_info": {
   "codemirror_mode": {
    "name": "ipython",
    "version": 3
   },
   "file_extension": ".py",
   "mimetype": "text/x-python",
   "name": "python",
   "nbconvert_exporter": "python",
   "pygments_lexer": "ipython3",
   "version": "3.8.8"
  },
  "toc": {
   "base_numbering": 1,
   "nav_menu": {},
   "number_sections": true,
   "sideBar": true,
   "skip_h1_title": false,
   "title_cell": "Table of Contents",
   "title_sidebar": "Contents",
   "toc_cell": false,
   "toc_position": {},
   "toc_section_display": true,
   "toc_window_display": false
  }
 },
 "nbformat": 4,
 "nbformat_minor": 5
}
