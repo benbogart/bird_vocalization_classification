{
 "cells": [
  {
   "cell_type": "markdown",
   "id": "arctic-entrepreneur",
   "metadata": {},
   "source": [
    "# Model Metrics"
   ]
  },
  {
   "cell_type": "code",
   "execution_count": 51,
   "id": "appropriate-dollar",
   "metadata": {},
   "outputs": [],
   "source": [
    "import pandas as pd\n",
    "import os\n",
    "from glob import glob\n",
    "from azureml.core import Workspace, Run\n",
    "import pickle\n",
    "from tqdm import tqdm\n",
    "import matplotlib.pyplot as plt\n",
    "%matplotlib inline\n",
    "import seaborn as sns\n",
    "import plotly.express as px\n",
    "import plotly.graph_objects as go\n",
    "import numpy  as np\n",
    "import json\n",
    "from sklearn.metrics import accuracy_score\n",
    "from sklearn.metrics import confusion_matrix"
   ]
  },
  {
   "cell_type": "markdown",
   "id": "controlling-friday",
   "metadata": {},
   "source": [
    "## Load model run log"
   ]
  },
  {
   "cell_type": "code",
   "execution_count": 52,
   "id": "imported-wedding",
   "metadata": {},
   "outputs": [],
   "source": [
    "RUN_LOG = 'training_scripts/runids.csv'"
   ]
  },
  {
   "cell_type": "code",
   "execution_count": 53,
   "id": "public-charles",
   "metadata": {},
   "outputs": [
    {
     "data": {
      "text/html": [
       "<div>\n",
       "<style scoped>\n",
       "    .dataframe tbody tr th:only-of-type {\n",
       "        vertical-align: middle;\n",
       "    }\n",
       "\n",
       "    .dataframe tbody tr th {\n",
       "        vertical-align: top;\n",
       "    }\n",
       "\n",
       "    .dataframe thead th {\n",
       "        text-align: right;\n",
       "    }\n",
       "</style>\n",
       "<table border=\"1\" class=\"dataframe\">\n",
       "  <thead>\n",
       "    <tr style=\"text-align: right;\">\n",
       "      <th></th>\n",
       "      <th>runid</th>\n",
       "      <th>model_name</th>\n",
       "      <th>data_subset</th>\n",
       "      <th>start_time</th>\n",
       "    </tr>\n",
       "  </thead>\n",
       "  <tbody>\n",
       "    <tr>\n",
       "      <th>32</th>\n",
       "      <td>birdsongs_2_1618597659_27bfc8cd</td>\n",
       "      <td>milsed_7block_dense</td>\n",
       "      <td>kaggle_full_length_npy_aug</td>\n",
       "      <td>04/16/2021, 14:27:42</td>\n",
       "    </tr>\n",
       "    <tr>\n",
       "      <th>33</th>\n",
       "      <td>birdsongs_2_1618597673_660ac2d5</td>\n",
       "      <td>milsed_7block_dense</td>\n",
       "      <td>kaggle_full_length_npy_aug_pitch</td>\n",
       "      <td>04/16/2021, 14:27:56</td>\n",
       "    </tr>\n",
       "    <tr>\n",
       "      <th>34</th>\n",
       "      <td>birdsongs_2_1618597685_86c04cfa</td>\n",
       "      <td>milsed_7block_dense</td>\n",
       "      <td>kaggle_full_length_npy_aug_stretch</td>\n",
       "      <td>04/16/2021, 14:28:07</td>\n",
       "    </tr>\n",
       "    <tr>\n",
       "      <th>35</th>\n",
       "      <td>birdsongs_2_1618597695_cf59e378</td>\n",
       "      <td>milsed_7block_dense</td>\n",
       "      <td>kaggle_full_length_npy_aug_pitch_stretch</td>\n",
       "      <td>04/16/2021, 14:28:16</td>\n",
       "    </tr>\n",
       "    <tr>\n",
       "      <th>36</th>\n",
       "      <td>birdsongs_2_1618704934_e5b73727</td>\n",
       "      <td>milsed_7block_dense</td>\n",
       "      <td>all_full_length_npy_aug</td>\n",
       "      <td>04/17/2021, 20:15:40</td>\n",
       "    </tr>\n",
       "  </tbody>\n",
       "</table>\n",
       "</div>"
      ],
      "text/plain": [
       "                              runid           model_name  \\\n",
       "32  birdsongs_2_1618597659_27bfc8cd  milsed_7block_dense   \n",
       "33  birdsongs_2_1618597673_660ac2d5  milsed_7block_dense   \n",
       "34  birdsongs_2_1618597685_86c04cfa  milsed_7block_dense   \n",
       "35  birdsongs_2_1618597695_cf59e378  milsed_7block_dense   \n",
       "36  birdsongs_2_1618704934_e5b73727  milsed_7block_dense   \n",
       "\n",
       "                                 data_subset            start_time  \n",
       "32                kaggle_full_length_npy_aug  04/16/2021, 14:27:42  \n",
       "33          kaggle_full_length_npy_aug_pitch  04/16/2021, 14:27:56  \n",
       "34        kaggle_full_length_npy_aug_stretch  04/16/2021, 14:28:07  \n",
       "35  kaggle_full_length_npy_aug_pitch_stretch  04/16/2021, 14:28:16  \n",
       "36                   all_full_length_npy_aug  04/17/2021, 20:15:40  "
      ]
     },
     "execution_count": 53,
     "metadata": {},
     "output_type": "execute_result"
    }
   ],
   "source": [
    "df = pd.read_csv(RUN_LOG)\n",
    "df.tail()"
   ]
  },
  {
   "cell_type": "code",
   "execution_count": 54,
   "id": "encouraging-deadline",
   "metadata": {},
   "outputs": [
    {
     "data": {
      "text/html": [
       "<div>\n",
       "<style scoped>\n",
       "    .dataframe tbody tr th:only-of-type {\n",
       "        vertical-align: middle;\n",
       "    }\n",
       "\n",
       "    .dataframe tbody tr th {\n",
       "        vertical-align: top;\n",
       "    }\n",
       "\n",
       "    .dataframe thead th {\n",
       "        text-align: right;\n",
       "    }\n",
       "</style>\n",
       "<table border=\"1\" class=\"dataframe\">\n",
       "  <thead>\n",
       "    <tr style=\"text-align: right;\">\n",
       "      <th></th>\n",
       "      <th>runid</th>\n",
       "      <th>model_name</th>\n",
       "      <th>data_subset</th>\n",
       "      <th>start_time</th>\n",
       "    </tr>\n",
       "  </thead>\n",
       "  <tbody>\n",
       "    <tr>\n",
       "      <th>0</th>\n",
       "      <td>birdsongs_2_1618101588_9cdc9314</td>\n",
       "      <td>cnn1_audin_nmel_1</td>\n",
       "      <td>kaggle_10sec_wav</td>\n",
       "      <td>04/10/2021, 20:39:52</td>\n",
       "    </tr>\n",
       "    <tr>\n",
       "      <th>1</th>\n",
       "      <td>birdsongs_2_1618101601_6c54df25</td>\n",
       "      <td>cnn1_audin_nmel_2</td>\n",
       "      <td>kaggle_10sec_wav</td>\n",
       "      <td>04/10/2021, 20:40:03</td>\n",
       "    </tr>\n",
       "    <tr>\n",
       "      <th>2</th>\n",
       "      <td>birdsongs_2_1618101679_621085b4</td>\n",
       "      <td>cnn1_audin_nmel_dcbl_1</td>\n",
       "      <td>kaggle_10sec_wav</td>\n",
       "      <td>04/10/2021, 20:41:23</td>\n",
       "    </tr>\n",
       "    <tr>\n",
       "      <th>3</th>\n",
       "      <td>birdsongs_2_1618101691_08bb6e9d</td>\n",
       "      <td>cnn1_audin_nmel_dcbl_2</td>\n",
       "      <td>kaggle_10sec_wav</td>\n",
       "      <td>04/10/2021, 20:41:34</td>\n",
       "    </tr>\n",
       "    <tr>\n",
       "      <th>4</th>\n",
       "      <td>birdsongs_2_1618105893_94d00361</td>\n",
       "      <td>cnn1_audin_nffthl_1</td>\n",
       "      <td>kaggle_10sec_wav</td>\n",
       "      <td>04/10/2021, 21:51:37</td>\n",
       "    </tr>\n",
       "  </tbody>\n",
       "</table>\n",
       "</div>"
      ],
      "text/plain": [
       "                             runid              model_name       data_subset  \\\n",
       "0  birdsongs_2_1618101588_9cdc9314       cnn1_audin_nmel_1  kaggle_10sec_wav   \n",
       "1  birdsongs_2_1618101601_6c54df25       cnn1_audin_nmel_2  kaggle_10sec_wav   \n",
       "2  birdsongs_2_1618101679_621085b4  cnn1_audin_nmel_dcbl_1  kaggle_10sec_wav   \n",
       "3  birdsongs_2_1618101691_08bb6e9d  cnn1_audin_nmel_dcbl_2  kaggle_10sec_wav   \n",
       "4  birdsongs_2_1618105893_94d00361     cnn1_audin_nffthl_1  kaggle_10sec_wav   \n",
       "\n",
       "             start_time  \n",
       "0  04/10/2021, 20:39:52  \n",
       "1  04/10/2021, 20:40:03  \n",
       "2  04/10/2021, 20:41:23  \n",
       "3  04/10/2021, 20:41:34  \n",
       "4  04/10/2021, 21:51:37  "
      ]
     },
     "execution_count": 54,
     "metadata": {},
     "output_type": "execute_result"
    }
   ],
   "source": [
    "# drop test runs\n",
    "df = df[df['runid'].str.split('_').str[0] != 'test']\n",
    "df.head()"
   ]
  },
  {
   "cell_type": "code",
   "execution_count": 55,
   "id": "indonesian-soccer",
   "metadata": {
    "scrolled": true
   },
   "outputs": [
    {
     "data": {
      "text/html": [
       "<div>\n",
       "<style scoped>\n",
       "    .dataframe tbody tr th:only-of-type {\n",
       "        vertical-align: middle;\n",
       "    }\n",
       "\n",
       "    .dataframe tbody tr th {\n",
       "        vertical-align: top;\n",
       "    }\n",
       "\n",
       "    .dataframe thead th {\n",
       "        text-align: right;\n",
       "    }\n",
       "</style>\n",
       "<table border=\"1\" class=\"dataframe\">\n",
       "  <thead>\n",
       "    <tr style=\"text-align: right;\">\n",
       "      <th></th>\n",
       "      <th>runid</th>\n",
       "      <th>model_name</th>\n",
       "      <th>data_subset</th>\n",
       "      <th>start_time</th>\n",
       "    </tr>\n",
       "  </thead>\n",
       "  <tbody>\n",
       "    <tr>\n",
       "      <th>32</th>\n",
       "      <td>birdsongs_2_1618597659_27bfc8cd</td>\n",
       "      <td>milsed_7block_dense</td>\n",
       "      <td>kaggle_full_length_npy_aug</td>\n",
       "      <td>04/16/2021, 14:27:42</td>\n",
       "    </tr>\n",
       "    <tr>\n",
       "      <th>33</th>\n",
       "      <td>birdsongs_2_1618597673_660ac2d5</td>\n",
       "      <td>milsed_7block_dense</td>\n",
       "      <td>kaggle_full_length_npy_aug_pitch</td>\n",
       "      <td>04/16/2021, 14:27:56</td>\n",
       "    </tr>\n",
       "    <tr>\n",
       "      <th>34</th>\n",
       "      <td>birdsongs_2_1618597685_86c04cfa</td>\n",
       "      <td>milsed_7block_dense</td>\n",
       "      <td>kaggle_full_length_npy_aug_stretch</td>\n",
       "      <td>04/16/2021, 14:28:07</td>\n",
       "    </tr>\n",
       "    <tr>\n",
       "      <th>35</th>\n",
       "      <td>birdsongs_2_1618597695_cf59e378</td>\n",
       "      <td>milsed_7block_dense</td>\n",
       "      <td>kaggle_full_length_npy_aug_pitch_stretch</td>\n",
       "      <td>04/16/2021, 14:28:16</td>\n",
       "    </tr>\n",
       "    <tr>\n",
       "      <th>36</th>\n",
       "      <td>birdsongs_2_1618704934_e5b73727</td>\n",
       "      <td>milsed_7block_dense</td>\n",
       "      <td>all_full_length_npy_aug</td>\n",
       "      <td>04/17/2021, 20:15:40</td>\n",
       "    </tr>\n",
       "  </tbody>\n",
       "</table>\n",
       "</div>"
      ],
      "text/plain": [
       "                              runid           model_name  \\\n",
       "32  birdsongs_2_1618597659_27bfc8cd  milsed_7block_dense   \n",
       "33  birdsongs_2_1618597673_660ac2d5  milsed_7block_dense   \n",
       "34  birdsongs_2_1618597685_86c04cfa  milsed_7block_dense   \n",
       "35  birdsongs_2_1618597695_cf59e378  milsed_7block_dense   \n",
       "36  birdsongs_2_1618704934_e5b73727  milsed_7block_dense   \n",
       "\n",
       "                                 data_subset            start_time  \n",
       "32                kaggle_full_length_npy_aug  04/16/2021, 14:27:42  \n",
       "33          kaggle_full_length_npy_aug_pitch  04/16/2021, 14:27:56  \n",
       "34        kaggle_full_length_npy_aug_stretch  04/16/2021, 14:28:07  \n",
       "35  kaggle_full_length_npy_aug_pitch_stretch  04/16/2021, 14:28:16  \n",
       "36                   all_full_length_npy_aug  04/17/2021, 20:15:40  "
      ]
     },
     "execution_count": 55,
     "metadata": {},
     "output_type": "execute_result"
    }
   ],
   "source": [
    "# get keep the last run of each model/data_subset pair\n",
    "df_lastruns = df.drop_duplicates(subset=['model_name', 'data_subset'], \n",
    "                                 keep='last').copy()\n",
    "df_lastruns.tail()"
   ]
  },
  {
   "cell_type": "markdown",
   "id": "generous-hanging",
   "metadata": {},
   "source": [
    "## Get from Azure"
   ]
  },
  {
   "cell_type": "code",
   "execution_count": 56,
   "id": "written-replica",
   "metadata": {},
   "outputs": [],
   "source": [
    "ws = Workspace.from_config()"
   ]
  },
  {
   "cell_type": "code",
   "execution_count": 57,
   "id": "meaning-reality",
   "metadata": {},
   "outputs": [
    {
     "name": "stderr",
     "output_type": "stream",
     "text": [
      "100%|██████████| 33/33 [00:12<00:00,  2.57it/s]\n"
     ]
    }
   ],
   "source": [
    "# get run context from Azure for each runid\n",
    "runs = {}\n",
    "for runid in tqdm(df_lastruns['runid']):\n",
    "    run = Run.get(ws, runid)\n",
    "    runs[runid] = run"
   ]
  },
  {
   "cell_type": "code",
   "execution_count": 58,
   "id": "extensive-sample",
   "metadata": {},
   "outputs": [
    {
     "data": {
      "text/html": [
       "<div>\n",
       "<style scoped>\n",
       "    .dataframe tbody tr th:only-of-type {\n",
       "        vertical-align: middle;\n",
       "    }\n",
       "\n",
       "    .dataframe tbody tr th {\n",
       "        vertical-align: top;\n",
       "    }\n",
       "\n",
       "    .dataframe thead th {\n",
       "        text-align: right;\n",
       "    }\n",
       "</style>\n",
       "<table border=\"1\" class=\"dataframe\">\n",
       "  <thead>\n",
       "    <tr style=\"text-align: right;\">\n",
       "      <th></th>\n",
       "      <th>runid</th>\n",
       "      <th>model_name</th>\n",
       "      <th>data_subset</th>\n",
       "      <th>start_time</th>\n",
       "      <th>status</th>\n",
       "    </tr>\n",
       "  </thead>\n",
       "  <tbody>\n",
       "    <tr>\n",
       "      <th>0</th>\n",
       "      <td>birdsongs_2_1618101588_9cdc9314</td>\n",
       "      <td>cnn1_audin_nmel_1</td>\n",
       "      <td>kaggle_10sec_wav</td>\n",
       "      <td>04/10/2021, 20:39:52</td>\n",
       "      <td>Completed</td>\n",
       "    </tr>\n",
       "    <tr>\n",
       "      <th>1</th>\n",
       "      <td>birdsongs_2_1618101601_6c54df25</td>\n",
       "      <td>cnn1_audin_nmel_2</td>\n",
       "      <td>kaggle_10sec_wav</td>\n",
       "      <td>04/10/2021, 20:40:03</td>\n",
       "      <td>Completed</td>\n",
       "    </tr>\n",
       "    <tr>\n",
       "      <th>2</th>\n",
       "      <td>birdsongs_2_1618101679_621085b4</td>\n",
       "      <td>cnn1_audin_nmel_dcbl_1</td>\n",
       "      <td>kaggle_10sec_wav</td>\n",
       "      <td>04/10/2021, 20:41:23</td>\n",
       "      <td>Completed</td>\n",
       "    </tr>\n",
       "    <tr>\n",
       "      <th>3</th>\n",
       "      <td>birdsongs_2_1618101691_08bb6e9d</td>\n",
       "      <td>cnn1_audin_nmel_dcbl_2</td>\n",
       "      <td>kaggle_10sec_wav</td>\n",
       "      <td>04/10/2021, 20:41:34</td>\n",
       "      <td>Completed</td>\n",
       "    </tr>\n",
       "    <tr>\n",
       "      <th>4</th>\n",
       "      <td>birdsongs_2_1618105893_94d00361</td>\n",
       "      <td>cnn1_audin_nffthl_1</td>\n",
       "      <td>kaggle_10sec_wav</td>\n",
       "      <td>04/10/2021, 21:51:37</td>\n",
       "      <td>Completed</td>\n",
       "    </tr>\n",
       "  </tbody>\n",
       "</table>\n",
       "</div>"
      ],
      "text/plain": [
       "                             runid              model_name       data_subset  \\\n",
       "0  birdsongs_2_1618101588_9cdc9314       cnn1_audin_nmel_1  kaggle_10sec_wav   \n",
       "1  birdsongs_2_1618101601_6c54df25       cnn1_audin_nmel_2  kaggle_10sec_wav   \n",
       "2  birdsongs_2_1618101679_621085b4  cnn1_audin_nmel_dcbl_1  kaggle_10sec_wav   \n",
       "3  birdsongs_2_1618101691_08bb6e9d  cnn1_audin_nmel_dcbl_2  kaggle_10sec_wav   \n",
       "4  birdsongs_2_1618105893_94d00361     cnn1_audin_nffthl_1  kaggle_10sec_wav   \n",
       "\n",
       "             start_time     status  \n",
       "0  04/10/2021, 20:39:52  Completed  \n",
       "1  04/10/2021, 20:40:03  Completed  \n",
       "2  04/10/2021, 20:41:23  Completed  \n",
       "3  04/10/2021, 20:41:34  Completed  \n",
       "4  04/10/2021, 21:51:37  Completed  "
      ]
     },
     "execution_count": 58,
     "metadata": {},
     "output_type": "execute_result"
    }
   ],
   "source": [
    "# eliminate failed runs\n",
    "status = []\n",
    "for runid, run in runs.items():\n",
    "    status.append(run.status)\n",
    "    \n",
    "df_lastruns['status'] = status\n",
    "df_lastruns.head()"
   ]
  },
  {
   "cell_type": "code",
   "execution_count": 59,
   "id": "fifteen-advertiser",
   "metadata": {},
   "outputs": [
    {
     "data": {
      "text/html": [
       "<div>\n",
       "<style scoped>\n",
       "    .dataframe tbody tr th:only-of-type {\n",
       "        vertical-align: middle;\n",
       "    }\n",
       "\n",
       "    .dataframe tbody tr th {\n",
       "        vertical-align: top;\n",
       "    }\n",
       "\n",
       "    .dataframe thead th {\n",
       "        text-align: right;\n",
       "    }\n",
       "</style>\n",
       "<table border=\"1\" class=\"dataframe\">\n",
       "  <thead>\n",
       "    <tr style=\"text-align: right;\">\n",
       "      <th></th>\n",
       "      <th>model_name</th>\n",
       "      <th>data_subset</th>\n",
       "      <th>start_time</th>\n",
       "      <th>status</th>\n",
       "    </tr>\n",
       "    <tr>\n",
       "      <th>runid</th>\n",
       "      <th></th>\n",
       "      <th></th>\n",
       "      <th></th>\n",
       "      <th></th>\n",
       "    </tr>\n",
       "  </thead>\n",
       "  <tbody>\n",
       "    <tr>\n",
       "      <th>birdsongs_2_1618597659_27bfc8cd</th>\n",
       "      <td>milsed_7block_dense</td>\n",
       "      <td>kaggle_full_length_npy_aug</td>\n",
       "      <td>04/16/2021, 14:27:42</td>\n",
       "      <td>Completed</td>\n",
       "    </tr>\n",
       "    <tr>\n",
       "      <th>birdsongs_2_1618597673_660ac2d5</th>\n",
       "      <td>milsed_7block_dense</td>\n",
       "      <td>kaggle_full_length_npy_aug_pitch</td>\n",
       "      <td>04/16/2021, 14:27:56</td>\n",
       "      <td>Completed</td>\n",
       "    </tr>\n",
       "    <tr>\n",
       "      <th>birdsongs_2_1618597685_86c04cfa</th>\n",
       "      <td>milsed_7block_dense</td>\n",
       "      <td>kaggle_full_length_npy_aug_stretch</td>\n",
       "      <td>04/16/2021, 14:28:07</td>\n",
       "      <td>Completed</td>\n",
       "    </tr>\n",
       "    <tr>\n",
       "      <th>birdsongs_2_1618597695_cf59e378</th>\n",
       "      <td>milsed_7block_dense</td>\n",
       "      <td>kaggle_full_length_npy_aug_pitch_stretch</td>\n",
       "      <td>04/16/2021, 14:28:16</td>\n",
       "      <td>Completed</td>\n",
       "    </tr>\n",
       "    <tr>\n",
       "      <th>birdsongs_2_1618704934_e5b73727</th>\n",
       "      <td>milsed_7block_dense</td>\n",
       "      <td>all_full_length_npy_aug</td>\n",
       "      <td>04/17/2021, 20:15:40</td>\n",
       "      <td>Completed</td>\n",
       "    </tr>\n",
       "  </tbody>\n",
       "</table>\n",
       "</div>"
      ],
      "text/plain": [
       "                                          model_name  \\\n",
       "runid                                                  \n",
       "birdsongs_2_1618597659_27bfc8cd  milsed_7block_dense   \n",
       "birdsongs_2_1618597673_660ac2d5  milsed_7block_dense   \n",
       "birdsongs_2_1618597685_86c04cfa  milsed_7block_dense   \n",
       "birdsongs_2_1618597695_cf59e378  milsed_7block_dense   \n",
       "birdsongs_2_1618704934_e5b73727  milsed_7block_dense   \n",
       "\n",
       "                                                              data_subset  \\\n",
       "runid                                                                       \n",
       "birdsongs_2_1618597659_27bfc8cd                kaggle_full_length_npy_aug   \n",
       "birdsongs_2_1618597673_660ac2d5          kaggle_full_length_npy_aug_pitch   \n",
       "birdsongs_2_1618597685_86c04cfa        kaggle_full_length_npy_aug_stretch   \n",
       "birdsongs_2_1618597695_cf59e378  kaggle_full_length_npy_aug_pitch_stretch   \n",
       "birdsongs_2_1618704934_e5b73727                   all_full_length_npy_aug   \n",
       "\n",
       "                                           start_time     status  \n",
       "runid                                                             \n",
       "birdsongs_2_1618597659_27bfc8cd  04/16/2021, 14:27:42  Completed  \n",
       "birdsongs_2_1618597673_660ac2d5  04/16/2021, 14:27:56  Completed  \n",
       "birdsongs_2_1618597685_86c04cfa  04/16/2021, 14:28:07  Completed  \n",
       "birdsongs_2_1618597695_cf59e378  04/16/2021, 14:28:16  Completed  \n",
       "birdsongs_2_1618704934_e5b73727  04/17/2021, 20:15:40  Completed  "
      ]
     },
     "execution_count": 59,
     "metadata": {},
     "output_type": "execute_result"
    }
   ],
   "source": [
    "# keep only completed runs\n",
    "df_complete = df_lastruns[df_lastruns['status'] == 'Completed']\n",
    "df_complete = df_complete.set_index('runid')\n",
    "df_complete.tail()"
   ]
  },
  {
   "cell_type": "markdown",
   "id": "sixth-schema",
   "metadata": {},
   "source": [
    "### Download run files"
   ]
  },
  {
   "cell_type": "code",
   "execution_count": 60,
   "id": "worst-soldier",
   "metadata": {},
   "outputs": [
    {
     "name": "stdout",
     "output_type": "stream",
     "text": [
      "files for birdsongs_2_1618101588_9cdc9314 are already downloaded.\n",
      "files for birdsongs_2_1618101601_6c54df25 are already downloaded.\n",
      "files for birdsongs_2_1618101679_621085b4 are already downloaded.\n",
      "files for birdsongs_2_1618101691_08bb6e9d are already downloaded.\n",
      "files for birdsongs_2_1618105893_94d00361 are already downloaded.\n",
      "files for birdsongs_2_1618105905_9510b3e7 are already downloaded.\n",
      "files for birdsongs_2_1618109592_7b50fea5 are already downloaded.\n",
      "files for birdsongs_2_1618109605_d3804748 are already downloaded.\n",
      "files for birdsongs_2_1618147392_4d00cd64 are already downloaded.\n",
      "files for birdsongs_2_1618147406_e8ed4602 are already downloaded.\n",
      "files for birdsongs_2_1618150013_c2f1f4bf are already downloaded.\n",
      "files for birdsongs_2_1618153363_7017415d are already downloaded.\n",
      "files for birdsongs_2_1618153718_0f7f4e95 are already downloaded.\n",
      "files for birdsongs_2_1618153737_76aab195 are already downloaded.\n",
      "files for birdsongs_2_1618157490_39253a0e are already downloaded.\n",
      "files for birdsongs_2_1618161275_30758a30 are already downloaded.\n",
      "files for birdsongs_2_1618162140_4faf7f10 are already downloaded.\n",
      "files for birdsongs_2_1618163538_1f2b2474 are already downloaded.\n",
      "files for birdsongs_2_1618167859_43a6f6cf are already downloaded.\n",
      "files for birdsongs_2_1618172334_b8e06342 are already downloaded.\n",
      "files for birdsongs_2_1618176383_b2020e4c are already downloaded.\n",
      "files for birdsongs_2_1618181216_2d1be899 are already downloaded.\n",
      "files for birdsongs_2_1618189957_7149187c are already downloaded.\n",
      "files for birdsongs_2_1618191151_2bcbff6e are already downloaded.\n",
      "files for birdsongs_2_1618191162_585bd608 are already downloaded.\n",
      "files for birdsongs_2_1618195342_4bb4b44e are already downloaded.\n",
      "files for birdsongs_2_1618456336_f09593bc are already downloaded.\n",
      "files for birdsongs_2_1618597659_27bfc8cd are already downloaded.\n",
      "files for birdsongs_2_1618597673_660ac2d5 are already downloaded.\n",
      "files for birdsongs_2_1618597685_86c04cfa are already downloaded.\n",
      "files for birdsongs_2_1618597695_cf59e378 are already downloaded.\n",
      "files for birdsongs_2_1618704934_e5b73727 are already downloaded.\n"
     ]
    }
   ],
   "source": [
    "# set path\n",
    "OUT_DIR = 'model_data'\n",
    "os.makedirs(OUT_DIR, exist_ok=True)\n",
    "\n",
    "# get all files from DataFrame\n",
    "for idx, row in df_complete.iterrows():\n",
    "    \n",
    "    # set filename\n",
    "    file_path = os.path.join(OUT_DIR, f'{row.model_name}-{idx}*.h5')\n",
    "    files = glob(file_path)\n",
    "    \n",
    "    # check if the files already exist\n",
    "    if len(files):\n",
    "        print(f'files for {idx} are already downloaded.')\n",
    "    else:\n",
    "        # download files\n",
    "        print(f'downloading {idx} files')\n",
    "        runs[idx].download_files(prefix='outputs', \n",
    "                                       output_directory=OUT_DIR, \n",
    "                                       append_prefix=False)"
   ]
  },
  {
   "cell_type": "markdown",
   "id": "derived-dancing",
   "metadata": {},
   "source": [
    "## Model History"
   ]
  },
  {
   "cell_type": "markdown",
   "id": "abroad-agenda",
   "metadata": {},
   "source": [
    "### Training History"
   ]
  },
  {
   "cell_type": "code",
   "execution_count": 61,
   "id": "intimate-touch",
   "metadata": {},
   "outputs": [
    {
     "data": {
      "text/html": [
       "<div>\n",
       "<style scoped>\n",
       "    .dataframe tbody tr th:only-of-type {\n",
       "        vertical-align: middle;\n",
       "    }\n",
       "\n",
       "    .dataframe tbody tr th {\n",
       "        vertical-align: top;\n",
       "    }\n",
       "\n",
       "    .dataframe thead th {\n",
       "        text-align: right;\n",
       "    }\n",
       "</style>\n",
       "<table border=\"1\" class=\"dataframe\">\n",
       "  <thead>\n",
       "    <tr style=\"text-align: right;\">\n",
       "      <th></th>\n",
       "      <th>loss</th>\n",
       "      <th>categorical_accuracy</th>\n",
       "      <th>top_3_accuracy</th>\n",
       "      <th>top_5_accuracy</th>\n",
       "      <th>val_loss</th>\n",
       "      <th>val_categorical_accuracy</th>\n",
       "      <th>val_top_3_accuracy</th>\n",
       "      <th>val_top_5_accuracy</th>\n",
       "      <th>lr</th>\n",
       "      <th>runid</th>\n",
       "      <th>data_subset</th>\n",
       "    </tr>\n",
       "  </thead>\n",
       "  <tbody>\n",
       "    <tr>\n",
       "      <th>0</th>\n",
       "      <td>[5.553964614868164, 5.017866134643555, 4.44454...</td>\n",
       "      <td>[0.008900728076696396, 0.03586278483271599, 0....</td>\n",
       "      <td>[0.027676714584231377, 0.08666840195655823, 0....</td>\n",
       "      <td>[0.04320426285266876, 0.12649428844451904, 0.2...</td>\n",
       "      <td>[5.344659805297852, 4.781640529632568, 4.24124...</td>\n",
       "      <td>[0.018168604001402855, 0.05741279199719429, 0....</td>\n",
       "      <td>[0.039244186133146286, 0.13372093439102173, 0....</td>\n",
       "      <td>[0.0625, 0.19040697813034058, 0.31213662028312...</td>\n",
       "      <td>[0.001, 0.001, 0.001, 0.001, 0.001, 0.001, 0.0...</td>\n",
       "      <td>birdsongs_2_1618101588_9cdc9314</td>\n",
       "      <td>kaggle_10sec_wav</td>\n",
       "    </tr>\n",
       "    <tr>\n",
       "      <th>1</th>\n",
       "      <td>[5.668341159820557, 5.208738803863525, 4.79221...</td>\n",
       "      <td>[0.007276507094502449, 0.02507796324789524, 0....</td>\n",
       "      <td>[0.02176455222070217, 0.06477390974760056, 0.1...</td>\n",
       "      <td>[0.03436850383877754, 0.0953742191195488, 0.17...</td>\n",
       "      <td>[5.413963317871094, 5.012693405151367, 4.79702...</td>\n",
       "      <td>[0.014171511866152287, 0.032340116798877716, 0...</td>\n",
       "      <td>[0.03815406933426857, 0.08430232852697372, 0.1...</td>\n",
       "      <td>[0.053415697067976, 0.13299418985843658, 0.181...</td>\n",
       "      <td>[0.001, 0.001, 0.001, 0.001, 0.001, 0.001, 0.0...</td>\n",
       "      <td>birdsongs_2_1618101601_6c54df25</td>\n",
       "      <td>kaggle_10sec_wav</td>\n",
       "    </tr>\n",
       "  </tbody>\n",
       "</table>\n",
       "</div>"
      ],
      "text/plain": [
       "                                                loss  \\\n",
       "0  [5.553964614868164, 5.017866134643555, 4.44454...   \n",
       "1  [5.668341159820557, 5.208738803863525, 4.79221...   \n",
       "\n",
       "                                categorical_accuracy  \\\n",
       "0  [0.008900728076696396, 0.03586278483271599, 0....   \n",
       "1  [0.007276507094502449, 0.02507796324789524, 0....   \n",
       "\n",
       "                                      top_3_accuracy  \\\n",
       "0  [0.027676714584231377, 0.08666840195655823, 0....   \n",
       "1  [0.02176455222070217, 0.06477390974760056, 0.1...   \n",
       "\n",
       "                                      top_5_accuracy  \\\n",
       "0  [0.04320426285266876, 0.12649428844451904, 0.2...   \n",
       "1  [0.03436850383877754, 0.0953742191195488, 0.17...   \n",
       "\n",
       "                                            val_loss  \\\n",
       "0  [5.344659805297852, 4.781640529632568, 4.24124...   \n",
       "1  [5.413963317871094, 5.012693405151367, 4.79702...   \n",
       "\n",
       "                            val_categorical_accuracy  \\\n",
       "0  [0.018168604001402855, 0.05741279199719429, 0....   \n",
       "1  [0.014171511866152287, 0.032340116798877716, 0...   \n",
       "\n",
       "                                  val_top_3_accuracy  \\\n",
       "0  [0.039244186133146286, 0.13372093439102173, 0....   \n",
       "1  [0.03815406933426857, 0.08430232852697372, 0.1...   \n",
       "\n",
       "                                  val_top_5_accuracy  \\\n",
       "0  [0.0625, 0.19040697813034058, 0.31213662028312...   \n",
       "1  [0.053415697067976, 0.13299418985843658, 0.181...   \n",
       "\n",
       "                                                  lr  \\\n",
       "0  [0.001, 0.001, 0.001, 0.001, 0.001, 0.001, 0.0...   \n",
       "1  [0.001, 0.001, 0.001, 0.001, 0.001, 0.001, 0.0...   \n",
       "\n",
       "                             runid       data_subset  \n",
       "0  birdsongs_2_1618101588_9cdc9314  kaggle_10sec_wav  \n",
       "1  birdsongs_2_1618101601_6c54df25  kaggle_10sec_wav  "
      ]
     },
     "execution_count": 61,
     "metadata": {},
     "output_type": "execute_result"
    }
   ],
   "source": [
    "# get run metrics from saved file\n",
    "run_metrics = []\n",
    "\n",
    "# for each model\n",
    "for idx, row in df_complete.iterrows():    \n",
    "    \n",
    "    # get file path\n",
    "    file = os.path.join(OUT_DIR, f'{row.model_name}-{idx}' + '.history')\n",
    "    \n",
    "    with open(file, 'rb') as f:\n",
    "        metric = pickle.load(f)\n",
    "    metric['runid'] = idx\n",
    "    metric['data_subset'] = row['data_subset']\n",
    "    run_metrics.append(metric)\n",
    "    \n",
    "# convert to DataFrame\n",
    "run_metrics = pd.DataFrame(run_metrics)\n",
    "run_metrics.head(2)"
   ]
  },
  {
   "cell_type": "markdown",
   "id": "endangered-latex",
   "metadata": {},
   "source": [
    "### Test metrics"
   ]
  },
  {
   "cell_type": "code",
   "execution_count": 62,
   "id": "quality-truth",
   "metadata": {},
   "outputs": [
    {
     "data": {
      "text/html": [
       "<div>\n",
       "<style scoped>\n",
       "    .dataframe tbody tr th:only-of-type {\n",
       "        vertical-align: middle;\n",
       "    }\n",
       "\n",
       "    .dataframe tbody tr th {\n",
       "        vertical-align: top;\n",
       "    }\n",
       "\n",
       "    .dataframe thead th {\n",
       "        text-align: right;\n",
       "    }\n",
       "</style>\n",
       "<table border=\"1\" class=\"dataframe\">\n",
       "  <thead>\n",
       "    <tr style=\"text-align: right;\">\n",
       "      <th></th>\n",
       "      <th>test_categorical_accuracy</th>\n",
       "      <th>test_top_3_accuracy</th>\n",
       "      <th>test_top_5_accuracy</th>\n",
       "      <th>runid</th>\n",
       "      <th>model_name</th>\n",
       "    </tr>\n",
       "  </thead>\n",
       "  <tbody>\n",
       "    <tr>\n",
       "      <th>0</th>\n",
       "      <td>0.324375</td>\n",
       "      <td>0.493437</td>\n",
       "      <td>0.572500</td>\n",
       "      <td>birdsongs_2_1618101588_9cdc9314</td>\n",
       "      <td>cnn1_audin_nmel_1</td>\n",
       "    </tr>\n",
       "    <tr>\n",
       "      <th>1</th>\n",
       "      <td>0.283125</td>\n",
       "      <td>0.454062</td>\n",
       "      <td>0.540625</td>\n",
       "      <td>birdsongs_2_1618101601_6c54df25</td>\n",
       "      <td>cnn1_audin_nmel_2</td>\n",
       "    </tr>\n",
       "    <tr>\n",
       "      <th>2</th>\n",
       "      <td>0.304688</td>\n",
       "      <td>0.480000</td>\n",
       "      <td>0.573750</td>\n",
       "      <td>birdsongs_2_1618101679_621085b4</td>\n",
       "      <td>cnn1_audin_nmel_dcbl_1</td>\n",
       "    </tr>\n",
       "  </tbody>\n",
       "</table>\n",
       "</div>"
      ],
      "text/plain": [
       "   test_categorical_accuracy  test_top_3_accuracy  test_top_5_accuracy  \\\n",
       "0                   0.324375             0.493437             0.572500   \n",
       "1                   0.283125             0.454062             0.540625   \n",
       "2                   0.304688             0.480000             0.573750   \n",
       "\n",
       "                             runid              model_name  \n",
       "0  birdsongs_2_1618101588_9cdc9314       cnn1_audin_nmel_1  \n",
       "1  birdsongs_2_1618101601_6c54df25       cnn1_audin_nmel_2  \n",
       "2  birdsongs_2_1618101679_621085b4  cnn1_audin_nmel_dcbl_1  "
      ]
     },
     "execution_count": 62,
     "metadata": {},
     "output_type": "execute_result"
    }
   ],
   "source": [
    "# get test metrics from saved test metrics\n",
    "test_metrics = []\n",
    "\n",
    "# for each model\n",
    "for idx, row in df_complete.iterrows():    \n",
    "    \n",
    "    # get filename\n",
    "    file = os.path.join(OUT_DIR, f'{row.model_name}-{idx}-test_metrics.pkl')\n",
    "    \n",
    "    # load saved metrics\n",
    "    with open(file, 'rb') as f:\n",
    "        metric = pickle.load(f)\n",
    "    metric['runid'] = idx\n",
    "    metric['model_name'] = row.model_name\n",
    "    test_metrics.append(metric)\n",
    "    \n",
    "# convert to dataframe\n",
    "test_metrics = pd.DataFrame(test_metrics)\n",
    "test_metrics.head(3)"
   ]
  },
  {
   "cell_type": "markdown",
   "id": "similar-property",
   "metadata": {},
   "source": [
    "### Join into a single DataFrame\n",
    "This DataFrame will be used here for visualizations and in the project dashboard."
   ]
  },
  {
   "cell_type": "code",
   "execution_count": 63,
   "id": "durable-insured",
   "metadata": {},
   "outputs": [
    {
     "data": {
      "text/html": [
       "<div>\n",
       "<style scoped>\n",
       "    .dataframe tbody tr th:only-of-type {\n",
       "        vertical-align: middle;\n",
       "    }\n",
       "\n",
       "    .dataframe tbody tr th {\n",
       "        vertical-align: top;\n",
       "    }\n",
       "\n",
       "    .dataframe thead th {\n",
       "        text-align: right;\n",
       "    }\n",
       "</style>\n",
       "<table border=\"1\" class=\"dataframe\">\n",
       "  <thead>\n",
       "    <tr style=\"text-align: right;\">\n",
       "      <th></th>\n",
       "      <th>loss</th>\n",
       "      <th>categorical_accuracy</th>\n",
       "      <th>top_3_accuracy</th>\n",
       "      <th>top_5_accuracy</th>\n",
       "      <th>val_loss</th>\n",
       "      <th>val_categorical_accuracy</th>\n",
       "      <th>val_top_3_accuracy</th>\n",
       "      <th>val_top_5_accuracy</th>\n",
       "      <th>lr</th>\n",
       "      <th>data_subset</th>\n",
       "      <th>test_categorical_accuracy</th>\n",
       "      <th>test_top_3_accuracy</th>\n",
       "      <th>test_top_5_accuracy</th>\n",
       "      <th>model_name</th>\n",
       "    </tr>\n",
       "    <tr>\n",
       "      <th>runid</th>\n",
       "      <th></th>\n",
       "      <th></th>\n",
       "      <th></th>\n",
       "      <th></th>\n",
       "      <th></th>\n",
       "      <th></th>\n",
       "      <th></th>\n",
       "      <th></th>\n",
       "      <th></th>\n",
       "      <th></th>\n",
       "      <th></th>\n",
       "      <th></th>\n",
       "      <th></th>\n",
       "      <th></th>\n",
       "    </tr>\n",
       "  </thead>\n",
       "  <tbody>\n",
       "    <tr>\n",
       "      <th>birdsongs_2_1618101588_9cdc9314</th>\n",
       "      <td>[5.553964614868164, 5.017866134643555, 4.44454...</td>\n",
       "      <td>[0.008900728076696396, 0.03586278483271599, 0....</td>\n",
       "      <td>[0.027676714584231377, 0.08666840195655823, 0....</td>\n",
       "      <td>[0.04320426285266876, 0.12649428844451904, 0.2...</td>\n",
       "      <td>[5.344659805297852, 4.781640529632568, 4.24124...</td>\n",
       "      <td>[0.018168604001402855, 0.05741279199719429, 0....</td>\n",
       "      <td>[0.039244186133146286, 0.13372093439102173, 0....</td>\n",
       "      <td>[0.0625, 0.19040697813034058, 0.31213662028312...</td>\n",
       "      <td>[0.001, 0.001, 0.001, 0.001, 0.001, 0.001, 0.0...</td>\n",
       "      <td>kaggle_10sec_wav</td>\n",
       "      <td>0.324375</td>\n",
       "      <td>0.493437</td>\n",
       "      <td>0.572500</td>\n",
       "      <td>cnn1_audin_nmel_1</td>\n",
       "    </tr>\n",
       "    <tr>\n",
       "      <th>birdsongs_2_1618101601_6c54df25</th>\n",
       "      <td>[5.668341159820557, 5.208738803863525, 4.79221...</td>\n",
       "      <td>[0.007276507094502449, 0.02507796324789524, 0....</td>\n",
       "      <td>[0.02176455222070217, 0.06477390974760056, 0.1...</td>\n",
       "      <td>[0.03436850383877754, 0.0953742191195488, 0.17...</td>\n",
       "      <td>[5.413963317871094, 5.012693405151367, 4.79702...</td>\n",
       "      <td>[0.014171511866152287, 0.032340116798877716, 0...</td>\n",
       "      <td>[0.03815406933426857, 0.08430232852697372, 0.1...</td>\n",
       "      <td>[0.053415697067976, 0.13299418985843658, 0.181...</td>\n",
       "      <td>[0.001, 0.001, 0.001, 0.001, 0.001, 0.001, 0.0...</td>\n",
       "      <td>kaggle_10sec_wav</td>\n",
       "      <td>0.283125</td>\n",
       "      <td>0.454062</td>\n",
       "      <td>0.540625</td>\n",
       "      <td>cnn1_audin_nmel_2</td>\n",
       "    </tr>\n",
       "  </tbody>\n",
       "</table>\n",
       "</div>"
      ],
      "text/plain": [
       "                                                                              loss  \\\n",
       "runid                                                                                \n",
       "birdsongs_2_1618101588_9cdc9314  [5.553964614868164, 5.017866134643555, 4.44454...   \n",
       "birdsongs_2_1618101601_6c54df25  [5.668341159820557, 5.208738803863525, 4.79221...   \n",
       "\n",
       "                                                              categorical_accuracy  \\\n",
       "runid                                                                                \n",
       "birdsongs_2_1618101588_9cdc9314  [0.008900728076696396, 0.03586278483271599, 0....   \n",
       "birdsongs_2_1618101601_6c54df25  [0.007276507094502449, 0.02507796324789524, 0....   \n",
       "\n",
       "                                                                    top_3_accuracy  \\\n",
       "runid                                                                                \n",
       "birdsongs_2_1618101588_9cdc9314  [0.027676714584231377, 0.08666840195655823, 0....   \n",
       "birdsongs_2_1618101601_6c54df25  [0.02176455222070217, 0.06477390974760056, 0.1...   \n",
       "\n",
       "                                                                    top_5_accuracy  \\\n",
       "runid                                                                                \n",
       "birdsongs_2_1618101588_9cdc9314  [0.04320426285266876, 0.12649428844451904, 0.2...   \n",
       "birdsongs_2_1618101601_6c54df25  [0.03436850383877754, 0.0953742191195488, 0.17...   \n",
       "\n",
       "                                                                          val_loss  \\\n",
       "runid                                                                                \n",
       "birdsongs_2_1618101588_9cdc9314  [5.344659805297852, 4.781640529632568, 4.24124...   \n",
       "birdsongs_2_1618101601_6c54df25  [5.413963317871094, 5.012693405151367, 4.79702...   \n",
       "\n",
       "                                                          val_categorical_accuracy  \\\n",
       "runid                                                                                \n",
       "birdsongs_2_1618101588_9cdc9314  [0.018168604001402855, 0.05741279199719429, 0....   \n",
       "birdsongs_2_1618101601_6c54df25  [0.014171511866152287, 0.032340116798877716, 0...   \n",
       "\n",
       "                                                                val_top_3_accuracy  \\\n",
       "runid                                                                                \n",
       "birdsongs_2_1618101588_9cdc9314  [0.039244186133146286, 0.13372093439102173, 0....   \n",
       "birdsongs_2_1618101601_6c54df25  [0.03815406933426857, 0.08430232852697372, 0.1...   \n",
       "\n",
       "                                                                val_top_5_accuracy  \\\n",
       "runid                                                                                \n",
       "birdsongs_2_1618101588_9cdc9314  [0.0625, 0.19040697813034058, 0.31213662028312...   \n",
       "birdsongs_2_1618101601_6c54df25  [0.053415697067976, 0.13299418985843658, 0.181...   \n",
       "\n",
       "                                                                                lr  \\\n",
       "runid                                                                                \n",
       "birdsongs_2_1618101588_9cdc9314  [0.001, 0.001, 0.001, 0.001, 0.001, 0.001, 0.0...   \n",
       "birdsongs_2_1618101601_6c54df25  [0.001, 0.001, 0.001, 0.001, 0.001, 0.001, 0.0...   \n",
       "\n",
       "                                      data_subset  test_categorical_accuracy  \\\n",
       "runid                                                                          \n",
       "birdsongs_2_1618101588_9cdc9314  kaggle_10sec_wav                   0.324375   \n",
       "birdsongs_2_1618101601_6c54df25  kaggle_10sec_wav                   0.283125   \n",
       "\n",
       "                                 test_top_3_accuracy  test_top_5_accuracy  \\\n",
       "runid                                                                       \n",
       "birdsongs_2_1618101588_9cdc9314             0.493437             0.572500   \n",
       "birdsongs_2_1618101601_6c54df25             0.454062             0.540625   \n",
       "\n",
       "                                        model_name  \n",
       "runid                                               \n",
       "birdsongs_2_1618101588_9cdc9314  cnn1_audin_nmel_1  \n",
       "birdsongs_2_1618101601_6c54df25  cnn1_audin_nmel_2  "
      ]
     },
     "execution_count": 63,
     "metadata": {},
     "output_type": "execute_result"
    }
   ],
   "source": [
    "# Join on runid\n",
    "df_metrics = run_metrics.set_index('runid').join(test_metrics.set_index('runid'))\n",
    "df_metrics.head(2)"
   ]
  },
  {
   "cell_type": "code",
   "execution_count": 64,
   "id": "global-relative",
   "metadata": {},
   "outputs": [],
   "source": [
    "# save this file for use in the dashboard\n",
    "df_metrics.to_pickle('df_metrics.pkl')"
   ]
  },
  {
   "cell_type": "markdown",
   "id": "hundred-omaha",
   "metadata": {},
   "source": [
    "## Plot model test performance"
   ]
  },
  {
   "cell_type": "code",
   "execution_count": 65,
   "id": "persistent-technical",
   "metadata": {},
   "outputs": [
    {
     "data": {
      "text/html": [
       "<div>\n",
       "<style scoped>\n",
       "    .dataframe tbody tr th:only-of-type {\n",
       "        vertical-align: middle;\n",
       "    }\n",
       "\n",
       "    .dataframe tbody tr th {\n",
       "        vertical-align: top;\n",
       "    }\n",
       "\n",
       "    .dataframe thead th {\n",
       "        text-align: right;\n",
       "    }\n",
       "</style>\n",
       "<table border=\"1\" class=\"dataframe\">\n",
       "  <thead>\n",
       "    <tr style=\"text-align: right;\">\n",
       "      <th></th>\n",
       "      <th>loss</th>\n",
       "      <th>categorical_accuracy</th>\n",
       "      <th>top_3_accuracy</th>\n",
       "      <th>top_5_accuracy</th>\n",
       "      <th>val_loss</th>\n",
       "      <th>val_categorical_accuracy</th>\n",
       "      <th>val_top_3_accuracy</th>\n",
       "      <th>val_top_5_accuracy</th>\n",
       "      <th>lr</th>\n",
       "      <th>data_subset</th>\n",
       "      <th>test_categorical_accuracy</th>\n",
       "      <th>test_top_3_accuracy</th>\n",
       "      <th>test_top_5_accuracy</th>\n",
       "      <th>model_name</th>\n",
       "      <th>model</th>\n",
       "      <th>model_num</th>\n",
       "      <th>model_num_text</th>\n",
       "    </tr>\n",
       "    <tr>\n",
       "      <th>runid</th>\n",
       "      <th></th>\n",
       "      <th></th>\n",
       "      <th></th>\n",
       "      <th></th>\n",
       "      <th></th>\n",
       "      <th></th>\n",
       "      <th></th>\n",
       "      <th></th>\n",
       "      <th></th>\n",
       "      <th></th>\n",
       "      <th></th>\n",
       "      <th></th>\n",
       "      <th></th>\n",
       "      <th></th>\n",
       "      <th></th>\n",
       "      <th></th>\n",
       "      <th></th>\n",
       "    </tr>\n",
       "  </thead>\n",
       "  <tbody>\n",
       "    <tr>\n",
       "      <th>birdsongs_2_1618101588_9cdc9314</th>\n",
       "      <td>[5.553964614868164, 5.017866134643555, 4.44454...</td>\n",
       "      <td>[0.008900728076696396, 0.03586278483271599, 0....</td>\n",
       "      <td>[0.027676714584231377, 0.08666840195655823, 0....</td>\n",
       "      <td>[0.04320426285266876, 0.12649428844451904, 0.2...</td>\n",
       "      <td>[5.344659805297852, 4.781640529632568, 4.24124...</td>\n",
       "      <td>[0.018168604001402855, 0.05741279199719429, 0....</td>\n",
       "      <td>[0.039244186133146286, 0.13372093439102173, 0....</td>\n",
       "      <td>[0.0625, 0.19040697813034058, 0.31213662028312...</td>\n",
       "      <td>[0.001, 0.001, 0.001, 0.001, 0.001, 0.001, 0.0...</td>\n",
       "      <td>kaggle_10sec_wav</td>\n",
       "      <td>0.324375</td>\n",
       "      <td>0.493437</td>\n",
       "      <td>0.572500</td>\n",
       "      <td>cnn1_audin_nmel_1</td>\n",
       "      <td>cnn1_audin_nmel_1&lt;br&gt;kaggle_10sec_wav</td>\n",
       "      <td>1</td>\n",
       "      <td>Model #1</td>\n",
       "    </tr>\n",
       "    <tr>\n",
       "      <th>birdsongs_2_1618101601_6c54df25</th>\n",
       "      <td>[5.668341159820557, 5.208738803863525, 4.79221...</td>\n",
       "      <td>[0.007276507094502449, 0.02507796324789524, 0....</td>\n",
       "      <td>[0.02176455222070217, 0.06477390974760056, 0.1...</td>\n",
       "      <td>[0.03436850383877754, 0.0953742191195488, 0.17...</td>\n",
       "      <td>[5.413963317871094, 5.012693405151367, 4.79702...</td>\n",
       "      <td>[0.014171511866152287, 0.032340116798877716, 0...</td>\n",
       "      <td>[0.03815406933426857, 0.08430232852697372, 0.1...</td>\n",
       "      <td>[0.053415697067976, 0.13299418985843658, 0.181...</td>\n",
       "      <td>[0.001, 0.001, 0.001, 0.001, 0.001, 0.001, 0.0...</td>\n",
       "      <td>kaggle_10sec_wav</td>\n",
       "      <td>0.283125</td>\n",
       "      <td>0.454062</td>\n",
       "      <td>0.540625</td>\n",
       "      <td>cnn1_audin_nmel_2</td>\n",
       "      <td>cnn1_audin_nmel_2&lt;br&gt;kaggle_10sec_wav</td>\n",
       "      <td>2</td>\n",
       "      <td>Model #2</td>\n",
       "    </tr>\n",
       "    <tr>\n",
       "      <th>birdsongs_2_1618101679_621085b4</th>\n",
       "      <td>[5.546006202697754, 5.219290256500244, 4.70500...</td>\n",
       "      <td>[0.00513253640383482, 0.01396829541772604, 0.0...</td>\n",
       "      <td>[0.015007796697318554, 0.038916319608688354, 0...</td>\n",
       "      <td>[0.0257276501506567, 0.0641242191195488, 0.169...</td>\n",
       "      <td>[5.376589775085449, 4.9785356521606445, 4.3890...</td>\n",
       "      <td>[0.014171511866152287, 0.024709302932024002, 0...</td>\n",
       "      <td>[0.030159883201122284, 0.06758721172809601, 0....</td>\n",
       "      <td>[0.04832848906517029, 0.10901162773370743, 0.2...</td>\n",
       "      <td>[0.001, 0.001, 0.001, 0.001, 0.001, 0.001, 0.0...</td>\n",
       "      <td>kaggle_10sec_wav</td>\n",
       "      <td>0.304688</td>\n",
       "      <td>0.480000</td>\n",
       "      <td>0.573750</td>\n",
       "      <td>cnn1_audin_nmel_dcbl_1</td>\n",
       "      <td>cnn1_audin_nmel_dcbl_1&lt;br&gt;kaggle_10sec_wav</td>\n",
       "      <td>3</td>\n",
       "      <td>Model #3</td>\n",
       "    </tr>\n",
       "  </tbody>\n",
       "</table>\n",
       "</div>"
      ],
      "text/plain": [
       "                                                                              loss  \\\n",
       "runid                                                                                \n",
       "birdsongs_2_1618101588_9cdc9314  [5.553964614868164, 5.017866134643555, 4.44454...   \n",
       "birdsongs_2_1618101601_6c54df25  [5.668341159820557, 5.208738803863525, 4.79221...   \n",
       "birdsongs_2_1618101679_621085b4  [5.546006202697754, 5.219290256500244, 4.70500...   \n",
       "\n",
       "                                                              categorical_accuracy  \\\n",
       "runid                                                                                \n",
       "birdsongs_2_1618101588_9cdc9314  [0.008900728076696396, 0.03586278483271599, 0....   \n",
       "birdsongs_2_1618101601_6c54df25  [0.007276507094502449, 0.02507796324789524, 0....   \n",
       "birdsongs_2_1618101679_621085b4  [0.00513253640383482, 0.01396829541772604, 0.0...   \n",
       "\n",
       "                                                                    top_3_accuracy  \\\n",
       "runid                                                                                \n",
       "birdsongs_2_1618101588_9cdc9314  [0.027676714584231377, 0.08666840195655823, 0....   \n",
       "birdsongs_2_1618101601_6c54df25  [0.02176455222070217, 0.06477390974760056, 0.1...   \n",
       "birdsongs_2_1618101679_621085b4  [0.015007796697318554, 0.038916319608688354, 0...   \n",
       "\n",
       "                                                                    top_5_accuracy  \\\n",
       "runid                                                                                \n",
       "birdsongs_2_1618101588_9cdc9314  [0.04320426285266876, 0.12649428844451904, 0.2...   \n",
       "birdsongs_2_1618101601_6c54df25  [0.03436850383877754, 0.0953742191195488, 0.17...   \n",
       "birdsongs_2_1618101679_621085b4  [0.0257276501506567, 0.0641242191195488, 0.169...   \n",
       "\n",
       "                                                                          val_loss  \\\n",
       "runid                                                                                \n",
       "birdsongs_2_1618101588_9cdc9314  [5.344659805297852, 4.781640529632568, 4.24124...   \n",
       "birdsongs_2_1618101601_6c54df25  [5.413963317871094, 5.012693405151367, 4.79702...   \n",
       "birdsongs_2_1618101679_621085b4  [5.376589775085449, 4.9785356521606445, 4.3890...   \n",
       "\n",
       "                                                          val_categorical_accuracy  \\\n",
       "runid                                                                                \n",
       "birdsongs_2_1618101588_9cdc9314  [0.018168604001402855, 0.05741279199719429, 0....   \n",
       "birdsongs_2_1618101601_6c54df25  [0.014171511866152287, 0.032340116798877716, 0...   \n",
       "birdsongs_2_1618101679_621085b4  [0.014171511866152287, 0.024709302932024002, 0...   \n",
       "\n",
       "                                                                val_top_3_accuracy  \\\n",
       "runid                                                                                \n",
       "birdsongs_2_1618101588_9cdc9314  [0.039244186133146286, 0.13372093439102173, 0....   \n",
       "birdsongs_2_1618101601_6c54df25  [0.03815406933426857, 0.08430232852697372, 0.1...   \n",
       "birdsongs_2_1618101679_621085b4  [0.030159883201122284, 0.06758721172809601, 0....   \n",
       "\n",
       "                                                                val_top_5_accuracy  \\\n",
       "runid                                                                                \n",
       "birdsongs_2_1618101588_9cdc9314  [0.0625, 0.19040697813034058, 0.31213662028312...   \n",
       "birdsongs_2_1618101601_6c54df25  [0.053415697067976, 0.13299418985843658, 0.181...   \n",
       "birdsongs_2_1618101679_621085b4  [0.04832848906517029, 0.10901162773370743, 0.2...   \n",
       "\n",
       "                                                                                lr  \\\n",
       "runid                                                                                \n",
       "birdsongs_2_1618101588_9cdc9314  [0.001, 0.001, 0.001, 0.001, 0.001, 0.001, 0.0...   \n",
       "birdsongs_2_1618101601_6c54df25  [0.001, 0.001, 0.001, 0.001, 0.001, 0.001, 0.0...   \n",
       "birdsongs_2_1618101679_621085b4  [0.001, 0.001, 0.001, 0.001, 0.001, 0.001, 0.0...   \n",
       "\n",
       "                                      data_subset  test_categorical_accuracy  \\\n",
       "runid                                                                          \n",
       "birdsongs_2_1618101588_9cdc9314  kaggle_10sec_wav                   0.324375   \n",
       "birdsongs_2_1618101601_6c54df25  kaggle_10sec_wav                   0.283125   \n",
       "birdsongs_2_1618101679_621085b4  kaggle_10sec_wav                   0.304688   \n",
       "\n",
       "                                 test_top_3_accuracy  test_top_5_accuracy  \\\n",
       "runid                                                                       \n",
       "birdsongs_2_1618101588_9cdc9314             0.493437             0.572500   \n",
       "birdsongs_2_1618101601_6c54df25             0.454062             0.540625   \n",
       "birdsongs_2_1618101679_621085b4             0.480000             0.573750   \n",
       "\n",
       "                                             model_name  \\\n",
       "runid                                                     \n",
       "birdsongs_2_1618101588_9cdc9314       cnn1_audin_nmel_1   \n",
       "birdsongs_2_1618101601_6c54df25       cnn1_audin_nmel_2   \n",
       "birdsongs_2_1618101679_621085b4  cnn1_audin_nmel_dcbl_1   \n",
       "\n",
       "                                                                      model  \\\n",
       "runid                                                                         \n",
       "birdsongs_2_1618101588_9cdc9314       cnn1_audin_nmel_1<br>kaggle_10sec_wav   \n",
       "birdsongs_2_1618101601_6c54df25       cnn1_audin_nmel_2<br>kaggle_10sec_wav   \n",
       "birdsongs_2_1618101679_621085b4  cnn1_audin_nmel_dcbl_1<br>kaggle_10sec_wav   \n",
       "\n",
       "                                 model_num model_num_text  \n",
       "runid                                                      \n",
       "birdsongs_2_1618101588_9cdc9314          1       Model #1  \n",
       "birdsongs_2_1618101601_6c54df25          2       Model #2  \n",
       "birdsongs_2_1618101679_621085b4          3       Model #3  "
      ]
     },
     "execution_count": 65,
     "metadata": {},
     "output_type": "execute_result"
    }
   ],
   "source": [
    "# create new DF\n",
    "df_plot = df_metrics.copy()\n",
    "\n",
    "# Create new model_name on two lines\n",
    "df_plot['model'] = df_plot['model_name'] + '<br>' + df_plot['data_subset']\n",
    "\n",
    "# Add a model number\n",
    "df_plot['model_num'] = range(1, len(df_plot) + 1)\n",
    "\n",
    "# Create a text representation of model #\n",
    "df_plot['model_num_text'] = 'Model #' + df_plot['model_num'].astype('str')\n",
    "\n",
    "df_plot.head(3)"
   ]
  },
  {
   "cell_type": "code",
   "execution_count": 66,
   "id": "governing-structure",
   "metadata": {},
   "outputs": [
    {
     "data": {
      "text/html": [
       "<div>\n",
       "<style scoped>\n",
       "    .dataframe tbody tr th:only-of-type {\n",
       "        vertical-align: middle;\n",
       "    }\n",
       "\n",
       "    .dataframe tbody tr th {\n",
       "        vertical-align: top;\n",
       "    }\n",
       "\n",
       "    .dataframe thead th {\n",
       "        text-align: right;\n",
       "    }\n",
       "</style>\n",
       "<table border=\"1\" class=\"dataframe\">\n",
       "  <thead>\n",
       "    <tr style=\"text-align: right;\">\n",
       "      <th></th>\n",
       "      <th>model_name</th>\n",
       "      <th>data_subset</th>\n",
       "      <th>model_num_text</th>\n",
       "      <th>test_categorical_accuracy</th>\n",
       "      <th>test_top_3_accuracy</th>\n",
       "      <th>test_top_5_accuracy</th>\n",
       "    </tr>\n",
       "    <tr>\n",
       "      <th>runid</th>\n",
       "      <th></th>\n",
       "      <th></th>\n",
       "      <th></th>\n",
       "      <th></th>\n",
       "      <th></th>\n",
       "      <th></th>\n",
       "    </tr>\n",
       "  </thead>\n",
       "  <tbody>\n",
       "    <tr>\n",
       "      <th>birdsongs_2_1618101588_9cdc9314</th>\n",
       "      <td>cnn1_audin_nmel_1</td>\n",
       "      <td>kaggle_10sec_wav</td>\n",
       "      <td>Model #1</td>\n",
       "      <td>0.324375</td>\n",
       "      <td>0.493437</td>\n",
       "      <td>0.572500</td>\n",
       "    </tr>\n",
       "    <tr>\n",
       "      <th>birdsongs_2_1618101601_6c54df25</th>\n",
       "      <td>cnn1_audin_nmel_2</td>\n",
       "      <td>kaggle_10sec_wav</td>\n",
       "      <td>Model #2</td>\n",
       "      <td>0.283125</td>\n",
       "      <td>0.454062</td>\n",
       "      <td>0.540625</td>\n",
       "    </tr>\n",
       "    <tr>\n",
       "      <th>birdsongs_2_1618101679_621085b4</th>\n",
       "      <td>cnn1_audin_nmel_dcbl_1</td>\n",
       "      <td>kaggle_10sec_wav</td>\n",
       "      <td>Model #3</td>\n",
       "      <td>0.304688</td>\n",
       "      <td>0.480000</td>\n",
       "      <td>0.573750</td>\n",
       "    </tr>\n",
       "  </tbody>\n",
       "</table>\n",
       "</div>"
      ],
      "text/plain": [
       "                                             model_name       data_subset  \\\n",
       "runid                                                                       \n",
       "birdsongs_2_1618101588_9cdc9314       cnn1_audin_nmel_1  kaggle_10sec_wav   \n",
       "birdsongs_2_1618101601_6c54df25       cnn1_audin_nmel_2  kaggle_10sec_wav   \n",
       "birdsongs_2_1618101679_621085b4  cnn1_audin_nmel_dcbl_1  kaggle_10sec_wav   \n",
       "\n",
       "                                model_num_text  test_categorical_accuracy  \\\n",
       "runid                                                                       \n",
       "birdsongs_2_1618101588_9cdc9314       Model #1                   0.324375   \n",
       "birdsongs_2_1618101601_6c54df25       Model #2                   0.283125   \n",
       "birdsongs_2_1618101679_621085b4       Model #3                   0.304688   \n",
       "\n",
       "                                 test_top_3_accuracy  test_top_5_accuracy  \n",
       "runid                                                                      \n",
       "birdsongs_2_1618101588_9cdc9314             0.493437             0.572500  \n",
       "birdsongs_2_1618101601_6c54df25             0.454062             0.540625  \n",
       "birdsongs_2_1618101679_621085b4             0.480000             0.573750  "
      ]
     },
     "execution_count": 66,
     "metadata": {},
     "output_type": "execute_result"
    }
   ],
   "source": [
    "# create DataFrame with only columns we need for plot\n",
    "df_plot = df_plot[['model_name',\n",
    "                   'data_subset',\n",
    "                   'model_num_text',\n",
    "                   'test_categorical_accuracy', \n",
    "                   'test_top_3_accuracy', \n",
    "                   'test_top_5_accuracy']]\n",
    "df_plot.head(3)"
   ]
  },
  {
   "cell_type": "code",
   "execution_count": 67,
   "id": "intellectual-republican",
   "metadata": {},
   "outputs": [
    {
     "data": {
      "text/html": [
       "<div>\n",
       "<style scoped>\n",
       "    .dataframe tbody tr th:only-of-type {\n",
       "        vertical-align: middle;\n",
       "    }\n",
       "\n",
       "    .dataframe tbody tr th {\n",
       "        vertical-align: top;\n",
       "    }\n",
       "\n",
       "    .dataframe thead th {\n",
       "        text-align: right;\n",
       "    }\n",
       "</style>\n",
       "<table border=\"1\" class=\"dataframe\">\n",
       "  <thead>\n",
       "    <tr style=\"text-align: right;\">\n",
       "      <th></th>\n",
       "      <th>Model Name</th>\n",
       "      <th>Data</th>\n",
       "      <th>Model No.</th>\n",
       "      <th>Accuracy Metric</th>\n",
       "      <th>Accuracy</th>\n",
       "    </tr>\n",
       "  </thead>\n",
       "  <tbody>\n",
       "    <tr>\n",
       "      <th>0</th>\n",
       "      <td>cnn1_audin_nmel_1</td>\n",
       "      <td>kaggle_10sec_wav</td>\n",
       "      <td>Model #1</td>\n",
       "      <td>Categorical Accuracy</td>\n",
       "      <td>0.324375</td>\n",
       "    </tr>\n",
       "    <tr>\n",
       "      <th>1</th>\n",
       "      <td>cnn1_audin_nmel_2</td>\n",
       "      <td>kaggle_10sec_wav</td>\n",
       "      <td>Model #2</td>\n",
       "      <td>Categorical Accuracy</td>\n",
       "      <td>0.283125</td>\n",
       "    </tr>\n",
       "    <tr>\n",
       "      <th>2</th>\n",
       "      <td>cnn1_audin_nmel_dcbl_1</td>\n",
       "      <td>kaggle_10sec_wav</td>\n",
       "      <td>Model #3</td>\n",
       "      <td>Categorical Accuracy</td>\n",
       "      <td>0.304688</td>\n",
       "    </tr>\n",
       "    <tr>\n",
       "      <th>3</th>\n",
       "      <td>cnn1_audin_nmel_dcbl_2</td>\n",
       "      <td>kaggle_10sec_wav</td>\n",
       "      <td>Model #4</td>\n",
       "      <td>Categorical Accuracy</td>\n",
       "      <td>0.268750</td>\n",
       "    </tr>\n",
       "    <tr>\n",
       "      <th>4</th>\n",
       "      <td>cnn1_audin_nffthl_1</td>\n",
       "      <td>kaggle_10sec_wav</td>\n",
       "      <td>Model #5</td>\n",
       "      <td>Categorical Accuracy</td>\n",
       "      <td>0.302500</td>\n",
       "    </tr>\n",
       "  </tbody>\n",
       "</table>\n",
       "</div>"
      ],
      "text/plain": [
       "               Model Name              Data Model No.       Accuracy Metric  \\\n",
       "0       cnn1_audin_nmel_1  kaggle_10sec_wav  Model #1  Categorical Accuracy   \n",
       "1       cnn1_audin_nmel_2  kaggle_10sec_wav  Model #2  Categorical Accuracy   \n",
       "2  cnn1_audin_nmel_dcbl_1  kaggle_10sec_wav  Model #3  Categorical Accuracy   \n",
       "3  cnn1_audin_nmel_dcbl_2  kaggle_10sec_wav  Model #4  Categorical Accuracy   \n",
       "4     cnn1_audin_nffthl_1  kaggle_10sec_wav  Model #5  Categorical Accuracy   \n",
       "\n",
       "   Accuracy  \n",
       "0  0.324375  \n",
       "1  0.283125  \n",
       "2  0.304688  \n",
       "3  0.268750  \n",
       "4  0.302500  "
      ]
     },
     "execution_count": 67,
     "metadata": {},
     "output_type": "execute_result"
    }
   ],
   "source": [
    "# rename columns for plot\n",
    "df_plot.columns = ['Model Name',\n",
    "                   'Data',\n",
    "                   'Model No.',\n",
    "                   'Categorical Accuracy',\n",
    "                   'Top 3 Categorical Accuracy',\n",
    "                   'Top 5 Categorical Accuracy']\n",
    "\n",
    "# flatten dataframe for plot\n",
    "df_plot = df_plot.melt(id_vars=['Model Name', 'Data', 'Model No.'],\n",
    "                       var_name='Accuracy Metric',\n",
    "                       value_vars=['Categorical Accuracy', \n",
    "                                      'Top 3 Categorical Accuracy', \n",
    "                                      'Top 5 Categorical Accuracy'],\n",
    "                       value_name='Accuracy')\n",
    "df_plot.head()"
   ]
  },
  {
   "cell_type": "code",
   "execution_count": 68,
   "id": "organizational-button",
   "metadata": {},
   "outputs": [],
   "source": [
    "# the color palette\n",
    "colors = ['#6c503e', '#446652','#8C93A8', '#EDCB96', '#B5C2B7']\n"
   ]
  },
  {
   "cell_type": "code",
   "execution_count": 70,
   "id": "prostate-defendant",
   "metadata": {},
   "outputs": [
    {
     "data": {
      "application/vnd.plotly.v1+json": {
       "config": {
        "plotlyServerURL": "https://plot.ly"
       },
       "data": [
        {
         "alignmentgroup": "True",
         "customdata": [
          [
           "cnn1_audin_l2reg_4",
           "kaggle_10sec_wav"
          ],
          [
           "cnn1_audin_nmel_dcbl_2",
           "kaggle_10sec_wav"
          ],
          [
           "cnn1_audin_nmel_2",
           "kaggle_10sec_wav"
          ],
          [
           "cnn1_audin_freq_1",
           "kaggle_10sec_wav"
          ],
          [
           "cnn1_audin_freq_2",
           "kaggle_10sec_wav"
          ],
          [
           "cnn1_audin_nffthl_2",
           "kaggle_10sec_wav"
          ],
          [
           "cnn1_audin_nffthl_1",
           "kaggle_10sec_wav"
          ],
          [
           "cnn1_audin_nmel_dcbl_1",
           "kaggle_10sec_wav"
          ],
          [
           "cnn1_audin_l2reg_3",
           "kaggle_10sec_wav"
          ],
          [
           "milsed_3block_dense",
           "kaggle_10sec_wav"
          ],
          [
           "cnn1_audin_l2reg_1",
           "kaggle_10sec_wav"
          ],
          [
           "cnn1_audin_drp_4",
           "kaggle_10sec_wav"
          ],
          [
           "cnn1_audin_nmel_1",
           "kaggle_10sec_wav"
          ],
          [
           "cnn1_audin_l2reg_2",
           "kaggle_10sec_wav"
          ],
          [
           "cnn1_audin_drp_3",
           "kaggle_10sec_wav"
          ],
          [
           "milsed_8block_dense",
           "kaggle_10sec_wav"
          ],
          [
           "cnn1_audin_drp_1",
           "kaggle_10sec_wav"
          ],
          [
           "milsed_7block_dense_drp_4",
           "kaggle_10sec_wav"
          ],
          [
           "milsed_4block_dense",
           "kaggle_10sec_wav"
          ],
          [
           "cnn1_audin_drp_2",
           "kaggle_10sec_wav"
          ],
          [
           "milsed_5block_dense",
           "kaggle_10sec_wav"
          ],
          [
           "milsed_6block_dense",
           "kaggle_10sec_wav"
          ],
          [
           "milsed_7block_dense_drp_3",
           "kaggle_10sec_wav"
          ],
          [
           "milsed_7block_dense_drp_2",
           "kaggle_10sec_wav"
          ],
          [
           "milsed_7block_dense",
           "kaggle_full_length_npy_aug_pitch"
          ],
          [
           "milsed_7block_dense_drp_1",
           "kaggle_10sec_wav"
          ],
          [
           "milsed_7block_dense",
           "kaggle_full_length_npy_aug_pitch_stretch"
          ],
          [
           "milsed_7block_dense",
           "kaggle_10sec_wav"
          ],
          [
           "milsed_7block_dense",
           "all_10sec_wav"
          ],
          [
           "milsed_7block_dense",
           "kaggle_full_length_npy_aug_stretch"
          ],
          [
           "milsed_7block_dense",
           "kaggle_full_length_npy_aug"
          ],
          [
           "milsed_7block_dense",
           "all_full_length_npy_aug"
          ]
         ],
         "hovertemplate": "<b>%{hovertext}</b><br><br>Accuracy Metric=Categorical Accuracy<br>Model No.=%{x}<br>Accuracy=%{y}<br>Model Name=%{customdata[0]}<br>Data=%{customdata[1]}<extra></extra>",
         "hovertext": [
          "Model #12",
          "Model #4",
          "Model #2",
          "Model #7",
          "Model #8",
          "Model #6",
          "Model #5",
          "Model #3",
          "Model #11",
          "Model #17",
          "Model #9",
          "Model #16",
          "Model #1",
          "Model #10",
          "Model #15",
          "Model #22",
          "Model #13",
          "Model #26",
          "Model #18",
          "Model #14",
          "Model #20",
          "Model #19",
          "Model #25",
          "Model #24",
          "Model #29",
          "Model #23",
          "Model #31",
          "Model #21",
          "Model #27",
          "Model #30",
          "Model #28",
          "Model #32"
         ],
         "legendgroup": "Categorical Accuracy",
         "marker": {
          "color": "#6c503e"
         },
         "name": "Categorical Accuracy",
         "offsetgroup": "Categorical Accuracy",
         "orientation": "v",
         "showlegend": true,
         "textposition": "auto",
         "type": "bar",
         "x": [
          "Model #12",
          "Model #4",
          "Model #2",
          "Model #7",
          "Model #8",
          "Model #6",
          "Model #5",
          "Model #3",
          "Model #11",
          "Model #17",
          "Model #9",
          "Model #16",
          "Model #1",
          "Model #10",
          "Model #15",
          "Model #22",
          "Model #13",
          "Model #26",
          "Model #18",
          "Model #14",
          "Model #20",
          "Model #19",
          "Model #25",
          "Model #24",
          "Model #29",
          "Model #23",
          "Model #31",
          "Model #21",
          "Model #27",
          "Model #30",
          "Model #28",
          "Model #32"
         ],
         "xaxis": "x",
         "y": [
          0.13124999403953552,
          0.26875001192092896,
          0.28312501311302185,
          0.28562501072883606,
          0.3006249964237213,
          0.3009375035762787,
          0.30250000953674316,
          0.3046875,
          0.3059374988079071,
          0.31156250834465027,
          0.32218751311302185,
          0.3228124976158142,
          0.3243750035762787,
          0.3318749964237213,
          0.3478125035762787,
          0.3568750023841858,
          0.37312498688697815,
          0.3734374940395355,
          0.37687501311302185,
          0.38874998688697815,
          0.4037500023841858,
          0.42531248927116394,
          0.44187501072883606,
          0.4975000023841858,
          0.5056250095367432,
          0.5278124809265137,
          0.5365625023841858,
          0.5425000190734863,
          0.557692289352417,
          0.5634375214576721,
          0.6006249785423279,
          0.7047038078308105
         ],
         "yaxis": "y"
        },
        {
         "alignmentgroup": "True",
         "customdata": [
          [
           "cnn1_audin_l2reg_4",
           "kaggle_10sec_wav"
          ],
          [
           "cnn1_audin_nmel_dcbl_2",
           "kaggle_10sec_wav"
          ],
          [
           "cnn1_audin_freq_1",
           "kaggle_10sec_wav"
          ],
          [
           "cnn1_audin_nmel_2",
           "kaggle_10sec_wav"
          ],
          [
           "cnn1_audin_nffthl_2",
           "kaggle_10sec_wav"
          ],
          [
           "cnn1_audin_freq_2",
           "kaggle_10sec_wav"
          ],
          [
           "cnn1_audin_nffthl_1",
           "kaggle_10sec_wav"
          ],
          [
           "cnn1_audin_l2reg_3",
           "kaggle_10sec_wav"
          ],
          [
           "cnn1_audin_nmel_dcbl_1",
           "kaggle_10sec_wav"
          ],
          [
           "cnn1_audin_nmel_1",
           "kaggle_10sec_wav"
          ],
          [
           "milsed_3block_dense",
           "kaggle_10sec_wav"
          ],
          [
           "cnn1_audin_l2reg_1",
           "kaggle_10sec_wav"
          ],
          [
           "cnn1_audin_drp_4",
           "kaggle_10sec_wav"
          ],
          [
           "cnn1_audin_l2reg_2",
           "kaggle_10sec_wav"
          ],
          [
           "cnn1_audin_drp_3",
           "kaggle_10sec_wav"
          ],
          [
           "cnn1_audin_drp_1",
           "kaggle_10sec_wav"
          ],
          [
           "milsed_7block_dense_drp_4",
           "kaggle_10sec_wav"
          ],
          [
           "cnn1_audin_drp_2",
           "kaggle_10sec_wav"
          ],
          [
           "milsed_8block_dense",
           "kaggle_10sec_wav"
          ],
          [
           "milsed_4block_dense",
           "kaggle_10sec_wav"
          ],
          [
           "milsed_5block_dense",
           "kaggle_10sec_wav"
          ],
          [
           "milsed_6block_dense",
           "kaggle_10sec_wav"
          ],
          [
           "milsed_7block_dense_drp_3",
           "kaggle_10sec_wav"
          ],
          [
           "milsed_7block_dense_drp_2",
           "kaggle_10sec_wav"
          ],
          [
           "milsed_7block_dense",
           "kaggle_full_length_npy_aug_pitch"
          ],
          [
           "milsed_7block_dense",
           "kaggle_full_length_npy_aug_pitch_stretch"
          ],
          [
           "milsed_7block_dense_drp_1",
           "kaggle_10sec_wav"
          ],
          [
           "milsed_7block_dense",
           "kaggle_full_length_npy_aug_stretch"
          ],
          [
           "milsed_7block_dense",
           "kaggle_10sec_wav"
          ],
          [
           "milsed_7block_dense",
           "all_10sec_wav"
          ],
          [
           "milsed_7block_dense",
           "kaggle_full_length_npy_aug"
          ],
          [
           "milsed_7block_dense",
           "all_full_length_npy_aug"
          ]
         ],
         "hovertemplate": "<b>%{hovertext}</b><br><br>Accuracy Metric=Top 3 Categorical Accuracy<br>Model No.=%{x}<br>Accuracy=%{y}<br>Model Name=%{customdata[0]}<br>Data=%{customdata[1]}<extra></extra>",
         "hovertext": [
          "Model #12",
          "Model #4",
          "Model #7",
          "Model #2",
          "Model #6",
          "Model #8",
          "Model #5",
          "Model #11",
          "Model #3",
          "Model #1",
          "Model #17",
          "Model #9",
          "Model #16",
          "Model #10",
          "Model #15",
          "Model #13",
          "Model #26",
          "Model #14",
          "Model #22",
          "Model #18",
          "Model #20",
          "Model #19",
          "Model #25",
          "Model #24",
          "Model #29",
          "Model #31",
          "Model #23",
          "Model #30",
          "Model #21",
          "Model #27",
          "Model #28",
          "Model #32"
         ],
         "legendgroup": "Top 3 Categorical Accuracy",
         "marker": {
          "color": "#446652"
         },
         "name": "Top 3 Categorical Accuracy",
         "offsetgroup": "Top 3 Categorical Accuracy",
         "orientation": "v",
         "showlegend": true,
         "textposition": "auto",
         "type": "bar",
         "x": [
          "Model #12",
          "Model #4",
          "Model #7",
          "Model #2",
          "Model #6",
          "Model #8",
          "Model #5",
          "Model #11",
          "Model #3",
          "Model #1",
          "Model #17",
          "Model #9",
          "Model #16",
          "Model #10",
          "Model #15",
          "Model #13",
          "Model #26",
          "Model #14",
          "Model #22",
          "Model #18",
          "Model #20",
          "Model #19",
          "Model #25",
          "Model #24",
          "Model #29",
          "Model #31",
          "Model #23",
          "Model #30",
          "Model #21",
          "Model #27",
          "Model #28",
          "Model #32"
         ],
         "xaxis": "x",
         "y": [
          0.2759374976158142,
          0.44624999165534973,
          0.453125,
          0.45406249165534973,
          0.4690625071525574,
          0.46937501430511475,
          0.4768750071525574,
          0.47999998927116394,
          0.47999998927116394,
          0.4934374988079071,
          0.49531251192092896,
          0.4959374964237213,
          0.5003125071525574,
          0.5006250143051147,
          0.5168750286102295,
          0.5371875166893005,
          0.5434374809265137,
          0.5493749976158142,
          0.5537499785423279,
          0.5550000071525574,
          0.5956249833106995,
          0.6100000143051147,
          0.6146875023841858,
          0.6668750047683716,
          0.6681249737739563,
          0.6912500262260437,
          0.6956250071525574,
          0.7018749713897705,
          0.7021874785423279,
          0.7171109914779663,
          0.7406250238418579,
          0.8167465329170227
         ],
         "yaxis": "y"
        },
        {
         "alignmentgroup": "True",
         "customdata": [
          [
           "cnn1_audin_l2reg_4",
           "kaggle_10sec_wav"
          ],
          [
           "cnn1_audin_freq_1",
           "kaggle_10sec_wav"
          ],
          [
           "cnn1_audin_nmel_dcbl_2",
           "kaggle_10sec_wav"
          ],
          [
           "cnn1_audin_nmel_2",
           "kaggle_10sec_wav"
          ],
          [
           "cnn1_audin_nffthl_2",
           "kaggle_10sec_wav"
          ],
          [
           "cnn1_audin_freq_2",
           "kaggle_10sec_wav"
          ],
          [
           "cnn1_audin_l2reg_3",
           "kaggle_10sec_wav"
          ],
          [
           "cnn1_audin_nffthl_1",
           "kaggle_10sec_wav"
          ],
          [
           "cnn1_audin_nmel_1",
           "kaggle_10sec_wav"
          ],
          [
           "cnn1_audin_nmel_dcbl_1",
           "kaggle_10sec_wav"
          ],
          [
           "cnn1_audin_drp_4",
           "kaggle_10sec_wav"
          ],
          [
           "cnn1_audin_l2reg_1",
           "kaggle_10sec_wav"
          ],
          [
           "milsed_3block_dense",
           "kaggle_10sec_wav"
          ],
          [
           "cnn1_audin_l2reg_2",
           "kaggle_10sec_wav"
          ],
          [
           "cnn1_audin_drp_3",
           "kaggle_10sec_wav"
          ],
          [
           "cnn1_audin_drp_1",
           "kaggle_10sec_wav"
          ],
          [
           "cnn1_audin_drp_2",
           "kaggle_10sec_wav"
          ],
          [
           "milsed_7block_dense_drp_4",
           "kaggle_10sec_wav"
          ],
          [
           "milsed_8block_dense",
           "kaggle_10sec_wav"
          ],
          [
           "milsed_4block_dense",
           "kaggle_10sec_wav"
          ],
          [
           "milsed_5block_dense",
           "kaggle_10sec_wav"
          ],
          [
           "milsed_6block_dense",
           "kaggle_10sec_wav"
          ],
          [
           "milsed_7block_dense_drp_3",
           "kaggle_10sec_wav"
          ],
          [
           "milsed_7block_dense_drp_2",
           "kaggle_10sec_wav"
          ],
          [
           "milsed_7block_dense",
           "kaggle_full_length_npy_aug_pitch"
          ],
          [
           "milsed_7block_dense",
           "kaggle_full_length_npy_aug_pitch_stretch"
          ],
          [
           "milsed_7block_dense_drp_1",
           "kaggle_10sec_wav"
          ],
          [
           "milsed_7block_dense",
           "kaggle_full_length_npy_aug_stretch"
          ],
          [
           "milsed_7block_dense",
           "kaggle_10sec_wav"
          ],
          [
           "milsed_7block_dense",
           "all_10sec_wav"
          ],
          [
           "milsed_7block_dense",
           "kaggle_full_length_npy_aug"
          ],
          [
           "milsed_7block_dense",
           "all_full_length_npy_aug"
          ]
         ],
         "hovertemplate": "<b>%{hovertext}</b><br><br>Accuracy Metric=Top 5 Categorical Accuracy<br>Model No.=%{x}<br>Accuracy=%{y}<br>Model Name=%{customdata[0]}<br>Data=%{customdata[1]}<extra></extra>",
         "hovertext": [
          "Model #12",
          "Model #7",
          "Model #4",
          "Model #2",
          "Model #6",
          "Model #8",
          "Model #11",
          "Model #5",
          "Model #1",
          "Model #3",
          "Model #16",
          "Model #9",
          "Model #17",
          "Model #10",
          "Model #15",
          "Model #13",
          "Model #14",
          "Model #26",
          "Model #22",
          "Model #18",
          "Model #20",
          "Model #19",
          "Model #25",
          "Model #24",
          "Model #29",
          "Model #31",
          "Model #23",
          "Model #30",
          "Model #21",
          "Model #27",
          "Model #28",
          "Model #32"
         ],
         "legendgroup": "Top 5 Categorical Accuracy",
         "marker": {
          "color": "#8C93A8"
         },
         "name": "Top 5 Categorical Accuracy",
         "offsetgroup": "Top 5 Categorical Accuracy",
         "orientation": "v",
         "showlegend": true,
         "textposition": "auto",
         "type": "bar",
         "x": [
          "Model #12",
          "Model #7",
          "Model #4",
          "Model #2",
          "Model #6",
          "Model #8",
          "Model #11",
          "Model #5",
          "Model #1",
          "Model #3",
          "Model #16",
          "Model #9",
          "Model #17",
          "Model #10",
          "Model #15",
          "Model #13",
          "Model #14",
          "Model #26",
          "Model #22",
          "Model #18",
          "Model #20",
          "Model #19",
          "Model #25",
          "Model #24",
          "Model #29",
          "Model #31",
          "Model #23",
          "Model #30",
          "Model #21",
          "Model #27",
          "Model #28",
          "Model #32"
         ],
         "xaxis": "x",
         "y": [
          0.3643749952316284,
          0.5393750071525574,
          0.5406249761581421,
          0.5406249761581421,
          0.5481250286102295,
          0.5487499833106995,
          0.5609375238418579,
          0.5615624785423279,
          0.5724999904632568,
          0.5737500190734863,
          0.5753124952316284,
          0.578125,
          0.5784375071525574,
          0.5821874737739563,
          0.5874999761581421,
          0.6193749904632568,
          0.6200000047683716,
          0.6299999952316284,
          0.6324999928474426,
          0.6387500166893005,
          0.6696875095367432,
          0.6815624833106995,
          0.6837499737739563,
          0.729687511920929,
          0.7337499856948853,
          0.7515624761581421,
          0.7515624761581421,
          0.7565624713897705,
          0.7603124976158142,
          0.7755681872367859,
          0.7925000190734863,
          0.8539851903915405
         ],
         "yaxis": "y"
        }
       ],
       "layout": {
        "annotations": [
         {
          "showarrow": false,
          "text": "Hover to see Model Name and Dataset",
          "x": 0,
          "xref": "paper",
          "y": 1.13,
          "yref": "paper"
         }
        ],
        "barmode": "group",
        "font": {
         "color": "black"
        },
        "legend": {
         "title": {
          "text": "Accuracy Metric"
         },
         "tracegroupgap": 0,
         "x": 0.01,
         "xanchor": "left",
         "y": 0.99,
         "yanchor": "top"
        },
        "paper_bgcolor": "rgba(0,0,0,0)",
        "plot_bgcolor": "rgba(0,0,0,0)",
        "template": {
         "data": {
          "bar": [
           {
            "error_x": {
             "color": "#2a3f5f"
            },
            "error_y": {
             "color": "#2a3f5f"
            },
            "marker": {
             "line": {
              "color": "#E5ECF6",
              "width": 0.5
             }
            },
            "type": "bar"
           }
          ],
          "barpolar": [
           {
            "marker": {
             "line": {
              "color": "#E5ECF6",
              "width": 0.5
             }
            },
            "type": "barpolar"
           }
          ],
          "carpet": [
           {
            "aaxis": {
             "endlinecolor": "#2a3f5f",
             "gridcolor": "white",
             "linecolor": "white",
             "minorgridcolor": "white",
             "startlinecolor": "#2a3f5f"
            },
            "baxis": {
             "endlinecolor": "#2a3f5f",
             "gridcolor": "white",
             "linecolor": "white",
             "minorgridcolor": "white",
             "startlinecolor": "#2a3f5f"
            },
            "type": "carpet"
           }
          ],
          "choropleth": [
           {
            "colorbar": {
             "outlinewidth": 0,
             "ticks": ""
            },
            "type": "choropleth"
           }
          ],
          "contour": [
           {
            "colorbar": {
             "outlinewidth": 0,
             "ticks": ""
            },
            "colorscale": [
             [
              0,
              "#0d0887"
             ],
             [
              0.1111111111111111,
              "#46039f"
             ],
             [
              0.2222222222222222,
              "#7201a8"
             ],
             [
              0.3333333333333333,
              "#9c179e"
             ],
             [
              0.4444444444444444,
              "#bd3786"
             ],
             [
              0.5555555555555556,
              "#d8576b"
             ],
             [
              0.6666666666666666,
              "#ed7953"
             ],
             [
              0.7777777777777778,
              "#fb9f3a"
             ],
             [
              0.8888888888888888,
              "#fdca26"
             ],
             [
              1,
              "#f0f921"
             ]
            ],
            "type": "contour"
           }
          ],
          "contourcarpet": [
           {
            "colorbar": {
             "outlinewidth": 0,
             "ticks": ""
            },
            "type": "contourcarpet"
           }
          ],
          "heatmap": [
           {
            "colorbar": {
             "outlinewidth": 0,
             "ticks": ""
            },
            "colorscale": [
             [
              0,
              "#0d0887"
             ],
             [
              0.1111111111111111,
              "#46039f"
             ],
             [
              0.2222222222222222,
              "#7201a8"
             ],
             [
              0.3333333333333333,
              "#9c179e"
             ],
             [
              0.4444444444444444,
              "#bd3786"
             ],
             [
              0.5555555555555556,
              "#d8576b"
             ],
             [
              0.6666666666666666,
              "#ed7953"
             ],
             [
              0.7777777777777778,
              "#fb9f3a"
             ],
             [
              0.8888888888888888,
              "#fdca26"
             ],
             [
              1,
              "#f0f921"
             ]
            ],
            "type": "heatmap"
           }
          ],
          "heatmapgl": [
           {
            "colorbar": {
             "outlinewidth": 0,
             "ticks": ""
            },
            "colorscale": [
             [
              0,
              "#0d0887"
             ],
             [
              0.1111111111111111,
              "#46039f"
             ],
             [
              0.2222222222222222,
              "#7201a8"
             ],
             [
              0.3333333333333333,
              "#9c179e"
             ],
             [
              0.4444444444444444,
              "#bd3786"
             ],
             [
              0.5555555555555556,
              "#d8576b"
             ],
             [
              0.6666666666666666,
              "#ed7953"
             ],
             [
              0.7777777777777778,
              "#fb9f3a"
             ],
             [
              0.8888888888888888,
              "#fdca26"
             ],
             [
              1,
              "#f0f921"
             ]
            ],
            "type": "heatmapgl"
           }
          ],
          "histogram": [
           {
            "marker": {
             "colorbar": {
              "outlinewidth": 0,
              "ticks": ""
             }
            },
            "type": "histogram"
           }
          ],
          "histogram2d": [
           {
            "colorbar": {
             "outlinewidth": 0,
             "ticks": ""
            },
            "colorscale": [
             [
              0,
              "#0d0887"
             ],
             [
              0.1111111111111111,
              "#46039f"
             ],
             [
              0.2222222222222222,
              "#7201a8"
             ],
             [
              0.3333333333333333,
              "#9c179e"
             ],
             [
              0.4444444444444444,
              "#bd3786"
             ],
             [
              0.5555555555555556,
              "#d8576b"
             ],
             [
              0.6666666666666666,
              "#ed7953"
             ],
             [
              0.7777777777777778,
              "#fb9f3a"
             ],
             [
              0.8888888888888888,
              "#fdca26"
             ],
             [
              1,
              "#f0f921"
             ]
            ],
            "type": "histogram2d"
           }
          ],
          "histogram2dcontour": [
           {
            "colorbar": {
             "outlinewidth": 0,
             "ticks": ""
            },
            "colorscale": [
             [
              0,
              "#0d0887"
             ],
             [
              0.1111111111111111,
              "#46039f"
             ],
             [
              0.2222222222222222,
              "#7201a8"
             ],
             [
              0.3333333333333333,
              "#9c179e"
             ],
             [
              0.4444444444444444,
              "#bd3786"
             ],
             [
              0.5555555555555556,
              "#d8576b"
             ],
             [
              0.6666666666666666,
              "#ed7953"
             ],
             [
              0.7777777777777778,
              "#fb9f3a"
             ],
             [
              0.8888888888888888,
              "#fdca26"
             ],
             [
              1,
              "#f0f921"
             ]
            ],
            "type": "histogram2dcontour"
           }
          ],
          "mesh3d": [
           {
            "colorbar": {
             "outlinewidth": 0,
             "ticks": ""
            },
            "type": "mesh3d"
           }
          ],
          "parcoords": [
           {
            "line": {
             "colorbar": {
              "outlinewidth": 0,
              "ticks": ""
             }
            },
            "type": "parcoords"
           }
          ],
          "pie": [
           {
            "automargin": true,
            "type": "pie"
           }
          ],
          "scatter": [
           {
            "marker": {
             "colorbar": {
              "outlinewidth": 0,
              "ticks": ""
             }
            },
            "type": "scatter"
           }
          ],
          "scatter3d": [
           {
            "line": {
             "colorbar": {
              "outlinewidth": 0,
              "ticks": ""
             }
            },
            "marker": {
             "colorbar": {
              "outlinewidth": 0,
              "ticks": ""
             }
            },
            "type": "scatter3d"
           }
          ],
          "scattercarpet": [
           {
            "marker": {
             "colorbar": {
              "outlinewidth": 0,
              "ticks": ""
             }
            },
            "type": "scattercarpet"
           }
          ],
          "scattergeo": [
           {
            "marker": {
             "colorbar": {
              "outlinewidth": 0,
              "ticks": ""
             }
            },
            "type": "scattergeo"
           }
          ],
          "scattergl": [
           {
            "marker": {
             "colorbar": {
              "outlinewidth": 0,
              "ticks": ""
             }
            },
            "type": "scattergl"
           }
          ],
          "scattermapbox": [
           {
            "marker": {
             "colorbar": {
              "outlinewidth": 0,
              "ticks": ""
             }
            },
            "type": "scattermapbox"
           }
          ],
          "scatterpolar": [
           {
            "marker": {
             "colorbar": {
              "outlinewidth": 0,
              "ticks": ""
             }
            },
            "type": "scatterpolar"
           }
          ],
          "scatterpolargl": [
           {
            "marker": {
             "colorbar": {
              "outlinewidth": 0,
              "ticks": ""
             }
            },
            "type": "scatterpolargl"
           }
          ],
          "scatterternary": [
           {
            "marker": {
             "colorbar": {
              "outlinewidth": 0,
              "ticks": ""
             }
            },
            "type": "scatterternary"
           }
          ],
          "surface": [
           {
            "colorbar": {
             "outlinewidth": 0,
             "ticks": ""
            },
            "colorscale": [
             [
              0,
              "#0d0887"
             ],
             [
              0.1111111111111111,
              "#46039f"
             ],
             [
              0.2222222222222222,
              "#7201a8"
             ],
             [
              0.3333333333333333,
              "#9c179e"
             ],
             [
              0.4444444444444444,
              "#bd3786"
             ],
             [
              0.5555555555555556,
              "#d8576b"
             ],
             [
              0.6666666666666666,
              "#ed7953"
             ],
             [
              0.7777777777777778,
              "#fb9f3a"
             ],
             [
              0.8888888888888888,
              "#fdca26"
             ],
             [
              1,
              "#f0f921"
             ]
            ],
            "type": "surface"
           }
          ],
          "table": [
           {
            "cells": {
             "fill": {
              "color": "#EBF0F8"
             },
             "line": {
              "color": "white"
             }
            },
            "header": {
             "fill": {
              "color": "#C8D4E3"
             },
             "line": {
              "color": "white"
             }
            },
            "type": "table"
           }
          ]
         },
         "layout": {
          "annotationdefaults": {
           "arrowcolor": "#2a3f5f",
           "arrowhead": 0,
           "arrowwidth": 1
          },
          "autotypenumbers": "strict",
          "coloraxis": {
           "colorbar": {
            "outlinewidth": 0,
            "ticks": ""
           }
          },
          "colorscale": {
           "diverging": [
            [
             0,
             "#8e0152"
            ],
            [
             0.1,
             "#c51b7d"
            ],
            [
             0.2,
             "#de77ae"
            ],
            [
             0.3,
             "#f1b6da"
            ],
            [
             0.4,
             "#fde0ef"
            ],
            [
             0.5,
             "#f7f7f7"
            ],
            [
             0.6,
             "#e6f5d0"
            ],
            [
             0.7,
             "#b8e186"
            ],
            [
             0.8,
             "#7fbc41"
            ],
            [
             0.9,
             "#4d9221"
            ],
            [
             1,
             "#276419"
            ]
           ],
           "sequential": [
            [
             0,
             "#0d0887"
            ],
            [
             0.1111111111111111,
             "#46039f"
            ],
            [
             0.2222222222222222,
             "#7201a8"
            ],
            [
             0.3333333333333333,
             "#9c179e"
            ],
            [
             0.4444444444444444,
             "#bd3786"
            ],
            [
             0.5555555555555556,
             "#d8576b"
            ],
            [
             0.6666666666666666,
             "#ed7953"
            ],
            [
             0.7777777777777778,
             "#fb9f3a"
            ],
            [
             0.8888888888888888,
             "#fdca26"
            ],
            [
             1,
             "#f0f921"
            ]
           ],
           "sequentialminus": [
            [
             0,
             "#0d0887"
            ],
            [
             0.1111111111111111,
             "#46039f"
            ],
            [
             0.2222222222222222,
             "#7201a8"
            ],
            [
             0.3333333333333333,
             "#9c179e"
            ],
            [
             0.4444444444444444,
             "#bd3786"
            ],
            [
             0.5555555555555556,
             "#d8576b"
            ],
            [
             0.6666666666666666,
             "#ed7953"
            ],
            [
             0.7777777777777778,
             "#fb9f3a"
            ],
            [
             0.8888888888888888,
             "#fdca26"
            ],
            [
             1,
             "#f0f921"
            ]
           ]
          },
          "colorway": [
           "#636efa",
           "#EF553B",
           "#00cc96",
           "#ab63fa",
           "#FFA15A",
           "#19d3f3",
           "#FF6692",
           "#B6E880",
           "#FF97FF",
           "#FECB52"
          ],
          "font": {
           "color": "#2a3f5f"
          },
          "geo": {
           "bgcolor": "white",
           "lakecolor": "white",
           "landcolor": "#E5ECF6",
           "showlakes": true,
           "showland": true,
           "subunitcolor": "white"
          },
          "hoverlabel": {
           "align": "left"
          },
          "hovermode": "closest",
          "mapbox": {
           "style": "light"
          },
          "paper_bgcolor": "white",
          "plot_bgcolor": "#E5ECF6",
          "polar": {
           "angularaxis": {
            "gridcolor": "white",
            "linecolor": "white",
            "ticks": ""
           },
           "bgcolor": "#E5ECF6",
           "radialaxis": {
            "gridcolor": "white",
            "linecolor": "white",
            "ticks": ""
           }
          },
          "scene": {
           "xaxis": {
            "backgroundcolor": "#E5ECF6",
            "gridcolor": "white",
            "gridwidth": 2,
            "linecolor": "white",
            "showbackground": true,
            "ticks": "",
            "zerolinecolor": "white"
           },
           "yaxis": {
            "backgroundcolor": "#E5ECF6",
            "gridcolor": "white",
            "gridwidth": 2,
            "linecolor": "white",
            "showbackground": true,
            "ticks": "",
            "zerolinecolor": "white"
           },
           "zaxis": {
            "backgroundcolor": "#E5ECF6",
            "gridcolor": "white",
            "gridwidth": 2,
            "linecolor": "white",
            "showbackground": true,
            "ticks": "",
            "zerolinecolor": "white"
           }
          },
          "shapedefaults": {
           "line": {
            "color": "#2a3f5f"
           }
          },
          "ternary": {
           "aaxis": {
            "gridcolor": "white",
            "linecolor": "white",
            "ticks": ""
           },
           "baxis": {
            "gridcolor": "white",
            "linecolor": "white",
            "ticks": ""
           },
           "bgcolor": "#E5ECF6",
           "caxis": {
            "gridcolor": "white",
            "linecolor": "white",
            "ticks": ""
           }
          },
          "title": {
           "x": 0.05
          },
          "xaxis": {
           "automargin": true,
           "gridcolor": "white",
           "linecolor": "white",
           "ticks": "",
           "title": {
            "standoff": 15
           },
           "zerolinecolor": "white",
           "zerolinewidth": 2
          },
          "yaxis": {
           "automargin": true,
           "gridcolor": "white",
           "linecolor": "white",
           "ticks": "",
           "title": {
            "standoff": 15
           },
           "zerolinecolor": "white",
           "zerolinewidth": 2
          }
         }
        },
        "title": {
         "text": "Test Accuracy by model name"
        },
        "xaxis": {
         "anchor": "y",
         "domain": [
          0,
          1
         ],
         "title": {
          "text": "Model No."
         }
        },
        "yaxis": {
         "anchor": "x",
         "domain": [
          0,
          1
         ],
         "title": {
          "text": "Accuracy"
         }
        }
       }
      },
      "text/html": [
       "<div>                            <div id=\"fcc1fdef-15fb-4498-ba30-a03b0ee5f55a\" class=\"plotly-graph-div\" style=\"height:525px; width:100%;\"></div>            <script type=\"text/javascript\">                require([\"plotly\"], function(Plotly) {                    window.PLOTLYENV=window.PLOTLYENV || {};                                    if (document.getElementById(\"fcc1fdef-15fb-4498-ba30-a03b0ee5f55a\")) {                    Plotly.newPlot(                        \"fcc1fdef-15fb-4498-ba30-a03b0ee5f55a\",                        [{\"alignmentgroup\": \"True\", \"customdata\": [[\"cnn1_audin_l2reg_4\", \"kaggle_10sec_wav\"], [\"cnn1_audin_nmel_dcbl_2\", \"kaggle_10sec_wav\"], [\"cnn1_audin_nmel_2\", \"kaggle_10sec_wav\"], [\"cnn1_audin_freq_1\", \"kaggle_10sec_wav\"], [\"cnn1_audin_freq_2\", \"kaggle_10sec_wav\"], [\"cnn1_audin_nffthl_2\", \"kaggle_10sec_wav\"], [\"cnn1_audin_nffthl_1\", \"kaggle_10sec_wav\"], [\"cnn1_audin_nmel_dcbl_1\", \"kaggle_10sec_wav\"], [\"cnn1_audin_l2reg_3\", \"kaggle_10sec_wav\"], [\"milsed_3block_dense\", \"kaggle_10sec_wav\"], [\"cnn1_audin_l2reg_1\", \"kaggle_10sec_wav\"], [\"cnn1_audin_drp_4\", \"kaggle_10sec_wav\"], [\"cnn1_audin_nmel_1\", \"kaggle_10sec_wav\"], [\"cnn1_audin_l2reg_2\", \"kaggle_10sec_wav\"], [\"cnn1_audin_drp_3\", \"kaggle_10sec_wav\"], [\"milsed_8block_dense\", \"kaggle_10sec_wav\"], [\"cnn1_audin_drp_1\", \"kaggle_10sec_wav\"], [\"milsed_7block_dense_drp_4\", \"kaggle_10sec_wav\"], [\"milsed_4block_dense\", \"kaggle_10sec_wav\"], [\"cnn1_audin_drp_2\", \"kaggle_10sec_wav\"], [\"milsed_5block_dense\", \"kaggle_10sec_wav\"], [\"milsed_6block_dense\", \"kaggle_10sec_wav\"], [\"milsed_7block_dense_drp_3\", \"kaggle_10sec_wav\"], [\"milsed_7block_dense_drp_2\", \"kaggle_10sec_wav\"], [\"milsed_7block_dense\", \"kaggle_full_length_npy_aug_pitch\"], [\"milsed_7block_dense_drp_1\", \"kaggle_10sec_wav\"], [\"milsed_7block_dense\", \"kaggle_full_length_npy_aug_pitch_stretch\"], [\"milsed_7block_dense\", \"kaggle_10sec_wav\"], [\"milsed_7block_dense\", \"all_10sec_wav\"], [\"milsed_7block_dense\", \"kaggle_full_length_npy_aug_stretch\"], [\"milsed_7block_dense\", \"kaggle_full_length_npy_aug\"], [\"milsed_7block_dense\", \"all_full_length_npy_aug\"]], \"hovertemplate\": \"<b>%{hovertext}</b><br><br>Accuracy Metric=Categorical Accuracy<br>Model No.=%{x}<br>Accuracy=%{y}<br>Model Name=%{customdata[0]}<br>Data=%{customdata[1]}<extra></extra>\", \"hovertext\": [\"Model #12\", \"Model #4\", \"Model #2\", \"Model #7\", \"Model #8\", \"Model #6\", \"Model #5\", \"Model #3\", \"Model #11\", \"Model #17\", \"Model #9\", \"Model #16\", \"Model #1\", \"Model #10\", \"Model #15\", \"Model #22\", \"Model #13\", \"Model #26\", \"Model #18\", \"Model #14\", \"Model #20\", \"Model #19\", \"Model #25\", \"Model #24\", \"Model #29\", \"Model #23\", \"Model #31\", \"Model #21\", \"Model #27\", \"Model #30\", \"Model #28\", \"Model #32\"], \"legendgroup\": \"Categorical Accuracy\", \"marker\": {\"color\": \"#6c503e\"}, \"name\": \"Categorical Accuracy\", \"offsetgroup\": \"Categorical Accuracy\", \"orientation\": \"v\", \"showlegend\": true, \"textposition\": \"auto\", \"type\": \"bar\", \"x\": [\"Model #12\", \"Model #4\", \"Model #2\", \"Model #7\", \"Model #8\", \"Model #6\", \"Model #5\", \"Model #3\", \"Model #11\", \"Model #17\", \"Model #9\", \"Model #16\", \"Model #1\", \"Model #10\", \"Model #15\", \"Model #22\", \"Model #13\", \"Model #26\", \"Model #18\", \"Model #14\", \"Model #20\", \"Model #19\", \"Model #25\", \"Model #24\", \"Model #29\", \"Model #23\", \"Model #31\", \"Model #21\", \"Model #27\", \"Model #30\", \"Model #28\", \"Model #32\"], \"xaxis\": \"x\", \"y\": [0.13124999403953552, 0.26875001192092896, 0.28312501311302185, 0.28562501072883606, 0.3006249964237213, 0.3009375035762787, 0.30250000953674316, 0.3046875, 0.3059374988079071, 0.31156250834465027, 0.32218751311302185, 0.3228124976158142, 0.3243750035762787, 0.3318749964237213, 0.3478125035762787, 0.3568750023841858, 0.37312498688697815, 0.3734374940395355, 0.37687501311302185, 0.38874998688697815, 0.4037500023841858, 0.42531248927116394, 0.44187501072883606, 0.4975000023841858, 0.5056250095367432, 0.5278124809265137, 0.5365625023841858, 0.5425000190734863, 0.557692289352417, 0.5634375214576721, 0.6006249785423279, 0.7047038078308105], \"yaxis\": \"y\"}, {\"alignmentgroup\": \"True\", \"customdata\": [[\"cnn1_audin_l2reg_4\", \"kaggle_10sec_wav\"], [\"cnn1_audin_nmel_dcbl_2\", \"kaggle_10sec_wav\"], [\"cnn1_audin_freq_1\", \"kaggle_10sec_wav\"], [\"cnn1_audin_nmel_2\", \"kaggle_10sec_wav\"], [\"cnn1_audin_nffthl_2\", \"kaggle_10sec_wav\"], [\"cnn1_audin_freq_2\", \"kaggle_10sec_wav\"], [\"cnn1_audin_nffthl_1\", \"kaggle_10sec_wav\"], [\"cnn1_audin_l2reg_3\", \"kaggle_10sec_wav\"], [\"cnn1_audin_nmel_dcbl_1\", \"kaggle_10sec_wav\"], [\"cnn1_audin_nmel_1\", \"kaggle_10sec_wav\"], [\"milsed_3block_dense\", \"kaggle_10sec_wav\"], [\"cnn1_audin_l2reg_1\", \"kaggle_10sec_wav\"], [\"cnn1_audin_drp_4\", \"kaggle_10sec_wav\"], [\"cnn1_audin_l2reg_2\", \"kaggle_10sec_wav\"], [\"cnn1_audin_drp_3\", \"kaggle_10sec_wav\"], [\"cnn1_audin_drp_1\", \"kaggle_10sec_wav\"], [\"milsed_7block_dense_drp_4\", \"kaggle_10sec_wav\"], [\"cnn1_audin_drp_2\", \"kaggle_10sec_wav\"], [\"milsed_8block_dense\", \"kaggle_10sec_wav\"], [\"milsed_4block_dense\", \"kaggle_10sec_wav\"], [\"milsed_5block_dense\", \"kaggle_10sec_wav\"], [\"milsed_6block_dense\", \"kaggle_10sec_wav\"], [\"milsed_7block_dense_drp_3\", \"kaggle_10sec_wav\"], [\"milsed_7block_dense_drp_2\", \"kaggle_10sec_wav\"], [\"milsed_7block_dense\", \"kaggle_full_length_npy_aug_pitch\"], [\"milsed_7block_dense\", \"kaggle_full_length_npy_aug_pitch_stretch\"], [\"milsed_7block_dense_drp_1\", \"kaggle_10sec_wav\"], [\"milsed_7block_dense\", \"kaggle_full_length_npy_aug_stretch\"], [\"milsed_7block_dense\", \"kaggle_10sec_wav\"], [\"milsed_7block_dense\", \"all_10sec_wav\"], [\"milsed_7block_dense\", \"kaggle_full_length_npy_aug\"], [\"milsed_7block_dense\", \"all_full_length_npy_aug\"]], \"hovertemplate\": \"<b>%{hovertext}</b><br><br>Accuracy Metric=Top 3 Categorical Accuracy<br>Model No.=%{x}<br>Accuracy=%{y}<br>Model Name=%{customdata[0]}<br>Data=%{customdata[1]}<extra></extra>\", \"hovertext\": [\"Model #12\", \"Model #4\", \"Model #7\", \"Model #2\", \"Model #6\", \"Model #8\", \"Model #5\", \"Model #11\", \"Model #3\", \"Model #1\", \"Model #17\", \"Model #9\", \"Model #16\", \"Model #10\", \"Model #15\", \"Model #13\", \"Model #26\", \"Model #14\", \"Model #22\", \"Model #18\", \"Model #20\", \"Model #19\", \"Model #25\", \"Model #24\", \"Model #29\", \"Model #31\", \"Model #23\", \"Model #30\", \"Model #21\", \"Model #27\", \"Model #28\", \"Model #32\"], \"legendgroup\": \"Top 3 Categorical Accuracy\", \"marker\": {\"color\": \"#446652\"}, \"name\": \"Top 3 Categorical Accuracy\", \"offsetgroup\": \"Top 3 Categorical Accuracy\", \"orientation\": \"v\", \"showlegend\": true, \"textposition\": \"auto\", \"type\": \"bar\", \"x\": [\"Model #12\", \"Model #4\", \"Model #7\", \"Model #2\", \"Model #6\", \"Model #8\", \"Model #5\", \"Model #11\", \"Model #3\", \"Model #1\", \"Model #17\", \"Model #9\", \"Model #16\", \"Model #10\", \"Model #15\", \"Model #13\", \"Model #26\", \"Model #14\", \"Model #22\", \"Model #18\", \"Model #20\", \"Model #19\", \"Model #25\", \"Model #24\", \"Model #29\", \"Model #31\", \"Model #23\", \"Model #30\", \"Model #21\", \"Model #27\", \"Model #28\", \"Model #32\"], \"xaxis\": \"x\", \"y\": [0.2759374976158142, 0.44624999165534973, 0.453125, 0.45406249165534973, 0.4690625071525574, 0.46937501430511475, 0.4768750071525574, 0.47999998927116394, 0.47999998927116394, 0.4934374988079071, 0.49531251192092896, 0.4959374964237213, 0.5003125071525574, 0.5006250143051147, 0.5168750286102295, 0.5371875166893005, 0.5434374809265137, 0.5493749976158142, 0.5537499785423279, 0.5550000071525574, 0.5956249833106995, 0.6100000143051147, 0.6146875023841858, 0.6668750047683716, 0.6681249737739563, 0.6912500262260437, 0.6956250071525574, 0.7018749713897705, 0.7021874785423279, 0.7171109914779663, 0.7406250238418579, 0.8167465329170227], \"yaxis\": \"y\"}, {\"alignmentgroup\": \"True\", \"customdata\": [[\"cnn1_audin_l2reg_4\", \"kaggle_10sec_wav\"], [\"cnn1_audin_freq_1\", \"kaggle_10sec_wav\"], [\"cnn1_audin_nmel_dcbl_2\", \"kaggle_10sec_wav\"], [\"cnn1_audin_nmel_2\", \"kaggle_10sec_wav\"], [\"cnn1_audin_nffthl_2\", \"kaggle_10sec_wav\"], [\"cnn1_audin_freq_2\", \"kaggle_10sec_wav\"], [\"cnn1_audin_l2reg_3\", \"kaggle_10sec_wav\"], [\"cnn1_audin_nffthl_1\", \"kaggle_10sec_wav\"], [\"cnn1_audin_nmel_1\", \"kaggle_10sec_wav\"], [\"cnn1_audin_nmel_dcbl_1\", \"kaggle_10sec_wav\"], [\"cnn1_audin_drp_4\", \"kaggle_10sec_wav\"], [\"cnn1_audin_l2reg_1\", \"kaggle_10sec_wav\"], [\"milsed_3block_dense\", \"kaggle_10sec_wav\"], [\"cnn1_audin_l2reg_2\", \"kaggle_10sec_wav\"], [\"cnn1_audin_drp_3\", \"kaggle_10sec_wav\"], [\"cnn1_audin_drp_1\", \"kaggle_10sec_wav\"], [\"cnn1_audin_drp_2\", \"kaggle_10sec_wav\"], [\"milsed_7block_dense_drp_4\", \"kaggle_10sec_wav\"], [\"milsed_8block_dense\", \"kaggle_10sec_wav\"], [\"milsed_4block_dense\", \"kaggle_10sec_wav\"], [\"milsed_5block_dense\", \"kaggle_10sec_wav\"], [\"milsed_6block_dense\", \"kaggle_10sec_wav\"], [\"milsed_7block_dense_drp_3\", \"kaggle_10sec_wav\"], [\"milsed_7block_dense_drp_2\", \"kaggle_10sec_wav\"], [\"milsed_7block_dense\", \"kaggle_full_length_npy_aug_pitch\"], [\"milsed_7block_dense\", \"kaggle_full_length_npy_aug_pitch_stretch\"], [\"milsed_7block_dense_drp_1\", \"kaggle_10sec_wav\"], [\"milsed_7block_dense\", \"kaggle_full_length_npy_aug_stretch\"], [\"milsed_7block_dense\", \"kaggle_10sec_wav\"], [\"milsed_7block_dense\", \"all_10sec_wav\"], [\"milsed_7block_dense\", \"kaggle_full_length_npy_aug\"], [\"milsed_7block_dense\", \"all_full_length_npy_aug\"]], \"hovertemplate\": \"<b>%{hovertext}</b><br><br>Accuracy Metric=Top 5 Categorical Accuracy<br>Model No.=%{x}<br>Accuracy=%{y}<br>Model Name=%{customdata[0]}<br>Data=%{customdata[1]}<extra></extra>\", \"hovertext\": [\"Model #12\", \"Model #7\", \"Model #4\", \"Model #2\", \"Model #6\", \"Model #8\", \"Model #11\", \"Model #5\", \"Model #1\", \"Model #3\", \"Model #16\", \"Model #9\", \"Model #17\", \"Model #10\", \"Model #15\", \"Model #13\", \"Model #14\", \"Model #26\", \"Model #22\", \"Model #18\", \"Model #20\", \"Model #19\", \"Model #25\", \"Model #24\", \"Model #29\", \"Model #31\", \"Model #23\", \"Model #30\", \"Model #21\", \"Model #27\", \"Model #28\", \"Model #32\"], \"legendgroup\": \"Top 5 Categorical Accuracy\", \"marker\": {\"color\": \"#8C93A8\"}, \"name\": \"Top 5 Categorical Accuracy\", \"offsetgroup\": \"Top 5 Categorical Accuracy\", \"orientation\": \"v\", \"showlegend\": true, \"textposition\": \"auto\", \"type\": \"bar\", \"x\": [\"Model #12\", \"Model #7\", \"Model #4\", \"Model #2\", \"Model #6\", \"Model #8\", \"Model #11\", \"Model #5\", \"Model #1\", \"Model #3\", \"Model #16\", \"Model #9\", \"Model #17\", \"Model #10\", \"Model #15\", \"Model #13\", \"Model #14\", \"Model #26\", \"Model #22\", \"Model #18\", \"Model #20\", \"Model #19\", \"Model #25\", \"Model #24\", \"Model #29\", \"Model #31\", \"Model #23\", \"Model #30\", \"Model #21\", \"Model #27\", \"Model #28\", \"Model #32\"], \"xaxis\": \"x\", \"y\": [0.3643749952316284, 0.5393750071525574, 0.5406249761581421, 0.5406249761581421, 0.5481250286102295, 0.5487499833106995, 0.5609375238418579, 0.5615624785423279, 0.5724999904632568, 0.5737500190734863, 0.5753124952316284, 0.578125, 0.5784375071525574, 0.5821874737739563, 0.5874999761581421, 0.6193749904632568, 0.6200000047683716, 0.6299999952316284, 0.6324999928474426, 0.6387500166893005, 0.6696875095367432, 0.6815624833106995, 0.6837499737739563, 0.729687511920929, 0.7337499856948853, 0.7515624761581421, 0.7515624761581421, 0.7565624713897705, 0.7603124976158142, 0.7755681872367859, 0.7925000190734863, 0.8539851903915405], \"yaxis\": \"y\"}],                        {\"annotations\": [{\"showarrow\": false, \"text\": \"Hover to see Model Name and Dataset\", \"x\": 0, \"xref\": \"paper\", \"y\": 1.13, \"yref\": \"paper\"}], \"barmode\": \"group\", \"font\": {\"color\": \"black\"}, \"legend\": {\"title\": {\"text\": \"Accuracy Metric\"}, \"tracegroupgap\": 0, \"x\": 0.01, \"xanchor\": \"left\", \"y\": 0.99, \"yanchor\": \"top\"}, \"paper_bgcolor\": \"rgba(0,0,0,0)\", \"plot_bgcolor\": \"rgba(0,0,0,0)\", \"template\": {\"data\": {\"bar\": [{\"error_x\": {\"color\": \"#2a3f5f\"}, \"error_y\": {\"color\": \"#2a3f5f\"}, \"marker\": {\"line\": {\"color\": \"#E5ECF6\", \"width\": 0.5}}, \"type\": \"bar\"}], \"barpolar\": [{\"marker\": {\"line\": {\"color\": \"#E5ECF6\", \"width\": 0.5}}, \"type\": \"barpolar\"}], \"carpet\": [{\"aaxis\": {\"endlinecolor\": \"#2a3f5f\", \"gridcolor\": \"white\", \"linecolor\": \"white\", \"minorgridcolor\": \"white\", \"startlinecolor\": \"#2a3f5f\"}, \"baxis\": {\"endlinecolor\": \"#2a3f5f\", \"gridcolor\": \"white\", \"linecolor\": \"white\", \"minorgridcolor\": \"white\", \"startlinecolor\": \"#2a3f5f\"}, \"type\": \"carpet\"}], \"choropleth\": [{\"colorbar\": {\"outlinewidth\": 0, \"ticks\": \"\"}, \"type\": \"choropleth\"}], \"contour\": [{\"colorbar\": {\"outlinewidth\": 0, \"ticks\": \"\"}, \"colorscale\": [[0.0, \"#0d0887\"], [0.1111111111111111, \"#46039f\"], [0.2222222222222222, \"#7201a8\"], [0.3333333333333333, \"#9c179e\"], [0.4444444444444444, \"#bd3786\"], [0.5555555555555556, \"#d8576b\"], [0.6666666666666666, \"#ed7953\"], [0.7777777777777778, \"#fb9f3a\"], [0.8888888888888888, \"#fdca26\"], [1.0, \"#f0f921\"]], \"type\": \"contour\"}], \"contourcarpet\": [{\"colorbar\": {\"outlinewidth\": 0, \"ticks\": \"\"}, \"type\": \"contourcarpet\"}], \"heatmap\": [{\"colorbar\": {\"outlinewidth\": 0, \"ticks\": \"\"}, \"colorscale\": [[0.0, \"#0d0887\"], [0.1111111111111111, \"#46039f\"], [0.2222222222222222, \"#7201a8\"], [0.3333333333333333, \"#9c179e\"], [0.4444444444444444, \"#bd3786\"], [0.5555555555555556, \"#d8576b\"], [0.6666666666666666, \"#ed7953\"], [0.7777777777777778, \"#fb9f3a\"], [0.8888888888888888, \"#fdca26\"], [1.0, \"#f0f921\"]], \"type\": \"heatmap\"}], \"heatmapgl\": [{\"colorbar\": {\"outlinewidth\": 0, \"ticks\": \"\"}, \"colorscale\": [[0.0, \"#0d0887\"], [0.1111111111111111, \"#46039f\"], [0.2222222222222222, \"#7201a8\"], [0.3333333333333333, \"#9c179e\"], [0.4444444444444444, \"#bd3786\"], [0.5555555555555556, \"#d8576b\"], [0.6666666666666666, \"#ed7953\"], [0.7777777777777778, \"#fb9f3a\"], [0.8888888888888888, \"#fdca26\"], [1.0, \"#f0f921\"]], \"type\": \"heatmapgl\"}], \"histogram\": [{\"marker\": {\"colorbar\": {\"outlinewidth\": 0, \"ticks\": \"\"}}, \"type\": \"histogram\"}], \"histogram2d\": [{\"colorbar\": {\"outlinewidth\": 0, \"ticks\": \"\"}, \"colorscale\": [[0.0, \"#0d0887\"], [0.1111111111111111, \"#46039f\"], [0.2222222222222222, \"#7201a8\"], [0.3333333333333333, \"#9c179e\"], [0.4444444444444444, \"#bd3786\"], [0.5555555555555556, \"#d8576b\"], [0.6666666666666666, \"#ed7953\"], [0.7777777777777778, \"#fb9f3a\"], [0.8888888888888888, \"#fdca26\"], [1.0, \"#f0f921\"]], \"type\": \"histogram2d\"}], \"histogram2dcontour\": [{\"colorbar\": {\"outlinewidth\": 0, \"ticks\": \"\"}, \"colorscale\": [[0.0, \"#0d0887\"], [0.1111111111111111, \"#46039f\"], [0.2222222222222222, \"#7201a8\"], [0.3333333333333333, \"#9c179e\"], [0.4444444444444444, \"#bd3786\"], [0.5555555555555556, \"#d8576b\"], [0.6666666666666666, \"#ed7953\"], [0.7777777777777778, \"#fb9f3a\"], [0.8888888888888888, \"#fdca26\"], [1.0, \"#f0f921\"]], \"type\": \"histogram2dcontour\"}], \"mesh3d\": [{\"colorbar\": {\"outlinewidth\": 0, \"ticks\": \"\"}, \"type\": \"mesh3d\"}], \"parcoords\": [{\"line\": {\"colorbar\": {\"outlinewidth\": 0, \"ticks\": \"\"}}, \"type\": \"parcoords\"}], \"pie\": [{\"automargin\": true, \"type\": \"pie\"}], \"scatter\": [{\"marker\": {\"colorbar\": {\"outlinewidth\": 0, \"ticks\": \"\"}}, \"type\": \"scatter\"}], \"scatter3d\": [{\"line\": {\"colorbar\": {\"outlinewidth\": 0, \"ticks\": \"\"}}, \"marker\": {\"colorbar\": {\"outlinewidth\": 0, \"ticks\": \"\"}}, \"type\": \"scatter3d\"}], \"scattercarpet\": [{\"marker\": {\"colorbar\": {\"outlinewidth\": 0, \"ticks\": \"\"}}, \"type\": \"scattercarpet\"}], \"scattergeo\": [{\"marker\": {\"colorbar\": {\"outlinewidth\": 0, \"ticks\": \"\"}}, \"type\": \"scattergeo\"}], \"scattergl\": [{\"marker\": {\"colorbar\": {\"outlinewidth\": 0, \"ticks\": \"\"}}, \"type\": \"scattergl\"}], \"scattermapbox\": [{\"marker\": {\"colorbar\": {\"outlinewidth\": 0, \"ticks\": \"\"}}, \"type\": \"scattermapbox\"}], \"scatterpolar\": [{\"marker\": {\"colorbar\": {\"outlinewidth\": 0, \"ticks\": \"\"}}, \"type\": \"scatterpolar\"}], \"scatterpolargl\": [{\"marker\": {\"colorbar\": {\"outlinewidth\": 0, \"ticks\": \"\"}}, \"type\": \"scatterpolargl\"}], \"scatterternary\": [{\"marker\": {\"colorbar\": {\"outlinewidth\": 0, \"ticks\": \"\"}}, \"type\": \"scatterternary\"}], \"surface\": [{\"colorbar\": {\"outlinewidth\": 0, \"ticks\": \"\"}, \"colorscale\": [[0.0, \"#0d0887\"], [0.1111111111111111, \"#46039f\"], [0.2222222222222222, \"#7201a8\"], [0.3333333333333333, \"#9c179e\"], [0.4444444444444444, \"#bd3786\"], [0.5555555555555556, \"#d8576b\"], [0.6666666666666666, \"#ed7953\"], [0.7777777777777778, \"#fb9f3a\"], [0.8888888888888888, \"#fdca26\"], [1.0, \"#f0f921\"]], \"type\": \"surface\"}], \"table\": [{\"cells\": {\"fill\": {\"color\": \"#EBF0F8\"}, \"line\": {\"color\": \"white\"}}, \"header\": {\"fill\": {\"color\": \"#C8D4E3\"}, \"line\": {\"color\": \"white\"}}, \"type\": \"table\"}]}, \"layout\": {\"annotationdefaults\": {\"arrowcolor\": \"#2a3f5f\", \"arrowhead\": 0, \"arrowwidth\": 1}, \"autotypenumbers\": \"strict\", \"coloraxis\": {\"colorbar\": {\"outlinewidth\": 0, \"ticks\": \"\"}}, \"colorscale\": {\"diverging\": [[0, \"#8e0152\"], [0.1, \"#c51b7d\"], [0.2, \"#de77ae\"], [0.3, \"#f1b6da\"], [0.4, \"#fde0ef\"], [0.5, \"#f7f7f7\"], [0.6, \"#e6f5d0\"], [0.7, \"#b8e186\"], [0.8, \"#7fbc41\"], [0.9, \"#4d9221\"], [1, \"#276419\"]], \"sequential\": [[0.0, \"#0d0887\"], [0.1111111111111111, \"#46039f\"], [0.2222222222222222, \"#7201a8\"], [0.3333333333333333, \"#9c179e\"], [0.4444444444444444, \"#bd3786\"], [0.5555555555555556, \"#d8576b\"], [0.6666666666666666, \"#ed7953\"], [0.7777777777777778, \"#fb9f3a\"], [0.8888888888888888, \"#fdca26\"], [1.0, \"#f0f921\"]], \"sequentialminus\": [[0.0, \"#0d0887\"], [0.1111111111111111, \"#46039f\"], [0.2222222222222222, \"#7201a8\"], [0.3333333333333333, \"#9c179e\"], [0.4444444444444444, \"#bd3786\"], [0.5555555555555556, \"#d8576b\"], [0.6666666666666666, \"#ed7953\"], [0.7777777777777778, \"#fb9f3a\"], [0.8888888888888888, \"#fdca26\"], [1.0, \"#f0f921\"]]}, \"colorway\": [\"#636efa\", \"#EF553B\", \"#00cc96\", \"#ab63fa\", \"#FFA15A\", \"#19d3f3\", \"#FF6692\", \"#B6E880\", \"#FF97FF\", \"#FECB52\"], \"font\": {\"color\": \"#2a3f5f\"}, \"geo\": {\"bgcolor\": \"white\", \"lakecolor\": \"white\", \"landcolor\": \"#E5ECF6\", \"showlakes\": true, \"showland\": true, \"subunitcolor\": \"white\"}, \"hoverlabel\": {\"align\": \"left\"}, \"hovermode\": \"closest\", \"mapbox\": {\"style\": \"light\"}, \"paper_bgcolor\": \"white\", \"plot_bgcolor\": \"#E5ECF6\", \"polar\": {\"angularaxis\": {\"gridcolor\": \"white\", \"linecolor\": \"white\", \"ticks\": \"\"}, \"bgcolor\": \"#E5ECF6\", \"radialaxis\": {\"gridcolor\": \"white\", \"linecolor\": \"white\", \"ticks\": \"\"}}, \"scene\": {\"xaxis\": {\"backgroundcolor\": \"#E5ECF6\", \"gridcolor\": \"white\", \"gridwidth\": 2, \"linecolor\": \"white\", \"showbackground\": true, \"ticks\": \"\", \"zerolinecolor\": \"white\"}, \"yaxis\": {\"backgroundcolor\": \"#E5ECF6\", \"gridcolor\": \"white\", \"gridwidth\": 2, \"linecolor\": \"white\", \"showbackground\": true, \"ticks\": \"\", \"zerolinecolor\": \"white\"}, \"zaxis\": {\"backgroundcolor\": \"#E5ECF6\", \"gridcolor\": \"white\", \"gridwidth\": 2, \"linecolor\": \"white\", \"showbackground\": true, \"ticks\": \"\", \"zerolinecolor\": \"white\"}}, \"shapedefaults\": {\"line\": {\"color\": \"#2a3f5f\"}}, \"ternary\": {\"aaxis\": {\"gridcolor\": \"white\", \"linecolor\": \"white\", \"ticks\": \"\"}, \"baxis\": {\"gridcolor\": \"white\", \"linecolor\": \"white\", \"ticks\": \"\"}, \"bgcolor\": \"#E5ECF6\", \"caxis\": {\"gridcolor\": \"white\", \"linecolor\": \"white\", \"ticks\": \"\"}}, \"title\": {\"x\": 0.05}, \"xaxis\": {\"automargin\": true, \"gridcolor\": \"white\", \"linecolor\": \"white\", \"ticks\": \"\", \"title\": {\"standoff\": 15}, \"zerolinecolor\": \"white\", \"zerolinewidth\": 2}, \"yaxis\": {\"automargin\": true, \"gridcolor\": \"white\", \"linecolor\": \"white\", \"ticks\": \"\", \"title\": {\"standoff\": 15}, \"zerolinecolor\": \"white\", \"zerolinewidth\": 2}}}, \"title\": {\"text\": \"Test Accuracy by model name\"}, \"xaxis\": {\"anchor\": \"y\", \"domain\": [0.0, 1.0], \"title\": {\"text\": \"Model No.\"}}, \"yaxis\": {\"anchor\": \"x\", \"domain\": [0.0, 1.0], \"title\": {\"text\": \"Accuracy\"}}},                        {\"responsive\": true}                    ).then(function(){\n",
       "                            \n",
       "var gd = document.getElementById('fcc1fdef-15fb-4498-ba30-a03b0ee5f55a');\n",
       "var x = new MutationObserver(function (mutations, observer) {{\n",
       "        var display = window.getComputedStyle(gd).display;\n",
       "        if (!display || display === 'none') {{\n",
       "            console.log([gd, 'removed!']);\n",
       "            Plotly.purge(gd);\n",
       "            observer.disconnect();\n",
       "        }}\n",
       "}});\n",
       "\n",
       "// Listen for the removal of the full notebook cells\n",
       "var notebookContainer = gd.closest('#notebook-container');\n",
       "if (notebookContainer) {{\n",
       "    x.observe(notebookContainer, {childList: true});\n",
       "}}\n",
       "\n",
       "// Listen for the clearing of the current output cell\n",
       "var outputEl = gd.closest('.output');\n",
       "if (outputEl) {{\n",
       "    x.observe(outputEl, {childList: true});\n",
       "}}\n",
       "\n",
       "                        })                };                });            </script>        </div>"
      ]
     },
     "metadata": {},
     "output_type": "display_data"
    }
   ],
   "source": [
    "# accuracy plot with plotly for dashboard\n",
    "fig = px.bar(df_plot.sort_values('Accuracy'), x='Model No.', \n",
    "             y='Accuracy', color='Accuracy Metric', \n",
    "             barmode='group',\n",
    "             hover_name='Model No.',\n",
    "             hover_data=['Model Name', 'Data'],\n",
    "             color_discrete_sequence=colors,\n",
    "             title='Test Accuracy by model name')\n",
    "\n",
    "# formatting\n",
    "fig.update_layout(\n",
    "    legend=dict(\n",
    "        yanchor=\"top\",\n",
    "        y=0.99,\n",
    "        xanchor=\"left\",\n",
    "        x=0.01\n",
    "    ),\n",
    "    annotations = [\n",
    "        dict(xref='paper',\n",
    "             yref='paper',\n",
    "             x=0, y=1.13,\n",
    "             showarrow=False,\n",
    "             text ='Hover to see Model Name and Dataset'\n",
    "        )\n",
    "    ],\n",
    "    # paper_bgcolor='rgba(0,0,0,0)',\n",
    "    # plot_bgcolor='rgba(0,0,0,0)',\n",
    "    font = {'color':'black'}\n",
    ")\n"
   ]
  },
  {
   "cell_type": "markdown",
   "id": "criminal-stream",
   "metadata": {},
   "source": [
    "## Rebuild best model"
   ]
  },
  {
   "cell_type": "code",
   "execution_count": 20,
   "id": "retained-leonard",
   "metadata": {},
   "outputs": [],
   "source": [
    "# Import model generator function\n",
    "from training_scripts.remote.models import MODELS"
   ]
  },
  {
   "cell_type": "code",
   "execution_count": 21,
   "id": "hearing-vatican",
   "metadata": {},
   "outputs": [
    {
     "data": {
      "text/plain": [
       "loss                         [4.934966564178467, 3.955747604370117, 3.49586...\n",
       "categorical_accuracy         [0.0772431269288063, 0.1730734407901764, 0.241...\n",
       "top_3_accuracy               [0.14736342430114746, 0.29741770029067993, 0.3...\n",
       "top_5_accuracy               [0.1950298547744751, 0.37384676933288574, 0.48...\n",
       "val_loss                     [4.559544086456299, 3.6354827880859375, 3.3458...\n",
       "val_categorical_accuracy     [0.12282274663448334, 0.22259221971035004, 0.2...\n",
       "val_top_3_accuracy           [0.21170593798160553, 0.36565062403678894, 0.4...\n",
       "val_top_5_accuracy           [0.27126023173332214, 0.4514600336551666, 0.51...\n",
       "lr                           [0.001, 0.001, 0.001, 0.001, 0.001, 0.001, 0.0...\n",
       "data_subset                                            all_full_length_npy_aug\n",
       "test_categorical_accuracy                                             0.704704\n",
       "test_top_3_accuracy                                                   0.816747\n",
       "test_top_5_accuracy                                                   0.853985\n",
       "model_name                                                 milsed_7block_dense\n",
       "Name: birdsongs_2_1618704934_e5b73727, dtype: object"
      ]
     },
     "execution_count": 21,
     "metadata": {},
     "output_type": "execute_result"
    }
   ],
   "source": [
    "# Get best model\n",
    "best_model = df_metrics.sort_values('test_categorical_accuracy').iloc[-1]\n",
    "best_model"
   ]
  },
  {
   "cell_type": "code",
   "execution_count": 22,
   "id": "electronic-experiment",
   "metadata": {},
   "outputs": [],
   "source": [
    "# model weights filename\n",
    "fname = f'model_data/{best_model.model_name}-{best_model.name}.h5'\n",
    "\n",
    "# create model\n",
    "model = MODELS[df_metrics.loc[idx].model_name]()\n",
    "\n",
    "# load model weights\n",
    "model.load_weights(fname)"
   ]
  },
  {
   "cell_type": "code",
   "execution_count": 23,
   "id": "furnished-generation",
   "metadata": {},
   "outputs": [
    {
     "name": "stdout",
     "output_type": "stream",
     "text": [
      "Model: \"sequential\"\n",
      "_________________________________________________________________\n",
      "Layer (type)                 Output Shape              Param #   \n",
      "=================================================================\n",
      "stft (STFT)                  (None, 427, 1025, 1)      0         \n",
      "_________________________________________________________________\n",
      "magnitude (Magnitude)        (None, 427, 1025, 1)      0         \n",
      "_________________________________________________________________\n",
      "apply_filterbank (ApplyFilte (None, 427, 256, 1)       0         \n",
      "_________________________________________________________________\n",
      "magnitude_to_decibel (Magnit (None, 427, 256, 1)       0         \n",
      "_________________________________________________________________\n",
      "batch_normalization (BatchNo (None, 427, 256, 1)       4         \n",
      "_________________________________________________________________\n",
      "conv2d (Conv2D)              (None, 427, 256, 16)      160       \n",
      "_________________________________________________________________\n",
      "batch_normalization_1 (Batch (None, 427, 256, 16)      64        \n",
      "_________________________________________________________________\n",
      "conv2d_1 (Conv2D)            (None, 427, 256, 16)      2320      \n",
      "_________________________________________________________________\n",
      "batch_normalization_2 (Batch (None, 427, 256, 16)      64        \n",
      "_________________________________________________________________\n",
      "max_pooling2d (MaxPooling2D) (None, 213, 128, 16)      0         \n",
      "_________________________________________________________________\n",
      "conv2d_2 (Conv2D)            (None, 213, 128, 32)      4640      \n",
      "_________________________________________________________________\n",
      "batch_normalization_3 (Batch (None, 213, 128, 32)      128       \n",
      "_________________________________________________________________\n",
      "conv2d_3 (Conv2D)            (None, 213, 128, 32)      9248      \n",
      "_________________________________________________________________\n",
      "batch_normalization_4 (Batch (None, 213, 128, 32)      128       \n",
      "_________________________________________________________________\n",
      "max_pooling2d_1 (MaxPooling2 (None, 106, 64, 32)       0         \n",
      "_________________________________________________________________\n",
      "conv2d_4 (Conv2D)            (None, 106, 64, 64)       18496     \n",
      "_________________________________________________________________\n",
      "batch_normalization_5 (Batch (None, 106, 64, 64)       256       \n",
      "_________________________________________________________________\n",
      "conv2d_5 (Conv2D)            (None, 106, 64, 64)       36928     \n",
      "_________________________________________________________________\n",
      "batch_normalization_6 (Batch (None, 106, 64, 64)       256       \n",
      "_________________________________________________________________\n",
      "max_pooling2d_2 (MaxPooling2 (None, 53, 32, 64)        0         \n",
      "_________________________________________________________________\n",
      "conv2d_6 (Conv2D)            (None, 53, 32, 128)       73856     \n",
      "_________________________________________________________________\n",
      "batch_normalization_7 (Batch (None, 53, 32, 128)       512       \n",
      "_________________________________________________________________\n",
      "conv2d_7 (Conv2D)            (None, 53, 32, 128)       147584    \n",
      "_________________________________________________________________\n",
      "batch_normalization_8 (Batch (None, 53, 32, 128)       512       \n",
      "_________________________________________________________________\n",
      "max_pooling2d_3 (MaxPooling2 (None, 26, 16, 128)       0         \n",
      "_________________________________________________________________\n",
      "conv2d_8 (Conv2D)            (None, 26, 16, 256)       295168    \n",
      "_________________________________________________________________\n",
      "batch_normalization_9 (Batch (None, 26, 16, 256)       1024      \n",
      "_________________________________________________________________\n",
      "conv2d_9 (Conv2D)            (None, 26, 16, 256)       590080    \n",
      "_________________________________________________________________\n",
      "batch_normalization_10 (Batc (None, 26, 16, 256)       1024      \n",
      "_________________________________________________________________\n",
      "max_pooling2d_4 (MaxPooling2 (None, 13, 8, 256)        0         \n",
      "_________________________________________________________________\n",
      "conv2d_10 (Conv2D)           (None, 13, 8, 512)        1180160   \n",
      "_________________________________________________________________\n",
      "batch_normalization_11 (Batc (None, 13, 8, 512)        2048      \n",
      "_________________________________________________________________\n",
      "conv2d_11 (Conv2D)           (None, 13, 8, 512)        2359808   \n",
      "_________________________________________________________________\n",
      "batch_normalization_12 (Batc (None, 13, 8, 512)        2048      \n",
      "_________________________________________________________________\n",
      "max_pooling2d_5 (MaxPooling2 (None, 6, 4, 512)         0         \n",
      "_________________________________________________________________\n",
      "conv2d_12 (Conv2D)           (None, 6, 4, 1024)        4719616   \n",
      "_________________________________________________________________\n",
      "batch_normalization_13 (Batc (None, 6, 4, 1024)        4096      \n",
      "_________________________________________________________________\n",
      "conv2d_13 (Conv2D)           (None, 6, 4, 1024)        9438208   \n",
      "_________________________________________________________________\n",
      "batch_normalization_14 (Batc (None, 6, 4, 1024)        4096      \n",
      "_________________________________________________________________\n",
      "max_pooling2d_6 (MaxPooling2 (None, 3, 2, 1024)        0         \n",
      "_________________________________________________________________\n",
      "global_max_pooling2d (Global (None, 1024)              0         \n",
      "_________________________________________________________________\n",
      "dense (Dense)                (None, 1028)              1053700   \n",
      "_________________________________________________________________\n",
      "dense_1 (Dense)              (None, 512)               526848    \n",
      "_________________________________________________________________\n",
      "dense_2 (Dense)              (None, 264)               135432    \n",
      "=================================================================\n",
      "Total params: 20,608,512\n",
      "Trainable params: 20,600,382\n",
      "Non-trainable params: 8,130\n",
      "_________________________________________________________________\n"
     ]
    }
   ],
   "source": [
    "model.summary()"
   ]
  },
  {
   "cell_type": "code",
   "execution_count": 24,
   "id": "billion-addiction",
   "metadata": {},
   "outputs": [
    {
     "data": {
      "text/plain": [
       "44"
      ]
     },
     "execution_count": 24,
     "metadata": {},
     "output_type": "execute_result"
    }
   ],
   "source": [
    "# number of layers in the model\n",
    "len(model.layers)"
   ]
  },
  {
   "cell_type": "markdown",
   "id": "broken-estate",
   "metadata": {},
   "source": [
    "# Metric Plots\n",
    "## Plot test accuracy"
   ]
  },
  {
   "cell_type": "code",
   "execution_count": 25,
   "id": "stunning-adaptation",
   "metadata": {},
   "outputs": [
    {
     "data": {
      "image/png": "[encoded data removed]",
      "text/plain": [
       "<Figure size 504x288 with 1 Axes>"
      ]
     },
     "metadata": {
      "needs_background": "light"
     },
     "output_type": "display_data"
    }
   ],
   "source": [
    "# create new dataframe for plotting\n",
    "df_plot = pd.DataFrame(best_model[['test_categorical_accuracy', \n",
    "                                  'test_top_3_accuracy', \n",
    "                                  'test_top_5_accuracy']])\n",
    "\n",
    "#plot\n",
    "with plt.style.context('fivethirtyeight'), sns.plotting_context(\"talk\", font_scale=1):\n",
    "        \n",
    "    fig = plt.figure(figsize=(7,4))\n",
    "    plt.bar(x=df_plot.index, \n",
    "            height = df_plot[best_model.name],\n",
    "            color=colors[1])\n",
    "    \n",
    "    # Labels\n",
    "    plt.xticks([0,1,2], ['Test\\nAccruacy', \n",
    "                         'Test\\nTop 3\\nAccruacy', \n",
    "                         'Test\\nTop 5\\nAccruacy'])\n",
    "    plt.title('Test Accuracy')\n",
    "    \n",
    "    # formatting\n",
    "    plt.grid(axis='x')\n",
    "    plt.box(False)\n",
    "    ax = plt.gca()\n",
    "    ax.tick_params(axis='both', left=False, bottom=False)\n",
    "\n",
    "    # Make Transparent (for presentation)\n",
    "    fig.set_facecolor('None')\n",
    "    ax.set_facecolor('None')"
   ]
  },
  {
   "cell_type": "markdown",
   "id": "dangerous-series",
   "metadata": {},
   "source": [
    "## Best Model Accuracy and Val Accuracy"
   ]
  },
  {
   "cell_type": "raw",
   "id": "valued-wallet",
   "metadata": {},
   "source": [
    "# Create Validation DataFrame for Plotting with plotly\n",
    "df_tmp_val = pd.DataFrame(best_model['val_categorical_accuracy'], \n",
    "                      columns=['val_categorical_accuracy'])\n",
    "df_tmp_val.index = pd.Series(range(1, len(df_tmp_val) + 1), name='Epochs')\n",
    "\n",
    "df_tmp_val.head(3)"
   ]
  },
  {
   "cell_type": "code",
   "execution_count": 26,
   "id": "tracked-karaoke",
   "metadata": {},
   "outputs": [
    {
     "data": {
      "text/html": [
       "<div>\n",
       "<style scoped>\n",
       "    .dataframe tbody tr th:only-of-type {\n",
       "        vertical-align: middle;\n",
       "    }\n",
       "\n",
       "    .dataframe tbody tr th {\n",
       "        vertical-align: top;\n",
       "    }\n",
       "\n",
       "    .dataframe thead th {\n",
       "        text-align: right;\n",
       "    }\n",
       "</style>\n",
       "<table border=\"1\" class=\"dataframe\">\n",
       "  <thead>\n",
       "    <tr style=\"text-align: right;\">\n",
       "      <th></th>\n",
       "      <th>categorical_accuracy</th>\n",
       "      <th>model</th>\n",
       "      <th>val_categorical_accuracy</th>\n",
       "      <th>top_3_accuracy</th>\n",
       "      <th>val_top_3_accuracy</th>\n",
       "      <th>top_5_accuracy</th>\n",
       "      <th>val_top_5_accuracy</th>\n",
       "      <th>Epochs</th>\n",
       "      <th>model_name</th>\n",
       "    </tr>\n",
       "  </thead>\n",
       "  <tbody>\n",
       "    <tr>\n",
       "      <th>0</th>\n",
       "      <td>NaN</td>\n",
       "      <td>NaN</td>\n",
       "      <td>0.122823</td>\n",
       "      <td>0.147363</td>\n",
       "      <td>0.211706</td>\n",
       "      <td>0.195030</td>\n",
       "      <td>0.271260</td>\n",
       "      <td>1</td>\n",
       "      <td>milsed_7block_dense&lt;br&gt;all_full_length_npy_aug</td>\n",
       "    </tr>\n",
       "    <tr>\n",
       "      <th>1</th>\n",
       "      <td>0.077243</td>\n",
       "      <td>milsed_7block_dense/all_full_length_npy_aug</td>\n",
       "      <td>0.222592</td>\n",
       "      <td>0.297418</td>\n",
       "      <td>0.365651</td>\n",
       "      <td>0.373847</td>\n",
       "      <td>0.451460</td>\n",
       "      <td>2</td>\n",
       "      <td>milsed_7block_dense&lt;br&gt;all_full_length_npy_aug</td>\n",
       "    </tr>\n",
       "    <tr>\n",
       "      <th>2</th>\n",
       "      <td>0.173073</td>\n",
       "      <td>milsed_7block_dense/all_full_length_npy_aug</td>\n",
       "      <td>0.262679</td>\n",
       "      <td>0.397431</td>\n",
       "      <td>0.423924</td>\n",
       "      <td>0.482340</td>\n",
       "      <td>0.510886</td>\n",
       "      <td>3</td>\n",
       "      <td>milsed_7block_dense&lt;br&gt;all_full_length_npy_aug</td>\n",
       "    </tr>\n",
       "    <tr>\n",
       "      <th>3</th>\n",
       "      <td>0.241792</td>\n",
       "      <td>milsed_7block_dense/all_full_length_npy_aug</td>\n",
       "      <td>0.325179</td>\n",
       "      <td>0.466624</td>\n",
       "      <td>0.499744</td>\n",
       "      <td>0.547146</td>\n",
       "      <td>0.586834</td>\n",
       "      <td>4</td>\n",
       "      <td>milsed_7block_dense&lt;br&gt;all_full_length_npy_aug</td>\n",
       "    </tr>\n",
       "    <tr>\n",
       "      <th>4</th>\n",
       "      <td>0.295903</td>\n",
       "      <td>milsed_7block_dense/all_full_length_npy_aug</td>\n",
       "      <td>0.369109</td>\n",
       "      <td>0.513454</td>\n",
       "      <td>0.551998</td>\n",
       "      <td>0.595604</td>\n",
       "      <td>0.637935</td>\n",
       "      <td>5</td>\n",
       "      <td>milsed_7block_dense&lt;br&gt;all_full_length_npy_aug</td>\n",
       "    </tr>\n",
       "  </tbody>\n",
       "</table>\n",
       "</div>"
      ],
      "text/plain": [
       "   categorical_accuracy                                        model  \\\n",
       "0                   NaN                                          NaN   \n",
       "1              0.077243  milsed_7block_dense/all_full_length_npy_aug   \n",
       "2              0.173073  milsed_7block_dense/all_full_length_npy_aug   \n",
       "3              0.241792  milsed_7block_dense/all_full_length_npy_aug   \n",
       "4              0.295903  milsed_7block_dense/all_full_length_npy_aug   \n",
       "\n",
       "   val_categorical_accuracy  top_3_accuracy  val_top_3_accuracy  \\\n",
       "0                  0.122823        0.147363            0.211706   \n",
       "1                  0.222592        0.297418            0.365651   \n",
       "2                  0.262679        0.397431            0.423924   \n",
       "3                  0.325179        0.466624            0.499744   \n",
       "4                  0.369109        0.513454            0.551998   \n",
       "\n",
       "   top_5_accuracy  val_top_5_accuracy  Epochs  \\\n",
       "0        0.195030            0.271260       1   \n",
       "1        0.373847            0.451460       2   \n",
       "2        0.482340            0.510886       3   \n",
       "3        0.547146            0.586834       4   \n",
       "4        0.595604            0.637935       5   \n",
       "\n",
       "                                       model_name  \n",
       "0  milsed_7block_dense<br>all_full_length_npy_aug  \n",
       "1  milsed_7block_dense<br>all_full_length_npy_aug  \n",
       "2  milsed_7block_dense<br>all_full_length_npy_aug  \n",
       "3  milsed_7block_dense<br>all_full_length_npy_aug  \n",
       "4  milsed_7block_dense<br>all_full_length_npy_aug  "
      ]
     },
     "execution_count": 26,
     "metadata": {},
     "output_type": "execute_result"
    }
   ],
   "source": [
    "# Create Accuracy DataFrame for Plotting with plotly\n",
    "df_acc = pd.DataFrame(best_model['categorical_accuracy'], \n",
    "                      columns=['categorical_accuracy'])\n",
    "df_acc.index = pd.Series(range(1, len(df_acc) + 1), name='Epochs')\n",
    "df_acc['model'] = best_model['model_name'] + '/' + best_model['data_subset']\n",
    "\n",
    "val_accuracy = pd.DataFrame(best_model['val_categorical_accuracy'], \n",
    "                            columns=['val_categorical_accuracy'])\n",
    "top_3_accuracy = pd.DataFrame(best_model['top_3_accuracy'], \n",
    "                              columns=['top_3_accuracy'])\n",
    "val_top_3_accuracy = pd.DataFrame(best_model['val_top_3_accuracy'], \n",
    "                                  columns=['val_top_3_accuracy'])\n",
    "top_5_accuracy = pd.DataFrame(best_model['top_5_accuracy'], \n",
    "                              columns=['top_5_accuracy'])\n",
    "val_top_5_accuracy = pd.DataFrame(best_model['val_top_5_accuracy'], \n",
    "                                  columns=['val_top_5_accuracy'])\n",
    "\n",
    "# combine dataframes into one for plotting\n",
    "df_plt = pd.concat([df_acc,\n",
    "                    val_accuracy,\n",
    "                    top_3_accuracy,\n",
    "                    val_top_3_accuracy,\n",
    "                    top_5_accuracy,\n",
    "                    val_top_5_accuracy], axis=1)\n",
    "\n",
    "df_plt['Epochs'] = range(1, len(df_plt)+1)\n",
    "df_plt['model_name'] = best_model['model_name'] + '<br>' + best_model['data_subset']\n",
    "\n",
    "df_plt.head()"
   ]
  },
  {
   "cell_type": "code",
   "execution_count": 50,
   "id": "empirical-subdivision",
   "metadata": {
    "scrolled": false
   },
   "outputs": [
    {
     "data": {
      "application/vnd.plotly.v1+json": {
       "config": {
        "plotlyServerURL": "https://plot.ly"
       },
       "data": [
        {
         "line": {
          "color": "#6c503e",
          "dash": "solid"
         },
         "name": "<b>Accuracy:</b><br>milsed_7block_dense<br>all_full_length_npy_aug",
         "type": "scatter",
         "x": [
          1,
          2,
          3,
          4,
          5,
          6,
          7,
          8,
          9,
          10,
          11,
          12,
          13,
          14,
          15,
          16,
          17,
          18,
          19,
          20,
          21,
          22,
          23,
          24,
          25,
          26,
          27,
          28,
          29,
          30,
          31,
          32,
          33,
          34,
          35,
          36,
          37,
          38,
          39,
          40,
          41,
          42,
          43
         ],
         "y": [
          null,
          0.0772431269288063,
          0.1730734407901764,
          0.24179178476333618,
          0.29590266942977905,
          0.33875271677970886,
          0.3778717517852783,
          0.42058610916137695,
          0.4540068805217743,
          0.4863196313381195,
          0.5163033604621887,
          0.541154146194458,
          0.5644220113754272,
          0.5843207240104675,
          0.6086061596870422,
          0.6290023326873779,
          0.6450343728065491,
          0.6605463027954102,
          0.6739327311515808,
          0.6941027641296387,
          0.7048887610435486,
          0.7153581976890564,
          0.7286993265151978,
          0.7415430545806885,
          0.7453644871711731,
          0.7579142451286316,
          0.7648335695266724,
          0.7758004665374756,
          0.7774285674095154,
          0.7882145643234253,
          0.7969202399253845,
          0.8430490493774414,
          0.863038182258606,
          0.86907559633255,
          0.8716307878494263,
          0.8806078433990479,
          0.8837735056877136,
          0.8870974779129028,
          0.8936098217964172,
          0.8963910937309265,
          0.897747814655304,
          0.899895966053009,
          0.899240255355835
         ]
        },
        {
         "line": {
          "color": "#6c503e",
          "dash": "dash"
         },
         "name": "<b>Val. Accccuracy:</b><br>milsed_7block_dense<br>all_full_length_npy_aug",
         "type": "scatter",
         "x": [
          1,
          2,
          3,
          4,
          5,
          6,
          7,
          8,
          9,
          10,
          11,
          12,
          13,
          14,
          15,
          16,
          17,
          18,
          19,
          20,
          21,
          22,
          23,
          24,
          25,
          26,
          27,
          28,
          29,
          30,
          31,
          32,
          33,
          34,
          35,
          36,
          37,
          38,
          39,
          40,
          41,
          42,
          43
         ],
         "y": [
          0.12282274663448334,
          0.22259221971035004,
          0.2626793086528778,
          0.3251793086528778,
          0.3691086173057556,
          0.4148309528827667,
          0.42405226826667786,
          0.4886014461517334,
          0.4892418086528778,
          0.5219005942344666,
          0.5359887480735779,
          0.553022563457489,
          0.5820952653884888,
          0.5873463153839111,
          0.5899077653884888,
          0.6109119057655334,
          0.6070696711540222,
          0.6200051307678223,
          0.6106557250022888,
          0.6356301307678223,
          0.6393442749977112,
          0.6394723653793335,
          0.646772563457489,
          0.6314036846160889,
          0.6493340134620667,
          0.6558657884597778,
          0.6582992076873779,
          0.6603483557701111,
          0.6401126980781555,
          0.6607325673103333,
          0.6954405903816223,
          0.6988985538482666,
          0.701460063457489,
          0.7019723653793335,
          0.7009477615356445,
          0.7035092115402222,
          0.7017161846160889,
          0.7088882923126221,
          0.7068391442298889,
          0.7088882923126221,
          0.7070952653884888,
          0.7045338153839111,
          null
         ]
        }
       ],
       "layout": {
        "legend": {
         "x": 0.99,
         "xanchor": "right",
         "y": 0.02,
         "yanchor": "bottom"
        },
        "template": {
         "data": {
          "bar": [
           {
            "error_x": {
             "color": "#2a3f5f"
            },
            "error_y": {
             "color": "#2a3f5f"
            },
            "marker": {
             "line": {
              "color": "#E5ECF6",
              "width": 0.5
             }
            },
            "type": "bar"
           }
          ],
          "barpolar": [
           {
            "marker": {
             "line": {
              "color": "#E5ECF6",
              "width": 0.5
             }
            },
            "type": "barpolar"
           }
          ],
          "carpet": [
           {
            "aaxis": {
             "endlinecolor": "#2a3f5f",
             "gridcolor": "white",
             "linecolor": "white",
             "minorgridcolor": "white",
             "startlinecolor": "#2a3f5f"
            },
            "baxis": {
             "endlinecolor": "#2a3f5f",
             "gridcolor": "white",
             "linecolor": "white",
             "minorgridcolor": "white",
             "startlinecolor": "#2a3f5f"
            },
            "type": "carpet"
           }
          ],
          "choropleth": [
           {
            "colorbar": {
             "outlinewidth": 0,
             "ticks": ""
            },
            "type": "choropleth"
           }
          ],
          "contour": [
           {
            "colorbar": {
             "outlinewidth": 0,
             "ticks": ""
            },
            "colorscale": [
             [
              0,
              "#0d0887"
             ],
             [
              0.1111111111111111,
              "#46039f"
             ],
             [
              0.2222222222222222,
              "#7201a8"
             ],
             [
              0.3333333333333333,
              "#9c179e"
             ],
             [
              0.4444444444444444,
              "#bd3786"
             ],
             [
              0.5555555555555556,
              "#d8576b"
             ],
             [
              0.6666666666666666,
              "#ed7953"
             ],
             [
              0.7777777777777778,
              "#fb9f3a"
             ],
             [
              0.8888888888888888,
              "#fdca26"
             ],
             [
              1,
              "#f0f921"
             ]
            ],
            "type": "contour"
           }
          ],
          "contourcarpet": [
           {
            "colorbar": {
             "outlinewidth": 0,
             "ticks": ""
            },
            "type": "contourcarpet"
           }
          ],
          "heatmap": [
           {
            "colorbar": {
             "outlinewidth": 0,
             "ticks": ""
            },
            "colorscale": [
             [
              0,
              "#0d0887"
             ],
             [
              0.1111111111111111,
              "#46039f"
             ],
             [
              0.2222222222222222,
              "#7201a8"
             ],
             [
              0.3333333333333333,
              "#9c179e"
             ],
             [
              0.4444444444444444,
              "#bd3786"
             ],
             [
              0.5555555555555556,
              "#d8576b"
             ],
             [
              0.6666666666666666,
              "#ed7953"
             ],
             [
              0.7777777777777778,
              "#fb9f3a"
             ],
             [
              0.8888888888888888,
              "#fdca26"
             ],
             [
              1,
              "#f0f921"
             ]
            ],
            "type": "heatmap"
           }
          ],
          "heatmapgl": [
           {
            "colorbar": {
             "outlinewidth": 0,
             "ticks": ""
            },
            "colorscale": [
             [
              0,
              "#0d0887"
             ],
             [
              0.1111111111111111,
              "#46039f"
             ],
             [
              0.2222222222222222,
              "#7201a8"
             ],
             [
              0.3333333333333333,
              "#9c179e"
             ],
             [
              0.4444444444444444,
              "#bd3786"
             ],
             [
              0.5555555555555556,
              "#d8576b"
             ],
             [
              0.6666666666666666,
              "#ed7953"
             ],
             [
              0.7777777777777778,
              "#fb9f3a"
             ],
             [
              0.8888888888888888,
              "#fdca26"
             ],
             [
              1,
              "#f0f921"
             ]
            ],
            "type": "heatmapgl"
           }
          ],
          "histogram": [
           {
            "marker": {
             "colorbar": {
              "outlinewidth": 0,
              "ticks": ""
             }
            },
            "type": "histogram"
           }
          ],
          "histogram2d": [
           {
            "colorbar": {
             "outlinewidth": 0,
             "ticks": ""
            },
            "colorscale": [
             [
              0,
              "#0d0887"
             ],
             [
              0.1111111111111111,
              "#46039f"
             ],
             [
              0.2222222222222222,
              "#7201a8"
             ],
             [
              0.3333333333333333,
              "#9c179e"
             ],
             [
              0.4444444444444444,
              "#bd3786"
             ],
             [
              0.5555555555555556,
              "#d8576b"
             ],
             [
              0.6666666666666666,
              "#ed7953"
             ],
             [
              0.7777777777777778,
              "#fb9f3a"
             ],
             [
              0.8888888888888888,
              "#fdca26"
             ],
             [
              1,
              "#f0f921"
             ]
            ],
            "type": "histogram2d"
           }
          ],
          "histogram2dcontour": [
           {
            "colorbar": {
             "outlinewidth": 0,
             "ticks": ""
            },
            "colorscale": [
             [
              0,
              "#0d0887"
             ],
             [
              0.1111111111111111,
              "#46039f"
             ],
             [
              0.2222222222222222,
              "#7201a8"
             ],
             [
              0.3333333333333333,
              "#9c179e"
             ],
             [
              0.4444444444444444,
              "#bd3786"
             ],
             [
              0.5555555555555556,
              "#d8576b"
             ],
             [
              0.6666666666666666,
              "#ed7953"
             ],
             [
              0.7777777777777778,
              "#fb9f3a"
             ],
             [
              0.8888888888888888,
              "#fdca26"
             ],
             [
              1,
              "#f0f921"
             ]
            ],
            "type": "histogram2dcontour"
           }
          ],
          "mesh3d": [
           {
            "colorbar": {
             "outlinewidth": 0,
             "ticks": ""
            },
            "type": "mesh3d"
           }
          ],
          "parcoords": [
           {
            "line": {
             "colorbar": {
              "outlinewidth": 0,
              "ticks": ""
             }
            },
            "type": "parcoords"
           }
          ],
          "pie": [
           {
            "automargin": true,
            "type": "pie"
           }
          ],
          "scatter": [
           {
            "marker": {
             "colorbar": {
              "outlinewidth": 0,
              "ticks": ""
             }
            },
            "type": "scatter"
           }
          ],
          "scatter3d": [
           {
            "line": {
             "colorbar": {
              "outlinewidth": 0,
              "ticks": ""
             }
            },
            "marker": {
             "colorbar": {
              "outlinewidth": 0,
              "ticks": ""
             }
            },
            "type": "scatter3d"
           }
          ],
          "scattercarpet": [
           {
            "marker": {
             "colorbar": {
              "outlinewidth": 0,
              "ticks": ""
             }
            },
            "type": "scattercarpet"
           }
          ],
          "scattergeo": [
           {
            "marker": {
             "colorbar": {
              "outlinewidth": 0,
              "ticks": ""
             }
            },
            "type": "scattergeo"
           }
          ],
          "scattergl": [
           {
            "marker": {
             "colorbar": {
              "outlinewidth": 0,
              "ticks": ""
             }
            },
            "type": "scattergl"
           }
          ],
          "scattermapbox": [
           {
            "marker": {
             "colorbar": {
              "outlinewidth": 0,
              "ticks": ""
             }
            },
            "type": "scattermapbox"
           }
          ],
          "scatterpolar": [
           {
            "marker": {
             "colorbar": {
              "outlinewidth": 0,
              "ticks": ""
             }
            },
            "type": "scatterpolar"
           }
          ],
          "scatterpolargl": [
           {
            "marker": {
             "colorbar": {
              "outlinewidth": 0,
              "ticks": ""
             }
            },
            "type": "scatterpolargl"
           }
          ],
          "scatterternary": [
           {
            "marker": {
             "colorbar": {
              "outlinewidth": 0,
              "ticks": ""
             }
            },
            "type": "scatterternary"
           }
          ],
          "surface": [
           {
            "colorbar": {
             "outlinewidth": 0,
             "ticks": ""
            },
            "colorscale": [
             [
              0,
              "#0d0887"
             ],
             [
              0.1111111111111111,
              "#46039f"
             ],
             [
              0.2222222222222222,
              "#7201a8"
             ],
             [
              0.3333333333333333,
              "#9c179e"
             ],
             [
              0.4444444444444444,
              "#bd3786"
             ],
             [
              0.5555555555555556,
              "#d8576b"
             ],
             [
              0.6666666666666666,
              "#ed7953"
             ],
             [
              0.7777777777777778,
              "#fb9f3a"
             ],
             [
              0.8888888888888888,
              "#fdca26"
             ],
             [
              1,
              "#f0f921"
             ]
            ],
            "type": "surface"
           }
          ],
          "table": [
           {
            "cells": {
             "fill": {
              "color": "#EBF0F8"
             },
             "line": {
              "color": "white"
             }
            },
            "header": {
             "fill": {
              "color": "#C8D4E3"
             },
             "line": {
              "color": "white"
             }
            },
            "type": "table"
           }
          ]
         },
         "layout": {
          "annotationdefaults": {
           "arrowcolor": "#2a3f5f",
           "arrowhead": 0,
           "arrowwidth": 1
          },
          "autotypenumbers": "strict",
          "coloraxis": {
           "colorbar": {
            "outlinewidth": 0,
            "ticks": ""
           }
          },
          "colorscale": {
           "diverging": [
            [
             0,
             "#8e0152"
            ],
            [
             0.1,
             "#c51b7d"
            ],
            [
             0.2,
             "#de77ae"
            ],
            [
             0.3,
             "#f1b6da"
            ],
            [
             0.4,
             "#fde0ef"
            ],
            [
             0.5,
             "#f7f7f7"
            ],
            [
             0.6,
             "#e6f5d0"
            ],
            [
             0.7,
             "#b8e186"
            ],
            [
             0.8,
             "#7fbc41"
            ],
            [
             0.9,
             "#4d9221"
            ],
            [
             1,
             "#276419"
            ]
           ],
           "sequential": [
            [
             0,
             "#0d0887"
            ],
            [
             0.1111111111111111,
             "#46039f"
            ],
            [
             0.2222222222222222,
             "#7201a8"
            ],
            [
             0.3333333333333333,
             "#9c179e"
            ],
            [
             0.4444444444444444,
             "#bd3786"
            ],
            [
             0.5555555555555556,
             "#d8576b"
            ],
            [
             0.6666666666666666,
             "#ed7953"
            ],
            [
             0.7777777777777778,
             "#fb9f3a"
            ],
            [
             0.8888888888888888,
             "#fdca26"
            ],
            [
             1,
             "#f0f921"
            ]
           ],
           "sequentialminus": [
            [
             0,
             "#0d0887"
            ],
            [
             0.1111111111111111,
             "#46039f"
            ],
            [
             0.2222222222222222,
             "#7201a8"
            ],
            [
             0.3333333333333333,
             "#9c179e"
            ],
            [
             0.4444444444444444,
             "#bd3786"
            ],
            [
             0.5555555555555556,
             "#d8576b"
            ],
            [
             0.6666666666666666,
             "#ed7953"
            ],
            [
             0.7777777777777778,
             "#fb9f3a"
            ],
            [
             0.8888888888888888,
             "#fdca26"
            ],
            [
             1,
             "#f0f921"
            ]
           ]
          },
          "colorway": [
           "#636efa",
           "#EF553B",
           "#00cc96",
           "#ab63fa",
           "#FFA15A",
           "#19d3f3",
           "#FF6692",
           "#B6E880",
           "#FF97FF",
           "#FECB52"
          ],
          "font": {
           "color": "#2a3f5f"
          },
          "geo": {
           "bgcolor": "white",
           "lakecolor": "white",
           "landcolor": "#E5ECF6",
           "showlakes": true,
           "showland": true,
           "subunitcolor": "white"
          },
          "hoverlabel": {
           "align": "left"
          },
          "hovermode": "closest",
          "mapbox": {
           "style": "light"
          },
          "paper_bgcolor": "white",
          "plot_bgcolor": "#E5ECF6",
          "polar": {
           "angularaxis": {
            "gridcolor": "white",
            "linecolor": "white",
            "ticks": ""
           },
           "bgcolor": "#E5ECF6",
           "radialaxis": {
            "gridcolor": "white",
            "linecolor": "white",
            "ticks": ""
           }
          },
          "scene": {
           "xaxis": {
            "backgroundcolor": "#E5ECF6",
            "gridcolor": "white",
            "gridwidth": 2,
            "linecolor": "white",
            "showbackground": true,
            "ticks": "",
            "zerolinecolor": "white"
           },
           "yaxis": {
            "backgroundcolor": "#E5ECF6",
            "gridcolor": "white",
            "gridwidth": 2,
            "linecolor": "white",
            "showbackground": true,
            "ticks": "",
            "zerolinecolor": "white"
           },
           "zaxis": {
            "backgroundcolor": "#E5ECF6",
            "gridcolor": "white",
            "gridwidth": 2,
            "linecolor": "white",
            "showbackground": true,
            "ticks": "",
            "zerolinecolor": "white"
           }
          },
          "shapedefaults": {
           "line": {
            "color": "#2a3f5f"
           }
          },
          "ternary": {
           "aaxis": {
            "gridcolor": "white",
            "linecolor": "white",
            "ticks": ""
           },
           "baxis": {
            "gridcolor": "white",
            "linecolor": "white",
            "ticks": ""
           },
           "bgcolor": "#E5ECF6",
           "caxis": {
            "gridcolor": "white",
            "linecolor": "white",
            "ticks": ""
           }
          },
          "title": {
           "x": 0.05
          },
          "xaxis": {
           "automargin": true,
           "gridcolor": "white",
           "linecolor": "white",
           "ticks": "",
           "title": {
            "standoff": 15
           },
           "zerolinecolor": "white",
           "zerolinewidth": 2
          },
          "yaxis": {
           "automargin": true,
           "gridcolor": "white",
           "linecolor": "white",
           "ticks": "",
           "title": {
            "standoff": 15
           },
           "zerolinecolor": "white",
           "zerolinewidth": 2
          }
         }
        },
        "title": {
         "text": "Accuracy vs Validation Accuracy"
        }
       }
      },
      "text/html": [
       "<div>                            <div id=\"bdb2fc12-cfce-44c8-9d22-dc944b37c86c\" class=\"plotly-graph-div\" style=\"height:525px; width:100%;\"></div>            <script type=\"text/javascript\">                require([\"plotly\"], function(Plotly) {                    window.PLOTLYENV=window.PLOTLYENV || {};                                    if (document.getElementById(\"bdb2fc12-cfce-44c8-9d22-dc944b37c86c\")) {                    Plotly.newPlot(                        \"bdb2fc12-cfce-44c8-9d22-dc944b37c86c\",                        [{\"line\": {\"color\": \"#6c503e\", \"dash\": \"solid\"}, \"name\": \"<b>Accuracy:</b><br>milsed_7block_dense<br>all_full_length_npy_aug\", \"type\": \"scatter\", \"x\": [1, 2, 3, 4, 5, 6, 7, 8, 9, 10, 11, 12, 13, 14, 15, 16, 17, 18, 19, 20, 21, 22, 23, 24, 25, 26, 27, 28, 29, 30, 31, 32, 33, 34, 35, 36, 37, 38, 39, 40, 41, 42, 43], \"y\": [null, 0.0772431269288063, 0.1730734407901764, 0.24179178476333618, 0.29590266942977905, 0.33875271677970886, 0.3778717517852783, 0.42058610916137695, 0.4540068805217743, 0.4863196313381195, 0.5163033604621887, 0.541154146194458, 0.5644220113754272, 0.5843207240104675, 0.6086061596870422, 0.6290023326873779, 0.6450343728065491, 0.6605463027954102, 0.6739327311515808, 0.6941027641296387, 0.7048887610435486, 0.7153581976890564, 0.7286993265151978, 0.7415430545806885, 0.7453644871711731, 0.7579142451286316, 0.7648335695266724, 0.7758004665374756, 0.7774285674095154, 0.7882145643234253, 0.7969202399253845, 0.8430490493774414, 0.863038182258606, 0.86907559633255, 0.8716307878494263, 0.8806078433990479, 0.8837735056877136, 0.8870974779129028, 0.8936098217964172, 0.8963910937309265, 0.897747814655304, 0.899895966053009, 0.899240255355835]}, {\"line\": {\"color\": \"#6c503e\", \"dash\": \"dash\"}, \"name\": \"<b>Val. Accccuracy:</b><br>milsed_7block_dense<br>all_full_length_npy_aug\", \"type\": \"scatter\", \"x\": [1, 2, 3, 4, 5, 6, 7, 8, 9, 10, 11, 12, 13, 14, 15, 16, 17, 18, 19, 20, 21, 22, 23, 24, 25, 26, 27, 28, 29, 30, 31, 32, 33, 34, 35, 36, 37, 38, 39, 40, 41, 42, 43], \"y\": [0.12282274663448334, 0.22259221971035004, 0.2626793086528778, 0.3251793086528778, 0.3691086173057556, 0.4148309528827667, 0.42405226826667786, 0.4886014461517334, 0.4892418086528778, 0.5219005942344666, 0.5359887480735779, 0.553022563457489, 0.5820952653884888, 0.5873463153839111, 0.5899077653884888, 0.6109119057655334, 0.6070696711540222, 0.6200051307678223, 0.6106557250022888, 0.6356301307678223, 0.6393442749977112, 0.6394723653793335, 0.646772563457489, 0.6314036846160889, 0.6493340134620667, 0.6558657884597778, 0.6582992076873779, 0.6603483557701111, 0.6401126980781555, 0.6607325673103333, 0.6954405903816223, 0.6988985538482666, 0.701460063457489, 0.7019723653793335, 0.7009477615356445, 0.7035092115402222, 0.7017161846160889, 0.7088882923126221, 0.7068391442298889, 0.7088882923126221, 0.7070952653884888, 0.7045338153839111, null]}],                        {\"legend\": {\"x\": 0.99, \"xanchor\": \"right\", \"y\": 0.02, \"yanchor\": \"bottom\"}, \"template\": {\"data\": {\"bar\": [{\"error_x\": {\"color\": \"#2a3f5f\"}, \"error_y\": {\"color\": \"#2a3f5f\"}, \"marker\": {\"line\": {\"color\": \"#E5ECF6\", \"width\": 0.5}}, \"type\": \"bar\"}], \"barpolar\": [{\"marker\": {\"line\": {\"color\": \"#E5ECF6\", \"width\": 0.5}}, \"type\": \"barpolar\"}], \"carpet\": [{\"aaxis\": {\"endlinecolor\": \"#2a3f5f\", \"gridcolor\": \"white\", \"linecolor\": \"white\", \"minorgridcolor\": \"white\", \"startlinecolor\": \"#2a3f5f\"}, \"baxis\": {\"endlinecolor\": \"#2a3f5f\", \"gridcolor\": \"white\", \"linecolor\": \"white\", \"minorgridcolor\": \"white\", \"startlinecolor\": \"#2a3f5f\"}, \"type\": \"carpet\"}], \"choropleth\": [{\"colorbar\": {\"outlinewidth\": 0, \"ticks\": \"\"}, \"type\": \"choropleth\"}], \"contour\": [{\"colorbar\": {\"outlinewidth\": 0, \"ticks\": \"\"}, \"colorscale\": [[0.0, \"#0d0887\"], [0.1111111111111111, \"#46039f\"], [0.2222222222222222, \"#7201a8\"], [0.3333333333333333, \"#9c179e\"], [0.4444444444444444, \"#bd3786\"], [0.5555555555555556, \"#d8576b\"], [0.6666666666666666, \"#ed7953\"], [0.7777777777777778, \"#fb9f3a\"], [0.8888888888888888, \"#fdca26\"], [1.0, \"#f0f921\"]], \"type\": \"contour\"}], \"contourcarpet\": [{\"colorbar\": {\"outlinewidth\": 0, \"ticks\": \"\"}, \"type\": \"contourcarpet\"}], \"heatmap\": [{\"colorbar\": {\"outlinewidth\": 0, \"ticks\": \"\"}, \"colorscale\": [[0.0, \"#0d0887\"], [0.1111111111111111, \"#46039f\"], [0.2222222222222222, \"#7201a8\"], [0.3333333333333333, \"#9c179e\"], [0.4444444444444444, \"#bd3786\"], [0.5555555555555556, \"#d8576b\"], [0.6666666666666666, \"#ed7953\"], [0.7777777777777778, \"#fb9f3a\"], [0.8888888888888888, \"#fdca26\"], [1.0, \"#f0f921\"]], \"type\": \"heatmap\"}], \"heatmapgl\": [{\"colorbar\": {\"outlinewidth\": 0, \"ticks\": \"\"}, \"colorscale\": [[0.0, \"#0d0887\"], [0.1111111111111111, \"#46039f\"], [0.2222222222222222, \"#7201a8\"], [0.3333333333333333, \"#9c179e\"], [0.4444444444444444, \"#bd3786\"], [0.5555555555555556, \"#d8576b\"], [0.6666666666666666, \"#ed7953\"], [0.7777777777777778, \"#fb9f3a\"], [0.8888888888888888, \"#fdca26\"], [1.0, \"#f0f921\"]], \"type\": \"heatmapgl\"}], \"histogram\": [{\"marker\": {\"colorbar\": {\"outlinewidth\": 0, \"ticks\": \"\"}}, \"type\": \"histogram\"}], \"histogram2d\": [{\"colorbar\": {\"outlinewidth\": 0, \"ticks\": \"\"}, \"colorscale\": [[0.0, \"#0d0887\"], [0.1111111111111111, \"#46039f\"], [0.2222222222222222, \"#7201a8\"], [0.3333333333333333, \"#9c179e\"], [0.4444444444444444, \"#bd3786\"], [0.5555555555555556, \"#d8576b\"], [0.6666666666666666, \"#ed7953\"], [0.7777777777777778, \"#fb9f3a\"], [0.8888888888888888, \"#fdca26\"], [1.0, \"#f0f921\"]], \"type\": \"histogram2d\"}], \"histogram2dcontour\": [{\"colorbar\": {\"outlinewidth\": 0, \"ticks\": \"\"}, \"colorscale\": [[0.0, \"#0d0887\"], [0.1111111111111111, \"#46039f\"], [0.2222222222222222, \"#7201a8\"], [0.3333333333333333, \"#9c179e\"], [0.4444444444444444, \"#bd3786\"], [0.5555555555555556, \"#d8576b\"], [0.6666666666666666, \"#ed7953\"], [0.7777777777777778, \"#fb9f3a\"], [0.8888888888888888, \"#fdca26\"], [1.0, \"#f0f921\"]], \"type\": \"histogram2dcontour\"}], \"mesh3d\": [{\"colorbar\": {\"outlinewidth\": 0, \"ticks\": \"\"}, \"type\": \"mesh3d\"}], \"parcoords\": [{\"line\": {\"colorbar\": {\"outlinewidth\": 0, \"ticks\": \"\"}}, \"type\": \"parcoords\"}], \"pie\": [{\"automargin\": true, \"type\": \"pie\"}], \"scatter\": [{\"marker\": {\"colorbar\": {\"outlinewidth\": 0, \"ticks\": \"\"}}, \"type\": \"scatter\"}], \"scatter3d\": [{\"line\": {\"colorbar\": {\"outlinewidth\": 0, \"ticks\": \"\"}}, \"marker\": {\"colorbar\": {\"outlinewidth\": 0, \"ticks\": \"\"}}, \"type\": \"scatter3d\"}], \"scattercarpet\": [{\"marker\": {\"colorbar\": {\"outlinewidth\": 0, \"ticks\": \"\"}}, \"type\": \"scattercarpet\"}], \"scattergeo\": [{\"marker\": {\"colorbar\": {\"outlinewidth\": 0, \"ticks\": \"\"}}, \"type\": \"scattergeo\"}], \"scattergl\": [{\"marker\": {\"colorbar\": {\"outlinewidth\": 0, \"ticks\": \"\"}}, \"type\": \"scattergl\"}], \"scattermapbox\": [{\"marker\": {\"colorbar\": {\"outlinewidth\": 0, \"ticks\": \"\"}}, \"type\": \"scattermapbox\"}], \"scatterpolar\": [{\"marker\": {\"colorbar\": {\"outlinewidth\": 0, \"ticks\": \"\"}}, \"type\": \"scatterpolar\"}], \"scatterpolargl\": [{\"marker\": {\"colorbar\": {\"outlinewidth\": 0, \"ticks\": \"\"}}, \"type\": \"scatterpolargl\"}], \"scatterternary\": [{\"marker\": {\"colorbar\": {\"outlinewidth\": 0, \"ticks\": \"\"}}, \"type\": \"scatterternary\"}], \"surface\": [{\"colorbar\": {\"outlinewidth\": 0, \"ticks\": \"\"}, \"colorscale\": [[0.0, \"#0d0887\"], [0.1111111111111111, \"#46039f\"], [0.2222222222222222, \"#7201a8\"], [0.3333333333333333, \"#9c179e\"], [0.4444444444444444, \"#bd3786\"], [0.5555555555555556, \"#d8576b\"], [0.6666666666666666, \"#ed7953\"], [0.7777777777777778, \"#fb9f3a\"], [0.8888888888888888, \"#fdca26\"], [1.0, \"#f0f921\"]], \"type\": \"surface\"}], \"table\": [{\"cells\": {\"fill\": {\"color\": \"#EBF0F8\"}, \"line\": {\"color\": \"white\"}}, \"header\": {\"fill\": {\"color\": \"#C8D4E3\"}, \"line\": {\"color\": \"white\"}}, \"type\": \"table\"}]}, \"layout\": {\"annotationdefaults\": {\"arrowcolor\": \"#2a3f5f\", \"arrowhead\": 0, \"arrowwidth\": 1}, \"autotypenumbers\": \"strict\", \"coloraxis\": {\"colorbar\": {\"outlinewidth\": 0, \"ticks\": \"\"}}, \"colorscale\": {\"diverging\": [[0, \"#8e0152\"], [0.1, \"#c51b7d\"], [0.2, \"#de77ae\"], [0.3, \"#f1b6da\"], [0.4, \"#fde0ef\"], [0.5, \"#f7f7f7\"], [0.6, \"#e6f5d0\"], [0.7, \"#b8e186\"], [0.8, \"#7fbc41\"], [0.9, \"#4d9221\"], [1, \"#276419\"]], \"sequential\": [[0.0, \"#0d0887\"], [0.1111111111111111, \"#46039f\"], [0.2222222222222222, \"#7201a8\"], [0.3333333333333333, \"#9c179e\"], [0.4444444444444444, \"#bd3786\"], [0.5555555555555556, \"#d8576b\"], [0.6666666666666666, \"#ed7953\"], [0.7777777777777778, \"#fb9f3a\"], [0.8888888888888888, \"#fdca26\"], [1.0, \"#f0f921\"]], \"sequentialminus\": [[0.0, \"#0d0887\"], [0.1111111111111111, \"#46039f\"], [0.2222222222222222, \"#7201a8\"], [0.3333333333333333, \"#9c179e\"], [0.4444444444444444, \"#bd3786\"], [0.5555555555555556, \"#d8576b\"], [0.6666666666666666, \"#ed7953\"], [0.7777777777777778, \"#fb9f3a\"], [0.8888888888888888, \"#fdca26\"], [1.0, \"#f0f921\"]]}, \"colorway\": [\"#636efa\", \"#EF553B\", \"#00cc96\", \"#ab63fa\", \"#FFA15A\", \"#19d3f3\", \"#FF6692\", \"#B6E880\", \"#FF97FF\", \"#FECB52\"], \"font\": {\"color\": \"#2a3f5f\"}, \"geo\": {\"bgcolor\": \"white\", \"lakecolor\": \"white\", \"landcolor\": \"#E5ECF6\", \"showlakes\": true, \"showland\": true, \"subunitcolor\": \"white\"}, \"hoverlabel\": {\"align\": \"left\"}, \"hovermode\": \"closest\", \"mapbox\": {\"style\": \"light\"}, \"paper_bgcolor\": \"white\", \"plot_bgcolor\": \"#E5ECF6\", \"polar\": {\"angularaxis\": {\"gridcolor\": \"white\", \"linecolor\": \"white\", \"ticks\": \"\"}, \"bgcolor\": \"#E5ECF6\", \"radialaxis\": {\"gridcolor\": \"white\", \"linecolor\": \"white\", \"ticks\": \"\"}}, \"scene\": {\"xaxis\": {\"backgroundcolor\": \"#E5ECF6\", \"gridcolor\": \"white\", \"gridwidth\": 2, \"linecolor\": \"white\", \"showbackground\": true, \"ticks\": \"\", \"zerolinecolor\": \"white\"}, \"yaxis\": {\"backgroundcolor\": \"#E5ECF6\", \"gridcolor\": \"white\", \"gridwidth\": 2, \"linecolor\": \"white\", \"showbackground\": true, \"ticks\": \"\", \"zerolinecolor\": \"white\"}, \"zaxis\": {\"backgroundcolor\": \"#E5ECF6\", \"gridcolor\": \"white\", \"gridwidth\": 2, \"linecolor\": \"white\", \"showbackground\": true, \"ticks\": \"\", \"zerolinecolor\": \"white\"}}, \"shapedefaults\": {\"line\": {\"color\": \"#2a3f5f\"}}, \"ternary\": {\"aaxis\": {\"gridcolor\": \"white\", \"linecolor\": \"white\", \"ticks\": \"\"}, \"baxis\": {\"gridcolor\": \"white\", \"linecolor\": \"white\", \"ticks\": \"\"}, \"bgcolor\": \"#E5ECF6\", \"caxis\": {\"gridcolor\": \"white\", \"linecolor\": \"white\", \"ticks\": \"\"}}, \"title\": {\"x\": 0.05}, \"xaxis\": {\"automargin\": true, \"gridcolor\": \"white\", \"linecolor\": \"white\", \"ticks\": \"\", \"title\": {\"standoff\": 15}, \"zerolinecolor\": \"white\", \"zerolinewidth\": 2}, \"yaxis\": {\"automargin\": true, \"gridcolor\": \"white\", \"linecolor\": \"white\", \"ticks\": \"\", \"title\": {\"standoff\": 15}, \"zerolinecolor\": \"white\", \"zerolinewidth\": 2}}}, \"title\": {\"text\": \"Accuracy vs Validation Accuracy\"}},                        {\"responsive\": true}                    ).then(function(){\n",
       "                            \n",
       "var gd = document.getElementById('bdb2fc12-cfce-44c8-9d22-dc944b37c86c');\n",
       "var x = new MutationObserver(function (mutations, observer) {{\n",
       "        var display = window.getComputedStyle(gd).display;\n",
       "        if (!display || display === 'none') {{\n",
       "            console.log([gd, 'removed!']);\n",
       "            Plotly.purge(gd);\n",
       "            observer.disconnect();\n",
       "        }}\n",
       "}});\n",
       "\n",
       "// Listen for the removal of the full notebook cells\n",
       "var notebookContainer = gd.closest('#notebook-container');\n",
       "if (notebookContainer) {{\n",
       "    x.observe(notebookContainer, {childList: true});\n",
       "}}\n",
       "\n",
       "// Listen for the clearing of the current output cell\n",
       "var outputEl = gd.closest('.output');\n",
       "if (outputEl) {{\n",
       "    x.observe(outputEl, {childList: true});\n",
       "}}\n",
       "\n",
       "                        })                };                });            </script>        </div>"
      ]
     },
     "metadata": {},
     "output_type": "display_data"
    }
   ],
   "source": [
    "fig = go.Figure()\n",
    "\n",
    "# Add trace for Accuracy and Validation\n",
    "fig.add_trace(go.Scatter(y=df_plt['categorical_accuracy'], \n",
    "                         x=df_plt['Epochs'],\n",
    "                         name='<b>Accuracy:</b><br>' + df_plt['model_name'].iloc[0],\n",
    "                         line = dict(color=colors[0], dash='solid')))\n",
    "fig.add_trace(go.Scatter(y=df_plt['val_categorical_accuracy'], \n",
    "                         x=df_plt['Epochs'],\n",
    "                         name='<b>Val. Accccuracy:</b><br>' + df_plt['model_name'].iloc[0],\n",
    "                         line = dict(color=colors[0], dash='dash')))\n",
    "\n",
    "fig.update_layout(go.Layout(title=\"Accuracy vs Validation Accuracy\"))\n",
    "\n",
    "# formatting\n",
    "fig.update_layout(\n",
    "    legend=dict(\n",
    "        yanchor=\"bottom\",\n",
    "        y=0.02,\n",
    "        xanchor=\"right\",\n",
    "        x=0.99\n",
    "    )\n",
    ")"
   ]
  },
  {
   "cell_type": "markdown",
   "id": "editorial-africa",
   "metadata": {},
   "source": [
    "### Accuracy Subplots"
   ]
  },
  {
   "cell_type": "code",
   "execution_count": 28,
   "id": "unusual-demonstration",
   "metadata": {},
   "outputs": [
    {
     "data": {
      "image/png": "[encoded data removed]",
      "text/plain": [
       "<Figure size 1152x288 with 4 Axes>"
      ]
     },
     "metadata": {},
     "output_type": "display_data"
    }
   ],
   "source": [
    "with plt.style.context('fivethirtyeight'):\n",
    "\n",
    "    fig, axs = plt.subplots(1, 3, sharey=True, figsize = (16,4))\n",
    "\n",
    "    # Cagegorical Accuracy\n",
    "    axs[0].plot(df_plt['Epochs'],\n",
    "             df_plt['categorical_accuracy'],\n",
    "             color=colors[0],\n",
    "             label=\"Accuracy\")\n",
    "    axs[0].plot(df_plt['Epochs'],\n",
    "             df_plt['val_categorical_accuracy'],\n",
    "             linestyle='--',\n",
    "             color=colors[0],\n",
    "             label='Val Accuracy')\n",
    "    axs[0].legend(loc='lower right')\n",
    "    axs[0].set_title('Accuracy')\n",
    "\n",
    "    # Top 3 Accuracy\n",
    "    axs[1].plot(df_plt['Epochs'],\n",
    "             df_plt['top_3_accuracy'],\n",
    "             color=colors[1],\n",
    "             label='top_3_accuracy')\n",
    "    axs[1].plot(df_plt['Epochs'],\n",
    "             df_plt['val_top_3_accuracy'],\n",
    "             linestyle='--',\n",
    "             color=colors[1],\n",
    "             label='Val Top 3 Accuracy')\n",
    "    axs[1].set_title('Top 3 Accuracy')\n",
    "\n",
    "\n",
    "    axs[1].set_xticks([0,10,20,30,40])\n",
    "    axs[1].set_yticks(axs[0].get_yticks())\n",
    "    axs[1].tick_params(labelleft=True)\n",
    "    axs[1].legend()\n",
    "\n",
    "    # Top 5 Accuracy\n",
    "    axs[2].plot(df_plt['Epochs'],\n",
    "             df_plt['top_5_accuracy'],\n",
    "             color=colors[2],\n",
    "             label='Top 5 Accuracy')\n",
    "    axs[2].plot(df_plt['Epochs'],\n",
    "             df_plt['val_top_5_accuracy'],\n",
    "             linestyle='--',\n",
    "             color=colors[2],\n",
    "             label='Val Top 5 Accuracy')\n",
    "    axs[2].set_xticks([0,10,20,30,40])\n",
    "    axs[2].tick_params(labelleft=True)\n",
    "    axs[2].set_title('Top 5 Accuracy')\n",
    "    axs[2].legend()\n",
    "    \n",
    "    # Superimpose plot for shared x axis\n",
    "    fig.add_subplot(111, frameon=False)\n",
    "    \n",
    "    # hide tick and tick label of the big axis\n",
    "    plt.grid(False)\n",
    "    plt.tick_params(labelcolor='none', which='both', top=False, bottom=False, left=False, right=False)\n",
    "    \n",
    "    # Shared labels\n",
    "    plt.xlabel(\"Epochs\")\n",
    "    plt.ylabel(\"Accuracy\")\n",
    "    "
   ]
  },
  {
   "cell_type": "markdown",
   "id": "complimentary-idaho",
   "metadata": {},
   "source": [
    "## Confusion Matrix"
   ]
  },
  {
   "cell_type": "code",
   "execution_count": 29,
   "id": "special-fraud",
   "metadata": {},
   "outputs": [
    {
     "data": {
      "text/plain": [
       "dict_keys(['mapping', 'train', 'val', 'test'])"
      ]
     },
     "execution_count": 29,
     "metadata": {},
     "output_type": "execute_result"
    }
   ],
   "source": [
    "# Load keys with ground truth\n",
    "with open('data/resources/data_kag_split_single_label.json', 'r') as fp:\n",
    "    split = json.load(fp)\n",
    "    \n",
    "split.keys()"
   ]
  },
  {
   "cell_type": "code",
   "execution_count": 30,
   "id": "technical-tribe",
   "metadata": {},
   "outputs": [],
   "source": [
    "# map for label names\n",
    "label_map = split['mapping']"
   ]
  },
  {
   "cell_type": "code",
   "execution_count": 31,
   "id": "cosmetic-smile",
   "metadata": {},
   "outputs": [
    {
     "data": {
      "text/plain": [
       "[0, 0, 0, 0, 0]"
      ]
     },
     "execution_count": 31,
     "metadata": {},
     "output_type": "execute_result"
    }
   ],
   "source": [
    "# Ground Truth\n",
    "y_true = split['test']['encoded_labels']\n",
    "y_true[:5]"
   ]
  },
  {
   "cell_type": "code",
   "execution_count": 32,
   "id": "resident-agenda",
   "metadata": {},
   "outputs": [
    {
     "data": {
      "text/plain": [
       "['Alder Flycatcher',\n",
       " 'Alder Flycatcher',\n",
       " 'Alder Flycatcher',\n",
       " 'Alder Flycatcher',\n",
       " 'Alder Flycatcher']"
      ]
     },
     "execution_count": 32,
     "metadata": {},
     "output_type": "execute_result"
    }
   ],
   "source": [
    "# Ground truth names\n",
    "y_true_names = split['test']['labels']\n",
    "y_true_names[:5]"
   ]
  },
  {
   "cell_type": "code",
   "execution_count": 33,
   "id": "assisted-serve",
   "metadata": {},
   "outputs": [],
   "source": [
    "# open saved predictions\n",
    "fname = f'{best_model.model_name}-{best_model.name}-test_predictions.pkl'\n",
    "fname = os.path.join('model_data', fname)\n",
    "with open(fname, 'rb') as fp:\n",
    "    y_pred = pickle.load(fp)    "
   ]
  },
  {
   "cell_type": "code",
   "execution_count": 34,
   "id": "distributed-bridges",
   "metadata": {},
   "outputs": [
    {
     "data": {
      "text/plain": [
       "['American Robin',\n",
       " 'Alder Flycatcher',\n",
       " 'Alder Flycatcher',\n",
       " 'Sharp-shinned Hawk',\n",
       " 'Alder Flycatcher']"
      ]
     },
     "execution_count": 34,
     "metadata": {},
     "output_type": "execute_result"
    }
   ],
   "source": [
    "# Convert predictions to names\n",
    "y_pred_names = [label_map[i] for i in np.argmax(y_pred, axis=1)]\n",
    "y_pred_names[:5]"
   ]
  },
  {
   "cell_type": "code",
   "execution_count": 35,
   "id": "objective-ethics",
   "metadata": {},
   "outputs": [
    {
     "data": {
      "text/plain": [
       "0.8280274656679151"
      ]
     },
     "execution_count": 35,
     "metadata": {},
     "output_type": "execute_result"
    }
   ],
   "source": [
    "# double check accuracy\n",
    "accuracy_score(y_true_names, y_pred_names)"
   ]
  },
  {
   "cell_type": "markdown",
   "id": "painted-parking",
   "metadata": {},
   "source": [
    "I believe this is higher than tensorflow because sklearn is averaging the accuracy by class rather than reporting overall accuracy."
   ]
  },
  {
   "cell_type": "code",
   "execution_count": 36,
   "id": "convertible-scanning",
   "metadata": {},
   "outputs": [
    {
     "data": {
      "image/png": "[encoded data removed]",
      "text/plain": [
       "<Figure size 936x720 with 2 Axes>"
      ]
     },
     "metadata": {},
     "output_type": "display_data"
    }
   ],
   "source": [
    "# confusiion matrix\n",
    "cf_matrix = confusion_matrix(y_true_names, y_pred_names)\n",
    "\n",
    "# plot it\n",
    "with plt.style.context('fivethirtyeight'): #, sns.plotting_context(\"talk\", font_scale=1.4):\n",
    "\n",
    "    fig = plt.figure(figsize=(13,10))\n",
    "    sns.heatmap(cf_matrix)\n",
    "    \n",
    "    # Title\n",
    "    plt.title(f'''Test Set - Confusion Matrix\n",
    "Model: {best_model.model_name}\n",
    "Data: {best_model.data_subset}''');"
   ]
  },
  {
   "cell_type": "code",
   "execution_count": 37,
   "id": "medical-notice",
   "metadata": {},
   "outputs": [
    {
     "name": "stdout",
     "output_type": "stream",
     "text": [
      "                               precision    recall  f1-score   support\n",
      "\n",
      "             Alder Flycatcher       0.69      0.73      0.71        15\n",
      "              American Avocet       0.75      0.50      0.60         6\n",
      "             American Bittern       1.00      0.86      0.92         7\n",
      "             American Bushtit       0.93      0.87      0.90        15\n",
      "       American Cliff Swallow       0.88      0.70      0.78        10\n",
      "                American Coot       0.87      0.87      0.87        15\n",
      "                American Crow       0.70      0.93      0.80        15\n",
      "    American Dusky Flycatcher       0.91      0.67      0.77        15\n",
      "           American Goldfinch       0.61      0.93      0.74        15\n",
      "     American Grey Flycatcher       0.62      0.67      0.64        12\n",
      "             American Kestrel       1.00      0.91      0.95        11\n",
      "            American Redstart       0.67      0.80      0.73        15\n",
      "               American Robin       0.60      1.00      0.75        15\n",
      "        American Tree Sparrow       0.90      0.82      0.86        11\n",
      "              American Wigeon       1.00      0.80      0.89         5\n",
      "            American Woodcock       0.86      1.00      0.92        12\n",
      "           Anna's Hummingbird       0.75      0.80      0.77        15\n",
      "      Ash-throated Flycatcher       0.88      1.00      0.94        15\n",
      "            Baird's Sandpiper       0.86      0.75      0.80         8\n",
      "                   Bald Eagle       0.80      0.80      0.80         5\n",
      "             Baltimore Oriole       0.88      0.47      0.61        15\n",
      "                 Barn Swallow       1.00      0.87      0.93        15\n",
      "                   Barred Owl       0.92      0.73      0.81        15\n",
      "               Bell's Sparrow       0.85      1.00      0.92        11\n",
      "            Belted Kingfisher       1.00      1.00      1.00        10\n",
      "                Bewick's Wren       0.67      0.93      0.78        15\n",
      "                 Black Phoebe       0.93      0.93      0.93        15\n",
      "      Black-and-white Warbler       1.00      0.91      0.95        11\n",
      "          Black-billed Cuckoo       1.00      0.71      0.83         7\n",
      "          Black-billed Magpie       0.78      0.78      0.78         9\n",
      "       Black-capped Chickadee       0.79      0.73      0.76        15\n",
      "    Black-chinned Hummingbird       0.75      0.30      0.43        10\n",
      "        Black-headed Grosbeak       1.00      0.87      0.93        15\n",
      "           Black-necked Grebe       0.83      0.83      0.83         6\n",
      "  Black-throated Blue Warbler       0.70      0.64      0.67        11\n",
      " Black-throated Green Warbler       0.92      0.73      0.81        15\n",
      "  Black-throated Grey Warbler       0.70      0.50      0.58        14\n",
      "       Black-throated Sparrow       1.00      0.71      0.83        14\n",
      "         Blackburnian Warbler       0.81      0.87      0.84        15\n",
      "            Blackpoll Warbler       0.88      0.93      0.90        15\n",
      "                Blue Grosbeak       0.81      0.87      0.84        15\n",
      "                     Blue Jay       0.76      0.87      0.81        15\n",
      "        Blue-grey Gnatcatcher       0.81      0.87      0.84        15\n",
      "            Blue-headed Vireo       0.73      0.73      0.73        15\n",
      "             Blue-winged Teal       0.88      0.88      0.88         8\n",
      "          Blue-winged Warbler       0.89      0.53      0.67        15\n",
      "                     Bobolink       0.92      0.73      0.81        15\n",
      "             Bonaparte's Gull       1.00      0.50      0.67         6\n",
      "           Brewer's Blackbird       1.00      0.43      0.60         7\n",
      "             Brewer's Sparrow       1.00      0.93      0.97        15\n",
      "     Broad-tailed Hummingbird       0.92      0.80      0.86        15\n",
      "            Broad-winged Hawk       0.83      0.91      0.87        11\n",
      "                Brown Creeper       0.83      1.00      0.91        15\n",
      "               Brown Thrasher       0.82      0.93      0.87        15\n",
      "         Brown-headed Cowbird       0.86      0.80      0.83        15\n",
      "           Buff-bellied Pipit       1.00      0.93      0.97        15\n",
      "                   Bufflehead       1.00      0.50      0.67         2\n",
      "             Bullock's Oriole       0.77      0.67      0.71        15\n",
      "                  Cactus Wren       0.88      1.00      0.94        15\n",
      "              California Gull       1.00      0.33      0.50         6\n",
      "             California Quail       0.87      0.93      0.90        14\n",
      "         California Scrub Jay       0.90      0.90      0.90        10\n",
      "                 Canada Goose       1.00      1.00      1.00        15\n",
      "               Canada Warbler       1.00      0.60      0.75        15\n",
      "                  Canyon Wren       0.93      0.87      0.90        15\n",
      "             Cape May Warbler       0.89      0.73      0.80        11\n",
      "                Carolina Wren       0.94      1.00      0.97        15\n",
      "                 Caspian Tern       0.93      0.87      0.90        15\n",
      "               Cassin's Finch       0.70      0.64      0.67        11\n",
      "               Cassin's Vireo       0.80      0.57      0.67        14\n",
      "                Cedar Waxwing       1.00      1.00      1.00        13\n",
      "       Chestnut-sided Warbler       0.93      0.87      0.90        15\n",
      "                Chimney Swift       1.00      1.00      1.00         4\n",
      "             Chipping Sparrow       0.72      0.87      0.79        15\n",
      "             Chukar Partridge       0.75      0.75      0.75         4\n",
      "           Clark's Nutcracker       0.91      0.83      0.87        12\n",
      "             Common Goldeneye       0.83      0.77      0.80        13\n",
      "               Common Grackle       0.92      0.80      0.86        15\n",
      "                  Common Loon       0.83      1.00      0.91        10\n",
      "             Common Merganser       0.90      0.75      0.82        12\n",
      "             Common Nighthawk       0.71      0.77      0.74        13\n",
      "               Common Redpoll       0.93      0.93      0.93        15\n",
      "              Common Starling       0.30      1.00      0.46         6\n",
      "                  Common Tern       0.68      1.00      0.81        15\n",
      "          Common Yellowthroat       0.70      0.93      0.80        15\n",
      "                Cooper's Hawk       0.68      0.93      0.79        14\n",
      "          Costa's Hummingbird       1.00      0.67      0.80         3\n",
      "              Dark-eyed Junco       0.69      0.73      0.71        15\n",
      "     Double-crested Cormorant       0.60      0.60      0.60         5\n",
      "             Downy Woodpecker       0.87      0.87      0.87        15\n",
      "             Eastern Bluebird       0.86      0.86      0.86        14\n",
      "             Eastern Kingbird       1.00      0.83      0.91        12\n",
      "           Eastern Meadowlark       0.78      0.93      0.85        15\n",
      "               Eastern Phoebe       1.00      0.79      0.88        14\n",
      "               Eastern Towhee       0.73      0.73      0.73        15\n",
      "           Eastern Wood Pewee       1.00      0.87      0.93        15\n",
      "       Eurasian Collared Dove       1.00      1.00      1.00        15\n",
      "                Eurasian Teal       0.87      0.87      0.87        15\n",
      "        European Herring Gull       0.88      0.93      0.90        15\n",
      "             Evening Grosbeak       1.00      1.00      1.00        15\n",
      "                Field Sparrow       0.92      0.80      0.86        15\n",
      "                    Fish Crow       1.00      0.77      0.87        13\n",
      "                      Gadwall       0.88      0.93      0.90        15\n",
      "                 Golden Eagle       1.00      0.38      0.55         8\n",
      "       Golden-crowned Kinglet       0.78      0.93      0.85        15\n",
      "       Golden-crowned Sparrow       0.88      0.70      0.78        10\n",
      "             Great Blue Heron       0.79      1.00      0.88        11\n",
      "     Great Crested Flycatcher       0.87      0.87      0.87        15\n",
      "                  Great Egret       0.87      0.87      0.87        15\n",
      "             Great Horned Owl       0.94      1.00      0.97        15\n",
      "         Great-tailed Grackle       0.58      0.73      0.65        15\n",
      "           Greater Roadrunner       1.00      0.93      0.96        14\n",
      "           Greater Yellowlegs       0.78      0.93      0.85        15\n",
      "                  Green Heron       0.86      0.60      0.71        10\n",
      "          Green-tailed Towhee       0.80      0.80      0.80        15\n",
      "                 Grey Catbird       0.90      0.75      0.82        12\n",
      "      Grey-crowned Rosy Finch       0.50      0.20      0.29         5\n",
      "             Hairy Woodpecker       0.91      0.67      0.77        15\n",
      "         Hammond's Flycatcher       0.85      0.73      0.79        15\n",
      "                Hermit Thrush       1.00      0.87      0.93        15\n",
      "             Hooded Merganser       1.00      0.33      0.50         3\n",
      "               Hooded Warbler       0.94      1.00      0.97        15\n",
      "                 Horned Grebe       0.67      0.80      0.73        10\n",
      "                  Horned Lark       1.00      1.00      1.00        15\n",
      "                  House Finch       0.81      0.87      0.84        15\n",
      "                House Sparrow       0.79      1.00      0.88        15\n",
      "                   House Wren       0.52      0.93      0.67        15\n",
      "               Indigo Bunting       0.93      0.87      0.90        15\n",
      "             Juniper Titmouse       0.90      0.90      0.90        10\n",
      "                     Killdeer       0.93      0.87      0.90        15\n",
      "     Ladder-backed Woodpecker       0.89      0.62      0.73        13\n",
      "                 Lark Sparrow       0.82      0.64      0.72        14\n",
      "               Lazuli Bunting       0.77      0.67      0.71        15\n",
      "           LeConte's Thrasher       1.00      1.00      1.00         3\n",
      "                Least Bittern       0.80      0.86      0.83        14\n",
      "             Least Flycatcher       0.77      0.71      0.74        14\n",
      "              Least Sandpiper       1.00      0.64      0.78        11\n",
      "             Lesser Goldfinch       0.75      1.00      0.86        15\n",
      "             Lesser Nighthawk       1.00      1.00      1.00         6\n",
      "            Lesser Yellowlegs       0.92      0.80      0.86        15\n",
      "           Lewis's Woodpecker       1.00      1.00      1.00         4\n",
      "            Lincoln's Sparrow       0.87      0.87      0.87        15\n",
      "            Loggerhead Shrike       1.00      0.87      0.93        15\n",
      "           Long-billed Curlew       1.00      0.60      0.75        10\n",
      "        Long-billed Dowitcher       1.00      0.91      0.95        11\n",
      "             Long-tailed Duck       1.00      1.00      1.00         9\n",
      "        Louisiana Waterthrush       0.93      0.87      0.90        15\n",
      "       MacGillivray's Warbler       0.64      0.60      0.62        15\n",
      "             Magnolia Warbler       0.87      0.87      0.87        15\n",
      "                      Mallard       0.81      0.87      0.84        15\n",
      "             Mangrove Warbler       0.82      0.69      0.75        13\n",
      "                   Marsh Wren       0.76      0.87      0.81        15\n",
      "                       Merlin       1.00      1.00      1.00         9\n",
      "            Mountain Bluebird       0.67      1.00      0.80         4\n",
      "           Mountain Chickadee       0.88      0.93      0.90        15\n",
      "                Mourning Dove       0.81      0.87      0.84        15\n",
      "               Myrtle Warbler       0.72      0.87      0.79        15\n",
      "            Northern Cardinal       0.71      1.00      0.83        15\n",
      "             Northern Flicker       0.75      1.00      0.86        15\n",
      "             Northern Harrier       1.00      0.50      0.67         4\n",
      "         Northern Mockingbird       0.42      0.67      0.51        15\n",
      "              Northern Parula       0.88      0.93      0.90        15\n",
      "             Northern Pintail       0.83      0.83      0.83         6\n",
      "               Northern Raven       0.64      0.93      0.76        15\n",
      "Northern Rough-winged Swallow       1.00      1.00      1.00         4\n",
      "            Northern Shoveler       1.00      1.00      1.00        10\n",
      "         Northern Waterthrush       0.76      0.87      0.81        15\n",
      "         Nuttall's Woodpecker       0.75      0.86      0.80         7\n",
      "       Olive-sided Flycatcher       1.00      0.80      0.89        15\n",
      "       Orange-crowned Warbler       0.73      0.73      0.73        15\n",
      "                     Ovenbird       0.85      0.73      0.79        15\n",
      "     Pacific-slope Flycatcher       0.93      0.87      0.90        15\n",
      "                 Palm Warbler       0.67      0.57      0.62         7\n",
      "           Pectoral Sandpiper       0.80      0.40      0.53        10\n",
      "             Peregrine Falcon       1.00      0.87      0.93        15\n",
      "                  Phainopepla       1.00      0.78      0.88         9\n",
      "            Pied-billed Grebe       1.00      0.87      0.93        15\n",
      "          Pileated Woodpecker       1.00      0.80      0.89        15\n",
      "                Pine Grosbeak       0.80      0.57      0.67        14\n",
      "                  Pine Siskin       1.00      0.93      0.97        15\n",
      "                 Pine Warbler       0.92      0.80      0.86        15\n",
      "                   Pinyon Jay       1.00      1.00      1.00         8\n",
      "              Plumbeous Vireo       0.79      0.79      0.79        14\n",
      "              Prairie Warbler       1.00      0.80      0.89        10\n",
      "                 Purple Finch       0.73      0.73      0.73        15\n",
      "               Pygmy Nuthatch       0.71      0.56      0.63         9\n",
      "                Red Crossbill       0.56      0.93      0.70        15\n",
      "              Red Fox Sparrow       0.92      0.73      0.81        15\n",
      "       Red-bellied Woodpecker       0.88      0.93      0.90        15\n",
      "       Red-breasted Merganser       1.00      0.75      0.86         4\n",
      "        Red-breasted Nuthatch       0.92      0.73      0.81        15\n",
      "       Red-breasted Sapsucker       0.29      0.40      0.33         5\n",
      "               Red-eyed Vireo       0.76      0.87      0.81        15\n",
      "         Red-necked Phalarope       0.82      0.82      0.82        11\n",
      "          Red-shouldered Hawk       1.00      0.82      0.90        11\n",
      "              Red-tailed Hawk       0.93      0.93      0.93        14\n",
      "         Red-winged Blackbird       0.74      0.93      0.82        15\n",
      "                      Redhead       0.50      1.00      0.67         1\n",
      "             Ring-billed Gull       0.62      1.00      0.77        10\n",
      "             Ring-necked Duck       1.00      0.50      0.67         4\n",
      "                    Rock Dove       1.00      0.80      0.89        15\n",
      "                    Rock Wren       0.92      0.92      0.92        12\n",
      "       Rose-breasted Grosbeak       0.87      0.87      0.87        15\n",
      "         Ruby-crowned Kinglet       0.93      0.93      0.93        15\n",
      "    Ruby-throated Hummingbird       0.38      0.60      0.46         5\n",
      "                   Ruddy Duck       0.75      1.00      0.86         3\n",
      "                Ruffed Grouse       1.00      0.50      0.67         4\n",
      "           Rufous Hummingbird       0.88      0.78      0.82         9\n",
      "              Rusty Blackbird       0.75      0.67      0.71         9\n",
      "                Sage Thrasher       1.00      0.80      0.89         5\n",
      "            Sagebrush Sparrow       0.75      0.75      0.75         4\n",
      "                  Sand Martin       1.00      0.87      0.93        15\n",
      "             Savannah Sparrow       1.00      0.93      0.97        15\n",
      "                 Say's Phoebe       1.00      1.00      1.00         8\n",
      "              Scarlet Tanager       0.93      1.00      0.97        14\n",
      "               Scott's Oriole       1.00      1.00      1.00        15\n",
      "          Semipalmated Plover       0.86      0.60      0.71        10\n",
      "       Semipalmated Sandpiper       0.62      0.50      0.56        10\n",
      "           Sharp-shinned Hawk       0.50      0.67      0.57         3\n",
      "              Short-eared Owl       0.78      0.78      0.78         9\n",
      "                 Snow Bunting       0.85      0.73      0.79        15\n",
      "                   Snow Goose       1.00      1.00      1.00        12\n",
      "           Solitary Sandpiper       1.00      0.79      0.88        14\n",
      "                 Song Sparrow       0.68      1.00      0.81        15\n",
      "                         Sora       0.93      0.93      0.93        15\n",
      "            Spotted Sandpiper       0.88      0.50      0.64        14\n",
      "               Spotted Towhee       0.70      0.93      0.80        15\n",
      "                Steller's Jay       0.72      0.87      0.79        15\n",
      "              Swainson's Hawk       0.67      0.50      0.57         4\n",
      "            Swainson's Thrush       0.73      0.73      0.73        15\n",
      "                Swamp Sparrow       1.00      0.67      0.80        15\n",
      "                 Tree Swallow       0.80      0.62      0.70        13\n",
      "               Trumpeter Swan       0.83      0.83      0.83         6\n",
      "              Tufted Titmouse       0.86      0.80      0.83        15\n",
      "                  Tundra Swan       0.83      1.00      0.91        10\n",
      "                        Veery       0.93      0.87      0.90        15\n",
      "               Vesper Sparrow       1.00      1.00      1.00        15\n",
      "         Violet-green Swallow       1.00      0.75      0.86         8\n",
      "               Warbling Vireo       0.75      0.80      0.77        15\n",
      "             Western Bluebird       0.80      0.80      0.80         5\n",
      "                Western Grebe       0.83      0.83      0.83         6\n",
      "             Western Kingbird       0.82      0.75      0.78        12\n",
      "           Western Meadowlark       0.83      1.00      0.91        15\n",
      "               Western Osprey       0.92      0.73      0.81        15\n",
      "            Western Sandpiper       0.50      0.75      0.60         4\n",
      "              Western Tanager       0.93      0.87      0.90        15\n",
      "           Western Wood Pewee       0.78      0.93      0.85        15\n",
      "      White-breasted Nuthatch       0.76      0.87      0.81        15\n",
      "        White-crowned Sparrow       0.68      1.00      0.81        15\n",
      "             White-faced Ibis       0.50      0.80      0.62         5\n",
      "       White-throated Sparrow       0.82      0.93      0.87        15\n",
      "         White-throated Swift       1.00      0.80      0.89         5\n",
      "                  Wild Turkey       0.50      0.43      0.46         7\n",
      "            Willow Flycatcher       0.67      0.80      0.73        15\n",
      "               Wilson's Snipe       1.00      0.93      0.97        15\n",
      "             Wilson's Warbler       0.67      0.93      0.78        15\n",
      "                  Winter Wren       0.87      0.87      0.87        15\n",
      "                    Wood Duck       1.00      0.83      0.91         6\n",
      "                  Wood Thrush       0.93      0.93      0.93        15\n",
      "        Woodhouse's Scrub Jay       0.86      0.92      0.89        13\n",
      "    Yellow-bellied Flycatcher       1.00      0.93      0.97        15\n",
      "     Yellow-bellied Sapsucker       0.86      0.67      0.75         9\n",
      "      Yellow-headed Blackbird       0.50      0.56      0.53         9\n",
      "        Yellow-throated Vireo       0.88      0.93      0.90        15\n",
      "\n",
      "                     accuracy                           0.83      3204\n",
      "                    macro avg       0.84      0.81      0.81      3204\n",
      "                 weighted avg       0.85      0.83      0.83      3204\n",
      "\n"
     ]
    }
   ],
   "source": [
    "from sklearn.metrics import classification_report\n",
    "print(classification_report(y_true_names, y_pred_names))"
   ]
  },
  {
   "cell_type": "markdown",
   "id": "remarkable-message",
   "metadata": {},
   "source": [
    "# CPU/GPU Utilization"
   ]
  },
  {
   "cell_type": "code",
   "execution_count": 38,
   "id": "surrounded-ballot",
   "metadata": {},
   "outputs": [
    {
     "data": {
      "text/html": [
       "<div>\n",
       "<style scoped>\n",
       "    .dataframe tbody tr th:only-of-type {\n",
       "        vertical-align: middle;\n",
       "    }\n",
       "\n",
       "    .dataframe tbody tr th {\n",
       "        vertical-align: top;\n",
       "    }\n",
       "\n",
       "    .dataframe thead th {\n",
       "        text-align: right;\n",
       "    }\n",
       "</style>\n",
       "<table border=\"1\" class=\"dataframe\">\n",
       "  <thead>\n",
       "    <tr style=\"text-align: right;\">\n",
       "      <th></th>\n",
       "      <th>CPU (%)</th>\n",
       "      <th>RAM (%)</th>\n",
       "      <th>Swap (%)</th>\n",
       "      <th>0:GPU (%)</th>\n",
       "      <th>0:Mem (%)</th>\n",
       "      <th>0:Temp (C)</th>\n",
       "    </tr>\n",
       "    <tr>\n",
       "      <th>Timestamp (s)</th>\n",
       "      <th></th>\n",
       "      <th></th>\n",
       "      <th></th>\n",
       "      <th></th>\n",
       "      <th></th>\n",
       "      <th></th>\n",
       "    </tr>\n",
       "  </thead>\n",
       "  <tbody>\n",
       "    <tr>\n",
       "      <th>2021-04-18 00:22:27.917999872</th>\n",
       "      <td>16.4</td>\n",
       "      <td>10.0</td>\n",
       "      <td>0.0</td>\n",
       "      <td>0</td>\n",
       "      <td>0</td>\n",
       "      <td>38</td>\n",
       "    </tr>\n",
       "    <tr>\n",
       "      <th>2021-04-18 00:22:28.117000192</th>\n",
       "      <td>14.5</td>\n",
       "      <td>10.1</td>\n",
       "      <td>0.0</td>\n",
       "      <td>1</td>\n",
       "      <td>0</td>\n",
       "      <td>39</td>\n",
       "    </tr>\n",
       "    <tr>\n",
       "      <th>2021-04-18 00:22:28.316000000</th>\n",
       "      <td>4.2</td>\n",
       "      <td>10.1</td>\n",
       "      <td>0.0</td>\n",
       "      <td>0</td>\n",
       "      <td>0</td>\n",
       "      <td>39</td>\n",
       "    </tr>\n",
       "    <tr>\n",
       "      <th>2021-04-18 00:22:28.516000000</th>\n",
       "      <td>13.1</td>\n",
       "      <td>10.3</td>\n",
       "      <td>0.0</td>\n",
       "      <td>2</td>\n",
       "      <td>0</td>\n",
       "      <td>39</td>\n",
       "    </tr>\n",
       "    <tr>\n",
       "      <th>2021-04-18 00:22:28.714999808</th>\n",
       "      <td>16.9</td>\n",
       "      <td>10.5</td>\n",
       "      <td>0.0</td>\n",
       "      <td>4</td>\n",
       "      <td>0</td>\n",
       "      <td>39</td>\n",
       "    </tr>\n",
       "    <tr>\n",
       "      <th>...</th>\n",
       "      <td>...</td>\n",
       "      <td>...</td>\n",
       "      <td>...</td>\n",
       "      <td>...</td>\n",
       "      <td>...</td>\n",
       "      <td>...</td>\n",
       "    </tr>\n",
       "    <tr>\n",
       "      <th>2021-04-22 18:09:23.730000128</th>\n",
       "      <td>24.1</td>\n",
       "      <td>16.4</td>\n",
       "      <td>0.0</td>\n",
       "      <td>0</td>\n",
       "      <td>0</td>\n",
       "      <td>66</td>\n",
       "    </tr>\n",
       "    <tr>\n",
       "      <th>2021-04-22 18:09:24.708000000</th>\n",
       "      <td>14.0</td>\n",
       "      <td>16.5</td>\n",
       "      <td>0.0</td>\n",
       "      <td>0</td>\n",
       "      <td>0</td>\n",
       "      <td>66</td>\n",
       "    </tr>\n",
       "    <tr>\n",
       "      <th>2021-04-22 18:09:25.658999808</th>\n",
       "      <td>23.1</td>\n",
       "      <td>16.5</td>\n",
       "      <td>0.0</td>\n",
       "      <td>0</td>\n",
       "      <td>0</td>\n",
       "      <td>66</td>\n",
       "    </tr>\n",
       "    <tr>\n",
       "      <th>2021-04-22 18:09:26.561000192</th>\n",
       "      <td>41.4</td>\n",
       "      <td>16.5</td>\n",
       "      <td>0.0</td>\n",
       "      <td>0</td>\n",
       "      <td>0</td>\n",
       "      <td>66</td>\n",
       "    </tr>\n",
       "    <tr>\n",
       "      <th>2021-04-22 18:09:27.507000064</th>\n",
       "      <td>44.8</td>\n",
       "      <td>16.5</td>\n",
       "      <td>0.0</td>\n",
       "      <td>0</td>\n",
       "      <td>0</td>\n",
       "      <td>66</td>\n",
       "    </tr>\n",
       "  </tbody>\n",
       "</table>\n",
       "<p>748398 rows × 6 columns</p>\n",
       "</div>"
      ],
      "text/plain": [
       "                               CPU (%)  RAM (%)  Swap (%)  0:GPU (%)  \\\n",
       "Timestamp (s)                                                          \n",
       "2021-04-18 00:22:27.917999872     16.4     10.0       0.0          0   \n",
       "2021-04-18 00:22:28.117000192     14.5     10.1       0.0          1   \n",
       "2021-04-18 00:22:28.316000000      4.2     10.1       0.0          0   \n",
       "2021-04-18 00:22:28.516000000     13.1     10.3       0.0          2   \n",
       "2021-04-18 00:22:28.714999808     16.9     10.5       0.0          4   \n",
       "...                                ...      ...       ...        ...   \n",
       "2021-04-22 18:09:23.730000128     24.1     16.4       0.0          0   \n",
       "2021-04-22 18:09:24.708000000     14.0     16.5       0.0          0   \n",
       "2021-04-22 18:09:25.658999808     23.1     16.5       0.0          0   \n",
       "2021-04-22 18:09:26.561000192     41.4     16.5       0.0          0   \n",
       "2021-04-22 18:09:27.507000064     44.8     16.5       0.0          0   \n",
       "\n",
       "                               0:Mem (%)  0:Temp (C)  \n",
       "Timestamp (s)                                         \n",
       "2021-04-18 00:22:27.917999872          0          38  \n",
       "2021-04-18 00:22:28.117000192          0          39  \n",
       "2021-04-18 00:22:28.316000000          0          39  \n",
       "2021-04-18 00:22:28.516000000          0          39  \n",
       "2021-04-18 00:22:28.714999808          0          39  \n",
       "...                                  ...         ...  \n",
       "2021-04-22 18:09:23.730000128          0          66  \n",
       "2021-04-22 18:09:24.708000000          0          66  \n",
       "2021-04-22 18:09:25.658999808          0          66  \n",
       "2021-04-22 18:09:26.561000192          0          66  \n",
       "2021-04-22 18:09:27.507000064          0          66  \n",
       "\n",
       "[748398 rows x 6 columns]"
      ]
     },
     "execution_count": 38,
     "metadata": {},
     "output_type": "execute_result"
    }
   ],
   "source": [
    "# read log\n",
    "df_p = pd.read_csv(f'model_data/{best_model.name}-log_compute.csv', index_col=0)\n",
    "\n",
    "# convert index to datetime\n",
    "df_p.index = pd.to_datetime(df_p.index, unit='s', origin='unix') \n",
    "\n",
    "df_p"
   ]
  },
  {
   "cell_type": "code",
   "execution_count": 39,
   "id": "departmental-brunei",
   "metadata": {},
   "outputs": [
    {
     "data": {
      "text/html": [
       "<div>\n",
       "<style scoped>\n",
       "    .dataframe tbody tr th:only-of-type {\n",
       "        vertical-align: middle;\n",
       "    }\n",
       "\n",
       "    .dataframe tbody tr th {\n",
       "        vertical-align: top;\n",
       "    }\n",
       "\n",
       "    .dataframe thead th {\n",
       "        text-align: right;\n",
       "    }\n",
       "</style>\n",
       "<table border=\"1\" class=\"dataframe\">\n",
       "  <thead>\n",
       "    <tr style=\"text-align: right;\">\n",
       "      <th></th>\n",
       "      <th>CPU (%)</th>\n",
       "      <th>RAM (%)</th>\n",
       "      <th>Swap (%)</th>\n",
       "      <th>0:GPU (%)</th>\n",
       "      <th>0:Mem (%)</th>\n",
       "      <th>0:Temp (C)</th>\n",
       "    </tr>\n",
       "  </thead>\n",
       "  <tbody>\n",
       "    <tr>\n",
       "      <th>count</th>\n",
       "      <td>748398.000000</td>\n",
       "      <td>748398.000000</td>\n",
       "      <td>748398.0</td>\n",
       "      <td>748398.000000</td>\n",
       "      <td>748398.000000</td>\n",
       "      <td>748398.000000</td>\n",
       "    </tr>\n",
       "    <tr>\n",
       "      <th>mean</th>\n",
       "      <td>31.258256</td>\n",
       "      <td>26.790940</td>\n",
       "      <td>0.0</td>\n",
       "      <td>6.923856</td>\n",
       "      <td>4.076283</td>\n",
       "      <td>60.443955</td>\n",
       "    </tr>\n",
       "    <tr>\n",
       "      <th>std</th>\n",
       "      <td>7.879350</td>\n",
       "      <td>5.625783</td>\n",
       "      <td>0.0</td>\n",
       "      <td>23.252510</td>\n",
       "      <td>14.122435</td>\n",
       "      <td>0.885262</td>\n",
       "    </tr>\n",
       "    <tr>\n",
       "      <th>min</th>\n",
       "      <td>0.000000</td>\n",
       "      <td>10.000000</td>\n",
       "      <td>0.0</td>\n",
       "      <td>0.000000</td>\n",
       "      <td>0.000000</td>\n",
       "      <td>38.000000</td>\n",
       "    </tr>\n",
       "    <tr>\n",
       "      <th>25%</th>\n",
       "      <td>25.500000</td>\n",
       "      <td>22.100000</td>\n",
       "      <td>0.0</td>\n",
       "      <td>0.000000</td>\n",
       "      <td>0.000000</td>\n",
       "      <td>60.000000</td>\n",
       "    </tr>\n",
       "    <tr>\n",
       "      <th>50%</th>\n",
       "      <td>29.700000</td>\n",
       "      <td>25.700000</td>\n",
       "      <td>0.0</td>\n",
       "      <td>0.000000</td>\n",
       "      <td>0.000000</td>\n",
       "      <td>60.000000</td>\n",
       "    </tr>\n",
       "    <tr>\n",
       "      <th>75%</th>\n",
       "      <td>35.600000</td>\n",
       "      <td>31.100000</td>\n",
       "      <td>0.0</td>\n",
       "      <td>0.000000</td>\n",
       "      <td>0.000000</td>\n",
       "      <td>61.000000</td>\n",
       "    </tr>\n",
       "    <tr>\n",
       "      <th>max</th>\n",
       "      <td>100.000000</td>\n",
       "      <td>62.300000</td>\n",
       "      <td>0.0</td>\n",
       "      <td>100.000000</td>\n",
       "      <td>74.000000</td>\n",
       "      <td>71.000000</td>\n",
       "    </tr>\n",
       "  </tbody>\n",
       "</table>\n",
       "</div>"
      ],
      "text/plain": [
       "             CPU (%)        RAM (%)  Swap (%)      0:GPU (%)      0:Mem (%)  \\\n",
       "count  748398.000000  748398.000000  748398.0  748398.000000  748398.000000   \n",
       "mean       31.258256      26.790940       0.0       6.923856       4.076283   \n",
       "std         7.879350       5.625783       0.0      23.252510      14.122435   \n",
       "min         0.000000      10.000000       0.0       0.000000       0.000000   \n",
       "25%        25.500000      22.100000       0.0       0.000000       0.000000   \n",
       "50%        29.700000      25.700000       0.0       0.000000       0.000000   \n",
       "75%        35.600000      31.100000       0.0       0.000000       0.000000   \n",
       "max       100.000000      62.300000       0.0     100.000000      74.000000   \n",
       "\n",
       "          0:Temp (C)  \n",
       "count  748398.000000  \n",
       "mean       60.443955  \n",
       "std         0.885262  \n",
       "min        38.000000  \n",
       "25%        60.000000  \n",
       "50%        60.000000  \n",
       "75%        61.000000  \n",
       "max        71.000000  "
      ]
     },
     "execution_count": 39,
     "metadata": {},
     "output_type": "execute_result"
    }
   ],
   "source": [
    "df_p.describe()"
   ]
  },
  {
   "cell_type": "code",
   "execution_count": 40,
   "id": "reflected-september",
   "metadata": {},
   "outputs": [
    {
     "data": {
      "image/png": "[encoded data removed]",
      "text/plain": [
       "<Figure size 720x504 with 1 Axes>"
      ]
     },
     "metadata": {},
     "output_type": "display_data"
    }
   ],
   "source": [
    "# plot cpu gpu utilization\n",
    "with plt.style.context('fivethirtyeight'), sns.plotting_context(\"talk\", font_scale=1):\n",
    "\n",
    "    fig = plt.figure(figsize=(10,7))\n",
    "    df_slice = df_p.loc['2021-04-20 20:05':'2021-04-20 20:05:15']\n",
    "    plt.plot(df_slice['CPU (%)'], label='CPU Utilization %', color=colors[0])\n",
    "    plt.plot(df_slice['0:GPU (%)'], label='GPU 1 Utilization %', color=colors[3])\n",
    "    \n",
    "    # labels\n",
    "    plt.title('CPU vs GPU Utilization over 15 seconds')\n",
    "    plt.ylabel('Utilization %')\n",
    "    plt.xlabel('time')\n",
    "    \n",
    "    # formatting\n",
    "    plt.legend(bbox_to_anchor=(0.8, 1), loc='upper left')\n",
    "    plt.tick_params(which='both', top=False, bottom=False, left=False, right=False)"
   ]
  },
  {
   "cell_type": "markdown",
   "id": "obvious-emergency",
   "metadata": {},
   "source": [
    "The training did not make full use of compute resources on the system.  In particular the GPUs were vastly underutilized.  This appears to be the result of file load times because the CPUS (which were used in parallel to process the audio) rarely passed 100%.  MEan GPU utilization of arround 28% is very low."
   ]
  },
  {
   "cell_type": "markdown",
   "id": "favorite-simpson",
   "metadata": {},
   "source": [
    "# Future Work\n",
    "\n",
    "1. Further improvements might be possible by **testing other model architectures** like LSTM or attention based networks.\n",
    "2. Create a Sound Event Detection model leveraging the AutoPooling layer from “Adaptive Pooling Operators for Weakly Labeled Sound Event Detection.”  This could have the added benefit of detecting multiple species in a recording.\n",
    "3. Develop an open source mobile app so the community can improve the modeling and the benefits of the model can be leveraged by hobbyists and researchers alike.\n",
    "4. Improve training efficiency by using a different data loading methodology."
   ]
  },
  {
   "cell_type": "markdown",
   "id": "successful-restriction",
   "metadata": {},
   "source": [
    "# Conclusion\n",
    "\n",
    "Its clear form this work that bird vocalization classification is a viable way to classify bird species.  Pitch shift and time stretching the audio data had a nominally negative effect on the model performance, and are computationally expensive, therefor use of those augmentation strategies is not recommended.  Data augmentation by selecting random samples and downloading more samples does significantly improve the training."
   ]
  }
 ],
 "metadata": {
  "kernelspec": {
   "display_name": "Python [conda env:audio-ml]",
   "language": "python",
   "name": "conda-env-audio-ml-py"
  },
  "language_info": {
   "codemirror_mode": {
    "name": "ipython",
    "version": 3
   },
   "file_extension": ".py",
   "mimetype": "text/x-python",
   "name": "python",
   "nbconvert_exporter": "python",
   "pygments_lexer": "ipython3",
   "version": "3.8.8"
  },
  "toc": {
   "base_numbering": 1,
   "nav_menu": {},
   "number_sections": true,
   "sideBar": true,
   "skip_h1_title": false,
   "title_cell": "Table of Contents",
   "title_sidebar": "Contents",
   "toc_cell": false,
   "toc_position": {
    "height": "calc(100% - 180px)",
    "left": "10px",
    "top": "150px",
    "width": "320.188px"
   },
   "toc_section_display": true,
   "toc_window_display": true
  }
 },
 "nbformat": 4,
 "nbformat_minor": 5
}
