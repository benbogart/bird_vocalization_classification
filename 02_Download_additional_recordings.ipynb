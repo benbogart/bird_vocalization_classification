{
 "cells": [
  {
   "cell_type": "markdown",
   "id": "executive-rehabilitation",
   "metadata": {},
   "source": [
    "# Download more data from xeno-canto.org\n",
    "Download more bird songs for our current categories from xeno-canto using a combination of the api and direct downloads."
   ]
  },
  {
   "cell_type": "code",
   "execution_count": 1,
   "id": "developing-miller",
   "metadata": {},
   "outputs": [],
   "source": [
    "import requests\n",
    "import requests_random_user_agent\n",
    "\n",
    "import warnings\n",
    "from tqdm import tqdm\n",
    "\n",
    "import pandas as pd\n",
    "import time\n",
    "\n",
    "import json\n",
    "import os\n",
    "import numpy as np"
   ]
  },
  {
   "cell_type": "code",
   "execution_count": 2,
   "id": "intelligent-modem",
   "metadata": {},
   "outputs": [],
   "source": [
    "def get_xc_page(query, page=False):\n",
    "    '''make a single api query to xeno-canto'''\n",
    "    \n",
    "    url = 'https://www.xeno-canto.org/api/2/recordings?query='\n",
    "    \n",
    "    url_encoded_query = []\n",
    "    for q in query:\n",
    "        url_encoded_query.append( requests.utils.quote(q))\n",
    "        \n",
    "    url_encoded_query = '&'.join(url_encoded_query)\n",
    "    url += url_encoded_query\n",
    "    \n",
    "    if page:\n",
    "        url+=f'&page={page}'\n",
    "\n",
    "    # print('Fetching ', url)\n",
    "    \n",
    "    r = requests.get(url)\n",
    "    \n",
    "    # raise an error if the status code is not ok\n",
    "    r.raise_for_status()\n",
    "    \n",
    "    return r.json()"
   ]
  },
  {
   "cell_type": "code",
   "execution_count": 3,
   "id": "bulgarian-significance",
   "metadata": {},
   "outputs": [],
   "source": [
    "def search_xc(query):\n",
    "    '''get all pages of a xeno-canto query'''\n",
    "    \n",
    "    r = get_xc_page(query)\n",
    "    numRecordings = r['numRecordings']\n",
    "    \n",
    "    recordings = r['recordings']\n",
    "\n",
    "    # get all the pages\n",
    "    while r['page'] < r['numPages']:\n",
    "        r = get_xc_page(query, page=r['page']+1)\n",
    "        recordings += r['recordings']\n",
    "    \n",
    "    # verify that we have all the recordings\n",
    "    if int(r['numRecordings']) != len(recordings):\n",
    "        warnings.warn(f'''The number of downloaded records {len(recordings)}\n",
    "does not match the number of indicated recordings {r['numRecordings']}''')\n",
    "    \n",
    "    return recordings"
   ]
  },
  {
   "cell_type": "markdown",
   "id": "breathing-macedonia",
   "metadata": {},
   "source": [
    "## Use current dataset csv to limit query to those species"
   ]
  },
  {
   "cell_type": "code",
   "execution_count": 4,
   "id": "remarkable-stake",
   "metadata": {},
   "outputs": [
    {
     "data": {
      "text/html": [
       "<div>\n",
       "<style scoped>\n",
       "    .dataframe tbody tr th:only-of-type {\n",
       "        vertical-align: middle;\n",
       "    }\n",
       "\n",
       "    .dataframe tbody tr th {\n",
       "        vertical-align: top;\n",
       "    }\n",
       "\n",
       "    .dataframe thead th {\n",
       "        text-align: right;\n",
       "    }\n",
       "</style>\n",
       "<table border=\"1\" class=\"dataframe\">\n",
       "  <thead>\n",
       "    <tr style=\"text-align: right;\">\n",
       "      <th></th>\n",
       "      <th>rating</th>\n",
       "      <th>playback_used</th>\n",
       "      <th>ebird_code</th>\n",
       "      <th>channels</th>\n",
       "      <th>date</th>\n",
       "      <th>pitch</th>\n",
       "      <th>duration</th>\n",
       "      <th>filename</th>\n",
       "      <th>speed</th>\n",
       "      <th>species</th>\n",
       "      <th>...</th>\n",
       "      <th>xc_id</th>\n",
       "      <th>url</th>\n",
       "      <th>country</th>\n",
       "      <th>author</th>\n",
       "      <th>primary_label</th>\n",
       "      <th>longitude</th>\n",
       "      <th>length</th>\n",
       "      <th>time</th>\n",
       "      <th>recordist</th>\n",
       "      <th>license</th>\n",
       "    </tr>\n",
       "  </thead>\n",
       "  <tbody>\n",
       "    <tr>\n",
       "      <th>0</th>\n",
       "      <td>3.5</td>\n",
       "      <td>no</td>\n",
       "      <td>aldfly</td>\n",
       "      <td>1 (mono)</td>\n",
       "      <td>2013-05-25</td>\n",
       "      <td>Not specified</td>\n",
       "      <td>25</td>\n",
       "      <td>XC134874.mp3</td>\n",
       "      <td>Not specified</td>\n",
       "      <td>Alder Flycatcher</td>\n",
       "      <td>...</td>\n",
       "      <td>134874</td>\n",
       "      <td>https://www.xeno-canto.org/134874</td>\n",
       "      <td>United States</td>\n",
       "      <td>Jonathon Jongsma</td>\n",
       "      <td>Empidonax alnorum_Alder Flycatcher</td>\n",
       "      <td>-92.962</td>\n",
       "      <td>Not specified</td>\n",
       "      <td>8:00</td>\n",
       "      <td>Jonathon Jongsma</td>\n",
       "      <td>Creative Commons Attribution-ShareAlike 3.0</td>\n",
       "    </tr>\n",
       "    <tr>\n",
       "      <th>1</th>\n",
       "      <td>4.0</td>\n",
       "      <td>no</td>\n",
       "      <td>aldfly</td>\n",
       "      <td>2 (stereo)</td>\n",
       "      <td>2013-05-27</td>\n",
       "      <td>both</td>\n",
       "      <td>36</td>\n",
       "      <td>XC135454.mp3</td>\n",
       "      <td>both</td>\n",
       "      <td>Alder Flycatcher</td>\n",
       "      <td>...</td>\n",
       "      <td>135454</td>\n",
       "      <td>https://www.xeno-canto.org/135454</td>\n",
       "      <td>United States</td>\n",
       "      <td>Mike Nelson</td>\n",
       "      <td>Empidonax alnorum_Alder Flycatcher</td>\n",
       "      <td>-82.1106</td>\n",
       "      <td>0-3(s)</td>\n",
       "      <td>08:30</td>\n",
       "      <td>Mike Nelson</td>\n",
       "      <td>Creative Commons Attribution-NonCommercial-Sha...</td>\n",
       "    </tr>\n",
       "  </tbody>\n",
       "</table>\n",
       "<p>2 rows × 35 columns</p>\n",
       "</div>"
      ],
      "text/plain": [
       "   rating playback_used ebird_code    channels        date          pitch  \\\n",
       "0     3.5            no     aldfly    1 (mono)  2013-05-25  Not specified   \n",
       "1     4.0            no     aldfly  2 (stereo)  2013-05-27           both   \n",
       "\n",
       "   duration      filename          speed           species  ...   xc_id  \\\n",
       "0        25  XC134874.mp3  Not specified  Alder Flycatcher  ...  134874   \n",
       "1        36  XC135454.mp3           both  Alder Flycatcher  ...  135454   \n",
       "\n",
       "                                 url        country            author  \\\n",
       "0  https://www.xeno-canto.org/134874  United States  Jonathon Jongsma   \n",
       "1  https://www.xeno-canto.org/135454  United States       Mike Nelson   \n",
       "\n",
       "                        primary_label longitude         length   time  \\\n",
       "0  Empidonax alnorum_Alder Flycatcher   -92.962  Not specified   8:00   \n",
       "1  Empidonax alnorum_Alder Flycatcher  -82.1106         0-3(s)  08:30   \n",
       "\n",
       "          recordist                                            license  \n",
       "0  Jonathon Jongsma        Creative Commons Attribution-ShareAlike 3.0  \n",
       "1       Mike Nelson  Creative Commons Attribution-NonCommercial-Sha...  \n",
       "\n",
       "[2 rows x 35 columns]"
      ]
     },
     "execution_count": 4,
     "metadata": {},
     "output_type": "execute_result"
    }
   ],
   "source": [
    "df = pd.read_csv('data/train.csv')\n",
    "df.head(2)"
   ]
  },
  {
   "cell_type": "code",
   "execution_count": 5,
   "id": "amended-copyright",
   "metadata": {},
   "outputs": [
    {
     "data": {
      "text/plain": [
       "Index(['rating', 'playback_used', 'ebird_code', 'channels', 'date', 'pitch',\n",
       "       'duration', 'filename', 'speed', 'species', 'number_of_notes', 'title',\n",
       "       'secondary_labels', 'bird_seen', 'sci_name', 'location', 'latitude',\n",
       "       'sampling_rate', 'type', 'elevation', 'description', 'bitrate_of_mp3',\n",
       "       'file_type', 'volume', 'background', 'xc_id', 'url', 'country',\n",
       "       'author', 'primary_label', 'longitude', 'length', 'time', 'recordist',\n",
       "       'license'],\n",
       "      dtype='object')"
      ]
     },
     "execution_count": 5,
     "metadata": {},
     "output_type": "execute_result"
    }
   ],
   "source": [
    "df.columns"
   ]
  },
  {
   "cell_type": "code",
   "execution_count": 6,
   "id": "experimental-boating",
   "metadata": {},
   "outputs": [
    {
     "data": {
      "text/html": [
       "<div>\n",
       "<style scoped>\n",
       "    .dataframe tbody tr th:only-of-type {\n",
       "        vertical-align: middle;\n",
       "    }\n",
       "\n",
       "    .dataframe tbody tr th {\n",
       "        vertical-align: top;\n",
       "    }\n",
       "\n",
       "    .dataframe thead th {\n",
       "        text-align: right;\n",
       "    }\n",
       "</style>\n",
       "<table border=\"1\" class=\"dataframe\">\n",
       "  <thead>\n",
       "    <tr style=\"text-align: right;\">\n",
       "      <th></th>\n",
       "      <th>ebird_code</th>\n",
       "      <th>filename</th>\n",
       "      <th>title</th>\n",
       "      <th>secondary_labels</th>\n",
       "      <th>sci_name</th>\n",
       "      <th>location</th>\n",
       "      <th>xc_id</th>\n",
       "      <th>primary_label</th>\n",
       "    </tr>\n",
       "  </thead>\n",
       "  <tbody>\n",
       "    <tr>\n",
       "      <th>0</th>\n",
       "      <td>aldfly</td>\n",
       "      <td>XC134874.mp3</td>\n",
       "      <td>XC134874 Alder Flycatcher (Empidonax alnorum)</td>\n",
       "      <td>['Empidonax minimus_Least Flycatcher', 'Leioth...</td>\n",
       "      <td>Empidonax alnorum</td>\n",
       "      <td>Grey Cloud Dunes SNA, Washington, Minnesota</td>\n",
       "      <td>134874</td>\n",
       "      <td>Empidonax alnorum_Alder Flycatcher</td>\n",
       "    </tr>\n",
       "    <tr>\n",
       "      <th>1</th>\n",
       "      <td>aldfly</td>\n",
       "      <td>XC135454.mp3</td>\n",
       "      <td>XC135454 Alder Flycatcher (Empidonax alnorum)</td>\n",
       "      <td>[]</td>\n",
       "      <td>Empidonax alnorum</td>\n",
       "      <td>Carver's Gap Parking area, Roan Mountain Stat...</td>\n",
       "      <td>135454</td>\n",
       "      <td>Empidonax alnorum_Alder Flycatcher</td>\n",
       "    </tr>\n",
       "    <tr>\n",
       "      <th>2</th>\n",
       "      <td>aldfly</td>\n",
       "      <td>XC135455.mp3</td>\n",
       "      <td>XC135455 Alder Flycatcher (Empidonax alnorum)</td>\n",
       "      <td>[]</td>\n",
       "      <td>Empidonax alnorum</td>\n",
       "      <td>Carver's Gap Parking area, Roan Mountain Stat...</td>\n",
       "      <td>135455</td>\n",
       "      <td>Empidonax alnorum_Alder Flycatcher</td>\n",
       "    </tr>\n",
       "    <tr>\n",
       "      <th>3</th>\n",
       "      <td>aldfly</td>\n",
       "      <td>XC135456.mp3</td>\n",
       "      <td>XC135456 Alder Flycatcher (Empidonax alnorum)</td>\n",
       "      <td>['Dumetella carolinensis_Gray Catbird', 'Bomby...</td>\n",
       "      <td>Empidonax alnorum</td>\n",
       "      <td>Carver's Gap Parking area, Roan Mountain Stat...</td>\n",
       "      <td>135456</td>\n",
       "      <td>Empidonax alnorum_Alder Flycatcher</td>\n",
       "    </tr>\n",
       "    <tr>\n",
       "      <th>4</th>\n",
       "      <td>aldfly</td>\n",
       "      <td>XC135457.mp3</td>\n",
       "      <td>XC135457 Alder Flycatcher (Empidonax alnorum)</td>\n",
       "      <td>[]</td>\n",
       "      <td>Empidonax alnorum</td>\n",
       "      <td>Carver's Gap Parking area, Roan Mountain Stat...</td>\n",
       "      <td>135457</td>\n",
       "      <td>Empidonax alnorum_Alder Flycatcher</td>\n",
       "    </tr>\n",
       "  </tbody>\n",
       "</table>\n",
       "</div>"
      ],
      "text/plain": [
       "  ebird_code      filename                                          title  \\\n",
       "0     aldfly  XC134874.mp3  XC134874 Alder Flycatcher (Empidonax alnorum)   \n",
       "1     aldfly  XC135454.mp3  XC135454 Alder Flycatcher (Empidonax alnorum)   \n",
       "2     aldfly  XC135455.mp3  XC135455 Alder Flycatcher (Empidonax alnorum)   \n",
       "3     aldfly  XC135456.mp3  XC135456 Alder Flycatcher (Empidonax alnorum)   \n",
       "4     aldfly  XC135457.mp3  XC135457 Alder Flycatcher (Empidonax alnorum)   \n",
       "\n",
       "                                    secondary_labels           sci_name  \\\n",
       "0  ['Empidonax minimus_Least Flycatcher', 'Leioth...  Empidonax alnorum   \n",
       "1                                                 []  Empidonax alnorum   \n",
       "2                                                 []  Empidonax alnorum   \n",
       "3  ['Dumetella carolinensis_Gray Catbird', 'Bomby...  Empidonax alnorum   \n",
       "4                                                 []  Empidonax alnorum   \n",
       "\n",
       "                                            location   xc_id  \\\n",
       "0        Grey Cloud Dunes SNA, Washington, Minnesota  134874   \n",
       "1   Carver's Gap Parking area, Roan Mountain Stat...  135454   \n",
       "2   Carver's Gap Parking area, Roan Mountain Stat...  135455   \n",
       "3   Carver's Gap Parking area, Roan Mountain Stat...  135456   \n",
       "4   Carver's Gap Parking area, Roan Mountain Stat...  135457   \n",
       "\n",
       "                        primary_label  \n",
       "0  Empidonax alnorum_Alder Flycatcher  \n",
       "1  Empidonax alnorum_Alder Flycatcher  \n",
       "2  Empidonax alnorum_Alder Flycatcher  \n",
       "3  Empidonax alnorum_Alder Flycatcher  \n",
       "4  Empidonax alnorum_Alder Flycatcher  "
      ]
     },
     "execution_count": 6,
     "metadata": {},
     "output_type": "execute_result"
    }
   ],
   "source": [
    "#look at columns of interest\n",
    "df[['ebird_code', 'filename', 'title', 'secondary_labels', 'sci_name', \n",
    "    'location', 'xc_id', 'primary_label']].head()"
   ]
  },
  {
   "cell_type": "code",
   "execution_count": 7,
   "id": "passive-simon",
   "metadata": {},
   "outputs": [
    {
     "data": {
      "text/plain": [
       "264"
      ]
     },
     "execution_count": 7,
     "metadata": {},
     "output_type": "execute_result"
    }
   ],
   "source": [
    "# collect the  number of unique species in this set\n",
    "species = df['sci_name'].unique()\n",
    "len(species)"
   ]
  },
  {
   "cell_type": "markdown",
   "id": "greater-applicant",
   "metadata": {},
   "source": [
    "# Get all of the xeno-canto records for the species in this dataset."
   ]
  },
  {
   "cell_type": "code",
   "execution_count": 8,
   "id": "integrated-archives",
   "metadata": {},
   "outputs": [
    {
     "name": "stderr",
     "output_type": "stream",
     "text": [
      "100%|██████████| 264/264 [19:46<00:00,  4.49s/it]"
     ]
    },
    {
     "name": "stdout",
     "output_type": "stream",
     "text": [
      "Collected 62503 records\n"
     ]
    },
    {
     "name": "stderr",
     "output_type": "stream",
     "text": [
      "\n"
     ]
    }
   ],
   "source": [
    "search_results = []\n",
    "for s in tqdm(species):\n",
    "    search_results += search_xc([s])\n",
    "    \n",
    "    # be nice to the server\n",
    "    time.sleep(1)\n",
    "    \n",
    "print('Collected', len(search_results), 'records')"
   ]
  },
  {
   "cell_type": "code",
   "execution_count": 9,
   "id": "defined-interview",
   "metadata": {},
   "outputs": [
    {
     "data": {
      "text/plain": [
       "62503"
      ]
     },
     "execution_count": 9,
     "metadata": {},
     "output_type": "execute_result"
    }
   ],
   "source": [
    "len(search_results)"
   ]
  },
  {
   "cell_type": "code",
   "execution_count": 10,
   "id": "criminal-stereo",
   "metadata": {},
   "outputs": [],
   "source": [
    "# save the results\n",
    "with open('data/xc.json', 'w') as f:\n",
    "    json.dump({'results': search_results}, f, indent=4)"
   ]
  },
  {
   "cell_type": "code",
   "execution_count": 8,
   "id": "bizarre-alignment",
   "metadata": {},
   "outputs": [],
   "source": [
    "# load search_results if restarting\n",
    "with open('data/xc.json', 'r') as f:\n",
    "    search_results = json.load(f)\n",
    "search_results = search_results['results']"
   ]
  },
  {
   "cell_type": "code",
   "execution_count": 9,
   "id": "early-northwest",
   "metadata": {},
   "outputs": [
    {
     "data": {
      "text/html": [
       "<div>\n",
       "<style scoped>\n",
       "    .dataframe tbody tr th:only-of-type {\n",
       "        vertical-align: middle;\n",
       "    }\n",
       "\n",
       "    .dataframe tbody tr th {\n",
       "        vertical-align: top;\n",
       "    }\n",
       "\n",
       "    .dataframe thead th {\n",
       "        text-align: right;\n",
       "    }\n",
       "</style>\n",
       "<table border=\"1\" class=\"dataframe\">\n",
       "  <thead>\n",
       "    <tr style=\"text-align: right;\">\n",
       "      <th></th>\n",
       "      <th>id</th>\n",
       "      <th>gen</th>\n",
       "      <th>sp</th>\n",
       "      <th>ssp</th>\n",
       "      <th>en</th>\n",
       "      <th>rec</th>\n",
       "      <th>cnt</th>\n",
       "      <th>loc</th>\n",
       "      <th>lat</th>\n",
       "      <th>lng</th>\n",
       "      <th>...</th>\n",
       "      <th>lic</th>\n",
       "      <th>q</th>\n",
       "      <th>length</th>\n",
       "      <th>time</th>\n",
       "      <th>date</th>\n",
       "      <th>uploaded</th>\n",
       "      <th>also</th>\n",
       "      <th>rmk</th>\n",
       "      <th>bird-seen</th>\n",
       "      <th>playback-used</th>\n",
       "    </tr>\n",
       "  </thead>\n",
       "  <tbody>\n",
       "    <tr>\n",
       "      <th>0</th>\n",
       "      <td>554809</td>\n",
       "      <td>Empidonax</td>\n",
       "      <td>alnorum</td>\n",
       "      <td></td>\n",
       "      <td>Alder Flycatcher</td>\n",
       "      <td>Ron Overholtz</td>\n",
       "      <td>United States</td>\n",
       "      <td>Wasilla, Matanuska-Susitna, Alaska</td>\n",
       "      <td>61.6841</td>\n",
       "      <td>-149.9757</td>\n",
       "      <td>...</td>\n",
       "      <td>//creativecommons.org/licenses/by-nc-sa/4.0/</td>\n",
       "      <td>no score</td>\n",
       "      <td>0:49</td>\n",
       "      <td>07:00</td>\n",
       "      <td>2019-06-11</td>\n",
       "      <td>2020-05-07</td>\n",
       "      <td>[]</td>\n",
       "      <td></td>\n",
       "      <td>yes</td>\n",
       "      <td>no</td>\n",
       "    </tr>\n",
       "    <tr>\n",
       "      <th>1</th>\n",
       "      <td>552408</td>\n",
       "      <td>Empidonax</td>\n",
       "      <td>alnorum</td>\n",
       "      <td></td>\n",
       "      <td>Alder Flycatcher</td>\n",
       "      <td>Jerome Fischer</td>\n",
       "      <td>Colombia</td>\n",
       "      <td>Mana Dulce, Cundinamarca</td>\n",
       "      <td>4.351</td>\n",
       "      <td>-74.652</td>\n",
       "      <td>...</td>\n",
       "      <td>//creativecommons.org/licenses/by-nc-sa/4.0/</td>\n",
       "      <td>no score</td>\n",
       "      <td>0:21</td>\n",
       "      <td>17:00</td>\n",
       "      <td>2020-04-14</td>\n",
       "      <td>2020-04-30</td>\n",
       "      <td>[]</td>\n",
       "      <td></td>\n",
       "      <td>yes</td>\n",
       "      <td>no</td>\n",
       "    </tr>\n",
       "    <tr>\n",
       "      <th>2</th>\n",
       "      <td>544552</td>\n",
       "      <td>Empidonax</td>\n",
       "      <td>alnorum</td>\n",
       "      <td></td>\n",
       "      <td>Alder Flycatcher</td>\n",
       "      <td>Jerome Fischer</td>\n",
       "      <td>Colombia</td>\n",
       "      <td>Mana Dulce, Cundinamarca</td>\n",
       "      <td>4.351</td>\n",
       "      <td>-74.652</td>\n",
       "      <td>...</td>\n",
       "      <td>//creativecommons.org/licenses/by-nc-sa/4.0/</td>\n",
       "      <td>no score</td>\n",
       "      <td>0:35</td>\n",
       "      <td>07:00</td>\n",
       "      <td>2020-04-05</td>\n",
       "      <td>2020-04-12</td>\n",
       "      <td>[]</td>\n",
       "      <td>same ind. as  XC544550</td>\n",
       "      <td>yes</td>\n",
       "      <td>yes</td>\n",
       "    </tr>\n",
       "    <tr>\n",
       "      <th>3</th>\n",
       "      <td>544551</td>\n",
       "      <td>Empidonax</td>\n",
       "      <td>alnorum</td>\n",
       "      <td></td>\n",
       "      <td>Alder Flycatcher</td>\n",
       "      <td>Jerome Fischer</td>\n",
       "      <td>Colombia</td>\n",
       "      <td>Mana Dulce, Cundinamarca</td>\n",
       "      <td>4.351</td>\n",
       "      <td>-74.652</td>\n",
       "      <td>...</td>\n",
       "      <td>//creativecommons.org/licenses/by-nc-sa/4.0/</td>\n",
       "      <td>no score</td>\n",
       "      <td>0:12</td>\n",
       "      <td>07:00</td>\n",
       "      <td>2020-04-05</td>\n",
       "      <td>2020-04-12</td>\n",
       "      <td>[]</td>\n",
       "      <td>same ind. as  XC544550</td>\n",
       "      <td>yes</td>\n",
       "      <td>yes</td>\n",
       "    </tr>\n",
       "    <tr>\n",
       "      <th>4</th>\n",
       "      <td>544550</td>\n",
       "      <td>Empidonax</td>\n",
       "      <td>alnorum</td>\n",
       "      <td></td>\n",
       "      <td>Alder Flycatcher</td>\n",
       "      <td>Jerome Fischer</td>\n",
       "      <td>Colombia</td>\n",
       "      <td>Mana Dulce, Cundinamarca</td>\n",
       "      <td>4.351</td>\n",
       "      <td>-74.652</td>\n",
       "      <td>...</td>\n",
       "      <td>//creativecommons.org/licenses/by-nc-sa/4.0/</td>\n",
       "      <td>no score</td>\n",
       "      <td>0:38</td>\n",
       "      <td>07:00</td>\n",
       "      <td>2020-04-05</td>\n",
       "      <td>2020-04-12</td>\n",
       "      <td>[]</td>\n",
       "      <td></td>\n",
       "      <td>yes</td>\n",
       "      <td>yes</td>\n",
       "    </tr>\n",
       "  </tbody>\n",
       "</table>\n",
       "<p>5 rows × 26 columns</p>\n",
       "</div>"
      ],
      "text/plain": [
       "       id        gen       sp ssp                en             rec  \\\n",
       "0  554809  Empidonax  alnorum      Alder Flycatcher   Ron Overholtz   \n",
       "1  552408  Empidonax  alnorum      Alder Flycatcher  Jerome Fischer   \n",
       "2  544552  Empidonax  alnorum      Alder Flycatcher  Jerome Fischer   \n",
       "3  544551  Empidonax  alnorum      Alder Flycatcher  Jerome Fischer   \n",
       "4  544550  Empidonax  alnorum      Alder Flycatcher  Jerome Fischer   \n",
       "\n",
       "             cnt                                 loc      lat        lng  ...  \\\n",
       "0  United States  Wasilla, Matanuska-Susitna, Alaska  61.6841  -149.9757  ...   \n",
       "1       Colombia            Mana Dulce, Cundinamarca    4.351    -74.652  ...   \n",
       "2       Colombia            Mana Dulce, Cundinamarca    4.351    -74.652  ...   \n",
       "3       Colombia            Mana Dulce, Cundinamarca    4.351    -74.652  ...   \n",
       "4       Colombia            Mana Dulce, Cundinamarca    4.351    -74.652  ...   \n",
       "\n",
       "                                            lic         q length   time  \\\n",
       "0  //creativecommons.org/licenses/by-nc-sa/4.0/  no score   0:49  07:00   \n",
       "1  //creativecommons.org/licenses/by-nc-sa/4.0/  no score   0:21  17:00   \n",
       "2  //creativecommons.org/licenses/by-nc-sa/4.0/  no score   0:35  07:00   \n",
       "3  //creativecommons.org/licenses/by-nc-sa/4.0/  no score   0:12  07:00   \n",
       "4  //creativecommons.org/licenses/by-nc-sa/4.0/  no score   0:38  07:00   \n",
       "\n",
       "         date    uploaded also                     rmk bird-seen playback-used  \n",
       "0  2019-06-11  2020-05-07   []                               yes            no  \n",
       "1  2020-04-14  2020-04-30   []                               yes            no  \n",
       "2  2020-04-05  2020-04-12   []  same ind. as  XC544550       yes           yes  \n",
       "3  2020-04-05  2020-04-12   []  same ind. as  XC544550       yes           yes  \n",
       "4  2020-04-05  2020-04-12   []                               yes           yes  \n",
       "\n",
       "[5 rows x 26 columns]"
      ]
     },
     "execution_count": 9,
     "metadata": {},
     "output_type": "execute_result"
    }
   ],
   "source": [
    "# create a data frame from the query results\n",
    "sr_df = pd.DataFrame(search_results)\n",
    "sr_df.head()"
   ]
  },
  {
   "cell_type": "code",
   "execution_count": 10,
   "id": "stunning-phoenix",
   "metadata": {},
   "outputs": [
    {
     "data": {
      "text/plain": [
       "62503"
      ]
     },
     "execution_count": 10,
     "metadata": {},
     "output_type": "execute_result"
    }
   ],
   "source": [
    "# number of rows in the df\n",
    "len(sr_df)"
   ]
  },
  {
   "cell_type": "code",
   "execution_count": 11,
   "id": "premier-assault",
   "metadata": {},
   "outputs": [],
   "source": [
    "# cast id as int for comparisons\n",
    "sr_df['id'] = sr_df['id'].astype('int')"
   ]
  },
  {
   "cell_type": "code",
   "execution_count": 12,
   "id": "rocky-prediction",
   "metadata": {},
   "outputs": [
    {
     "data": {
      "text/plain": [
       "21338"
      ]
     },
     "execution_count": 12,
     "metadata": {},
     "output_type": "execute_result"
    }
   ],
   "source": [
    "# find the number of overlapping rows\n",
    "overlap_df = sr_df[sr_df['id'].isin(df['xc_id'])]\n",
    "len(overlap_df)"
   ]
  },
  {
   "cell_type": "code",
   "execution_count": 13,
   "id": "academic-broadcast",
   "metadata": {},
   "outputs": [
    {
     "data": {
      "text/plain": [
       "21375"
      ]
     },
     "execution_count": 13,
     "metadata": {},
     "output_type": "execute_result"
    }
   ],
   "source": [
    "# recall number of rows in original dataset\n",
    "len(df)"
   ]
  },
  {
   "cell_type": "markdown",
   "id": "upset-delicious",
   "metadata": {},
   "source": [
    "There are a few records in the initial dataset that are not included in this search."
   ]
  },
  {
   "cell_type": "code",
   "execution_count": 14,
   "id": "changing-emperor",
   "metadata": {},
   "outputs": [
    {
     "data": {
      "text/plain": [
       "0"
      ]
     },
     "execution_count": 14,
     "metadata": {},
     "output_type": "execute_result"
    }
   ],
   "source": [
    "# check for duplicates\n",
    "len(sr_df[sr_df.duplicated(subset='id', keep=False)])"
   ]
  },
  {
   "cell_type": "markdown",
   "id": "grateful-perception",
   "metadata": {},
   "source": [
    "There are no duplicates.  Find the records that are unique to the new data."
   ]
  },
  {
   "cell_type": "code",
   "execution_count": 15,
   "id": "cosmetic-honolulu",
   "metadata": {},
   "outputs": [
    {
     "data": {
      "text/plain": [
       "41165"
      ]
     },
     "execution_count": 15,
     "metadata": {},
     "output_type": "execute_result"
    }
   ],
   "source": [
    "# filter new records not in our current dataset\n",
    "new_records_df = sr_df[~sr_df['id'].isin(df['xc_id'])]\n",
    "len(new_records_df)"
   ]
  },
  {
   "cell_type": "markdown",
   "id": "incredible-polls",
   "metadata": {},
   "source": [
    "# Download the new files"
   ]
  },
  {
   "cell_type": "code",
   "execution_count": 19,
   "id": "sharing-australian",
   "metadata": {},
   "outputs": [],
   "source": [
    "def download_file(url, outpath):\n",
    "    r = requests.get(url, allow_redirects=True)\n",
    "    \n",
    "    if r.status_code == 404:\n",
    "        print('404 URL not found:', url)\n",
    "    elif r.status_code == 500:\n",
    "        print('500 Server Error:', url)\n",
    "    else:\n",
    "        r.raise_for_status()\n",
    "        open(outpath, 'wb').write(r.content)    "
   ]
  },
  {
   "cell_type": "code",
   "execution_count": 21,
   "id": "familiar-supervisor",
   "metadata": {},
   "outputs": [
    {
     "name": "stderr",
     "output_type": "stream",
     "text": [
      "  7%|▋         | 2950/41165 [00:00<00:06, 5490.42it/s]"
     ]
    },
    {
     "name": "stdout",
     "output_type": "stream",
     "text": [
      "500 Server Error: http://www.xeno-canto.org/154082/download\n"
     ]
    },
    {
     "name": "stderr",
     "output_type": "stream",
     "text": [
      " 34%|███▍      | 14135/41165 [00:07<00:04, 5913.05it/s]"
     ]
    },
    {
     "name": "stdout",
     "output_type": "stream",
     "text": [
      "404 URL not found: http://www.xeno-canto.org/199642/download\n"
     ]
    },
    {
     "name": "stderr",
     "output_type": "stream",
     "text": [
      " 42%|████▏     | 17258/41165 [00:10<00:11, 2161.88it/s]"
     ]
    },
    {
     "name": "stdout",
     "output_type": "stream",
     "text": [
      "404 URL not found: http://www.xeno-canto.org/375263/download\n"
     ]
    },
    {
     "name": "stderr",
     "output_type": "stream",
     "text": [
      " 55%|█████▍    | 22607/41165 [00:20<00:33, 557.50it/s] "
     ]
    },
    {
     "name": "stdout",
     "output_type": "stream",
     "text": [
      "404 URL not found: http://www.xeno-canto.org/375264/download\n"
     ]
    },
    {
     "name": "stderr",
     "output_type": "stream",
     "text": [
      " 67%|██████▋   | 27618/41165 [00:23<00:04, 3200.33it/s]"
     ]
    },
    {
     "name": "stdout",
     "output_type": "stream",
     "text": [
      "404 URL not found: http://www.xeno-canto.org/507640/download\n"
     ]
    },
    {
     "name": "stderr",
     "output_type": "stream",
     "text": [
      "\r",
      " 69%|██████▊   | 28199/41165 [00:26<00:25, 506.25it/s] "
     ]
    },
    {
     "name": "stdout",
     "output_type": "stream",
     "text": [
      "404 URL not found: http://www.xeno-canto.org/385654/download\n"
     ]
    },
    {
     "name": "stderr",
     "output_type": "stream",
     "text": [
      " 83%|████████▎ | 34040/41165 [1:10:03<7:15:23,  3.67s/it] "
     ]
    },
    {
     "name": "stdout",
     "output_type": "stream",
     "text": [
      "404 URL not found: http://www.xeno-canto.org/375269/download\n"
     ]
    },
    {
     "name": "stderr",
     "output_type": "stream",
     "text": [
      "100%|██████████| 41165/41165 [9:16:38<00:00,  1.23it/s]   \n"
     ]
    }
   ],
   "source": [
    "output_dir = 'data/xeno-canto'\n",
    "os.makedirs(output_dir, exist_ok=True)\n",
    "\n",
    "# files to exclude because they throw errors on download\n",
    "#exclude = [154082, 199642, 375263, 375264]\n",
    "\n",
    "for idx in tqdm(new_records_df.index):\n",
    "    row = new_records_df.loc[idx]\n",
    "    \n",
    "    # If this is an excluded file move on\n",
    "    #if row['id'] in exclude:\n",
    "    #    continue\n",
    "        \n",
    "    # output file path\n",
    "    filename = 'XC' + str(row['id'])\n",
    "    filename += os.path.splitext(row['file-name'])[1]\n",
    "    outpath = os.path.join(output_dir, filename)\n",
    "\n",
    "    # download the file if it doesn't exist locally\n",
    "    if not os.path.exists(outpath):\n",
    "        url = 'http:' + row['file']\n",
    "        download_file(url, outpath)\n",
    "        \n",
    "        # wait a random amount of time\n",
    "        speep_time = np.random.uniform(0,4)\n",
    "        time.sleep(speep_time)"
   ]
  }
 ],
 "metadata": {
  "kernelspec": {
   "display_name": "Python [conda env:audio-ml]",
   "language": "python",
   "name": "conda-env-audio-ml-py"
  },
  "language_info": {
   "codemirror_mode": {
    "name": "ipython",
    "version": 3
   },
   "file_extension": ".py",
   "mimetype": "text/x-python",
   "name": "python",
   "nbconvert_exporter": "python",
   "pygments_lexer": "ipython3",
   "version": "3.8.8"
  },
  "toc": {
   "base_numbering": 1,
   "nav_menu": {},
   "number_sections": true,
   "sideBar": true,
   "skip_h1_title": false,
   "title_cell": "Table of Contents",
   "title_sidebar": "Contents",
   "toc_cell": false,
   "toc_position": {},
   "toc_section_display": true,
   "toc_window_display": false
  }
 },
 "nbformat": 4,
 "nbformat_minor": 5
}
