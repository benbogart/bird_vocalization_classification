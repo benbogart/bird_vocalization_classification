{
 "cells": [
  {
   "cell_type": "markdown",
   "id": "signal-boring",
   "metadata": {},
   "source": [
    "# Create JAMS\n",
    "This notebook creates the jams audio annotations which will be used in the training.\n",
    "https://github.com/marl/jams"
   ]
  },
  {
   "cell_type": "code",
   "execution_count": 1,
   "id": "statewide-filling",
   "metadata": {},
   "outputs": [],
   "source": [
    "import jams\n",
    "import os\n",
    "import sox\n",
    "from glob import glob\n",
    "from multiprocessing import Process\n",
    "from joblib import Parallel, delayed\n",
    "\n",
    "from tqdm import tqdm\n",
    "import pandas as pd"
   ]
  },
  {
   "cell_type": "code",
   "execution_count": 2,
   "id": "legendary-arthur",
   "metadata": {},
   "outputs": [
    {
     "data": {
      "text/plain": [
       "'0.3.4'"
      ]
     },
     "execution_count": 2,
     "metadata": {},
     "output_type": "execute_result"
    }
   ],
   "source": [
    "jams.__version__"
   ]
  },
  {
   "cell_type": "code",
   "execution_count": 3,
   "id": "congressional-cameroon",
   "metadata": {},
   "outputs": [
    {
     "data": {
      "text/plain": [
       "array(['aldfly', 'ameavo', 'amebit', 'amecro', 'amegfi', 'amekes',\n",
       "       'amepip', 'amered', 'amerob', 'amewig', 'amewoo', 'amtspa',\n",
       "       'annhum', 'astfly', 'baisan', 'baleag', 'balori', 'banswa',\n",
       "       'barswa', 'bawwar', 'belkin1', 'belspa2', 'bewwre', 'bkbcuc',\n",
       "       'bkbmag1', 'bkbwar', 'bkcchi', 'bkchum', 'bkhgro', 'bkpwar',\n",
       "       'bktspa', 'blkpho', 'blugrb1', 'blujay', 'bnhcow', 'boboli',\n",
       "       'bongul', 'brdowl', 'brebla', 'brespa', 'brncre', 'brnthr',\n",
       "       'brthum', 'brwhaw', 'btbwar', 'btnwar', 'btywar', 'buffle',\n",
       "       'buggna', 'buhvir', 'bulori', 'bushti', 'buwtea', 'buwwar',\n",
       "       'cacwre', 'calgul', 'calqua', 'camwar', 'cangoo', 'canwar',\n",
       "       'canwre', 'carwre', 'casfin', 'caster1', 'casvir', 'cedwax',\n",
       "       'chispa', 'chiswi', 'chswar', 'chukar', 'clanut', 'cliswa',\n",
       "       'comgol', 'comgra', 'comloo', 'commer', 'comnig', 'comrav',\n",
       "       'comred', 'comter', 'comyel', 'coohaw', 'coshum', 'cowscj1',\n",
       "       'daejun', 'doccor', 'dowwoo', 'dusfly', 'eargre', 'easblu',\n",
       "       'easkin', 'easmea', 'easpho', 'eastow', 'eawpew', 'eucdov',\n",
       "       'eursta', 'evegro', 'fiespa', 'fiscro', 'foxspa', 'gadwal',\n",
       "       'gcrfin', 'gnttow', 'gnwtea', 'gockin', 'gocspa', 'goleag',\n",
       "       'grbher3', 'grcfly', 'greegr', 'greroa', 'greyel', 'grhowl',\n",
       "       'grnher', 'grtgra', 'grycat', 'gryfly', 'haiwoo', 'hamfly',\n",
       "       'hergul', 'herthr', 'hoomer', 'hoowar', 'horgre', 'horlar',\n",
       "       'houfin', 'houspa', 'houwre', 'indbun', 'juntit1', 'killde',\n",
       "       'labwoo', 'larspa', 'lazbun', 'leabit', 'leafly', 'leasan',\n",
       "       'lecthr', 'lesgol', 'lesnig', 'lesyel', 'lewwoo', 'linspa',\n",
       "       'lobcur', 'lobdow', 'logshr', 'lotduc', 'louwat', 'macwar',\n",
       "       'magwar', 'mallar3', 'marwre', 'merlin', 'moublu', 'mouchi',\n",
       "       'moudov', 'norcar', 'norfli', 'norhar2', 'normoc', 'norpar',\n",
       "       'norpin', 'norsho', 'norwat', 'nrwswa', 'nutwoo', 'olsfly',\n",
       "       'orcwar', 'osprey', 'ovenbi1', 'palwar', 'pasfly', 'pecsan',\n",
       "       'perfal', 'phaino', 'pibgre', 'pilwoo', 'pingro', 'pinjay',\n",
       "       'pinsis', 'pinwar', 'plsvir', 'prawar', 'purfin', 'pygnut',\n",
       "       'rebmer', 'rebnut', 'rebsap', 'rebwoo', 'redcro', 'redhea',\n",
       "       'reevir1', 'renpha', 'reshaw', 'rethaw', 'rewbla', 'ribgul',\n",
       "       'rinduc', 'robgro', 'rocpig', 'rocwre', 'rthhum', 'ruckin',\n",
       "       'rudduc', 'rufgro', 'rufhum', 'rusbla', 'sagspa1', 'sagthr',\n",
       "       'savspa', 'saypho', 'scatan', 'scoori', 'semplo', 'semsan',\n",
       "       'sheowl', 'shshaw', 'snobun', 'snogoo', 'solsan', 'sonspa', 'sora',\n",
       "       'sposan', 'spotow', 'stejay', 'swahaw', 'swaspa', 'swathr',\n",
       "       'treswa', 'truswa', 'tuftit', 'tunswa', 'veery', 'vesspa',\n",
       "       'vigswa', 'warvir', 'wesblu', 'wesgre', 'weskin', 'wesmea',\n",
       "       'wessan', 'westan', 'wewpew', 'whbnut', 'whcspa', 'whfibi',\n",
       "       'whtspa', 'whtswi', 'wilfly', 'wilsni1', 'wiltur', 'winwre3',\n",
       "       'wlswar', 'wooduc', 'wooscj2', 'woothr', 'y00475', 'yebfly',\n",
       "       'yebsap', 'yehbla', 'yelwar', 'yerwar', 'yetvir'], dtype=object)"
      ]
     },
     "execution_count": 3,
     "metadata": {},
     "output_type": "execute_result"
    }
   ],
   "source": [
    "# get the unique class names of the birds in our training set\n",
    "df = pd.read_csv('data/train.csv')\n",
    "classes = df['ebird_code'].unique()\n",
    "\n",
    "classes"
   ]
  },
  {
   "cell_type": "code",
   "execution_count": 4,
   "id": "cultural-relations",
   "metadata": {},
   "outputs": [],
   "source": [
    "def create_jam(audiofile, weakdf, verbose=False):\n",
    "    \n",
    "    # setup paths from args\n",
    "    base_folder = 'data'\n",
    "    #split_folder = os.path.join(base_folder, split)\n",
    "    \n",
    "    # create jam\n",
    "    jam=jams.JAMS()\n",
    "\n",
    "    # create annotation\n",
    "    ann = jams.Annotation('tag_open')\n",
    "    duration = 10.0  # all files have been reduced to 10 seconds in length\n",
    "    ann.duration = duration\n",
    "    \n",
    "    # get file label\n",
    "    audiobase = os.path.basename(audiofile)\n",
    "    fid = os.path.splitext(audiobase)[0]\n",
    "    \n",
    "    if verbose:\n",
    "        print('audiobase', audiobase)\n",
    "        print('fid', fid)\n",
    "    \n",
    "    # add tag for each label\n",
    "    # right now these all have single tags but we can pull the also tags\n",
    "    # from the api later if MVP works\n",
    "    \n",
    "    labels = weakdf[weakdf['filename'] == fid + '.mp3'].ebird_code.values\n",
    "    assert len(labels) > 0\n",
    "    if verbose:\n",
    "        print('labels', labels)\n",
    "        \n",
    "    # Add tag for each label\n",
    "    for label in labels:\n",
    "        ann.append(time=0, duration=duration, value=label, confidence=1)\n",
    "\n",
    "    # fill jam metadata\n",
    "    jam.file_metadata.title = audiobase\n",
    "    jam.file_metadata.release = '1.0'\n",
    "    jam.file_metadata.duration = duration\n",
    "    jam.file_metadata.artist = ''\n",
    "    \n",
    "    # fill annotation metadata\n",
    "    ann.annotation_metadata.version = '1.0'\n",
    "    ann.annotation_metadata.corpus = 'Cornell birdsong-recognition'\n",
    "    ann.annotation_metadata.data_source = 'Kaggle'\n",
    "    \n",
    "    # add annotation to jam\n",
    "    jam.annotations.append(ann)\n",
    "    \n",
    "    jam.save(audiofile.replace('.wav', '.jams'))\n",
    "    \n",
    "    return jam"
   ]
  },
  {
   "cell_type": "code",
   "execution_count": 5,
   "id": "printable-summary",
   "metadata": {},
   "outputs": [
    {
     "name": "stdout",
     "output_type": "stream",
     "text": [
      "audiobase XC1634.wav\n",
      "fid XC1634\n",
      "labels ['houwre']\n",
      "{\n",
      "  \"annotations\": [\n",
      "    {\n",
      "      \"annotation_metadata\": {\n",
      "        \"curator\": {\n",
      "          \"name\": \"\",\n",
      "          \"email\": \"\"\n",
      "        },\n",
      "        \"annotator\": {},\n",
      "        \"version\": \"1.0\",\n",
      "        \"corpus\": \"Cornell birdsong-recognition\",\n",
      "        \"annotation_tools\": \"\",\n",
      "        \"annotation_rules\": \"\",\n",
      "        \"validation\": \"\",\n",
      "        \"data_source\": \"Kaggle\"\n",
      "      },\n",
      "      \"namespace\": \"tag_open\",\n",
      "      \"data\": [\n",
      "        {\n",
      "          \"time\": 0.0,\n",
      "          \"duration\": 10.0,\n",
      "          \"value\": \"houwre\",\n",
      "          \"confidence\": 1\n",
      "        }\n",
      "      ],\n",
      "      \"sandbox\": {},\n",
      "      \"time\": 0,\n",
      "      \"duration\": 10.0\n",
      "    }\n",
      "  ],\n",
      "  \"file_metadata\": {\n",
      "    \"title\": \"XC1634.wav\",\n",
      "    \"artist\": \"\",\n",
      "    \"release\": \"1.0\",\n",
      "    \"duration\": 10.0,\n",
      "    \"identifiers\": {},\n",
      "    \"jams_version\": \"0.3.4\"\n",
      "  },\n",
      "  \"sandbox\": {}\n",
      "}\n"
     ]
    }
   ],
   "source": [
    "# test \n",
    "jam = create_jam(audiofile='data/train_10sec/XC1634.wav', weakdf=df, verbose=True)\n",
    "print(jam)"
   ]
  },
  {
   "cell_type": "markdown",
   "id": "blond-berry",
   "metadata": {},
   "source": [
    "## Create all JAMS files"
   ]
  },
  {
   "cell_type": "code",
   "execution_count": 6,
   "id": "miniature-federation",
   "metadata": {},
   "outputs": [
    {
     "name": "stderr",
     "output_type": "stream",
     "text": [
      "[Parallel(n_jobs=4)]: Using backend LokyBackend with 4 concurrent workers.\n",
      "[Parallel(n_jobs=4)]: Done  42 tasks      | elapsed:    8.2s\n",
      "[Parallel(n_jobs=4)]: Done 192 tasks      | elapsed:   25.3s\n",
      "[Parallel(n_jobs=4)]: Done 442 tasks      | elapsed:   53.7s\n",
      "[Parallel(n_jobs=4)]: Done 792 tasks      | elapsed:  1.6min\n",
      "[Parallel(n_jobs=4)]: Done 1242 tasks      | elapsed:  2.5min\n",
      "[Parallel(n_jobs=4)]: Done 1792 tasks      | elapsed:  3.6min\n",
      "[Parallel(n_jobs=4)]: Done 2442 tasks      | elapsed:  5.2min\n",
      "[Parallel(n_jobs=4)]: Done 3192 tasks      | elapsed:  7.3min\n",
      "[Parallel(n_jobs=4)]: Done 4042 tasks      | elapsed:  9.5min\n",
      "[Parallel(n_jobs=4)]: Done 4992 tasks      | elapsed: 11.8min\n",
      "[Parallel(n_jobs=4)]: Done 6042 tasks      | elapsed: 14.6min\n",
      "[Parallel(n_jobs=4)]: Done 7192 tasks      | elapsed: 17.2min\n",
      "[Parallel(n_jobs=4)]: Done 8442 tasks      | elapsed: 21.7min\n",
      "[Parallel(n_jobs=4)]: Done 9792 tasks      | elapsed: 27.3min\n",
      "[Parallel(n_jobs=4)]: Done 11242 tasks      | elapsed: 32.8min\n",
      "[Parallel(n_jobs=4)]: Done 12792 tasks      | elapsed: 36.4min\n",
      "[Parallel(n_jobs=4)]: Done 14442 tasks      | elapsed: 39.6min\n",
      "[Parallel(n_jobs=4)]: Done 16192 tasks      | elapsed: 42.9min\n",
      "[Parallel(n_jobs=4)]: Done 18042 tasks      | elapsed: 46.5min\n",
      "[Parallel(n_jobs=4)]: Done 19992 tasks      | elapsed: 50.1min\n",
      "[Parallel(n_jobs=4)]: Done 21375 out of 21375 | elapsed: 52.6min finished\n"
     ]
    }
   ],
   "source": [
    "base_folder = 'data/train_10sec'\n",
    "weakdf = pd.read_csv('data/train.csv')\n",
    "\n",
    "audiofiles = glob(os.path.join(base_folder, '*.wav'))\n",
    "\n",
    "# create the jams files\n",
    "jams = Parallel(n_jobs=4, verbose=1)(delayed(create_jam)(i, weakdf) for i in audiofiles)"
   ]
  },
  {
   "cell_type": "code",
   "execution_count": null,
   "id": "basic-annex",
   "metadata": {},
   "outputs": [],
   "source": []
  }
 ],
 "metadata": {
  "kernelspec": {
   "display_name": "Python [conda env:audio-ml]",
   "language": "python",
   "name": "conda-env-audio-ml-py"
  },
  "language_info": {
   "codemirror_mode": {
    "name": "ipython",
    "version": 3
   },
   "file_extension": ".py",
   "mimetype": "text/x-python",
   "name": "python",
   "nbconvert_exporter": "python",
   "pygments_lexer": "ipython3",
   "version": "3.8.8"
  },
  "toc": {
   "base_numbering": 1,
   "nav_menu": {},
   "number_sections": true,
   "sideBar": true,
   "skip_h1_title": false,
   "title_cell": "Table of Contents",
   "title_sidebar": "Contents",
   "toc_cell": false,
   "toc_position": {},
   "toc_section_display": true,
   "toc_window_display": false
  }
 },
 "nbformat": 4,
 "nbformat_minor": 5
}
